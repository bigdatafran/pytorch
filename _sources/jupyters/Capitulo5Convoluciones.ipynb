{
 "cells": [
  {
   "cell_type": "markdown",
   "id": "fbf7ecba",
   "metadata": {},
   "source": [
    "## Introducción a las convoluciones.\n",
    "\n",
    "En este capítulo vamos a necesitar los siguientes elementos que aquí importamos"
   ]
  },
  {
   "cell_type": "code",
   "execution_count": 2,
   "id": "0a30fde9",
   "metadata": {},
   "outputs": [],
   "source": [
    "import random\n",
    "import numpy as np\n",
    "from PIL import Image\n",
    "import torch\n",
    "import torch.optim as optim\n",
    "import torch.nn as nn\n",
    "import torch.nn.functional as F\n",
    "from torch.utils.data import DataLoader, Dataset\n",
    "from torchvision.transforms import Compose, Normalize\n",
    "from data_generation.image_classification import generate_dataset\n",
    "from helpers import index_splitter, make_balanced_sampler # construidos en capitulo 4\n",
    "from stepbystep.v1 import StepByStep"
   ]
  },
  {
   "cell_type": "markdown",
   "id": "269f507e",
   "metadata": {},
   "source": [
    "## Convoluciones.\n",
    "\n",
    "```{index} Convoluciones\n",
    "```\n",
    "\n",
    "En el último capítulo anterior, hablamos de los píxeles como características o features: consideramos cada píxel como una característica individual e independiente, por lo que perdiamos información al aplanar la imagen. También hablamos\n",
    "de los pesos como píxeles, y de cómo podíamos interpretar los pesos utilizados por una neurona como una imagen o, más concretamente, como un filtro.\n",
    "\n",
    "Ahora, es el momento de dar un paso más y aprender sobre las convoluciones. Una convolución es \"una operación matemática sobre dos funciones (f y g) que produce una tercera función (f * g) que expresa cómo la forma de una es modificada por la otra\". En el procesamiento de  imágenes, una matriz de convolución también se denomina kernel o filtro.\n",
    "\n",
    "Las operaciones típicas de procesamiento de imágenes, como el desenfoque, la nitidez, la detección de bordes, etc., se llevan a cabo mediante una convolución entre un núcleo y una imagen.\n",
    "\n",
    "## Filtro / Kernel\n",
    "\n",
    "En pocas palabras, se define un filtro (o núcleo, pero aquí nos quedamos con la expresión *filtro*), y se aplica este filtro a una imagen (es decir, se convoluciona una imagen). Normalmente, los filtros son pequeñas matrices cuadradas. La convolución en sí se realiza aplicando el filtro a la imagen repetidamente. Intentemos un ejemplo concreto para que quede más claro.\n",
    "\n",
    "Para explicar mejor todo esto, usamos una imagen de un solo canal, y el filtro más aburrido de todos, el *filtro de identidad*.\n",
    "\n",
    "![filtro de convolución](figuras/Convolucion1.PNG)\n",
    "\n",
    "```{index} campo receptivo\n",
    "```\n",
    "\n",
    "¿Ve la región gris en la esquina superior izquierda de la imagen, que tiene el mismo tamaño que el filtro? Esa es la región a la que se aplica el filtro y se llama *campo receptivo*, haciendo una analogía con el funcionamiento de la visión humana.\n",
    "a la forma en que funciona la visión humana.\n",
    "\n",
    "En la pagina web <a href=\"https://setosa.io/ev/image-kernels/\" target=\"_blan\">  https://setosa.io/ev/image-kernels/ </a> puedes ver de forma real cómo se transforma una imagen después de aplicar diversos kernels.\n",
    "\n",
    "Además, fíjate en las formas que hay debajo de las imágenes: las formas siguen la convención de formas NCHW utilizada por PyTorch. Hay una imagen, un canal, de seis por seis píxeles. Hay un filtro de un canal, de tres por tres píxeles.\n",
    "\n",
    "Por último, el asterisco representa la operación de convolución entre los dos (la imagen y el filtro).\n",
    "\n",
    "Vamos a crear matrices Numpy para seguir las operaciones, después de todo, de esta manera es más fácil de entender en el código."
   ]
  },
  {
   "cell_type": "code",
   "execution_count": 3,
   "id": "6d88535d",
   "metadata": {},
   "outputs": [],
   "source": [
    "single = np.array(\n",
    "[[[[5, 0, 8, 7, 8, 1],\n",
    "[1, 9, 5, 0, 7, 7],\n",
    "[6, 0, 2, 4, 6, 6],\n",
    "[9, 7, 6, 6, 8, 4],\n",
    "[8, 3, 8, 5, 1, 3],\n",
    "[7, 2, 7, 0, 1, 0]]]]\n",
    ")"
   ]
  },
  {
   "cell_type": "code",
   "execution_count": 3,
   "id": "0e377c1d",
   "metadata": {},
   "outputs": [
    {
     "data": {
      "text/plain": [
       "(1, 1, 6, 6)"
      ]
     },
     "execution_count": 3,
     "metadata": {},
     "output_type": "execute_result"
    }
   ],
   "source": [
    "single.shape"
   ]
  },
  {
   "cell_type": "code",
   "execution_count": 5,
   "id": "5c1f17e2",
   "metadata": {},
   "outputs": [
    {
     "data": {
      "text/plain": [
       "(1, 1, 3, 3)"
      ]
     },
     "execution_count": 5,
     "metadata": {},
     "output_type": "execute_result"
    }
   ],
   "source": [
    "identity = np.array(\n",
    "[[[[0, 0, 0],\n",
    "[0, 1, 0],\n",
    "[0, 0, 0]]]]\n",
    ")\n",
    "identity.shape"
   ]
  },
  {
   "cell_type": "markdown",
   "id": "93e11ed6",
   "metadata": {},
   "source": [
    "En realidad es bastante simple lo que se hace en la convolución: realiza una multiplicación entre los dos (región y filtro) por elementos (es decir número a número) y después como resultado final suma todo.\n",
    "\n",
    "Vamos a comprobarlo, ampliando la región región seleccionada:\n",
    "\n",
    "![operación convolución](figuras/convolucion2.PNG)\n",
    "\n",
    "Con código lo haremos de la siguiente manera"
   ]
  },
  {
   "cell_type": "code",
   "execution_count": 5,
   "id": "013753c7",
   "metadata": {},
   "outputs": [
    {
     "data": {
      "text/plain": [
       "9"
      ]
     },
     "execution_count": 5,
     "metadata": {},
     "output_type": "execute_result"
    }
   ],
   "source": [
    "# selección de los elementos matriz inicial\n",
    "region = single[:, :, 0:3, 0:3]\n",
    "#Multiplicamos elemento a elemento\n",
    "filtered_region = region * identity\n",
    "#sumamos todos los resultados\n",
    "total = filtered_region.sum()\n",
    "total"
   ]
  },
  {
   "cell_type": "markdown",
   "id": "045a1996",
   "metadata": {},
   "source": [
    "Se puede concluir que hacer una convolución produce una imagen con un tamaño reducido. Es fácil ver por qué, si alejamos el zoom a la imagen completa:\n",
    "\n",
    "![reducción imagen](figuras/convolucion3.PNG))\n",
    "\n",
    "Dado que el filtro se aplica a la región gris, y estamos utilizando un filtro de identidad, es bastante sencillo ver que simplemente está copiando el valor en el centro de la región. Los valores restantes simplemente se multiplican por cero y no influyen en la suma. Pero incluso si lo hicieran, no cambiaría el hecho de que el resultado de una operación es un único valor.\n",
    "\n",
    "### Moviendo la ventana o kernel\n",
    "\n",
    "A continuación, desplazamos la región un paso hacia la derecha, es decir, cambiamos el campo receptivo, y aplicamos de nuevo el filtro:\n",
    "\n",
    "![movimiento del kernel](figuras/convolucion4.PNG)\n",
    "\n",
    "```{index} stride\n",
    "```\n",
    "\n",
    "El tamaño del movimiento, en píxeles, se llama **stride**. En nuestro ejemplo, el stride es uno.\n",
    "\n",
    "En código, significa que estamos cambiando el *slice* de la imagen de entrada:"
   ]
  },
  {
   "cell_type": "code",
   "execution_count": 6,
   "id": "6c310013",
   "metadata": {},
   "outputs": [],
   "source": [
    "new_region = single[:, :, 0:3, (0+1):(3+1)]"
   ]
  },
  {
   "cell_type": "markdown",
   "id": "b566e02e",
   "metadata": {},
   "source": [
    "Pero la operación sigue siendo la misma: primero, una multiplicación elemento a elemento, y luego la suma de los elementos de la matriz resultante:\n",
    "\n",
    "![paso de convolución](figuras/convolucion5.PNG)\n",
    "\n"
   ]
  },
  {
   "cell_type": "code",
   "execution_count": 7,
   "id": "4e0af9f9",
   "metadata": {},
   "outputs": [
    {
     "data": {
      "text/plain": [
       "5"
      ]
     },
     "execution_count": 7,
     "metadata": {},
     "output_type": "execute_result"
    }
   ],
   "source": [
    "new_filtered_region = new_region * identity\n",
    "new_total = new_filtered_region.sum()\n",
    "new_total"
   ]
  },
  {
   "cell_type": "markdown",
   "id": "d12eaa4b",
   "metadata": {},
   "source": [
    "Bien. Ya tenemos un segundo valor de píxel para incorporar a nuestra imagen:\n",
    "\n",
    "![resultado 1 convolución](figuras/convolucion6.PNG)\n",
    "\n",
    "Podemos seguir moviendo la región gris hacia la derecha hasta que no podamos moverla más:\n",
    "\n",
    "![nuevo paso](figuras/convolucion7.PNG)\n",
    "\n",
    "El cuarto paso a la derecha colocará realmente la región parcialmente fuera de la imagen de entrada. \n"
   ]
  },
  {
   "cell_type": "code",
   "execution_count": 8,
   "id": "81d237b1",
   "metadata": {},
   "outputs": [],
   "source": [
    "last_horizontal_region = single[:, :, 0:3, (0+4):(3+4)]"
   ]
  },
  {
   "cell_type": "code",
   "execution_count": 9,
   "id": "16578db3",
   "metadata": {},
   "outputs": [
    {
     "ename": "ValueError",
     "evalue": "operands could not be broadcast together with shapes (1,1,3,2) (1,1,3,3) ",
     "output_type": "error",
     "traceback": [
      "\u001b[1;31m---------------------------------------------------------------------------\u001b[0m",
      "\u001b[1;31mValueError\u001b[0m                                Traceback (most recent call last)",
      "Input \u001b[1;32mIn [9]\u001b[0m, in \u001b[0;36m<cell line: 1>\u001b[1;34m()\u001b[0m\n\u001b[1;32m----> 1\u001b[0m \u001b[43mlast_horizontal_region\u001b[49m\u001b[43m \u001b[49m\u001b[38;5;241;43m*\u001b[39;49m\u001b[43m \u001b[49m\u001b[43midentity\u001b[49m\n",
      "\u001b[1;31mValueError\u001b[0m: operands could not be broadcast together with shapes (1,1,3,2) (1,1,3,3) "
     ]
    }
   ],
   "source": [
    "last_horizontal_region * identity"
   ]
  },
  {
   "cell_type": "markdown",
   "id": "f2103935",
   "metadata": {},
   "source": [
    "Como es de esperar obtenemos un error en el cálculo.\n",
    "\n",
    "A continuación, volvemos al lado izquierdo y bajamos un escalón. Si repetimos la operación, cubriendo todas las regiones válidas, acabaremos con una imagen resultante más pequeña (a la derecha):\n",
    "\n",
    "![fin convolucion](figuras/convolucion8.PNG)"
   ]
  },
  {
   "cell_type": "markdown",
   "id": "eb259d45",
   "metadata": {},
   "source": [
    "Como la aplicación de un filtro siempre produce un único valor, la reducción es igual al tamaño del filtro menos uno. Si la imagen de entrada tiene la forma (hi, wi) (por ahora no tenemos en cuenta la dimensión del canal), y el filtro tiene la forma (hf, wf), la forma de la imagen resultante viene dada por:\n",
    "\n",
    "$$\n",
    "\\Large\n",
    "(h_i, w_i) * (h_f, w_f) = (h_i - (h_f - 1), w_i - (w_f - 1))\n",
    "$$\n",
    "\n",
    "Si suponemos que el filtro es una matriz cuadrada de tamaño f, podemos simplificar la expresión anterior a:\n",
    "\n",
    "$$\n",
    "\\Large\n",
    "(h_i, w_i) * f = (h_i - f + 1, w_i - f + 1)\n",
    "$$\n",
    "\n",
    "<a href=\"https://www.youtube.com/watch?v=ns2L2T6wvAY\" target=\"_blank\"> En este vídeo en español </a> puedes ver también una explicación detallada de la convolución.\n",
    "\n",
    "## Convolución en PyTorch\n",
    "\n",
    "Ahora que sabemos cómo funciona una convolución, vamos a probarla usando PyTorch. En primer lugar, tenemos que convertir nuestra imagen y el filtro en tensores:\n"
   ]
  },
  {
   "cell_type": "code",
   "execution_count": 6,
   "id": "440756eb",
   "metadata": {},
   "outputs": [],
   "source": [
    "image = torch.as_tensor(single).float()\n",
    "kernel_identity = torch.as_tensor(identity).float()"
   ]
  },
  {
   "cell_type": "markdown",
   "id": "fad9f068",
   "metadata": {},
   "source": [
    "Dado que las expresiones kernel y filtro se utilizan indistintamente, especialmente cuando se trata de argumentos de diferentes métodos, estoy llamando a la variable *kernel_identity*, aunque es exactamente el mismo filtro de identidad que\n",
    "hemos utilizado hasta ahora.\n",
    "\n",
    "Al igual que las funciones de activación que hemos visto en el capítulo 4, las convoluciones también vienen en dos formatos: *funcional y de módulo*.\n",
    "\n",
    "Sin embargo, hay una diferencia fundamental entre ambas: la convolución  funcional toma el núcleo/filtro como argumento\n",
    "mientras que el módulo tiene pesos para representar el núcleo/filtro.\n",
    "\n",
    "Vamos a utilizar la convolución funcional, <a href=\"https://pytorch.org/docs/stable/nn.functional.html#conv2d\" target=\"_blank\"> F.conv2d </a>, para aplicar el filtro de identidad a nuestra imagen de entrada (observe que estamos usando stride=1 ya que movemos la región alrededor de un píxel a la vez):"
   ]
  },
  {
   "cell_type": "code",
   "execution_count": 7,
   "id": "e2c461b1",
   "metadata": {},
   "outputs": [
    {
     "data": {
      "text/plain": [
       "tensor([[[[9., 5., 0., 7.],\n",
       "          [0., 2., 4., 6.],\n",
       "          [7., 6., 6., 8.],\n",
       "          [3., 8., 5., 1.]]]])"
      ]
     },
     "execution_count": 7,
     "metadata": {},
     "output_type": "execute_result"
    }
   ],
   "source": [
    "convolved = F.conv2d(image, kernel_identity, stride=1)\n",
    "convolved"
   ]
  },
  {
   "cell_type": "markdown",
   "id": "0cbf8c98",
   "metadata": {},
   "source": [
    "Como era de esperar, obtuvimos el mismo resultado mostrado en la sección anterior. No hay sorpresas.\n",
    "\n",
    "Ahora, vamos a centrar nuestra atención en el módulo de convolución de PyTorch, <a href=\"https://pytorch.org/docs/stable/generated/torch.nn.Conv2d.html\" target=\"_blank\"> nn.Conv2d </a>. Tiene muchos argumentos, vamos a centrarnos en los cuatro primeros de ellos:\n",
    "\n",
    "* *in_channels*: Número de canales en la imagen de entrada.\n",
    "\n",
    "* *out_channels*: Número de canales producidos por la convolución.\n",
    "\n",
    "* *kernel_size*: Tamaño del filtro/kernel (cuadrado) \n",
    "\n",
    "* *stride*: El tamaño del movimiento de la región seleccionada.\n",
    "\n",
    "Hay un par de cosas que hay que notar aquí. En primer lugar, no hay ningún argumento para el núcleo/filtro en sí, sólo hay un argumento kernel_size que es un argumento para el tamaño del kernel/filtro.\n",
    "\n",
    "En segundo lugar, es posible producir múltiples canales como salida. Esto simplemente significa que el módulo va a aprender múltiples filtros. Cada filtro va a producir un resultado diferente, que se llama un canal aquí.\n",
    "\n",
    "Hasta ahora, hemos utilizado una imagen de un solo canal como entrada, y aplicando un filtro (de tamaño tres por tres) a la misma, moviendo un píxel a la vez a la vez, lo que resulta en una salida/canal de un solo elemento. Hagámoslo en código:"
   ]
  },
  {
   "cell_type": "code",
   "execution_count": 12,
   "id": "b628e8f2",
   "metadata": {},
   "outputs": [
    {
     "data": {
      "text/plain": [
       "tensor([[[[-0.4093,  1.9382, -0.5025, -0.3305],\n",
       "          [ 0.1435, -2.2929, -1.1698,  1.7898],\n",
       "          [-4.2297,  0.0060, -0.4865, -0.0916],\n",
       "          [-2.7766,  1.3266, -0.6476,  0.2122]]]],\n",
       "       grad_fn=<ConvolutionBackward0>)"
      ]
     },
     "execution_count": 12,
     "metadata": {},
     "output_type": "execute_result"
    }
   ],
   "source": [
    "conv = nn.Conv2d(in_channels=1, out_channels=1, kernel_size=3, stride=1)\n",
    "conv(image)"
   ]
  },
  {
   "cell_type": "markdown",
   "id": "aa03e865",
   "metadata": {},
   "source": [
    "Estos resultados resultan ser un galimatías ahora (y tus resultados, si ejecutas este código, van a ser diferentes que los míos) porque el módulo convolucional inicializa aleatoriamente los pesos que representan el núcleo/filtro.\n",
    "\n",
    "Ese es el objetivo del módulo convolucional: aprenderá el kernel/filtro por sí mismo.\n",
    "\n",
    "En la visión por ordenador tradicional, la gente desarrollaría diferentes filtros para diferentes propósitos: desenfoque, nitidez, detección de bordes, etc.\n",
    "\n",
    "Pero, en lugar de ser inteligente y tratar de idear manualmente un filtro que haga el  truco para un problema determinado, ¿por qué no subcontratar también la definición del filtro a la red neuronal? De este modo, la red propondrá filtros que destaquen características que son relevantes para la tarea en cuestión.\n",
    "\n",
    "No es de extrañar que la imagen resultante muestre ahora un atributo grad_fn: será para calcular los gradientes de modo que la red pueda aprender a cambiar los pesos que representan el filtro.\n",
    "\n",
    "Nos podiamos preguntar si podemos decirle que aprenda varios filtros a la vez?\". Claro que podemos, esa es la función del argumento out_channels. Si lo ponemos a dos, generará dos filtros (inicializados aleatoriamente):\n",
    "\n"
   ]
  },
  {
   "cell_type": "code",
   "execution_count": 13,
   "id": "5c773eef",
   "metadata": {},
   "outputs": [
    {
     "data": {
      "text/plain": [
       "Parameter containing:\n",
       "tensor([[[[-0.0662,  0.1680, -0.0491],\n",
       "          [ 0.2698, -0.3167, -0.2492],\n",
       "          [-0.1850,  0.2319,  0.1970]]],\n",
       "\n",
       "\n",
       "        [[[-0.1586,  0.0472, -0.0319],\n",
       "          [ 0.1501,  0.3077,  0.2660],\n",
       "          [-0.1655, -0.2418, -0.3107]]]], requires_grad=True)"
      ]
     },
     "execution_count": 13,
     "metadata": {},
     "output_type": "execute_result"
    }
   ],
   "source": [
    "conv_multiple = nn.Conv2d(\n",
    "in_channels=1, \n",
    "    out_channels=2, # Esto lo hemos cambiado ahora\n",
    "    kernel_size=3, stride=1\n",
    ")\n",
    "conv_multiple.weight"
   ]
  },
  {
   "cell_type": "markdown",
   "id": "3cb08ac9",
   "metadata": {},
   "source": [
    "Como puedes ver  hay dos filtros representados por matrices de tres por tres de pesos (los valores van a ser diferentes a los míos cuando el lector lo ejecute de nuevo).\n",
    "\n",
    "También podemos forzar a un módulo convolucional a utilizar un filtro concreto estableciendo sus pesos:"
   ]
  },
  {
   "cell_type": "code",
   "execution_count": 14,
   "id": "711ce099",
   "metadata": {},
   "outputs": [],
   "source": [
    "with torch.no_grad():\n",
    "    conv.weight[0] = kernel_identity\n",
    "    conv.bias[0] = 0"
   ]
  },
  {
   "cell_type": "markdown",
   "id": "3af4c0d4",
   "metadata": {},
   "source": [
    "En el fragmento de código anterior, estamos forzando al módulo a utilizar el  núcleo de identidad que hemos utilizado hasta ahora. Como era de esperar, si convolucionamos nuestra imagen de entrada obtendremos el resultado conocido:"
   ]
  },
  {
   "cell_type": "code",
   "execution_count": 78,
   "id": "d407d050",
   "metadata": {},
   "outputs": [
    {
     "data": {
      "text/plain": [
       "tensor([[[[9., 5., 0., 7.],\n",
       "          [0., 2., 4., 6.],\n",
       "          [7., 6., 6., 8.],\n",
       "          [3., 8., 5., 1.]]]], grad_fn=<ConvolutionBackward0>)"
      ]
     },
     "execution_count": 78,
     "metadata": {},
     "output_type": "execute_result"
    }
   ],
   "source": [
    "conv(image)"
   ]
  },
  {
   "cell_type": "markdown",
   "id": "8188688a",
   "metadata": {},
   "source": [
    "Hasta ahora, hemos estado moviendo la región de interés un píxel a la vez: un stride de uno. Probemos con un paso o stride de dos para variar y veamos qué pasa con la imagen resultante.\n",
    "\n",
    "No reproducimos  el primer paso aquí porque siempre es el mismo: la región gris centrada en el número nueve.\n",
    "\n",
    "![stride de dos](figuras/convolucion9.PNG)\n",
    "\n",
    "El segundo paso, representado arriba, muestra la región gris movida dos píxeles a la derecha: es lo que se denomina un stride de dos.\n",
    "\n",
    "Además, observe que, si damos un paso más de dos píxeles, la región gris se situaría parcialmente fuera de la imagen subyacente. Esto era y sigue siendo un un paso que no se puede dar, por lo que sólo hay dos operaciones válidas mientras nos movemos horizontalmente. Lo mismo ocurrirá cuando nos movemos verticalmente. La primera zancada de dos píxeles hacia abajo está bien, pero la segunda será, una vez más, una operación fallida.\n",
    "\n",
    "La imagen resultante, tras las cuatro únicas operaciones válidas, tiene el siguiente aspecto:\n",
    "\n",
    "![Final convolución](figuras/convolucion10.PNG)\n",
    "\n",
    "El núcleo de identidad puede ser aburrido, pero es definitivamente útil para destacar el funcionamiento interno de las convoluciones. Está muy claro en la figura anterior de dónde proceden los valores de los píxeles de la imagen resultante.\n",
    "\n",
    "Además, observe que el uso de una zancada más grande hizo que la forma de la imagen resultante es aún más pequeña.\n",
    "\n",
    "Una vez más, tiene sentido: si nos saltamos píxeles en la imagen de entrada de entrada, hay menos regiones de interés a las que aplicar el filtro. En consecuencia podemos ampliar nuestra fórmula anterior para incluir el tamaño de la franja (s):\n",
    "\n",
    "$$\n",
    "\\Large\n",
    "(h_i, w_i) * f = \\left(\\frac{h_i - f + 1}{s}, \\frac{w_i - f + 1}{s}\\right)\n",
    "$$\n",
    "\n",
    "Como hemos visto antes, el stride es sólo un argumento de la convolución, así que vamos a utilizar la convolución funcional de PyTorch para ver los resultados:"
   ]
  },
  {
   "cell_type": "code",
   "execution_count": 79,
   "id": "77101f3c",
   "metadata": {},
   "outputs": [
    {
     "data": {
      "text/plain": [
       "tensor([[[[9., 0.],\n",
       "          [7., 6.]]]])"
      ]
     },
     "execution_count": 79,
     "metadata": {},
     "output_type": "execute_result"
    }
   ],
   "source": [
    "convolved_stride2 = F.conv2d(image, kernel_identity, stride=2)\n",
    "convolved_stride2"
   ]
  },
  {
   "cell_type": "markdown",
   "id": "ef76fbdb",
   "metadata": {},
   "source": [
    "## Padding.\n",
    "\n",
    "```{index} Padding\n",
    "```\n",
    "\n",
    "Padding significa rellenar. Tenemos que rellenar la imagen original para que pueda soportar el \"ataque\" a su tamaño.\n",
    "\n",
    "Pero ¿Cómo puedo rellenar una imagen?. Podemos simplemente añadir ceros a su alrededor. Una imagen vale vale más que mil palabras en este caso:\n",
    "\n",
    "![padding de una imagen](figuras/convolucion11.PNG)\n",
    "\n",
    "En esta figura vemos lo que queremos decir.Añadiendo columnas y filas de ceros a su alrededor, expandimos la imagen de entrada de tal manera que la región gris comienza centrada en la esquina superior izquierda de la imagen de entrada. Este sencillo truco puede utilizarse para conservar el tamaño original de la imagen.\n",
    "\n",
    "En el código, como siempre, PyTorch nos da dos opciones: funcional (F.pad) y de módulo (nn.ConstantPad2d). Empecemos con la versión de módulo esta vez:"
   ]
  },
  {
   "cell_type": "code",
   "execution_count": 80,
   "id": "4b7a6473",
   "metadata": {},
   "outputs": [
    {
     "data": {
      "text/plain": [
       "tensor([[[[0., 0., 0., 0., 0., 0., 0., 0.],\n",
       "          [0., 5., 0., 8., 7., 8., 1., 0.],\n",
       "          [0., 1., 9., 5., 0., 7., 7., 0.],\n",
       "          [0., 6., 0., 2., 4., 6., 6., 0.],\n",
       "          [0., 9., 7., 6., 6., 8., 4., 0.],\n",
       "          [0., 8., 3., 8., 5., 1., 3., 0.],\n",
       "          [0., 7., 2., 7., 0., 1., 0., 0.],\n",
       "          [0., 0., 0., 0., 0., 0., 0., 0.]]]])"
      ]
     },
     "execution_count": 80,
     "metadata": {},
     "output_type": "execute_result"
    }
   ],
   "source": [
    "constant_padder = nn.ConstantPad2d(padding=1, value=0)\n",
    "constant_padder(image)"
   ]
  },
  {
   "cell_type": "markdown",
   "id": "3e77cfd1",
   "metadata": {},
   "source": [
    "Hay dos argumentos para crear el padding: *padding*, para el número de columnas y filas a rellenar en la imagen; y *value*, para el valor con el que llenamos estas nuevas columnas y filas. También se puede hacer un relleno asimétrico, especificando una tupla en el argumento *padding* que representa (izquierda, derecha, arriba, abajo). Así, si queremos rellenar nuestra imagen sólo en los lados izquierdo y derecho, el argumento sería así (1, 1, 0, 0).\n",
    "\n",
    "Podemos conseguir el mismo resultado utilizando el relleno funcional:"
   ]
  },
  {
   "cell_type": "code",
   "execution_count": 81,
   "id": "f6c89bed",
   "metadata": {},
   "outputs": [],
   "source": [
    "padded = F.pad(image, pad=(1, 1, 1, 1), mode='constant', value=0)"
   ]
  },
  {
   "cell_type": "markdown",
   "id": "c27d536d",
   "metadata": {},
   "source": [
    "En la versión funcional, hay que especificar el relleno como una tupla. El argumento *value* es sencillo, y hay otro argumento más argumento: el modo, que se ha establecido como constante para que coincida con la versión del módulo\n",
    "anterior.\n",
    "\n",
    "Hay otros tres modos: replicar, reflejar y circular. Vamos a a verlos, empezando por la visualización de estos métodos:\n",
    "\n",
    "![tipos convolución](figuras/convolucion12.PNG)\n",
    "\n",
    "En el padding por replicación, los píxeles acolchados tendrán el mismo valor que el píxel real más cercano. Las esquinas acolchadas tendrán el mismo valor que las esquinas reales. Las demás columnas (izquierda y derecha)\n",
    "y filas (arriba y abajo) replicarán los valores correspondientes de la imagen original. Los valores utilizados en la réplica están en un naranja más oscuro.\n",
    "\n",
    "En PyTorch, se puede utilizar la forma funcional F.pad con mode=\"replicate\", o utilizar la versión del módulo nn.ReplicationPad2d:"
   ]
  },
  {
   "cell_type": "code",
   "execution_count": 82,
   "id": "bf912ad2",
   "metadata": {},
   "outputs": [
    {
     "data": {
      "text/plain": [
       "tensor([[[[5., 5., 0., 8., 7., 8., 1., 1.],\n",
       "          [5., 5., 0., 8., 7., 8., 1., 1.],\n",
       "          [1., 1., 9., 5., 0., 7., 7., 7.],\n",
       "          [6., 6., 0., 2., 4., 6., 6., 6.],\n",
       "          [9., 9., 7., 6., 6., 8., 4., 4.],\n",
       "          [8., 8., 3., 8., 5., 1., 3., 3.],\n",
       "          [7., 7., 2., 7., 0., 1., 0., 0.],\n",
       "          [7., 7., 2., 7., 0., 1., 0., 0.]]]])"
      ]
     },
     "execution_count": 82,
     "metadata": {},
     "output_type": "execute_result"
    }
   ],
   "source": [
    "replication_padder = nn.ReplicationPad2d(padding=1)\n",
    "replication_padder(image)"
   ]
  },
  {
   "cell_type": "markdown",
   "id": "ecfe1b75",
   "metadata": {},
   "source": [
    "En el caso de padding de reflexión, la cosa se complica un poco más. Es como si las columnas y filas se utilizan como ejes para el reflejo. Así, la columna columna acolchada (olvídate de las esquinas por ahora) reflejará la\n",
    "segunda columna (ya que la primera columna es el eje de reflexión). El mismo razonamiento se aplica a la columna acolchada de la derecha. Del mismo modo, la fila superior reflejará la segunda fila (ya que la primera fila es el eje de\n",
    "eje de reflexión), y el mismo razonamiento se aplica a la fila inferior. Los valores utilizados en el reflejo están en un tono más oscuro de naranja. Las esquinas tendrán los mismos valores que la intersección de las filas y columnas reflejadas de la imagen original. Quizá  la imagen pueda transmitir la idea mejor que estas palabras.\n",
    "\n",
    "En PyTorch, puedes utilizar la forma funcional F.pad con mode=\"reflect\", o utilizar la versión del módulo n.ReflectionPad2d"
   ]
  },
  {
   "cell_type": "code",
   "execution_count": 83,
   "id": "4958cbf5",
   "metadata": {},
   "outputs": [
    {
     "data": {
      "text/plain": [
       "tensor([[[[9., 1., 9., 5., 0., 7., 7., 7.],\n",
       "          [0., 5., 0., 8., 7., 8., 1., 8.],\n",
       "          [9., 1., 9., 5., 0., 7., 7., 7.],\n",
       "          [0., 6., 0., 2., 4., 6., 6., 6.],\n",
       "          [7., 9., 7., 6., 6., 8., 4., 8.],\n",
       "          [3., 8., 3., 8., 5., 1., 3., 1.],\n",
       "          [2., 7., 2., 7., 0., 1., 0., 1.],\n",
       "          [3., 8., 3., 8., 5., 1., 3., 1.]]]])"
      ]
     },
     "execution_count": 83,
     "metadata": {},
     "output_type": "execute_result"
    }
   ],
   "source": [
    "reflection_padder = nn.ReflectionPad2d(padding=1)\n",
    "reflection_padder(image)"
   ]
  },
  {
   "cell_type": "markdown",
   "id": "930d10ec",
   "metadata": {},
   "source": [
    "En el padding circular, la columna más a la izquierda (más a la derecha) se  copia como la columna derecha (izquierda) acolchada (olvídese de las esquinas por ahora). Del mismo modo, la fila más alta (más baja) se copia como la fila inferior (superior) acolchada. Las esquinas recibirán los valores de la esquina diametralmente opuesta: el píxel superior izquierdo\n",
    "superior izquierda recibe el valor de la esquina inferior derecha de la imagen original. Una vez más, los valores utilizados en el relleno están en un más oscuros de color naranja.\n",
    "\n",
    "En PyTorch, debes utilizar la forma funcional F.pad con mode=\"circular\" ya que no existe una versión del módulo de\n",
    "padding (en el momento de escribir esto):"
   ]
  },
  {
   "cell_type": "code",
   "execution_count": 84,
   "id": "eaf838b6",
   "metadata": {},
   "outputs": [
    {
     "data": {
      "text/plain": [
       "tensor([[[[0., 7., 2., 7., 0., 1., 0., 7.],\n",
       "          [1., 5., 0., 8., 7., 8., 1., 5.],\n",
       "          [7., 1., 9., 5., 0., 7., 7., 1.],\n",
       "          [6., 6., 0., 2., 4., 6., 6., 6.],\n",
       "          [4., 9., 7., 6., 6., 8., 4., 9.],\n",
       "          [3., 8., 3., 8., 5., 1., 3., 8.],\n",
       "          [0., 7., 2., 7., 0., 1., 0., 7.],\n",
       "          [1., 5., 0., 8., 7., 8., 1., 5.]]]])"
      ]
     },
     "execution_count": 84,
     "metadata": {},
     "output_type": "execute_result"
    }
   ],
   "source": [
    "F.pad(image, pad=(1, 1, 1, 1), mode='circular')"
   ]
  },
  {
   "cell_type": "markdown",
   "id": "6ffcc5e1",
   "metadata": {},
   "source": [
    "Mediante el padding de una imagen, es posible obtener imágenes resultantes con la misma forma que las imágenes de entrada, o incluso más grandes, si se opta por rellenar más y más filas y columnas a la imagen de entrada. Suponiendo que hacemos un relleno simétrico de tamaño p la forma resultante viene dada por la siguiente fórmula:\n",
    "\n",
    "$$\n",
    "\\Large\n",
    "(h_i, w_i) * f = \\left(\\frac{(h_i + 2p) - f + 1}{s}, \\frac{(w_i + 2p) - f + 1}{s}\\right)\n",
    "$$\n",
    "\n",
    "Vamos a dejar filtro de identidad. Probemos un filtro detector de bordes."
   ]
  },
  {
   "cell_type": "code",
   "execution_count": 85,
   "id": "b12e3c42",
   "metadata": {},
   "outputs": [
    {
     "data": {
      "text/plain": [
       "torch.Size([1, 1, 3, 3])"
      ]
     },
     "execution_count": 85,
     "metadata": {},
     "output_type": "execute_result"
    }
   ],
   "source": [
    "edge = np.array(\n",
    "[[[[0, 1, 0],\n",
    "[1, -4, 1],\n",
    "[0, 1, 0]]]]\n",
    ")\n",
    "kernel_edge = torch.as_tensor(edge).float()\n",
    "kernel_edge.shape"
   ]
  },
  {
   "cell_type": "markdown",
   "id": "336f1c81",
   "metadata": {},
   "source": [
    "Y vamos a aplicarlo a una región diferente de nuestra imagen de entrada (acolchada) también\n",
    "\n",
    "![Nuevo filtro](figuras/convolucion13.PNG)\n",
    "\n",
    "Como puede ver, los filtros, aparte del de identidad, no se limitan a copiar el valor en el centro. La multiplicación por elementos finalmente significa algo:\n",
    "\n",
    "![hacer una convolucion](figuras/convolucion14.PNG)\n",
    "\n",
    "Apliquemos este filtro a nuestra imagen, para poder utilizar la imagen resultante en nuestra siguiente operación:"
   ]
  },
  {
   "cell_type": "code",
   "execution_count": 86,
   "id": "be015637",
   "metadata": {},
   "outputs": [],
   "source": [
    "padded = F.pad(image, (1, 1, 1, 1), mode='constant', value=0)\n",
    "conv_padded = F.conv2d(padded, kernel_edge, stride=1)"
   ]
  },
  {
   "cell_type": "markdown",
   "id": "0a32ac22",
   "metadata": {},
   "source": [
    "## Pooling\n",
    "\n",
    "```{index} Pooling\n",
    "```\n",
    "\n",
    "Ahora volvemos a la tarea de reducir las imágenes.Pooling es diferente de las operaciones anteriores: divide la imagen en pequeños trozos, realiza una operación en cada trozo (que produce un un solo valor), y pone los trozos juntos como la imagen resultante. Veamos este procedimiento mediante una imagen.\n",
    "\n",
    "![Pooling 1](figuras/pooling1.PNG)\n",
    "\n",
    "En la imagen de arriba, estamos realizando un *max-pooling* con un kernel de dimensión dos. Aunque no se trata de los mismos filtros que los que ya hemos visto, se sigue llamando kernel.\n",
    "\n",
    "Nuestra imagen de entrada está dividida en nueve trozos, y realizamos una simple operación operación de obtener el máximo en cada trozo (por lo tanto, max-pooling). A continuación, estos valores se juntan , en orden, para producir una imagen resultante más pequeña.\n",
    "\n",
    "Un pooling de agrupación de dos por dos da como resultado una imagen cuyas dimensiones son la mitad de la original. Un pooling de agrupación de tres por tres hace que la imagen resultante sea un tercio del tamaño del original,\n",
    "y así sucesivamente. Además, sólo cuentan los trozos completos: si probamos un núcleo de cuatro por cuatro en nuestra imagen de seis por seis, sólo cabe un trozo, y la imagen resultante tendría un solo píxel.\n",
    "\n",
    "En PyTorch, como es habitual, tenemos ambas formas: F.max_pool2d y nn.MaxPool2d. Utilicemos la forma funcional para replicar el max-pooling en la figura anterior:"
   ]
  },
  {
   "cell_type": "code",
   "execution_count": 87,
   "id": "69856795",
   "metadata": {},
   "outputs": [
    {
     "data": {
      "text/plain": [
       "tensor([[[[22., 23., 11.],\n",
       "          [24.,  7.,  1.],\n",
       "          [13., 13., 13.]]]])"
      ]
     },
     "execution_count": 87,
     "metadata": {},
     "output_type": "execute_result"
    }
   ],
   "source": [
    "pooled = F.max_pool2d(conv_padded, kernel_size=2)\n",
    "pooled"
   ]
  },
  {
   "cell_type": "markdown",
   "id": "fec3cd09",
   "metadata": {},
   "source": [
    "Y luego usemos la versión del módulo para ilustrar el filtro cuatro por cuatro que comentamos antes y que da como resultado un sólo valor:"
   ]
  },
  {
   "cell_type": "code",
   "execution_count": 88,
   "id": "19862c77",
   "metadata": {},
   "outputs": [
    {
     "data": {
      "text/plain": [
       "tensor([[[[24.]]]])"
      ]
     },
     "execution_count": 88,
     "metadata": {},
     "output_type": "execute_result"
    }
   ],
   "source": [
    "maxpool4 = nn.MaxPool2d(kernel_size=4)\n",
    "pooled4 = maxpool4(conv_padded)\n",
    "pooled4"
   ]
  },
  {
   "cell_type": "markdown",
   "id": "53eb9fc4",
   "metadata": {},
   "source": [
    "Además de la agrupación máxima (pool max), la agrupación media también es bastante común. Como su nombre indica, se mostrará el valor medio de píxeles para cada trozo. En PyTorch, tenemos F.avg_pool2d y nn.AvgPool2d."
   ]
  },
  {
   "cell_type": "code",
   "execution_count": 89,
   "id": "cb522d6f",
   "metadata": {},
   "outputs": [
    {
     "data": {
      "text/plain": [
       "tensor([[[[24., 24., 23., 23.],\n",
       "          [24., 24., 23., 23.],\n",
       "          [24., 24., 13., 13.],\n",
       "          [13., 13., 13., 13.]]]])"
      ]
     },
     "execution_count": 89,
     "metadata": {},
     "output_type": "execute_result"
    }
   ],
   "source": [
    "F.max_pool2d(conv_padded, kernel_size=3, stride=1)"
   ]
  },
  {
   "cell_type": "markdown",
   "id": "192d07c8",
   "metadata": {},
   "source": [
    "## Aplanamiento o Flattening\n",
    "\n",
    "```{index} Flattening\n",
    "```\n",
    "\n",
    "Esto ya lo hemos visto. Simplemente aplana un tensor, preservando la primera dimensión de tal manera que mantenemos el número de puntos de datos mientras que colapsa todas las demás dimensiones. Tiene una versión en módulo\n",
    "nn.Flatten:"
   ]
  },
  {
   "cell_type": "code",
   "execution_count": 90,
   "id": "a0702aa3",
   "metadata": {},
   "outputs": [
    {
     "data": {
      "text/plain": [
       "tensor([[[[22., 23., 11.],\n",
       "          [24.,  7.,  1.],\n",
       "          [13., 13., 13.]]]])"
      ]
     },
     "execution_count": 90,
     "metadata": {},
     "output_type": "execute_result"
    }
   ],
   "source": [
    "# Recordemos el valor de pooled\n",
    "pooled"
   ]
  },
  {
   "cell_type": "code",
   "execution_count": 91,
   "id": "7908998a",
   "metadata": {},
   "outputs": [
    {
     "data": {
      "text/plain": [
       "tensor([[22., 23., 11., 24.,  7.,  1., 13., 13., 13.]])"
      ]
     },
     "execution_count": 91,
     "metadata": {},
     "output_type": "execute_result"
    }
   ],
   "source": [
    "flattened = nn.Flatten()(pooled)\n",
    "flattened"
   ]
  },
  {
   "cell_type": "markdown",
   "id": "fc9ebcf8",
   "metadata": {},
   "source": [
    "No tiene versión funcional, pero no hay necesidad de una ya que podemos podemos hacer lo mismo usando view"
   ]
  },
  {
   "cell_type": "code",
   "execution_count": 92,
   "id": "873b20c7",
   "metadata": {},
   "outputs": [
    {
     "data": {
      "text/plain": [
       "tensor([[22., 23., 11., 24.,  7.,  1., 13., 13., 13.]])"
      ]
     },
     "execution_count": 92,
     "metadata": {},
     "output_type": "execute_result"
    }
   ],
   "source": [
    "pooled.view(1, -1)"
   ]
  },
  {
   "cell_type": "markdown",
   "id": "498593f0",
   "metadata": {},
   "source": [
    "Hemos realizado convoluciones, rellenos y agrupaciones en dos dimensiones porque estamos manejando imágenes. Pero hay versiones unidimensionales y tridimensionales de algunas de ellas:\n",
    "\n",
    "* nn.Conv1d and F.conv1d; nn.Conv3d and F.conv3d\n",
    "\n",
    "* nn.ConstandPad1d and nn.ConstandPad3d\n",
    "\n",
    "* nn.ReplicationPad1d and nn.ReplicationPad3d\n",
    "\n",
    "* nn.ReflectionPad1d\n",
    "\n",
    "* nn.MaxPool1d and F.max_pool1d; nn.MaxPool3d and F.max_pool3d\n",
    "\n",
    "* nn.AvgPool1d and F.avg_pool1d; nn.AvgPool3d and F.avg_pool3d\n",
    "\n",
    " Nos podemos preguntar lo siguiente ¿Las imágenes en color no son tridimensionales al tener tres canales?\". Pues sí, pero todavía vamos a aplicar convoluciones bidimensionales. Vamos a ir a través de un ejemplo detallado utilizando un\n",
    "imagen de tres canales en el próximo capítulo.\n",
    "\n",
    "La arquitectura típica utiliza una secuencia de uno o más bloques convolucionales típicos, y cada bloque consta de tres operaciones:\n",
    "\n",
    "1.- convolución\n",
    "\n",
    "2.- Función de activación\n",
    "\n",
    "3.- Pooling\n",
    "\n",
    "A medida que las imágenes pasen por estas operaciones, irán reduciendo su tamaño. Después de tres de estos bloques (suponiendo un tamaño de núcleo de dos para la agrupación), por ejemplo, una imagen se reducirá a 1/8 o menos de sus dimensiones (y, por tanto, a 1/64 de su número total de píxeles). La dirección número de canales/filtros producidos por cada bloque suele aumentar suele aumentar a medida que se añaden más bloques.\n",
    "\n",
    "Después de la secuencia de bloques, la imagen se aplana: es de esperar que, en esta fase, no se pierda información por considerar cada valor en el tensor aplanado una característica por sí misma.\n",
    "\n",
    "Una vez que los rasgos se disocian de los píxeles, se convierte en un problema bastante estándar, como los que ya hemos trabajado en capítulos anteriores:las características o features alimentan una o más capas ocultas, y una capa de salida\n",
    "produce los logits para la clasificación.\n",
    "\n",
    "## LeNet-5\n",
    "\n",
    "```{index} LeNet-5\n",
    "```\n",
    "\n",
    "LeNet-5 es una red neuronal convolucional de 7 niveles desarrollada por Yann LeCun en 1998 para reconocer dígitos escritos a mano en imágenes de 28x28 píxeles. El famoso conjunto de datos MNIST. Ahí empezó todo (más o menos). En 1989, el propio LeCun utilizó la retropropagación (descenso gradiente encadenado, ¿recuerdas?) para aprender los filtros de\n",
    "como hemos comentado antes, en lugar de desarrollarlos manualmente.\n",
    "\n",
    "La arquitectura de esta red es la siguiente\n",
    "\n",
    "![arquitectura LeNet_5](figuras/LeNet_5.PNG)"
   ]
  },
  {
   "cell_type": "markdown",
   "id": "3677ee2c",
   "metadata": {},
   "source": [
    "Los bloques convolucionales típicos ya están ahí (hasta cierto punto): convoluciones (capas C), funciones de activación (no mostradas) y submuestreo (capas S). Sin embargo, hay algunas diferencias:\n",
    "\n",
    "* Entonces, el submuestreo era más complejo que el actual pero la idea general sigue siendo válida.\n",
    "\n",
    "* La función de activación, una sigmoidea en aquel momento, se aplicaba después del  submuestreo en lugar de antes, como es habitual hoy en día.\n",
    "\n",
    "* las capas F6 y OUTPUT estaban conectadas por algo llamado \"conexiones gaussianas\", que también es más compleja que la\n",
    "función de activación típica que se utiliza hoy en día\n",
    "\n",
    "Si adaptamos esa arquitectura a la que hoy en día se suele utilizar, el código de la misma sería el siguiente"
   ]
  },
  {
   "cell_type": "code",
   "execution_count": 93,
   "id": "c247e5ad",
   "metadata": {},
   "outputs": [],
   "source": [
    "lenet = nn.Sequential()\n",
    "\n",
    "# Featurizer\n",
    "# Block 1: 1@28x28 -> 6@28x28 -> 6@14x14\n",
    "lenet.add_module('C1', nn.Conv2d(in_channels=1, out_channels=6, kernel_size=5, padding=2))\n",
    "lenet.add_module('func1', nn.ReLU())\n",
    "lenet.add_module('S2', nn.MaxPool2d(kernel_size=2))\n",
    "# Block 2: 6@14x14 -> 16@10x10 -> 16@5x5\n",
    "lenet.add_module('C3', nn.Conv2d(in_channels=6, out_channels=16, kernel_size=5))\n",
    "lenet.add_module('func2', nn.ReLU())\n",
    "lenet.add_module('S4', nn.MaxPool2d(kernel_size=2))\n",
    "# Block 3: 16@5x5 -> 120@1x1\n",
    "lenet.add_module('C5', nn.Conv2d(in_channels=16, out_channels=120, kernel_size=5))\n",
    "lenet.add_module('func2', nn.ReLU())\n",
    "# Flattening\n",
    "lenet.add_module('flatten', nn.Flatten())\n",
    "\n",
    "# Classification\n",
    "# Hidden Layer\n",
    "lenet.add_module('F6', nn.Linear(in_features=120, out_features=84))\n",
    "lenet.add_module('func3', nn.ReLU())\n",
    "# Output Layer\n",
    "lenet.add_module('OUTPUT', nn.Linear(in_features=84, out_features=10))"
   ]
  },
  {
   "cell_type": "markdown",
   "id": "26f8be0a",
   "metadata": {},
   "source": [
    "LeNet-5 utilizó tres bloques convolucionales, aunque el último no tiene un max-pooling porque la convolución ya\n",
    "produce un único píxel. En cuanto al número de canales aumentan a medida que disminuye el tamaño de la imagen:\n",
    "\n",
    "* imagen de entrada: monocanal 28x28 píxeles\n",
    "\n",
    "* primer bloque: produce 6 canales de 14x14 píxeles\n",
    "\n",
    "* segundo bloque: produce píxeles de 5x5 de 16 canales\n",
    "\n",
    "* tercer bloque: produce 120 canales de un solo píxel (1x1)\n",
    "\n",
    "A continuación, estos 120 valores (o características) se aplanan y se alimentan a una capa oculta típica con 84 unidades. El último paso es, obviamente, la capa de salida, que produce 10 logits que se utilizan para la clasificación\n",
    "(de 0 a 9, hay 10 clases).\n",
    "\n",
    "## Clasificación multiclase.\n",
    "\n",
    "Un problema se considera un problema de clasificación multiclase si  hay más de dos clases. Por lo tanto, vamos a mantenerlo lo más simple posible y construyamos un modelo para clasificar imágenes en tres clases.\n",
    "\n",
    "### Generación de datos.\n",
    "\n",
    "Nuestras imágenes van a tener una línea diagonal o paralela, PERO esta vez haremos una distinción entre una línea diagonal\n",
    "inclinada a la derecha, una línea diagonal inclinada a la izquierda y una línea (no importa si es horizontal o vertical). \n",
    "\n",
    "Además, generemos más imágenes y más grandes: mil imágenes, cada una de diez por diez píxeles de tamaño."
   ]
  },
  {
   "cell_type": "code",
   "execution_count": 8,
   "id": "7ad5e225",
   "metadata": {},
   "outputs": [],
   "source": [
    "images, labels = generate_dataset(img_size=10, n_images=1000, binary=False, seed=17)"
   ]
  },
  {
   "cell_type": "code",
   "execution_count": 9,
   "id": "3f94ece9",
   "metadata": {},
   "outputs": [],
   "source": [
    "import matplotlib.pyplot as plt\n",
    "\n",
    "def plot_images(images, targets, n_plot=30):\n",
    "    n_rows = n_plot // 10 + ((n_plot % 10) > 0)\n",
    "    fig, axes = plt.subplots(n_rows, 10, figsize=(15, 1.5 * n_rows))\n",
    "    axes = np.atleast_2d(axes)\n",
    "\n",
    "    for i, (image, target) in enumerate(zip(images[:n_plot], targets[:n_plot])):\n",
    "        row, col = i // 10, i % 10    \n",
    "        ax = axes[row, col]\n",
    "        ax.set_title('#{} - Label:{}'.format(i, target), {'size': 12})\n",
    "        # plot filter channel in grayscale\n",
    "        ax.imshow(image.squeeze(), cmap='gray', vmin=0, vmax=1)\n",
    "\n",
    "    for ax in axes.flat:\n",
    "        ax.set_xticks([])\n",
    "        ax.set_yticks([])\n",
    "        ax.label_outer()\n",
    "\n",
    "    plt.tight_layout()\n",
    "    return fig"
   ]
  },
  {
   "cell_type": "code",
   "execution_count": 10,
   "id": "da0bf347",
   "metadata": {},
   "outputs": [
    {
     "data": {
      "image/png": "[encoded data removed]",
      "text/plain": [
       "<Figure size 1500x450 with 30 Axes>"
      ]
     },
     "metadata": {},
     "output_type": "display_data"
    }
   ],
   "source": [
    "fig = plot_images(images, labels, n_plot=30)"
   ]
  },
  {
   "cell_type": "markdown",
   "id": "4662faee",
   "metadata": {},
   "source": [
    "### Preparación de los datos\n",
    "\n",
    "El paso de preparación de datos sería idéntico al que utilizamos en el capítulo 4 si no fuera por un cambio: esta vez no realizaremos el aumento de los datos, y no lo hacemos porque en nuestro problema particular, voltear una imagen es potencialmente arruinar la etiqueta. \n",
    "\n",
    "Si tenemos una imagen que contiene una línea diagonal inclinada hacia la derecha (etiquetada como índice de clase nº 1), y la volteamos, la diagonal acabaría inclinada hacia la izquierda. Pero el aumento de datos no cambia las etiquetas, por lo que el resultado es una imagen con una etiqueta incorrecta (índice de clase nº 1, aunque contendría una línea diagonal inclinada a la izquierda).\n",
    "\n",
    "Dicho esto, sólo vamos a mantener la escala mín-máx usando la transformada Normalizar . Todo lo demás permanece igual: división conjuntos de datos, muestreador y cargadores de datos.\n",
    "\n"
   ]
  },
  {
   "cell_type": "code",
   "execution_count": 11,
   "id": "05a749dd",
   "metadata": {},
   "outputs": [],
   "source": [
    "class TransformedTensorDataset(Dataset):\n",
    "    def __init__(self, x, y, transform=None):\n",
    "        self.x = x\n",
    "        self.y = y\n",
    "        self.transform = transform\n",
    "        \n",
    "    def __getitem__(self, index):\n",
    "        x = self.x[index]\n",
    "        \n",
    "        if self.transform:\n",
    "            x = self.transform(x)\n",
    "        \n",
    "        return x, self.y[index]\n",
    "        \n",
    "    def __len__(self):\n",
    "        return len(self.x)"
   ]
  },
  {
   "cell_type": "code",
   "execution_count": 12,
   "id": "030daa93",
   "metadata": {},
   "outputs": [],
   "source": [
    "# Builds tensors from numpy arrays BEFORE split\n",
    "# Modifies the scale of pixel values from [0, 255] to [0, 1]\n",
    "x_tensor = torch.as_tensor(images / 255).float()\n",
    "y_tensor = torch.as_tensor(labels).long()\n",
    "\n",
    "# Uses index_splitter to generate indices for training and\n",
    "# validation sets\n",
    "train_idx, val_idx = index_splitter(len(x_tensor), [80, 20])\n",
    "# Uses indices to perform the split\n",
    "x_train_tensor = x_tensor[train_idx]\n",
    "y_train_tensor = y_tensor[train_idx]\n",
    "x_val_tensor = x_tensor[val_idx]\n",
    "y_val_tensor = y_tensor[val_idx]\n",
    "\n",
    "# We're not doing any data augmentation now\n",
    "train_composer = Compose([Normalize(mean=(.5,), std=(.5,))])\n",
    "val_composer = Compose([Normalize(mean=(.5,), std=(.5,))])\n",
    "\n",
    "# Uses custom dataset to apply composed transforms to each set\n",
    "train_dataset = TransformedTensorDataset(x_train_tensor, y_train_tensor, transform=train_composer)\n",
    "val_dataset = TransformedTensorDataset(x_val_tensor, y_val_tensor, transform=val_composer)\n",
    "\n",
    "# Builds a weighted random sampler to handle imbalanced classes\n",
    "sampler = make_balanced_sampler(y_train_tensor)\n",
    "\n",
    "# Uses sampler in the training set to get a balanced data loader\n",
    "train_loader = DataLoader(dataset=train_dataset, batch_size=16, sampler=sampler)\n",
    "val_loader = DataLoader(dataset=val_dataset, batch_size=16)"
   ]
  },
  {
   "cell_type": "markdown",
   "id": "e09526bd",
   "metadata": {},
   "source": [
    "### Función de pérdida. softmax\n",
    "\n",
    "```{index} softmax\n",
    "```\n",
    "\n",
    "Nuevo problema, y por lo tanto nueva función de  pérdida. Dado que estamos adoptando la clasificación  multiclase ahora, tenemos que utilizar una pérdida diferente. Y, una vez más, todo comienza con nuestro tema \"favorito\": logits.\n",
    "\n",
    "La función de pérdida que utilizaremos en el caso de una clasificación múltiple es la denominada *softmax*. La función de pérdida softmax devuelve, para cada clase, la contribución que una clase determinada a la suma de odds ratios. \n",
    "\n",
    "$$\n",
    "\\Large\n",
    "\\begin{array}\n",
    "& z & = \\text{logit}(p) & = \\text{log odds ratio }(p) & = \\text{log}\\left(\\frac{p}{1-p}\\right)\n",
    "\\\\\n",
    "e^z & = e^{\\text{logit}(p)} & = \\text{odds ratio }(p) & = \\left(\\frac{p}{1-p}\\right)\n",
    "\\end{array}\n",
    "$$\n",
    "\n",
    "La función softmax es la siguiente\n",
    "\n",
    "$$\n",
    "\\Large\n",
    "\\text{softmax}(z_i) = \\frac{e^{z_i}}{\\sum_{c=0}^{N_c-1}{e^{z_c}}}\n",
    "$$\n",
    "\n",
    "En la ecuación anterior, C representa el número de clases e i corresponde al índice de una clase concreta. En nuestro ejemplo tenemos tres clases, por lo que nuestro modelo debe producir tres logits (z0, z1, z2). Aplicando softmax a estos logits, obtendríamos:\n",
    "\n",
    "$$\n",
    "\\Large\n",
    "\\text{softmax}(z) = \\left[\\frac{e^{z_0}}{e^{z_0}+e^{z_1}+e^{z_2}},\\frac{e^{z_1}}{e^{z_0}+e^{z_1}+e^{z_2}},\\frac{e^{z_2}}{e^{z_0}+e^{z_1}+e^{z_2}}\\right]\n",
    "$$"
   ]
  },
  {
   "cell_type": "markdown",
   "id": "7686ab0a",
   "metadata": {},
   "source": [
    "Sencillo, ¿verdad? Veámoslo ahora en código. Suponiendo que nuestro modelo produce este tensor que contiene tres logits:"
   ]
  },
  {
   "cell_type": "code",
   "execution_count": 13,
   "id": "09e37aa3",
   "metadata": {},
   "outputs": [],
   "source": [
    "logits = torch.tensor([ 1.3863,  0.0000, -0.6931])"
   ]
  },
  {
   "cell_type": "markdown",
   "id": "aeebd5a4",
   "metadata": {},
   "source": [
    "Calaculamos la exponencial de los logits para obtener los odds-ratio"
   ]
  },
  {
   "cell_type": "code",
   "execution_count": 14,
   "id": "d031edc2",
   "metadata": {},
   "outputs": [
    {
     "data": {
      "text/plain": [
       "tensor([4.0000, 1.0000, 0.5000])"
      ]
     },
     "execution_count": 14,
     "metadata": {},
     "output_type": "execute_result"
    }
   ],
   "source": [
    "odds_ratios = torch.exp(logits)\n",
    "odds_ratios"
   ]
  },
  {
   "cell_type": "markdown",
   "id": "b70d20a9",
   "metadata": {},
   "source": [
    "El tensor resultante nos dice que la primera clase tiene muchas más peso que las otras dos, y la segunda tiene mejores probabilidades que la tercera. Así que tomamos estas probabilidades y las sumamos, y luego calculamos la contribución de cada clase a la suma:"
   ]
  },
  {
   "cell_type": "code",
   "execution_count": 15,
   "id": "086f08f5",
   "metadata": {},
   "outputs": [
    {
     "data": {
      "text/plain": [
       "tensor([0.7273, 0.1818, 0.0909])"
      ]
     },
     "execution_count": 15,
     "metadata": {},
     "output_type": "execute_result"
    }
   ],
   "source": [
    "softmaxed = odds_ratios / odds_ratios.sum()\n",
    "softmaxed"
   ]
  },
  {
   "cell_type": "markdown",
   "id": "e35943f7",
   "metadata": {},
   "source": [
    "PyTorch proporciona las implementaciones típicas: funcional (F.softmax) y módulo (nn.Softmax):"
   ]
  },
  {
   "cell_type": "code",
   "execution_count": 102,
   "id": "f5b3ba93",
   "metadata": {},
   "outputs": [
    {
     "data": {
      "text/plain": [
       "(tensor([0.7273, 0.1818, 0.0909]), tensor([0.7273, 0.1818, 0.0909]))"
      ]
     },
     "execution_count": 102,
     "metadata": {},
     "output_type": "execute_result"
    }
   ],
   "source": [
    "nn.Softmax(dim=-1)(logits), F.softmax(logits, dim=-1)"
   ]
  },
  {
   "cell_type": "markdown",
   "id": "4b468007",
   "metadata": {},
   "source": [
    "En ambos casos, le pide que indique a qué dimensión debe aplicarse la función softmax. En general, nuestros modelos producirán logits con la forma (número de puntos de datos, número de clases), por lo que la dimensión correcta para aplicar softmax es la última (dim=-1).\n",
    "\n",
    "### LogSoftmax.\n",
    "\n",
    "```{index} LogSoftmax\n",
    "```\n",
    "La función logsoftmax devuelve, el logaritmo de la  función softmax anterior. Pero, en lugar de calcular  \n",
    "manualmente el logaritmo, PyTorch proporciona *F.log_softmax y nn.LogSoftmax*.\n",
    "\n",
    "Estas funciones son más rápidas y también tienen mejores propiedades numéricas. Pero, supongo que tu pregunta principal en este momento es:¿Por qué tengo que tomar el logaritmo de la softmax?. La razón simple y directa es que la función de pérdida espera log-probabilidades como entrada.\n",
    "\n",
    "### Función de pérdida: Negative Log-Likelihood.\n",
    "\n",
    "```{index} Negative Log-Likelihood, NLLLoss\n",
    "```\n",
    "\n",
    "Como hemos visto, la función *softmax* devuelve probabilidades, mientras que *logsoftmax* devuelve log-probabilidades.\n",
    "Y esa es la entrada para calcular la función de pérdida Negative Log-Likelihood, o *NLLLoss* para abreviar. Esta función de pérdida es simplemente una extensión de la pérdida de entropía cruzada binaria (ya vista en un tema anterior) para manejar múltiples clases.\n",
    "\n",
    "Recordemos la fórmula de entropía cruzada binaria. Era la siguiente:\n",
    "\n",
    "$$\n",
    "\\Large\n",
    "\\texttt{BCE}(y)={-\\frac{1}{(N_{\\text{pos}}+N_{\\text{neg}})}\\Bigg[{\\sum_{i=1}^{N_{\\text{pos}}}{\\text{log}(\\text{P}(y_i=1))} + \\sum_{i=1}^{N_{\\text{neg}}}{\\text{log}(1 - \\text{P}(y_i=1))}}\\Bigg]}\n",
    "$$\n",
    "\n",
    "En nuestro ejemplo hay tres clases, es decir, nuestras etiquetas (y) podrían ser cero, uno o dos. Por lo tanto, la función de pérdida, como extensión de la fórmula anterior, tendrá este aspecto:\n",
    "\n",
    "$$\n",
    "\\Large\n",
    "\\texttt{NLLLoss}(y)={-\\frac{1}{(N_0+N_1+N_2)}\\Bigg[{\\sum_{i=1}^{N_0}{\\text{log}(\\text{P}(y_i=0))} + \\sum_{i=1}^{N_1}{\\text{log}(\\text{P}(y_i=1))} + \\sum_{i=1}^{N_2}{\\text{log}(\\text{P}(y_i=2))}}\\Bigg]}\n",
    "$$\n",
    "\n",
    "Finalmente, para un problema general en el que tengamos C clases, la fórmula de la función de pérdida a emplear sería la siguiente:\n",
    "\n",
    "$$\n",
    "\\Large \\texttt{NLLLoss}(y)={-\\frac{1}{(N_0+\\cdots+N_{C-1})}\\sum_{c=0}^{C-1}{\\sum_{i=1}^{N_c}{\\text{log}(\\text{P}(y_i=c))} }}\n",
    "$$\n",
    "\n",
    "Dado que las log-probabilidades se obtienen aplicando *logsoftmax*, esta pérdida no hace mucho más que buscar las entradas\n",
    "correspondientes a la clase verdadera y sumarlas. Veamos esto en código:\n"
   ]
  },
  {
   "cell_type": "code",
   "execution_count": 103,
   "id": "87462366",
   "metadata": {},
   "outputs": [
    {
     "data": {
      "text/plain": [
       "tensor([-0.3185, -1.7048, -2.3979])"
      ]
     },
     "execution_count": 103,
     "metadata": {},
     "output_type": "execute_result"
    }
   ],
   "source": [
    "log_probs = F.log_softmax(logits, dim=-1)\n",
    "log_probs"
   ]
  },
  {
   "cell_type": "markdown",
   "id": "10540625",
   "metadata": {},
   "source": [
    "Estas son las probabilidades logarítmicas para cada clase que calculamos utilizando logsoftmax para nuestro único punto de datos. Ahora, supongamos que su etiqueta es dos: ¿cuál es la pérdida correspondiente?"
   ]
  },
  {
   "cell_type": "code",
   "execution_count": 104,
   "id": "a8289579",
   "metadata": {},
   "outputs": [
    {
     "data": {
      "text/plain": [
       "tensor(2.3979)"
      ]
     },
     "execution_count": 104,
     "metadata": {},
     "output_type": "execute_result"
    }
   ],
   "source": [
    "label = torch.tensor([2])\n",
    "F.nll_loss(log_probs.view(-1, 3), label)"
   ]
  },
  {
   "cell_type": "markdown",
   "id": "d6bfca47",
   "metadata": {},
   "source": [
    "Como habrás notado, se ha  utilizado la versión funcional de la función de pérdida en el fragmento de código anterior: F.nll_loss. Pero, como hemos hecho con la pérdida de entropía cruzada binaria en el capítulo 3, es más probable que se utilice la versión del módulo: *nn.NLLLoss*.\n",
    "\n",
    "Al igual que antes, esta función de pérdida es una función de orden superior, y puede tomar tres argumentos opcionales (los otros son obsoletos y puede ignorarlos):\n",
    "\n",
    "* *reduction*. Toma media como posibles valores: sum, mean o none. El valor por defecto, mean, corresponde a la ecuación  anterior. Como era de esperar, sum devuelve la suma de los errores, en lugar de la media. La última opción  none, corresponde a la forma no reducida, es decir, que devuelve la matriz completa de errores.\n",
    "\n",
    "* *weight*. Toma un tensor de longitud C, es decir, que contiene tantos pesos como clases.\n",
    "\n",
    "* *ignore_index*: toma un entero, correspondiente al único índice de clase que debe ignorarse al calcular la función de pérdida. Puede utilizarse para enmascarar una etiqueta concreta que no es relevante para la tarea de clasificación.\n",
    "\n",
    "Veamos algunos ejemplos rápidos utilizando los argumentos anteriores. En primer lugar, tenemos que generar algunos logits ficticios (aunque seguiremos utilizando tres clases), y las correspondientes log-probabilidades:"
   ]
  },
  {
   "cell_type": "code",
   "execution_count": 105,
   "id": "8f520997",
   "metadata": {},
   "outputs": [
    {
     "name": "stdout",
     "output_type": "stream",
     "text": [
      "Los logits\n",
      "tensor([[ 0.7376,  1.9459, -0.6995],\n",
      "        [-1.3023, -0.5133, -0.2696],\n",
      "        [ 0.2462,  0.4839,  0.4504],\n",
      "        [-0.9568,  1.5012, -0.3136],\n",
      "        [-0.2343, -1.0713,  0.1648]])\n",
      "----------\n"
     ]
    },
    {
     "data": {
      "text/plain": [
       "tensor([[-1.5229, -0.3146, -2.9600],\n",
       "        [-1.7934, -1.0044, -0.7607],\n",
       "        [-1.2513, -1.0136, -1.0471],\n",
       "        [-2.6799, -0.2219, -2.0367],\n",
       "        [-1.0728, -1.9098, -0.6737]])"
      ]
     },
     "execution_count": 105,
     "metadata": {},
     "output_type": "execute_result"
    }
   ],
   "source": [
    "torch.manual_seed(11)\n",
    "dummy_logits = torch.randn((5, 3))\n",
    "dummy_labels = torch.tensor([0, 0, 1, 2, 1])\n",
    "dummy_log_probs = F.log_softmax(dummy_logits, dim=-1)\n",
    "\n",
    "print(\"Los logits\")\n",
    "print(dummy_logits)\n",
    "print(\"----------\")\n",
    "dummy_log_probs"
   ]
  },
  {
   "cell_type": "markdown",
   "id": "a50961e1",
   "metadata": {},
   "source": [
    "Como las clases observadas son [0,0,1,2,1], al aplicar la fórmula de la función de pérdida, se elegira en la primera fila el valor -1.5229, en la segunda -1.7934, en la tercera -1.0136 (al de la clase 1) y así sucesivamente.\n",
    "\n",
    "Es decir de una forma manual se puede calcular el valor de la función de pérdida:"
   ]
  },
  {
   "cell_type": "code",
   "execution_count": 106,
   "id": "954c60b3",
   "metadata": {},
   "outputs": [
    {
     "data": {
      "text/plain": [
       "tensor(1.6553)"
      ]
     },
     "execution_count": 106,
     "metadata": {},
     "output_type": "execute_result"
    }
   ],
   "source": [
    "relevant_log_probs = torch.tensor([-1.5229, -1.7934, -1.0136, -2.0367, -1.9098])\n",
    "-relevant_log_probs.mean()"
   ]
  },
  {
   "cell_type": "markdown",
   "id": "1794f2f0",
   "metadata": {},
   "source": [
    "Ahora vamos a utilizar *nn.NLLLoss* para crear la función de pérdida que nos ofrece PyTorch, y luego utilizar las predicciones y etiquetas para comprobar si tenemos las logprobabilidades relevantes elegidas anteriormente correctas:"
   ]
  },
  {
   "cell_type": "code",
   "execution_count": 107,
   "id": "79d35832",
   "metadata": {},
   "outputs": [
    {
     "data": {
      "text/plain": [
       "tensor(1.6553)"
      ]
     },
     "execution_count": 107,
     "metadata": {},
     "output_type": "execute_result"
    }
   ],
   "source": [
    "loss_fn = nn.NLLLoss()\n",
    "loss_fn(dummy_log_probs, dummy_labels)"
   ]
  },
  {
   "cell_type": "markdown",
   "id": "720a86f7",
   "metadata": {},
   "source": [
    "Como vemos hemos obtenido el mismo valor. ¿Y si queremos equilibrar nuestro conjunto de datos, dando a los puntos  de datos con etiqueta (y=2) el doble de peso que a las otras clases?. Lo haremos de la siguiente forma"
   ]
  },
  {
   "cell_type": "code",
   "execution_count": 108,
   "id": "db790c8b",
   "metadata": {},
   "outputs": [
    {
     "data": {
      "text/plain": [
       "tensor(1.7188)"
      ]
     },
     "execution_count": 108,
     "metadata": {},
     "output_type": "execute_result"
    }
   ],
   "source": [
    "loss_fn = nn.NLLLoss(weight=torch.tensor([1., 1., 2.]))\n",
    "loss_fn(dummy_log_probs, dummy_labels)"
   ]
  },
  {
   "cell_type": "markdown",
   "id": "2d6ea751",
   "metadata": {},
   "source": [
    "¿Y si simplemente queremos ignorar los puntos de datos con la etiqueta (y=2)?"
   ]
  },
  {
   "cell_type": "code",
   "execution_count": 109,
   "id": "4d2471fb",
   "metadata": {},
   "outputs": [
    {
     "data": {
      "text/plain": [
       "tensor(1.5599)"
      ]
     },
     "execution_count": 109,
     "metadata": {},
     "output_type": "execute_result"
    }
   ],
   "source": [
    "loss_fn = nn.NLLLoss(ignore_index=2)\n",
    "loss_fn(dummy_log_probs, dummy_labels)"
   ]
  },
  {
   "cell_type": "markdown",
   "id": "1ab760bb",
   "metadata": {},
   "source": [
    "Y, una vez más, hay otra función de pérdida disponible para clasificación multiclase. Y, una vez más, es muy importante saber cuándo usar una u otra, para no acabar con una combinación inconsistente de modelo y función de pérdida.\n",
    "\n",
    "### Función de pérdida: Cross-Entropy \n",
    "\n",
    "```{index} Cross-Entropy \n",
    "```\n",
    "\n",
    "La función de pérdida del apartado anterior tomaba como argumento las probabilidades logarítmicas (junto con las etiquetas, obviamente). Sin embargo esta función tarabaja con los Logits. Es la versión multiclase de *nn.BCEConLogitsPérdida*, ya vista en un tema anterior.\n",
    "\n",
    "En términos prácticos, esto significa que **NO** debe añadir un *logsoftmax* como la última capa de su modelo cuando utilice esta función de pérdida. Esta función de pérdida combina la capa logsoftmax y la anterior pérdida de log-verosimilitud negativa en una sola.\n",
    "\n",
    "Por lo tanto en la clasificación multiclase se tienen las dos alternativas siguientes:\n",
    "\n",
    "1.- Se tiene *nn.LogSoftmax* como última capa, lo que significa que su modelo está produciendo logprobabilidades,\n",
    "se debe combinar con la función nn.NLLLoss\n",
    "\n",
    "2.- No se coloca logsoftmax en la última capa, lo que significa que su modelo está produciendo logits, y por lo tanto se debe combinar con la función nn.CrossEntropyLoss.\n",
    "\n",
    "La función de pérdida *nn.CrossEntropyLoss* toma los mismos argumentos que nn.NLLLoss:\n",
    "\n",
    "* *reduction*. Toma media como posibles valores: sum, mean o none. El valor por defecto, mean, corresponde a la ecuación  anterior. Como era de esperar, sum devuelve la suma de los errores, en lugar de la media. La última opción  none, corresponde a la forma no reducida, es decir, que devuelve la matriz completa de errores.\n",
    "\n",
    "* *weight*. Toma un tensor de longitud C, es decir, que contiene tantos pesos como clases.\n",
    "\n",
    "* *ignore_index*: toma un entero, correspondiente al único índice de clase que debe ignorarse al calcular la función de pérdida. Puede utilizarse para enmascarar una etiqueta concreta que no es relevante para la tarea de clasificación.\n",
    "\n",
    "Veamos un ejemplo de su uso utilizando los datos que se ha generado para la función nn.NLLLoss"
   ]
  },
  {
   "cell_type": "code",
   "execution_count": 110,
   "id": "2aaf329b",
   "metadata": {},
   "outputs": [
    {
     "data": {
      "text/plain": [
       "tensor(1.6553)"
      ]
     },
     "execution_count": 110,
     "metadata": {},
     "output_type": "execute_result"
    }
   ],
   "source": [
    "torch.manual_seed(11)\n",
    "dummy_logits = torch.randn((5, 3))\n",
    "dummy_labels = torch.tensor([0, 0, 1, 2, 1])\n",
    "loss_fn = nn.CrossEntropyLoss()\n",
    "loss_fn(dummy_logits, dummy_labels)"
   ]
  },
  {
   "cell_type": "markdown",
   "id": "8c6d86db",
   "metadata": {},
   "source": [
    "Como es de esperar obtenemos el mismo resultado que con nn.NLLLoss.\n",
    "\n",
    "Para intentar y aclarar todos estos procesos, a continuación se muestra una tabla que pretende resumir y aclarar el procedimiento a utilizar en cada caso.\n",
    "\n",
    "![cuadro utilidad](figuras/tabla1.PNG)\n",
    "\n",
    "## Configuración del modelo\n",
    "\n",
    "Vamos a construir nuestra primera red neuronal convolucional de verdad. Podemos utilizar el típico bloque convolucional: capa convolucional, función de activación, capa de agrupamiento o pooling. Nuestras imágenes son bastante pequeñas, así que\n",
    "sólo necesitamos uno de ellos.\n",
    "\n",
    "Todavía tenemos que decidir cuántos canales de nuestra capa convolucional va a producir. En general, el número de canales aumenta con cada bloque convolucional. Por simplicidad (y posterior visualización), vamos a mantener un solo canal.\n",
    "\n",
    "También tenemos que decidir el tamaño del núcleo (el campo receptivo o las regiones grises en las figuras al principio de este capítulo).. Sigamos con un tamaño de núcleo de tres, lo que reducirá el tamaño de la imagen en dos píxeles en cada dimensión (aquí no utilizamos relleno).\n",
    "\n",
    "El código sería el siguiente"
   ]
  },
  {
   "cell_type": "code",
   "execution_count": 111,
   "id": "99c8fffc",
   "metadata": {},
   "outputs": [],
   "source": [
    "torch.manual_seed(13)\n",
    "model_cnn1 = nn.Sequential()\n",
    "\n",
    "# Featurizer\n",
    "# Block 1: 1@10x10 -> n_channels@8x8 -> n_channels@4x4\n",
    "n_channels = 1\n",
    "model_cnn1.add_module('conv1', nn.Conv2d(in_channels=1, out_channels=n_channels, kernel_size=3))\n",
    "model_cnn1.add_module('relu1', nn.ReLU())\n",
    "model_cnn1.add_module('maxp1', nn.MaxPool2d(kernel_size=2))\n",
    "# Flattening: n_channels * 4 * 4\n",
    "model_cnn1.add_module('flatten', nn.Flatten())"
   ]
  },
  {
   "cell_type": "markdown",
   "id": "68fd505b",
   "metadata": {},
   "source": [
    "Se ha puesto el número de canales como una variable, con la finalidad de que se puedan probar diferentes valores si así se desea.\n",
    "\n",
    "Veamos lo que ocurre con una imagen de entrada (monocanal, 10x10 píxeles - 1@10x10):\n",
    "\n",
    "* La imagen se convoluciona con el núcleo y la imagen resultante tiene un canal, y su tamaño es de 8x8 píxeles (1@8x8).\n",
    "\n",
    "* Se aplica una función de activación ReLU a la imagen resultante.\n",
    "\n",
    "* La imagen \"activada\" (es decir salida de la función de activación) se somete a una operación de max-pooling con un\n",
    "tamaño de núcleo de dos, por lo que se divide en 16 trozos de tamaño dos por dos, lo que da como resultado una imagen con un canal, pero de 4x4 píxeles de tamaño (1@4x4)\n",
    "\n",
    "* estos 16 valores pueden considerarse features, y se aplanan en un tensor de 16 elementos\n",
    "\n",
    "La siguiente parte de nuestro modelo, el clasificador, utiliza estas características para alimentar lo que sería una simple red neuronal con una sola capa oculta si se considerara por sí sola:"
   ]
  },
  {
   "cell_type": "code",
   "execution_count": 112,
   "id": "19a03de6",
   "metadata": {},
   "outputs": [],
   "source": [
    "# Classification\n",
    "# Hidden Layer\n",
    "model_cnn1.add_module('fc1', nn.Linear(in_features=n_channels*4*4, out_features=10))\n",
    "model_cnn1.add_module('relu2', nn.ReLU())\n",
    "# Output Layer\n",
    "model_cnn1.add_module('fc2', nn.Linear(in_features=10, out_features=3))"
   ]
  },
  {
   "cell_type": "markdown",
   "id": "7733bd9a",
   "metadata": {},
   "source": [
    "Hay una capa oculta que toma las 16 características como entradas y las mapea en un espacio de 10 dimensiones que va a ser\n",
    "\"activado\" por el ReLU.\n",
    "\n",
    "A continuación, la capa de salida produce tres combinaciones lineales distintas de diez valores de activación.Cada combinación corresponde a una clase diferente. La figura siguiente, representa la la segunda mitad del modelo:\n",
    "\n",
    "![Segunda parte del modelo](figuras/ModeloLineal.PNG)\n",
    "\n"
   ]
  },
  {
   "cell_type": "markdown",
   "id": "7638fbed",
   "metadata": {},
   "source": [
    "Debemos tener presente que al producir nuestro modelo como resultado final logits entonces debemos utilizar la función de pérdida  nn.CrossEntropyLoss.  "
   ]
  },
  {
   "cell_type": "code",
   "execution_count": 113,
   "id": "15fe15aa",
   "metadata": {},
   "outputs": [],
   "source": [
    "lr=0.1\n",
    "# definición de la función de pérdida\n",
    "multi_loss_fn = nn.CrossEntropyLoss(reduction='mean')\n",
    "\n",
    "# Implementamos el optimizador\n",
    "optimizer_cnn1 = optim.SGD(model_cnn1.parameters(), lr=lr)"
   ]
  },
  {
   "cell_type": "markdown",
   "id": "180b4dff",
   "metadata": {},
   "source": [
    "Con todo esto ya podemos entrenar el modelo"
   ]
  },
  {
   "cell_type": "code",
   "execution_count": 114,
   "id": "299d7a45",
   "metadata": {},
   "outputs": [],
   "source": [
    "sbs_cnn1 = StepByStep(model_cnn1, multi_loss_fn, optimizer_cnn1)\n",
    "sbs_cnn1.set_loaders(train_loader, val_loader)"
   ]
  },
  {
   "cell_type": "markdown",
   "id": "c8852284",
   "metadata": {},
   "source": [
    "Lo entrenamos con 20 epochs y visualizamos las funciones de pérdida"
   ]
  },
  {
   "cell_type": "code",
   "execution_count": 115,
   "id": "dcee1bce",
   "metadata": {},
   "outputs": [],
   "source": [
    "sbs_cnn1.train(20)"
   ]
  },
  {
   "cell_type": "code",
   "execution_count": 116,
   "id": "706c1afd",
   "metadata": {},
   "outputs": [
    {
     "data": {
      "image/png": "[encoded data removed]",
      "text/plain": [
       "<Figure size 1000x400 with 1 Axes>"
      ]
     },
     "metadata": {},
     "output_type": "display_data"
    }
   ],
   "source": [
    "fig = sbs_cnn1.plot_losses()"
   ]
  },
  {
   "cell_type": "markdown",
   "id": "b08ee86d",
   "metadata": {},
   "source": [
    "## Visualizando los filtros\n",
    "\n",
    "En el capítulo 4 hablamos brevemente de la visualización de pesos como píxeles. Vamos a profundizar en la visualización de filtros (pesos), así como las imágenes transformadas producidas por cada una de nuestras capas de nuestro modelo. \n",
    "\n",
    "En primer lugar añadimos un nuevo método a nuestra clase StepByStep."
   ]
  },
  {
   "cell_type": "code",
   "execution_count": 117,
   "id": "c26e369b",
   "metadata": {},
   "outputs": [],
   "source": [
    "@staticmethod\n",
    "def _visualize_tensors(axs, x, y=None, yhat=None, \n",
    "                       layer_name='', title=None):\n",
    "    # The number of images is the number of subplots in a row\n",
    "    n_images = len(axs)\n",
    "    # Gets max and min values for scaling the grayscale\n",
    "    minv, maxv = np.min(x[:n_images]), np.max(x[:n_images])\n",
    "    # For each image\n",
    "    for j, image in enumerate(x[:n_images]):\n",
    "        ax = axs[j]\n",
    "        # Sets title, labels, and removes ticks\n",
    "        if title is not None:\n",
    "            ax.set_title(f'{title} #{j}', fontsize=12)\n",
    "        shp = np.atleast_2d(image).shape\n",
    "        ax.set_ylabel(\n",
    "            f'{layer_name}\\n{shp[0]}x{shp[1]}',\n",
    "            rotation=0, labelpad=40\n",
    "        )\n",
    "        xlabel1 = '' if y is None else f'\\nLabel: {y[j]}'\n",
    "        xlabel2 = '' if yhat is None else f'\\nPredicted: {yhat[j]}'\n",
    "        xlabel = f'{xlabel1}{xlabel2}'\n",
    "        if len(xlabel):\n",
    "            ax.set_xlabel(xlabel, fontsize=12)\n",
    "        ax.set_xticks([])\n",
    "        ax.set_yticks([])\n",
    "\n",
    "        # Plots weight as an image\n",
    "        ax.imshow(\n",
    "            np.atleast_2d(image.squeeze()),\n",
    "            cmap='gray', \n",
    "            vmin=minv, \n",
    "            vmax=maxv\n",
    "        )\n",
    "    return\n",
    "\n",
    "setattr(StepByStep, '_visualize_tensors', _visualize_tensors)"
   ]
  },
  {
   "cell_type": "markdown",
   "id": "055c2c9a",
   "metadata": {},
   "source": [
    "La mayor parte del cuerpo de la función es el manejo de los títulos, etiquetas, y los ticks de los ejes\n",
    "antes de usar imshow para trazar la imagen, así que no es tan interesante.Explicamos sus argumentos:\n",
    "\n",
    "* *axs*: una matriz de subplots, correspondiente a una fila de subplots tal y como lo devuelve el subplot de Matplotlib.\n",
    "\n",
    "* *x*: una matriz de tio Numpy array  que contenga al menos tantas imágenes/filtros como subplots en *axs*.\n",
    "\n",
    "* *y*: argumento opcional, es un numpy array  que contiene al menos tantas etiquetas como subplots en *axs*.\n",
    "\n",
    "* *yhat*. argumento opcional, es un numpy array que contiene al menos tantas etiquetas predichas como subplots en *axs*.\n",
    "\n",
    "* *layer_name*.: etiqueta para la fila de subplots.\n",
    "\n",
    "* *title*: Prefijo del título para cada subplot\n",
    "\n",
    "Observemos que el método anterior tiene el decorador *@staticmethod*, lo que indica que <a href=\"https://ellibrodepython.com/metodos-estaticos-clase-python\"  target=\"_blank\"> es un método estático </a>, y como tal no tiene un argumento self.  El funcionamiento interno de la función debe ser independiente de la instancia de la clase a la que pertenece. El método estático puede ejecutarse desde la propia clase en lugar de desde una de sus instancias. Esto lo vemos en el siguiente ejemplo"
   ]
  },
  {
   "cell_type": "code",
   "execution_count": 118,
   "id": "6bb38308",
   "metadata": {},
   "outputs": [],
   "source": [
    "class Cat(object):\n",
    "    def __init__(self, name):\n",
    "        self.name = name\n",
    "\n",
    "    @staticmethod\n",
    "    def meow():\n",
    "        print('Meow')"
   ]
  },
  {
   "cell_type": "code",
   "execution_count": 119,
   "id": "dc628a82",
   "metadata": {},
   "outputs": [
    {
     "name": "stdout",
     "output_type": "stream",
     "text": [
      "Meow\n"
     ]
    }
   ],
   "source": [
    "Cat.meow()"
   ]
  },
  {
   "cell_type": "markdown",
   "id": "3d88aba3",
   "metadata": {},
   "source": [
    "## Visualizando filtros.\n",
    "\n",
    "Podríamos aplicar el mismo principio a los pesos del filtro aprendido por nuestra capa convolucional. Podemos acceder a los pesos de cualquier capa utilizando la notación de puntos:"
   ]
  },
  {
   "cell_type": "code",
   "execution_count": 120,
   "id": "7f8e19d5",
   "metadata": {},
   "outputs": [
    {
     "data": {
      "text/plain": [
       "(1, 1, 3, 3)"
      ]
     },
     "execution_count": 120,
     "metadata": {},
     "output_type": "execute_result"
    }
   ],
   "source": [
    "weights_filter = model_cnn1.conv1.weight.data.cpu().numpy()\n",
    "weights_filter.shape"
   ]
  },
  {
   "cell_type": "markdown",
   "id": "a375f44b",
   "metadata": {},
   "source": [
    "Las dimensiones (shape) de los pesos (que representan los filtros) de una capa bidimensional viene dada por (canales_salida, in_channels, kernel_size, kernel_size). En nuestro caso, el tamaño del kernel es tres, y tenemos un único canal, tanto de entrada como de salida, por lo que la shape de los pesos es (1, 1, 3, 3).\n",
    "\n",
    "Y aquí es cuando el método estático que desarrollamos en la sección anterior entra en escena: podemos recorrer en bucle los filtros (canales de de salida) que el modelo aprendió para convolucionar cada uno de los de entrada.\n",
    "\n"
   ]
  },
  {
   "cell_type": "code",
   "execution_count": 121,
   "id": "2fd0593c",
   "metadata": {},
   "outputs": [],
   "source": [
    "def visualize_filters(self, layer_name, **kwargs):\n",
    "    try:\n",
    "        # Gets the layer object from the model\n",
    "        layer = self.model\n",
    "        for name in layer_name.split('.'):\n",
    "            layer = getattr(layer, name)\n",
    "        # We are only looking at filters for 2D convolutions\n",
    "        if isinstance(layer, nn.Conv2d):\n",
    "            # Takes the weight information\n",
    "            weights = layer.weight.data.cpu().numpy()\n",
    "            # weights -> (channels_out (filter), channels_in, H, W)\n",
    "            n_filters, n_channels, _, _ = weights.shape\n",
    "\n",
    "            # Builds a figure\n",
    "            size = (2 * n_channels + 2, 2 * n_filters)\n",
    "            fig, axes = plt.subplots(n_filters, n_channels, \n",
    "                                     figsize=size)\n",
    "            axes = np.atleast_2d(axes)\n",
    "            axes = axes.reshape(n_filters, n_channels)\n",
    "            # For each channel_out (filter)\n",
    "            for i in range(n_filters):    \n",
    "                StepByStep._visualize_tensors(\n",
    "                    axes[i, :],\n",
    "                    weights[i],\n",
    "                    layer_name=f'Filter #{i}', \n",
    "                    title='Channel'\n",
    "                )\n",
    "                    \n",
    "            for ax in axes.flat:\n",
    "                ax.label_outer()\n",
    "\n",
    "            fig.tight_layout()\n",
    "            return fig\n",
    "    except AttributeError:\n",
    "        return\n",
    "    \n",
    "setattr(StepByStep, 'visualize_filters', visualize_filters)"
   ]
  },
  {
   "cell_type": "markdown",
   "id": "92d378cb",
   "metadata": {},
   "source": [
    "Bien con todo lo anterior, podremos ver cómo queda el filtro:"
   ]
  },
  {
   "cell_type": "code",
   "execution_count": 122,
   "id": "09bb31dc",
   "metadata": {},
   "outputs": [
    {
     "data": {
      "image/png": "[encoded data removed]",
      "text/plain": [
       "<Figure size 400x200 with 1 Axes>"
      ]
     },
     "metadata": {},
     "output_type": "display_data"
    }
   ],
   "source": [
    "fig = sbs_cnn1.visualize_filters('conv1', cmap='gray')"
   ]
  },
  {
   "cell_type": "markdown",
   "id": "f05f73c4",
   "metadata": {},
   "source": [
    "Sólo con mirar este filtro, no es fácil comprender lo que está logrando efectivamente. Para comprender realmente el efecto que tiene este filtro en cada imagen, necesitamos visualizar los valores intermedios producidos por nuestro modelo, es decir, la salida de todas y cada una de las capas. \n",
    "\n",
    "Para poder visualizar la salida de cada capa necesitamos poner en escena el concepto de **hooks**.\n",
    "\n",
    "## Hooks\n",
    "\n",
    "```{index} Hooks, register_forward_hook\n",
    "```\n",
    "\n",
    "Un *Hooks* (o gancho ) es simplemente una forma de forzar a un modelo a ejecutar una función ya sea después de su paso hacia adelante (step forward) o hacia atrás (step backward). Por lo tanto, existen ganchos hacia adelante y hacia atrás. Estamos utilizando sólo hacia adelante pero la idea es la misma para ambos.\n",
    "\n",
    "Para ver y entender cómo se crean estas funciones, vamos a montar a continuación una que sirva de ejemplo. Será una función de tipo hook para un step forward."
   ]
  },
  {
   "cell_type": "code",
   "execution_count": 123,
   "id": "94714329",
   "metadata": {},
   "outputs": [],
   "source": [
    "dummy_model = nn.Linear(1, 1)\n",
    "\n",
    "dummy_list = []\n",
    "\n",
    "def dummy_hook(layer, inputs, outputs):\n",
    "    dummy_list.append((layer, inputs, outputs))"
   ]
  },
  {
   "cell_type": "markdown",
   "id": "c069447e",
   "metadata": {},
   "source": [
    "Las funciones de tipo hook (forward) tienen tres argumentos:\n",
    "\n",
    "* Un modelo (layer en la función anterior).\n",
    "\n",
    "* Un tensor representando los inputs que toma el modelo o capa.\n",
    "\n",
    "* Un tensor representando los outputs generados por el modelo o capa.\n",
    "\n",
    "Por lo tanto, cualquier función que tome tres argumentos, independientemente de sus nombres, puede funcionar como gancho o hook. En nuestro caso (y en muchos otros casos también), nos gustaría tener la información que pasa por la función hook. Esa es la misión de la variable *dummy_list* en el fragmento anterior. Nuestra función dummy_hook es de lo más básica: simplemente añade una tupla de sus tres argumentos a la variable dummy_list definida fuera de la función hook.\n",
    "\n",
    "Entonces definiendo la función hook de ese modo, ¿cómo asociarla o engancharla al modelo?. Pues bien, para hacer esto existe el método <a href=\"https://pytorch.org/docs/stable/generated/torch.nn.Module.html#torch.nn.Module.register_forward_hook\" target=\"_blank\"> register_forward_hook </a>, la cual toma como argumento una función de tipo hook y devuelve un **handle**,para que podamos realizar un seguimiento de los hooks conectados a nuestro modelo."
   ]
  },
  {
   "cell_type": "code",
   "execution_count": 124,
   "id": "c21cfb33",
   "metadata": {},
   "outputs": [
    {
     "data": {
      "text/plain": [
       "<torch.utils.hooks.RemovableHandle at 0x1d885404d30>"
      ]
     },
     "execution_count": 124,
     "metadata": {},
     "output_type": "execute_result"
    }
   ],
   "source": [
    "dummy_handle = dummy_model.register_forward_hook(dummy_hook)\n",
    "dummy_handle"
   ]
  },
  {
   "cell_type": "markdown",
   "id": "275618d5",
   "metadata": {},
   "source": [
    "Pongamos esto en funcionamiento"
   ]
  },
  {
   "cell_type": "code",
   "execution_count": 125,
   "id": "f595c5cd",
   "metadata": {},
   "outputs": [
    {
     "data": {
      "text/plain": [
       "tensor([-0.8366], grad_fn=<AddBackward0>)"
      ]
     },
     "execution_count": 125,
     "metadata": {},
     "output_type": "execute_result"
    }
   ],
   "source": [
    "# generamos un tensor\n",
    "dummy_x = torch.tensor([0.3])\n",
    "# damos un paso hacia adelante\n",
    "dummy_model.forward(dummy_x)"
   ]
  },
  {
   "cell_type": "markdown",
   "id": "0320e929",
   "metadata": {},
   "source": [
    "Esto debería añadir una nueva tupla a la lista ficticia, que contenga una capa lineal, un tensor de entrada (0,3) y un tensor de salida (-0,7514).Por cierto, al ejecutar varias veces este código los valores obtenidos van a ser diferentes a los aquí obtenidos, ya que no nos molestamos en usar una semilla aquí. Veamos pues el contenido de la lista dummy"
   ]
  },
  {
   "cell_type": "code",
   "execution_count": 126,
   "id": "eb886989",
   "metadata": {},
   "outputs": [
    {
     "data": {
      "text/plain": [
       "[]"
      ]
     },
     "execution_count": 126,
     "metadata": {},
     "output_type": "execute_result"
    }
   ],
   "source": [
    "dummy_list"
   ]
  },
  {
   "cell_type": "markdown",
   "id": "9202a6f6",
   "metadata": {},
   "source": [
    "Vemos que nuestra lista está vacía, porque debemos recordar y destacar lo siguiente:\n",
    "\n",
    ":::{note}\n",
    "¡NO se debe llamar al método forward(x)!. Se debe llamar al modelo completo con el comando *model(x)* para realizar un forward pass.\n",
    "\n",
    "De lo contrario, los hooks no funcionarán.\n",
    ":::\n",
    "\n",
    "Hagamos pues esto:"
   ]
  },
  {
   "cell_type": "code",
   "execution_count": 127,
   "id": "b9712443",
   "metadata": {},
   "outputs": [
    {
     "data": {
      "text/plain": [
       "tensor([-0.8366], grad_fn=<AddBackward0>)"
      ]
     },
     "execution_count": 127,
     "metadata": {},
     "output_type": "execute_result"
    }
   ],
   "source": [
    "dummy_model(dummy_x)"
   ]
  },
  {
   "cell_type": "code",
   "execution_count": 128,
   "id": "999d3636",
   "metadata": {},
   "outputs": [
    {
     "data": {
      "text/plain": [
       "[(Linear(in_features=1, out_features=1, bias=True),\n",
       "  (tensor([0.3000]),),\n",
       "  tensor([-0.8366], grad_fn=<AddBackward0>))]"
      ]
     },
     "execution_count": 128,
     "metadata": {},
     "output_type": "execute_result"
    }
   ],
   "source": [
    "dummy_list"
   ]
  },
  {
   "cell_type": "markdown",
   "id": "4f5ff588",
   "metadata": {},
   "source": [
    "¡Ahora sí! Aquí está la tupla que esperábamos. Si vuelves a llamar al modelo una vez más, añadirá otra tupla a la lista,\n",
    "y así sucesivamente. Este gancho va a ser enganchado a nuestro modelo hasta que se elimine explícitamente. Para eliminar un gancho, basta con llamar a su método remove:"
   ]
  },
  {
   "cell_type": "code",
   "execution_count": 129,
   "id": "ec9b7dd8",
   "metadata": {},
   "outputs": [],
   "source": [
    "dummy_handle.remove()"
   ]
  },
  {
   "cell_type": "markdown",
   "id": "6d9dbf3d",
   "metadata": {},
   "source": [
    "Y el gancho se va. Pero no perdimos la información ya que nuestra variable, *dummy_list* estaba definida fuera de la función hook.\n",
    "\n",
    "Fíjate en el primer elemento de la tupla: es una instancia de un modelo (o capa). Incluso si usamos un modelo secuencial y nombramos las capas, los nombres no llegarán a la función hook. Así que tenemos que  hacer la asociación nosotros mismos.\n",
    "\n",
    "```{index} named_modules\n",
    "```\n",
    "\n",
    "Volvamos ahora a nuestro modelo real con el que estábamos trabajando. Podemos obtener una lista de todos sus\n",
    "módulos con nombre utilizando el método apropiado:<a href=\"https://pytorch.org/docs/stable/generated/torch.nn.Module.html#torch.nn.Module.named_modules\" target=\"_blank\"> named_modules </a>:"
   ]
  },
  {
   "cell_type": "code",
   "execution_count": 130,
   "id": "c278afe0",
   "metadata": {},
   "outputs": [
    {
     "data": {
      "text/plain": [
       "[('',\n",
       "  Sequential(\n",
       "    (conv1): Conv2d(1, 1, kernel_size=(3, 3), stride=(1, 1))\n",
       "    (relu1): ReLU()\n",
       "    (maxp1): MaxPool2d(kernel_size=2, stride=2, padding=0, dilation=1, ceil_mode=False)\n",
       "    (flatten): Flatten(start_dim=1, end_dim=-1)\n",
       "    (fc1): Linear(in_features=16, out_features=10, bias=True)\n",
       "    (relu2): ReLU()\n",
       "    (fc2): Linear(in_features=10, out_features=3, bias=True)\n",
       "  )),\n",
       " ('conv1', Conv2d(1, 1, kernel_size=(3, 3), stride=(1, 1))),\n",
       " ('relu1', ReLU()),\n",
       " ('maxp1',\n",
       "  MaxPool2d(kernel_size=2, stride=2, padding=0, dilation=1, ceil_mode=False)),\n",
       " ('flatten', Flatten(start_dim=1, end_dim=-1)),\n",
       " ('fc1', Linear(in_features=16, out_features=10, bias=True)),\n",
       " ('relu2', ReLU()),\n",
       " ('fc2', Linear(in_features=10, out_features=3, bias=True))]"
      ]
     },
     "execution_count": 130,
     "metadata": {},
     "output_type": "execute_result"
    }
   ],
   "source": [
    "modules = list(sbs_cnn1.model.named_modules())\n",
    "modules"
   ]
  },
  {
   "cell_type": "markdown",
   "id": "9d3600a6",
   "metadata": {},
   "source": [
    "El primer módulo, sin nombre, es el modelo completo. Los otros módulos son sus capas. Y esas capas son una de las entradas de la función hook. Por lo tanto, tenemos que ser capaces de buscar el nombre, dada la instancia de la capa correspondiente. Veamos la forma de hacerlo (mediante un diccinario comprehension​ de Python):\n"
   ]
  },
  {
   "cell_type": "code",
   "execution_count": 131,
   "id": "6616f394",
   "metadata": {},
   "outputs": [
    {
     "data": {
      "text/plain": [
       "{Conv2d(1, 1, kernel_size=(3, 3), stride=(1, 1)): 'conv1',\n",
       " ReLU(): 'relu1',\n",
       " MaxPool2d(kernel_size=2, stride=2, padding=0, dilation=1, ceil_mode=False): 'maxp1',\n",
       " Flatten(start_dim=1, end_dim=-1): 'flatten',\n",
       " Linear(in_features=16, out_features=10, bias=True): 'fc1',\n",
       " ReLU(): 'relu2',\n",
       " Linear(in_features=10, out_features=3, bias=True): 'fc2'}"
      ]
     },
     "execution_count": 131,
     "metadata": {},
     "output_type": "execute_result"
    }
   ],
   "source": [
    "layer_names = {layer: name for name, layer in modules[1:]}\n",
    "layer_names"
   ]
  },
  {
   "cell_type": "markdown",
   "id": "3d7997ad",
   "metadata": {},
   "source": [
    "Un diccionario es perfecto para eso: la función hook tomará la capa y buscará su nombre en el diccionario. Entonces con todo esto, vamos a generar nuestra función hook"
   ]
  },
  {
   "cell_type": "code",
   "execution_count": 132,
   "id": "74e0b646",
   "metadata": {},
   "outputs": [],
   "source": [
    "visualization = {}\n",
    "\n",
    "def hook_fn(layer, inputs, outputs):\n",
    "    name = layer_names[layer]\n",
    "    visualization[name] = outputs.detach().cpu().numpy()"
   ]
  },
  {
   "cell_type": "markdown",
   "id": "755abb03",
   "metadata": {},
   "source": [
    "En realidad es bastante sencillo: busca el nombre de la capa y lo utiliza como clave de un diccionario definido fuera de la función hook, que almacenará las salidas producidas por la capa enganchada. Los inputs son ignorados en esta función.\n",
    "\n",
    "Podemos hacer una lista de las capas de las que nos gustaría obtener las salidas, hacer un bucle en modules y para cada nombre y capa del mismo pasarlo a un diccionario denominado handles:\n"
   ]
  },
  {
   "cell_type": "code",
   "execution_count": 133,
   "id": "a3eea617",
   "metadata": {},
   "outputs": [],
   "source": [
    "layers_to_hook = ['conv1', 'relu1', 'maxp1', 'flatten', 'fc1', 'relu2', 'fc2']\n",
    "\n",
    "handles = {}\n",
    "\n",
    "for name, layer in modules:\n",
    "    if name in layers_to_hook:\n",
    "        handles[name] = layer.register_forward_hook(hook_fn)"
   ]
  },
  {
   "cell_type": "markdown",
   "id": "5a761ba0",
   "metadata": {},
   "source": [
    "Ya está todo en su sitio. Lo único que queda por hacer es llamar al modelo, de modo que se active un pase hacia adelante,\n",
    "y las salidas de todas estas capas se almacenan en el diccionario de visualización.\n",
    "\n",
    "Obtengamos un mini lote del cargador de validación y utilicemos el método *predict* de nuestra clase StepByStep (que llamará al modelo modelo entrenado):"
   ]
  },
  {
   "cell_type": "code",
   "execution_count": 137,
   "id": "09ac8fc9",
   "metadata": {},
   "outputs": [
    {
     "ename": "AttributeError",
     "evalue": "'_SingleProcessDataLoaderIter' object has no attribute 'next'",
     "output_type": "error",
     "traceback": [
      "\u001b[1;31m---------------------------------------------------------------------------\u001b[0m",
      "\u001b[1;31mAttributeError\u001b[0m                            Traceback (most recent call last)",
      "Input \u001b[1;32mIn [137]\u001b[0m, in \u001b[0;36m<cell line: 1>\u001b[1;34m()\u001b[0m\n\u001b[1;32m----> 1\u001b[0m images_batch, labels_batch \u001b[38;5;241m=\u001b[39m \u001b[38;5;28;43miter\u001b[39;49m\u001b[43m(\u001b[49m\u001b[43mval_loader\u001b[49m\u001b[43m)\u001b[49m\u001b[38;5;241;43m.\u001b[39;49m\u001b[43mnext\u001b[49m()\n",
      "\u001b[1;31mAttributeError\u001b[0m: '_SingleProcessDataLoaderIter' object has no attribute 'next'"
     ]
    }
   ],
   "source": [
    "images_batch, labels_batch = iter(val_loader).next()\n",
    "#images_batch, labels_batch = enumerate(enumerate(val_loader))\n",
    "#logits = sbs_cnn1.predict(images_batch)"
   ]
  },
  {
   "cell_type": "code",
   "execution_count": 135,
   "id": "b7b013f4",
   "metadata": {},
   "outputs": [
    {
     "data": {
      "text/plain": [
       "<enumerate at 0x1d8853e36c0>"
      ]
     },
     "execution_count": 135,
     "metadata": {},
     "output_type": "execute_result"
    }
   ],
   "source": [
    "enumerate(val_loader)"
   ]
  },
  {
   "cell_type": "code",
   "execution_count": 139,
   "id": "fa903eb8",
   "metadata": {},
   "outputs": [
    {
     "data": {
      "text/plain": [
       "torch.utils.data.dataloader.DataLoader"
      ]
     },
     "execution_count": 139,
     "metadata": {},
     "output_type": "execute_result"
    }
   ],
   "source": [
    "type(val_loader)"
   ]
  },
  {
   "cell_type": "code",
   "execution_count": 138,
   "id": "c566dc54",
   "metadata": {},
   "outputs": [
    {
     "data": {
      "text/plain": [
       "<torch.utils.data.dataloader.DataLoader at 0x1d8872080a0>"
      ]
     },
     "execution_count": 138,
     "metadata": {},
     "output_type": "execute_result"
    }
   ],
   "source": [
    "val_loader"
   ]
  },
  {
   "cell_type": "code",
   "execution_count": 140,
   "id": "c1914e09",
   "metadata": {},
   "outputs": [
    {
     "data": {
      "text/plain": [
       "torch.utils.data.dataloader._SingleProcessDataLoaderIter"
      ]
     },
     "execution_count": 140,
     "metadata": {},
     "output_type": "execute_result"
    }
   ],
   "source": [
    "type(iter(val_loader))"
   ]
  },
  {
   "cell_type": "code",
   "execution_count": 142,
   "id": "d1dd4828",
   "metadata": {},
   "outputs": [],
   "source": [
    "a = iter(val_loader)"
   ]
  },
  {
   "cell_type": "markdown",
   "id": "64b561b8",
   "metadata": {},
   "source": [
    "<!-- Lo dejo en página 539. Pero el error que me da debe ser por la versión de Pytorch que tengo. -->"
   ]
  }
 ],
 "metadata": {
  "kernelspec": {
   "display_name": "Python 3 (ipykernel)",
   "language": "python",
   "name": "python3"
  },
  "language_info": {
   "codemirror_mode": {
    "name": "ipython",
    "version": 3
   },
   "file_extension": ".py",
   "mimetype": "text/x-python",
   "name": "python",
   "nbconvert_exporter": "python",
   "pygments_lexer": "ipython3",
   "version": "3.11.4"
  },
  "toc": {
   "base_numbering": 1,
   "nav_menu": {},
   "number_sections": true,
   "sideBar": true,
   "skip_h1_title": false,
   "title_cell": "Table of Contents",
   "title_sidebar": "Contents",
   "toc_cell": false,
   "toc_position": {},
   "toc_section_display": true,
   "toc_window_display": false
  },
  "varInspector": {
   "cols": {
    "lenName": 16,
    "lenType": 16,
    "lenVar": 40
   },
   "kernels_config": {
    "python": {
     "delete_cmd_postfix": "",
     "delete_cmd_prefix": "del ",
     "library": "var_list.py",
     "varRefreshCmd": "print(var_dic_list())"
    },
    "r": {
     "delete_cmd_postfix": ") ",
     "delete_cmd_prefix": "rm(",
     "library": "var_list.r",
     "varRefreshCmd": "cat(var_dic_list()) "
    }
   },
   "types_to_exclude": [
    "module",
    "function",
    "builtin_function_or_method",
    "instance",
    "_Feature"
   ],
   "window_display": false
  }
 },
 "nbformat": 4,
 "nbformat_minor": 5
}
