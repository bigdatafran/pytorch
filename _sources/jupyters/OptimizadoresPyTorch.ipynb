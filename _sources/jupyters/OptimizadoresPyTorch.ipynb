{
 "cells": [
  {
   "cell_type": "markdown",
   "id": "46ae8ebc",
   "metadata": {},
   "source": [
    "# Introducción a los optimizadores con PyTorch\n",
    "\n",
    "Lo que sigue es un artículo entresacado de <a href=\"https://machinelearningmastery.com/using-optimizers-from-pytorch/?utm_source=drip&utm_medium=email&utm_campaign=Using+optimizers+from+PyTorch&utm_content=Using+optimizers+from+PyTorch\" target=\"_blank\"> este enlace </a>.\n",
    "\n",
    "**NOTA**: De este mismo autor se pueden encontrar los siguientes enlaces:\n",
    "\n",
    "\n",
    "* <a href=\"https://machinelearningmastery.com/training-and-validation-data-in-pytorch/?utm_source=drip&utm_medium=email&utm_campaign=Using+optimizers+from+PyTorch&utm_content=Using+optimizers+from+PyTorch\" target=\"_blank\"> Training and Validation Data in PyTorch </a>\n",
    "\n",
    "* <a href=\"https://machinelearningmastery.com/mini-batch-gradient-descent-and-dataloader-in-pytorch/?utm_source=drip&utm_medium=email&utm_campaign=Using+optimizers+from+PyTorch&utm_content=Using+optimizers+from+PyTorch\" target=\"_blank\"> Mini-Batch Gradient Descent and DataLoader in PyTorch </a>.\n",
    "\n",
    "\n",
    "La optimización es un proceso en el que tratamos de encontrar el mejor conjunto posible de parámetros para un modelo de aprendizaje profundo. Los optimizadores generan nuevos valores de parámetros y los evalúan utilizando algún criterio para determinar la mejor opción. Al ser una parte importante de la arquitectura de la red neuronal, los optimizadores ayudan a determinar los mejores pesos, sesgos u otros hiperparámetros que darán como resultado el resultado deseado.\n",
    "\n",
    "Hay muchos <a href=\"https://pytorch.org/docs/stable/optim.html\" target=\"_blank\"> tipos de optimizadores disponibles en PyTorch </a>, cada uno con sus propias fortalezas y debilidades. Estos incluyen Adagrad, Adam, RMSProp, etc.\n",
    "\n",
    "En este artículo de aprenderá:\n",
    "\n",
    "* Cómo se pueden implementar optimizadores usando algunos paquetes en PyTorch.\n",
    "\n",
    "* Cómo puede importar la clase lineal y la función de pérdida del paquete 'nn' de PyTorch.\n",
    "\n",
    "* Cómo se puede implementar Stochastic Gradient Descent y Adam (el optimizador más utilizado) utilizando el paquete 'optim' en PyTorch.\n",
    "\n",
    "* Cómo puede personalizar los pesos y sesgos del modelo.\n",
    "\n",
    "## Preparación de datos.\n",
    "\n",
    "Comencemos importando las bibliotecas que usaremos en este tutorial."
   ]
  },
  {
   "cell_type": "code",
   "execution_count": 1,
   "id": "555a65de",
   "metadata": {},
   "outputs": [],
   "source": [
    "import matplotlib.pyplot as plt\n",
    "import numpy as np\n",
    "import torch\n",
    "from torch.utils.data import Dataset, DataLoader"
   ]
  },
  {
   "cell_type": "markdown",
   "id": "e256fa11",
   "metadata": {},
   "source": [
    "Usaremos una clase de datos personalizada. Los datos están en una línea con valores con valores entre -5 y 5 pendiente y sesgo -5 y 1 respectivamente. Además, agregaremos el ruido con los mismos valores x y entrenaremos nuestro modelo para estimar esta línea ([ver apartado](dataset))."
   ]
  },
  {
   "cell_type": "code",
   "execution_count": 2,
   "id": "9fc4b924",
   "metadata": {},
   "outputs": [],
   "source": [
    "# Creating our dataset class\n",
    "class Build_Data(Dataset):    \n",
    "    # Constructor\n",
    "    def __init__(self):\n",
    "        self.x = torch.arange(-5, 5, 0.1).view(-1, 1)\n",
    "        # Aquí vemos que pendiente es -5 y sesgo 1\n",
    "        self.func = -5 * self.x + 1\n",
    "        self.y = self.func + 0.4 * torch.randn(self.x.size())\n",
    "        self.len = self.x.shape[0]        \n",
    "    # Getting the data\n",
    "    def __getitem__(self, index):    \n",
    "        return self.x[index], self.y[index]    \n",
    "    # Getting length of the data\n",
    "    def __len__(self):\n",
    "        return self.len"
   ]
  },
  {
   "cell_type": "markdown",
   "id": "49f6b797",
   "metadata": {},
   "source": [
    "Ahora usémoslo para crear nuestro objeto de conjunto de datos y trazar los datos."
   ]
  },
  {
   "cell_type": "code",
   "execution_count": 3,
   "id": "afa7a12d",
   "metadata": {},
   "outputs": [
    {
     "data": {
      "image/png": "[encoded data removed]",
      "text/plain": [
       "<Figure size 640x480 with 1 Axes>"
      ]
     },
     "metadata": {},
     "output_type": "display_data"
    }
   ],
   "source": [
    "# Create dataset object\n",
    "data_set = Build_Data()\n",
    "\n",
    "# Plot and visualizing the data points\n",
    "plt.plot(data_set.x.numpy(), data_set.y.numpy(), 'b+', label = 'y')\n",
    "plt.plot(data_set.x.numpy(), data_set.func.numpy(), 'r', label = 'func')\n",
    "plt.xlabel('x')\n",
    "plt.ylabel('y')\n",
    "plt.legend()\n",
    "plt.grid('True', color='y')\n",
    "plt.show()"
   ]
  },
  {
   "cell_type": "markdown",
   "id": "d5d01f18",
   "metadata": {},
   "source": [
    "## Construcción modelo y función de pérdida\n",
    "\n",
    "PyTorch nos permite hacer precisamente crear el modelo y la función de pérdida con solo unas pocas líneas de código. Así es como importaremos nuestro modelo de regresión lineal integrado y la función  de pérdida con paquete nn de PyTorch"
   ]
  },
  {
   "cell_type": "code",
   "execution_count": 4,
   "id": "7fe739d6",
   "metadata": {},
   "outputs": [],
   "source": [
    "# Creación del modelo\n",
    "model = torch.nn.Linear(1, 1)\n",
    "# Cración función pérdida\n",
    "criterion = torch.nn.MSELoss()"
   ]
  },
  {
   "cell_type": "markdown",
   "id": "5c7b16a8",
   "metadata": {},
   "source": [
    "Los parámetros del modelo se aleatorizan en la creación. Esto lo podemos comprobar con lo siguiente:"
   ]
  },
  {
   "cell_type": "code",
   "execution_count": 5,
   "id": "d10ddac2",
   "metadata": {},
   "outputs": [
    {
     "name": "stdout",
     "output_type": "stream",
     "text": [
      "[Parameter containing:\n",
      "tensor([[0.8050]], requires_grad=True), Parameter containing:\n",
      "tensor([0.2376], requires_grad=True)]\n"
     ]
    }
   ],
   "source": [
    "\n",
    "print(list(model.parameters()))"
   ]
  },
  {
   "cell_type": "markdown",
   "id": "0680b7fa",
   "metadata": {},
   "source": [
    "Si bien PyTorch inicializará aleatoriamente los parámetros del modelo, también podemos personalizarlos para usar los nuestros. Podemos establecer nuestros pesos y sesgos de la siguiente manera. **Tenga en cuenta que rara vez necesitamos hacer esto en la práctica**."
   ]
  },
  {
   "cell_type": "code",
   "execution_count": 6,
   "id": "a38feeb2",
   "metadata": {},
   "outputs": [],
   "source": [
    "model.state_dict()['weight'][0] = -10\n",
    "model.state_dict()['bias'][0] = -20"
   ]
  },
  {
   "cell_type": "code",
   "execution_count": 7,
   "id": "a0926f7c",
   "metadata": {},
   "outputs": [
    {
     "name": "stdout",
     "output_type": "stream",
     "text": [
      "[Parameter containing:\n",
      "tensor([[-10.]], requires_grad=True), Parameter containing:\n",
      "tensor([-20.], requires_grad=True)]\n"
     ]
    }
   ],
   "source": [
    "print(list(model.parameters()))"
   ]
  },
  {
   "cell_type": "markdown",
   "id": "0b3a5cd8",
   "metadata": {},
   "source": [
    "Antes de comenzar el entrenamiento, creemos un objeto *DataLoader* para cargar nuestro conjunto de datos en la canalización."
   ]
  },
  {
   "cell_type": "code",
   "execution_count": 8,
   "id": "0c24d2a7",
   "metadata": {},
   "outputs": [],
   "source": [
    "\n",
    "# Creating Dataloader object\n",
    "trainloader = DataLoader(dataset = data_set, batch_size=1)"
   ]
  },
  {
   "cell_type": "markdown",
   "id": "c3878883",
   "metadata": {},
   "source": [
    "## Entrenamiento modelo\n",
    "\n",
    "Para usar el optimizador de nuestra elección, podemos importar el paquete *optim* desde PyTorch. Incluye varios algoritmos de optimización de parámetros de última generación que se pueden implementar con una sola línea de código. Como ejemplo, el **descenso de gradiente estocástico (SGD)** está disponible de la siguiente manera."
   ]
  },
  {
   "cell_type": "code",
   "execution_count": 9,
   "id": "d9364a4b",
   "metadata": {},
   "outputs": [],
   "source": [
    "# define optimizer\n",
    "optimizer = torch.optim.SGD(model.parameters(), lr=0.01)"
   ]
  },
  {
   "cell_type": "markdown",
   "id": "68632fb6",
   "metadata": {},
   "source": [
    "Como entrada, proporcionamos *model.parameters()* al constructor para indicar qué optimizar. También definimos el tamaño del paso o tasa de aprendizaje ( lr).\n",
    "\n",
    "Para ayudar a visualizar el progreso del optimizador más tarde, creamos una lista vacía para almacenar la pérdida y dejamos que nuestro modelo entrene durante 20 epoch."
   ]
  },
  {
   "cell_type": "code",
   "execution_count": 10,
   "id": "82f370ce",
   "metadata": {},
   "outputs": [],
   "source": [
    "loss_SGD = []\n",
    "n_iter = 20\n",
    "\n",
    "for i in range(n_iter):\n",
    "    for x, y in trainloader:\n",
    "        # making a pridiction in forward pass\n",
    "        y_hat = model(x)\n",
    "        # calculating the loss between original and predicted data points\n",
    "        loss = criterion(y_hat, y)\n",
    "        # store loss into list\n",
    "        loss_SGD.append(loss.item())\n",
    "        # zeroing gradients after each iteration\n",
    "        optimizer.zero_grad()\n",
    "        # backward pass for computing the gradients of the loss w.r.t to learnable parameters\n",
    "        loss.backward()\n",
    "        # updateing the parameters after each iteration\n",
    "        optimizer.step()"
   ]
  },
  {
   "cell_type": "markdown",
   "id": "0863fd33",
   "metadata": {},
   "source": [
    "Arriba, alimentamos las muestras de datos en el modelo para la predicción y calculamos la pérdida. Los gradientes se calculan durante el paso hacia atrás y los parámetros se optimizan. Si bien en sesiones anteriores usamos algunas líneas de código adicionales para actualizar los parámetros y poner a cero los gradientes, las funciones zero_grad()y step()métodos de PyTorch del optimizador hacen que el proceso sea conciso.\n",
    "\n",
    "Puede aumentar el argumento *batch_size* en el DataLoaderobjeto anterior para el descenso de gradiente de mini lotes\n",
    "\n",
    "## Entrenamiento con optimizador Adam\n",
    "\n",
    "Adam es uno de los optimizadores más utilizados para entrenar modelos de aprendizaje profundo. Es rápido y bastante eficiente cuando tienes muchos datos para entrenar. Adam es un optimizador con impulso que puede funcionar mejor que SGD cuando el modelo es complejo, como en la mayoría de los casos de aprendizaje profundo.\n",
    "\n",
    "En PyTorch, reemplazar el optimizador SGD anterior con el optimizador Adam es tan simple como sigue. Si bien todos los demás pasos serían los mismos, solo necesitamos reemplazar el SGD()método con Adam()para implementar el algoritmo."
   ]
  },
  {
   "cell_type": "code",
   "execution_count": 11,
   "id": "aa622350",
   "metadata": {},
   "outputs": [],
   "source": [
    "\n",
    "# define optimizer\n",
    "optimizer = torch.optim.Adam(model.parameters(), lr=0.01)"
   ]
  },
  {
   "cell_type": "markdown",
   "id": "603db7e5",
   "metadata": {},
   "source": [
    "Del mismo modo, definiremos el número de iteraciones y una lista vacía para almacenar la pérdida del modelo. Entonces podemos ejecutar nuestro entrenamiento."
   ]
  },
  {
   "cell_type": "code",
   "execution_count": 12,
   "id": "8a334284",
   "metadata": {},
   "outputs": [],
   "source": [
    "...\n",
    "loss_Adam = []\n",
    "n_iter = 20\n",
    "\n",
    "for i in range(n_iter):\n",
    "    for x, y in trainloader:\n",
    "        # making a pridiction in forward pass\n",
    "        y_hat = model(x)\n",
    "        # calculating the loss between original and predicted data points\n",
    "        loss = criterion(y_hat, y)\n",
    "        # store loss into list\n",
    "        loss_Adam.append(loss.item())\n",
    "        # zeroing gradients after each iteration\n",
    "        optimizer.zero_grad()\n",
    "        # backward pass for computing the gradients of the loss w.r.t to learnable parameters\n",
    "        loss.backward()\n",
    "        # updateing the parameters after each iteration\n",
    "        optimizer.step()"
   ]
  },
  {
   "cell_type": "markdown",
   "id": "9543cbdb",
   "metadata": {},
   "source": [
    "Pongamos todo el segundo proceso en un solo block de código"
   ]
  },
  {
   "cell_type": "code",
   "execution_count": 13,
   "id": "d4aaf83c",
   "metadata": {},
   "outputs": [],
   "source": [
    "import matplotlib.pyplot as plt\n",
    "import numpy as np\n",
    "import torch\n",
    "from torch.utils.data import Dataset, DataLoader\n",
    "\n",
    "# Creating our dataset class\n",
    "class Build_Data(Dataset):\n",
    "    # Constructor\n",
    "    def __init__(self):\n",
    "        self.x = torch.arange(-5, 5, 0.1).view(-1, 1)\n",
    "        self.func = -5 * self.x + 1\n",
    "        self.y = self.func + 0.4 * torch.randn(self.x.size())\n",
    "        self.len = self.x.shape[0]        \n",
    "    # Getting the data\n",
    "    def __getitem__(self, index):    \n",
    "        return self.x[index], self.y[index]    \n",
    "    # Getting length of the data\n",
    "    def __len__(self):\n",
    "        return self.len\n",
    "\n",
    "# Create dataset object\n",
    "data_set = Build_Data()\n",
    "\n",
    "model = torch.nn.Linear(1, 1)\n",
    "criterion = torch.nn.MSELoss()\n",
    "\n",
    "# Creating Dataloader object\n",
    "trainloader = DataLoader(dataset = data_set, batch_size=1)\n",
    "\n",
    "# define optimizer\n",
    "optimizer = torch.optim.Adam(model.parameters(), lr=0.01)\n",
    "\n",
    "loss_Adam = []\n",
    "n_iter = 20\n",
    "\n",
    "for i in range(n_iter):\n",
    "    for x, y in trainloader:\n",
    "        # making a pridiction in forward pass\n",
    "        y_hat = model(x)\n",
    "        # calculating the loss between original and predicted data points\n",
    "        loss = criterion(y_hat, y)\n",
    "        # store loss into list\n",
    "        loss_Adam.append(loss.item())\n",
    "        # zeroing gradients after each iteration\n",
    "        optimizer.zero_grad()\n",
    "        # backward pass for computing the gradients of the loss w.r.t to learnable parameters\n",
    "        loss.backward()\n",
    "        # updateing the parameters after each iteration\n",
    "        optimizer.step()"
   ]
  },
  {
   "cell_type": "markdown",
   "id": "c9530ed1",
   "metadata": {},
   "source": [
    "## Gráficos\n",
    "\n",
    "Hemos implementado con éxito los optimizadores SGD y Adam para el entrenamiento de modelos. Visualicemos cómo disminuye la pérdida del modelo en ambos algoritmos durante el proceso de entrenamiento, que se almacenan en las listas loss_SGDy loss_Adam:"
   ]
  },
  {
   "cell_type": "code",
   "execution_count": 14,
   "id": "08dc9479",
   "metadata": {},
   "outputs": [
    {
     "data": {
      "image/png": "[encoded data removed]",
      "text/plain": [
       "<Figure size 640x480 with 1 Axes>"
      ]
     },
     "metadata": {},
     "output_type": "display_data"
    }
   ],
   "source": [
    "\n",
    "plt.plot(loss_SGD,label = \"Stochastic Gradient Descent\")\n",
    "plt.plot(loss_Adam,label = \"Adam Optimizer\")\n",
    "plt.xlabel('epoch')\n",
    "plt.ylabel('Cost/ total loss')\n",
    "plt.legend()\n",
    "plt.show()"
   ]
  },
  {
   "cell_type": "markdown",
   "id": "34088234",
   "metadata": {},
   "source": [
    "Puede ver que SGD converge más rápido que Adam en los ejemplos anteriores. Esto se debe a que estamos entrenando un modelo de regresión lineal, en el que el algoritmo proporcionado por Adam está sobrecargado."
   ]
  },
  {
   "cell_type": "code",
   "execution_count": null,
   "id": "e7810f16",
   "metadata": {},
   "outputs": [],
   "source": []
  }
 ],
 "metadata": {
  "kernelspec": {
   "display_name": "Python 3 (ipykernel)",
   "language": "python",
   "name": "python3"
  },
  "language_info": {
   "codemirror_mode": {
    "name": "ipython",
    "version": 3
   },
   "file_extension": ".py",
   "mimetype": "text/x-python",
   "name": "python",
   "nbconvert_exporter": "python",
   "pygments_lexer": "ipython3",
   "version": "3.11.4"
  },
  "toc": {
   "base_numbering": 1,
   "nav_menu": {},
   "number_sections": true,
   "sideBar": true,
   "skip_h1_title": false,
   "title_cell": "Table of Contents",
   "title_sidebar": "Contents",
   "toc_cell": false,
   "toc_position": {},
   "toc_section_display": true,
   "toc_window_display": false
  },
  "varInspector": {
   "cols": {
    "lenName": 16,
    "lenType": 16,
    "lenVar": 40
   },
   "kernels_config": {
    "python": {
     "delete_cmd_postfix": "",
     "delete_cmd_prefix": "del ",
     "library": "var_list.py",
     "varRefreshCmd": "print(var_dic_list())"
    },
    "r": {
     "delete_cmd_postfix": ") ",
     "delete_cmd_prefix": "rm(",
     "library": "var_list.r",
     "varRefreshCmd": "cat(var_dic_list()) "
    }
   },
   "types_to_exclude": [
    "module",
    "function",
    "builtin_function_or_method",
    "instance",
    "_Feature"
   ],
   "window_display": false
  }
 },
 "nbformat": 4,
 "nbformat_minor": 5
}
