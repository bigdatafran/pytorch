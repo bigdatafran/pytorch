{
 "cells": [
  {
   "cell_type": "markdown",
   "id": "dc442e13",
   "metadata": {},
   "source": [
    "# Introducción NLP con Pytorch\n",
    "\n",
    "En este capítulo vamos a aprender a utilizar PyTorch para el enfoque del Lenguaje Natural (NLP). Pero para ello nos vamos a apoyar en cuatro librerías de Python enfocadas al NLP:\n",
    "\n",
    "* <a href=\"https://www.nltk.org/\" target=\"-blank\"> nltk </a>\n",
    "\n",
    "* <a href=\"https://radimrehurek.com/gensim/\" target=\"_blank\"> gensim </a>\n",
    "\n",
    "* <a href=\"https://github.com/flairNLP/flair\" target=\"_blank\"> flair </a>\n",
    "\n",
    "* <a href=\"https://huggingface.co/docs/datasets/v0.3.0/installation.html\" target=\"_blank\"> HuggingFace</a>\n",
    "\n",
    "Para ello debemos proceeder a descargarlas:"
   ]
  },
  {
   "cell_type": "code",
   "execution_count": 1,
   "id": "30ac2782",
   "metadata": {},
   "outputs": [],
   "source": [
    "#!pip uninstall gensim"
   ]
  },
  {
   "cell_type": "code",
   "execution_count": 2,
   "id": "34904049",
   "metadata": {},
   "outputs": [],
   "source": [
    "#!pip install allennlp==0.9.0"
   ]
  },
  {
   "cell_type": "code",
   "execution_count": 3,
   "id": "5b85473c",
   "metadata": {},
   "outputs": [],
   "source": [
    "#!pip install flair==0.8.0.post1 \n",
    "# uses PyTorch 1.7.1"
   ]
  },
  {
   "cell_type": "code",
   "execution_count": 4,
   "id": "75847d73",
   "metadata": {},
   "outputs": [],
   "source": [
    "# HuggingFace\n",
    "#!pip install transformers==4.5.1"
   ]
  },
  {
   "cell_type": "code",
   "execution_count": 5,
   "id": "16f38540",
   "metadata": {},
   "outputs": [],
   "source": [
    "#!pip install datasets==1.6.0"
   ]
  },
  {
   "cell_type": "code",
   "execution_count": 1,
   "id": "96cc24c1",
   "metadata": {},
   "outputs": [],
   "source": [
    "import os\n",
    "import json\n",
    "import errno\n",
    "import requests\n",
    "import numpy as np\n",
    "from copy import deepcopy\n",
    "from operator import itemgetter\n",
    "import torch\n",
    "import torch.optim as optim\n",
    "import torch.nn as nn\n",
    "import torch.nn.functional as F\n",
    "from torch.utils.data import DataLoader, Dataset, random_split, \\\n",
    "TensorDataset"
   ]
  },
  {
   "cell_type": "code",
   "execution_count": 2,
   "id": "47a6eec8",
   "metadata": {},
   "outputs": [],
   "source": [
    "from data_generation.nlp import ALICE_URL, WIZARD_URL, download_text"
   ]
  },
  {
   "cell_type": "code",
   "execution_count": 8,
   "id": "90fa481a",
   "metadata": {},
   "outputs": [],
   "source": [
    "#from stepbystep.v4 import StepByStep"
   ]
  },
  {
   "cell_type": "code",
   "execution_count": 6,
   "id": "a8cba3fe",
   "metadata": {},
   "outputs": [
    {
     "name": "stdout",
     "output_type": "stream",
     "text": [
      "Unexpected exception formatting exception. Falling back to standard exception\n"
     ]
    },
    {
     "name": "stderr",
     "output_type": "stream",
     "text": [
      "Traceback (most recent call last):\n",
      "  File \"D:\\programas\\Anaconda\\envs\\py39\\lib\\site-packages\\IPython\\core\\interactiveshell.py\", line 3398, in run_code\n",
      "    exec(code_obj, self.user_global_ns, self.user_ns)\n",
      "  File \"C:\\Users\\Francisco\\AppData\\Local\\Temp\\ipykernel_29632\\2013528277.py\", line 4, in <cell line: 4>\n",
      "    import gensim\n",
      "  File \"D:\\programas\\Anaconda\\envs\\py39\\lib\\site-packages\\gensim\\__init__.py\", line 11, in <module>\n",
      "    from gensim import parsing, corpora, matutils, interfaces, models, similarities, utils  # noqa:F401\n",
      "  File \"D:\\programas\\Anaconda\\envs\\py39\\lib\\site-packages\\gensim\\corpora\\__init__.py\", line 6, in <module>\n",
      "    from .indexedcorpus import IndexedCorpus  # noqa:F401 must appear before the other classes\n",
      "  File \"D:\\programas\\Anaconda\\envs\\py39\\lib\\site-packages\\gensim\\corpora\\indexedcorpus.py\", line 14, in <module>\n",
      "    from gensim import interfaces, utils\n",
      "  File \"D:\\programas\\Anaconda\\envs\\py39\\lib\\site-packages\\gensim\\interfaces.py\", line 19, in <module>\n",
      "    from gensim import utils, matutils\n",
      "  File \"D:\\programas\\Anaconda\\envs\\py39\\lib\\site-packages\\gensim\\matutils.py\", line 1031, in <module>\n",
      "    from gensim._matutils import logsumexp, mean_absolute_difference, dirichlet_expectation\n",
      "  File \"stringsource\", line 105, in init gensim._matutils\n",
      "AttributeError: type object 'gensim._matutils.array' has no attribute '__reduce_cython__'\n",
      "\n",
      "During handling of the above exception, another exception occurred:\n",
      "\n",
      "Traceback (most recent call last):\n",
      "  File \"D:\\programas\\Anaconda\\envs\\py39\\lib\\site-packages\\IPython\\core\\interactiveshell.py\", line 1993, in showtraceback\n",
      "    stb = self.InteractiveTB.structured_traceback(\n",
      "  File \"D:\\programas\\Anaconda\\envs\\py39\\lib\\site-packages\\IPython\\core\\ultratb.py\", line 1118, in structured_traceback\n",
      "    return FormattedTB.structured_traceback(\n",
      "  File \"D:\\programas\\Anaconda\\envs\\py39\\lib\\site-packages\\IPython\\core\\ultratb.py\", line 1012, in structured_traceback\n",
      "    return VerboseTB.structured_traceback(\n",
      "  File \"D:\\programas\\Anaconda\\envs\\py39\\lib\\site-packages\\IPython\\core\\ultratb.py\", line 865, in structured_traceback\n",
      "    formatted_exception = self.format_exception_as_a_whole(etype, evalue, etb, number_of_lines_of_context,\n",
      "  File \"D:\\programas\\Anaconda\\envs\\py39\\lib\\site-packages\\IPython\\core\\ultratb.py\", line 818, in format_exception_as_a_whole\n",
      "    frames.append(self.format_record(r))\n",
      "  File \"D:\\programas\\Anaconda\\envs\\py39\\lib\\site-packages\\IPython\\core\\ultratb.py\", line 736, in format_record\n",
      "    result += ''.join(_format_traceback_lines(frame_info.lines, Colors, self.has_colors, lvals))\n",
      "  File \"D:\\programas\\Anaconda\\envs\\py39\\lib\\site-packages\\stack_data\\utils.py\", line 145, in cached_property_wrapper\n",
      "    value = obj.__dict__[self.func.__name__] = self.func(obj)\n",
      "  File \"D:\\programas\\Anaconda\\envs\\py39\\lib\\site-packages\\stack_data\\core.py\", line 699, in lines\n",
      "    pieces = self.included_pieces\n",
      "  File \"D:\\programas\\Anaconda\\envs\\py39\\lib\\site-packages\\stack_data\\utils.py\", line 145, in cached_property_wrapper\n",
      "    value = obj.__dict__[self.func.__name__] = self.func(obj)\n",
      "  File \"D:\\programas\\Anaconda\\envs\\py39\\lib\\site-packages\\stack_data\\core.py\", line 647, in included_pieces\n",
      "    pos = scope_pieces.index(self.executing_piece)\n",
      "  File \"D:\\programas\\Anaconda\\envs\\py39\\lib\\site-packages\\stack_data\\utils.py\", line 145, in cached_property_wrapper\n",
      "    value = obj.__dict__[self.func.__name__] = self.func(obj)\n",
      "  File \"D:\\programas\\Anaconda\\envs\\py39\\lib\\site-packages\\stack_data\\core.py\", line 626, in executing_piece\n",
      "    return only(\n",
      "  File \"D:\\programas\\Anaconda\\envs\\py39\\lib\\site-packages\\executing\\executing.py\", line 164, in only\n",
      "    raise NotOneValueFound('Expected one value, found 0')\n",
      "executing.executing.NotOneValueFound: Expected one value, found 0\n"
     ]
    }
   ],
   "source": [
    "#from seq2seq import *\n",
    "import nltk\n",
    "from nltk.tokenize import sent_tokenize\n",
    "import gensim\n",
    "from gensim import corpora, downloader\n",
    "from gensim.parsing.preprocessing import *\n",
    "from gensim.utils import simple_preprocess\n",
    "from gensim.models import Word2Vec\n",
    "from flair.data import Sentence\n",
    "from flair.embeddings import ELMoEmbeddings, WordEmbeddings, \\\n",
    "TransformerWordEmbeddings, TransformerDocumentEmbeddings\n",
    "from datasets import load_dataset, Split\n",
    "from transformers import (\n",
    "DataCollatorForLanguageModeling,\n",
    "BertModel, BertTokenizer, BertForSequenceClassification,\n",
    "DistilBertModel, DistilBertTokenizer,\n",
    "DistilBertForSequenceClassification,\n",
    "AutoModelForSequenceClassification,\n",
    "AutoModel, AutoTokenizer, AutoModelForCausalLM,\n",
    "Trainer, TrainingArguments, pipeline, TextClassificationPipeline\n",
    ")\n",
    "from transformers.pipelines import SUPPORTED_TASKS"
   ]
  },
  {
   "cell_type": "markdown",
   "id": "86271f5c",
   "metadata": {},
   "source": [
    "\"Down the Yellow Brick Rabbit Hole\"\n",
    "\n",
    "¿De dónde viene la frase de este título? Por un lado, podría se \"en la madriguera del conejo\", se podría pensar en \"Las aventuras de Alicia en el país de las maravillas\".\n",
    "\n",
    "Por otro lado, si fuera \"el camino de baldosas amarillas\", podría ser \"El maravilloso Mago de Oz\". Pero no es ninguna de las dos cosas (¿o ¿o quizá ambas?). ¿Y si, en lugar de intentar adivinarlo nosotros mismos, entrenamos un modelo para clasificar las frases? Al fin y al cabo aprendizaje profundo.\n",
    "\n",
    "Un poco de eso se trata en este tema.\n",
    "\n",
    "El *Procesamiento del Lenguaje Natural (PLN)* consiste en entrenar modelos a partir de datos de texto.El campo es enorme y en este capítulo sólo vamos a ver su superficie. Empezaremos con la pregunta más obvia, \"cómo convertir datos de texto en datos numéricos\", y terminaremos usando un modelo preentrenado - nuestro famoso amigo teleñeco,BERT - para clasificar frases.\n",
    "\n",
    "## Creando un Dataset.\n",
    "\n",
    "Existen muchos conjuntos de datos de libre acceso para la NLP. Los textos suelen estar bien organizados en frases que se pueden fácilmente a un modelo preentrenado como BERT. \n",
    "\n",
    "Pero los textos que encontrarás en el mundo real no están bien organizados en frases. Tienes que organizarlos tú mismo.\n",
    "\n",
    "Así pues, comenzaremos nuestro viaje de PNL siguiendo los pasos de Alicia y Dorothy, de <a href=\"https://ota.bodleian.ox.ac.uk/repository/xmlui/handle/20.500.12024/1476\" target=\"_blank\"> \"Las aventuras de Alicia en el país de las maravillas\" </a> [155] de Lewis Carroll y <a href=\"https://ota.bodleian.ox.ac.uk/repository/xmlui/handle/20.500.12024/1740\" target=\"_blank\">  \"El maravilloso mago de Oz\"</a>[156] de L. Frank Baum.\n",
    "\n",
    "\n",
    ":::{note}\n",
    "Ambos textos están disponibles y muchos más en <a href=\"https://ota.bodleian.ox.ac.uk/repository/xmlui/\" target=\"_blank\"> Oxford Text Archive (OTA) </a>\n",
    ":::\n",
    "\n",
    "Los enlaces directos a ambos textos son <a href=\"https://ota.bodleian.ox.ac.uk/repository/xmlui/bitstream/handle/20.500.12024/1740/wizoz10-1740.txt\" target=\"_blank\"> alice28-1476.txt </a> (lo llamaremos ALICE_URL) y <a href=\"https://ota.bodleian.ox.ac.uk/repository/xmlui/bitstream/handle/20.500.12024/1740/wizoz10-1740.txt\" target=\"_blank\"> wizoz10-1740.txt </a> (lo llamaremos WIZARD_URL). \n",
    "\n",
    "Se puede descargar ambos archivos a una carpeta local utilizando el método de ayuda download_text (incluido en data_generation.nlp) (Ver antes la sentencia *from data_generation.nlp import ALICE_URL, WIZARD_URL, download_text*):"
   ]
  },
  {
   "cell_type": "code",
   "execution_count": 10,
   "id": "c072ea0f",
   "metadata": {},
   "outputs": [],
   "source": [
    "# Crea una carpeta local llamada 'texts' en la misma carpeta\n",
    "# que se tiene este jupyter \n",
    "localfolder = 'texts'\n",
    "download_text(ALICE_URL, localfolder)\n",
    "download_text(WIZARD_URL, localfolder)"
   ]
  },
  {
   "cell_type": "markdown",
   "id": "de6c7119",
   "metadata": {},
   "source": [
    "Si abres estos archivos en un editor de texto, verás que hay mucha información al principio (y algo al final) que se ha  añadido al texto original del libro por razones legales. Tenemos que eliminar estos añadidos a los textos originales:"
   ]
  },
  {
   "cell_type": "code",
   "execution_count": 11,
   "id": "9e7d7afb",
   "metadata": {},
   "outputs": [],
   "source": [
    "fname1 = os.path.join(localfolder, 'alice28-1476.txt')\n",
    "\n",
    "with open(fname1, 'r') as f:\n",
    "    alice = ''.join(f.readlines()[104:3704])\n",
    "\n",
    "fname2 = os.path.join(localfolder, 'wizoz10-1740.txt')\n",
    "with open(fname2, 'r') as f:\n",
    "    wizard = ''.join(f.readlines()[310:5100])"
   ]
  },
  {
   "cell_type": "markdown",
   "id": "bed00ddb",
   "metadata": {},
   "source": [
    "Los textos reales de los libros están contenidos entre las líneas 105 y 3703 (recuerde la indexación basada en ceros de Python) y 309 y 5099, respectivamente. Por otra parte, estamos uniendo todas las líneas en una cadena de texto para cada libro porque vamos a organizar los textos organizar los textos resultantes en frases y, en un libro normal, **hay saltos de línea** en todas las frases.\n",
    "\n",
    "Definitivamente no queremos hacerlo manualmente cada vez, ¿verdad?.Aunque sería más difícil eliminar automáticamente cualquier añadidos al texto original, al menos podemos automatizar la eliminación de las líneas adicionales estableciendo las líneas de inicio y fin reales de cada texto en un archivo de configuración (lines.cfg). Lo hacemos con el siguiente código"
   ]
  },
  {
   "cell_type": "code",
   "execution_count": 12,
   "id": "f723268a",
   "metadata": {},
   "outputs": [],
   "source": [
    "text_cfg = \"\"\"fname,start,end\n",
    "alice28-1476.txt,104,3704\n",
    "wizoz10-1740.txt,310,5100\"\"\"\n",
    "\n",
    "bytes_written = open(\n",
    "    os.path.join(localfolder, 'lines.cfg'), 'w'\n",
    ").write(text_cfg)"
   ]
  },
  {
   "cell_type": "markdown",
   "id": "213dfdc3",
   "metadata": {},
   "source": [
    "POr lo tanto ahora en nuestra carpeta así creada, llamada texts, tenemos los tres ficheros:  alice28-1476.txt, \n",
    "lines.cfg, y wizoz10-1740.txt\n",
    "\n",
    "## Tokenización.\n",
    "\n",
    "```{index} Tokenización\n",
    "```\n",
    "\n",
    "El tipo de pieza  más común en NLP es una palabra. Por tanto, tokenizar un texto suele significar dividirlo en palabras utilizando el espacio en blanco como separador:"
   ]
  },
  {
   "cell_type": "code",
   "execution_count": 13,
   "id": "25ca9787",
   "metadata": {},
   "outputs": [
    {
     "data": {
      "text/plain": [
       "[\"I'm\", 'following', 'the', 'white', 'rabbit']"
      ]
     },
     "execution_count": 13,
     "metadata": {},
     "output_type": "execute_result"
    }
   ],
   "source": [
    "sentence = \"I'm following the white rabbit\"\n",
    "tokens = sentence.split(' ')\n",
    "tokens"
   ]
  },
  {
   "cell_type": "markdown",
   "id": "c3e70e82",
   "metadata": {},
   "source": [
    "En la expresión anterior el problema puede surgir de cómo tratar la expresión *I´m* es decir, las contraciones.Contracciones como esa son bastante comunes, y tal vez usted quiere mantenerlos como tokens individuales. Pero también es posible que se quiera partir en sus dos componentes básicos, \"I\" y \"am\", de modo que la frase anterior tenga seis tokens en lugar de cinco. Por ahora, sólo sólo nos interesa la tokenización de frases, que,, como ya habrá adivinado, consiste en dividir un texto en palabras.\n",
    "\n",
    "A continuación vamos a usar la sentencia *sent_tokenize* del paquete  NLTK para lograrlo en lugar de intentar crear nosotros mismos las reglas de división (NLTK es la biblioteca Natural Language Toolkit y es una de las herramientas más tradicionales para el manejo de tareas NLP):"
   ]
  },
  {
   "cell_type": "code",
   "execution_count": 14,
   "id": "9e837be1",
   "metadata": {},
   "outputs": [
    {
     "name": "stderr",
     "output_type": "stream",
     "text": [
      "[nltk_data] Downloading package punkt to\n",
      "[nltk_data]     C:\\Users\\Francisco/nltk_data...\n",
      "[nltk_data]   Package punkt is already up-to-date!\n"
     ]
    },
    {
     "data": {
      "text/plain": [
       "(1612, 2240)"
      ]
     },
     "execution_count": 14,
     "metadata": {},
     "output_type": "execute_result"
    }
   ],
   "source": [
    "import nltk\n",
    "from nltk.tokenize import sent_tokenize\n",
    "nltk.download('punkt')\n",
    "corpus_alice = sent_tokenize(alice)\n",
    "corpus_wizard = sent_tokenize(wizard)\n",
    "len(corpus_alice), len(corpus_wizard)"
   ]
  },
  {
   "cell_type": "markdown",
   "id": "801458b5",
   "metadata": {},
   "source": [
    "Por lo tanto, el documento \"Alice’s Adventures in Wonderland\" tiene 1612 tokens y el otro 2240 tokens.\n",
    "\n",
    "Un corpus es un conjunto estructurado de documentos. Pero  en esta definición se puede definir un documento como  una frase, un párrafo o incluso un libro entero. En nuestro caso, el documento es una frase, por lo que cada libro es en realidad un conjunto de frases, por lo que cada libro puede considerarse un corpus. El plural de corpus es en realidad corpora , así que tenemos un corpus.\n",
    "\n",
    "Vemos una frase para el primer corpus"
   ]
  },
  {
   "cell_type": "code",
   "execution_count": 15,
   "id": "a2a06d4e",
   "metadata": {},
   "outputs": [
    {
     "data": {
      "text/plain": [
       "'There was nothing so VERY remarkable in that; nor did Alice\\nthink it so VERY much out of the way to hear the Rabbit say to\\nitself, `Oh dear!'"
      ]
     },
     "execution_count": 15,
     "metadata": {},
     "output_type": "execute_result"
    }
   ],
   "source": [
    "corpus_alice[2]"
   ]
  },
  {
   "cell_type": "markdown",
   "id": "2fcf4d0b",
   "metadata": {},
   "source": [
    "Observe que aún incluye los saltos de línea (\\n) del texto original. El tokenizador de frases sólo se encarga de dividir las frases, no de limpiar los saltos de línea. \n",
    "\n",
    "Veamos una sentencia o frase para el segundo corpus:"
   ]
  },
  {
   "cell_type": "code",
   "execution_count": 16,
   "id": "1d83b3c5",
   "metadata": {},
   "outputs": [
    {
     "data": {
      "text/plain": [
       "'\"There\\'s a cyclone coming, Em,\" he called to his wife.'"
      ]
     },
     "execution_count": 16,
     "metadata": {},
     "output_type": "execute_result"
    }
   ],
   "source": [
    "corpus_wizard[30]"
   ]
  },
  {
   "cell_type": "markdown",
   "id": "ce80749b",
   "metadata": {},
   "source": [
    "Observamos que tampoco ha quitado las comillas del texto.\n",
    "\n",
    "Nuestro conjunto de datos será una colección de archivos CSV, un archivo por cada libro.Cada archivo CSV contiene una frase por línea. Para conseguir esto vamos a hacer antes lo siguiente:\n",
    "\n",
    "* Limpiar el carácter de salto de línea.\n",
    "\n",
    "* defina un carácter de cita apropiado para \"envolver\" la frase de forma que las comas(,)  y puntos y comas (;) originales del texto inicial no se no se malinterpreten como caracteres de separación del archivo CSV.\n",
    "\n",
    "* Añadir una segunda columna al archivo CSV (la primera es la propia frase) para identificar la fuente original de la frase, ya que vamos a concatenar y barajar las frases antes de entrenar un modelo con nuestro corpus\n",
    "\n",
    "El carácter de escape \"\\\\\" es una buena opción para citar caracteres porque no está presente en ninguno de los libros (probablemente tendríamos que elegir otra cosa si nuestros libros fueran sobre codificación).\n",
    "\n",
    "La siguiente función se encarga de limpiar, dividir y guardar las frases en un archivo CSV:"
   ]
  },
  {
   "cell_type": "code",
   "execution_count": 17,
   "id": "3ef95a2d",
   "metadata": {},
   "outputs": [],
   "source": [
    "def sentence_tokenize(source, quote_char='\\\\', sep_char=',',\n",
    "                      include_header=True, include_source=True, \n",
    "                      extensions=('txt'), **kwargs):\n",
    "    nltk.download('punkt')\n",
    "    # If source is a folder, goes through all files inside it\n",
    "    # that match the desired extensions ('txt' by default)\n",
    "    if os.path.isdir(source):\n",
    "        filenames = [f for f in os.listdir(source)\n",
    "                     if os.path.isfile(os.path.join(source, f)) and\n",
    "                        os.path.splitext(f)[1][1:] in extensions]\n",
    "    elif isinstance(source, str):\n",
    "        filenames = [source]\n",
    "    \n",
    "    # If there is a configuration file, builds a dictionary with\n",
    "    # the corresponding start and end lines of each text file\n",
    "    config_file = os.path.join(source, 'lines.cfg')\n",
    "    config = {}\n",
    "    if os.path.exists(config_file):\n",
    "        with open(config_file, 'r') as f:\n",
    "            rows = f.readlines()\n",
    "\n",
    "        for r in rows[1:]:\n",
    "            fname, start, end = r.strip().split(',')\n",
    "            config.update({fname: (int(start), int(end))})\n",
    "       \n",
    "    new_fnames = []\n",
    "    # For each file of text\n",
    "    for fname in filenames:\n",
    "        # If there's a start and end line for that file, use it\n",
    "        try:\n",
    "            start, end = config[fname]\n",
    "        except KeyError:\n",
    "            start = None\n",
    "            end = None\n",
    "            \n",
    "        # Opens the file, slices the configures lines (if any)\n",
    "        # cleans line breaks and uses the sentence tokenizer\n",
    "        with open(os.path.join(source, fname), 'r') as f:\n",
    "            contents = (''.join(f.readlines()[slice(start, end, None)])\n",
    "                        .replace('\\n', ' ').replace('\\r', ''))\n",
    "        corpus = sent_tokenize(contents, **kwargs)\n",
    "        \n",
    "        # Builds a CSV file containing tokenized sentences\n",
    "        base = os.path.splitext(fname)[0]\n",
    "        new_fname = f'{base}.sent.csv'\n",
    "        new_fname = os.path.join(source, new_fname)\n",
    "        with open(new_fname, 'w') as f:\n",
    "            # Header of the file\n",
    "            if include_header:\n",
    "                if include_source:\n",
    "                    f.write('sentence,source\\n')\n",
    "                else:\n",
    "                    f.write('sentence\\n')\n",
    "            # Writes one line for each sentence\n",
    "            for sentence in corpus:\n",
    "                if include_source:\n",
    "                    f.write(f'{quote_char}{sentence}{quote_char}{sep_char}{fname}\\n')\n",
    "                else:\n",
    "                    f.write(f'{quote_char}{sentence}{quote_char}\\n')\n",
    "        new_fnames.append(new_fname)\n",
    "        \n",
    "    # Returns list of the newly generated CSV files\n",
    "    return sorted(new_fnames)"
   ]
  },
  {
   "cell_type": "markdown",
   "id": "045ac4c4",
   "metadata": {},
   "source": [
    "Toma una carpeta de origen (o un único archivo) y recorre los archivos con las extensiones correctas (sólo .txt por defecto), eliminando líneas basándose en el archivo lines.cfg (si existe), aplicando a cada archivo el\n",
    "tokenizer a cada archivo, y generando el correspondiente archivo CSV de sentencias utilizando los quote_char y sep_char configurados. También puede incluir_header e include_source en el archivo CSV.\n",
    "\n",
    "Los archivos CSV se denominan como los archivos de texto correspondientes, eliminando la extensión original y añadiendo .sent.csv.  Veámoslo en acción: "
   ]
  },
  {
   "cell_type": "code",
   "execution_count": 18,
   "id": "54105669",
   "metadata": {},
   "outputs": [
    {
     "name": "stderr",
     "output_type": "stream",
     "text": [
      "[nltk_data] Downloading package punkt to\n",
      "[nltk_data]     C:\\Users\\Francisco/nltk_data...\n",
      "[nltk_data]   Package punkt is already up-to-date!\n"
     ]
    },
    {
     "data": {
      "text/plain": [
       "['texts\\\\alice28-1476.sent.csv', 'texts\\\\wizoz10-1740.sent.csv']"
      ]
     },
     "execution_count": 18,
     "metadata": {},
     "output_type": "execute_result"
    }
   ],
   "source": [
    "new_fnames = sentence_tokenize(localfolder)\n",
    "new_fnames"
   ]
  },
  {
   "cell_type": "markdown",
   "id": "7b4e3330",
   "metadata": {},
   "source": [
    "Cada archivo CSV contiene las frases de un libro, y utilizaremos ambos para construir nuestro propio conjunto de datos.\n",
    "\n",
    "## spacy.\n",
    "\n",
    "```{index} Spacy\n",
    "```\n",
    "\n",
    "Por cierto, NLTK no es la única opción para la tokenización de frases: también es posible utilizar el <a href=\"https://spacy.io/api/sentencizer\" target=\"_blank\"> sentenciador </a> de spaCy para esta tarea. El siguiente fragmento muestra un ejemplo de  esto utilizando spaCy:"
   ]
  },
  {
   "cell_type": "code",
   "execution_count": 19,
   "id": "eff97e7a",
   "metadata": {},
   "outputs": [
    {
     "data": {
      "text/plain": [
       "(1615,\n",
       " 'There was nothing so VERY remarkable in that; nor did Alice\\nthink it so VERY much out of the way to hear the Rabbit say to\\nitself, `Oh dear!')"
      ]
     },
     "execution_count": 19,
     "metadata": {},
     "output_type": "execute_result"
    }
   ],
   "source": [
    "# conda install -c conda-forge spacy\n",
    "# python -m spacy download en_core_web_sm\n",
    "import spacy\n",
    "\n",
    "nlp = spacy.blank(\"en\")\n",
    "\n",
    "\n",
    "nlp.add_pipe(\"sentencizer\")\n",
    "sentences = []\n",
    "for doc in nlp.pipe(corpus_alice):\n",
    "    sentences.extend(sent.text for sent in doc.sents)\n",
    "    \n",
    "len(sentences), sentences[2]"
   ]
  },
  {
   "cell_type": "markdown",
   "id": "0af05cd9",
   "metadata": {},
   "source": [
    "Dado que spaCy utiliza un modelo diferente para tokenizar las frases, no es de extrañar que encontrara un número ligeramente diferente de frases en el texto.\n",
    "\n",
    "\n",
    "## HuggingFace's Dataset\n",
    "\n",
    "```{index} HuggingFace's\n",
    "```\n",
    "\n",
    "Utilizaremos <a href=\"https://huggingface.co/docs/datasets/index\" target=\"_blank\"> los conjuntos de datos de HuggingFace </a> en lugar de los normales de PyTorch.\n",
    "\n",
    "El motivo de utilizar esta herramienta es básicamente doble:\n",
    "\n",
    "* En primer lugar, vamos a utilizar los modelos preentrenados de HuggingFace (como BERT)  más adelante, por lo que es lógico optar por su implementación de conjuntos de datos. \n",
    "\n",
    "* En segundo lugar, hay muchos conjuntos de datos disponibles en su biblioteca, por lo que tiene sentido acostumbrarse a manejar datos de texto utilizando su implementación de conjuntos de datos.\n",
    "\n",
    "Aunque estamos utilizando la clase Dataset de HuggingFace para construir nuestro propio conjunto de datos, sólo estamos utilizando una fracción de sus capacidades. Para una visión más detallada de lo que que tiene que ofrecer, asegúrese de revisar su extensa documentación:\n",
    "\n",
    "* <a href=\"https://huggingface.co/docs/datasets/quickstart\" target=\"_blank\"> Quickstart </a>\n",
    "\n",
    "*  <a href=\"https://huggingface.co/docs/datasets/access\" target=\"_blank\">Los conjuntos de datos</a>\n",
    "\n",
    "* <a href=\"https://huggingface.co/docs/datasets/loading\" target=\"_blank\"> Cargando data set </a>\n",
    "\n",
    "* <a href = \"https://huggingface.co/datasets\" target=\"_blank\"> Lista de data set </a>\n",
    "\n",
    "\n",
    "\n",
    "## Cargando datos.\n",
    "\n",
    "Podemos utilizar HF's (a partir de ahora se abreviará  HuggingFace como HF) load_dataset para <a href=\"https://huggingface.co/docs/datasets/loading#from-local-files\" target=\"_blank\"> cargar desde archivos locales </a>:"
   ]
  },
  {
   "cell_type": "code",
   "execution_count": 1,
   "id": "8dbf420f",
   "metadata": {},
   "outputs": [],
   "source": [
    "from datasets import load_dataset, Split"
   ]
  },
  {
   "cell_type": "code",
   "execution_count": 21,
   "id": "5030325f",
   "metadata": {},
   "outputs": [
    {
     "name": "stderr",
     "output_type": "stream",
     "text": [
      "Using custom data configuration default-2fcccdf0f91f287e\n"
     ]
    },
    {
     "name": "stdout",
     "output_type": "stream",
     "text": [
      "Downloading and preparing dataset csv/default (download: Unknown size, generated: Unknown size, post-processed: Unknown size, total: Unknown size) to C:\\Users\\Francisco\\.cache\\huggingface\\datasets\\csv\\default-2fcccdf0f91f287e\\0.0.0\\2dc6629a9ff6b5697d82c25b73731dd440507a69cbce8b425db50b751e8fcfd0...\n"
     ]
    },
    {
     "data": {
      "application/vnd.jupyter.widget-view+json": {
       "model_id": "",
       "version_major": 2,
       "version_minor": 0
      },
      "text/plain": [
       "HBox(children=(FloatProgress(value=1.0, bar_style='info', layout=Layout(width='20px'), max=1.0), HTML(value=''…"
      ]
     },
     "metadata": {},
     "output_type": "display_data"
    },
    {
     "name": "stdout",
     "output_type": "stream",
     "text": [
      "Dataset csv downloaded and prepared to C:\\Users\\Francisco\\.cache\\huggingface\\datasets\\csv\\default-2fcccdf0f91f287e\\0.0.0\\2dc6629a9ff6b5697d82c25b73731dd440507a69cbce8b425db50b751e8fcfd0. Subsequent calls will reuse this data.\n"
     ]
    },
    {
     "name": "stderr",
     "output_type": "stream",
     "text": [
      "D:\\programas\\Anaconda\\envs\\py39\\lib\\site-packages\\datasets\\packaged_modules\\csv\\csv.py:92: FutureWarning: The error_bad_lines argument has been deprecated and will be removed in a future version. Use on_bad_lines in the future.\n",
      "\n",
      "\n",
      "  csv_file_reader = pd.read_csv(\n",
      "D:\\programas\\Anaconda\\envs\\py39\\lib\\site-packages\\datasets\\packaged_modules\\csv\\csv.py:92: FutureWarning: The warn_bad_lines argument has been deprecated and will be removed in a future version. Use on_bad_lines in the future.\n",
      "\n",
      "\n",
      "  csv_file_reader = pd.read_csv(\n",
      "D:\\programas\\Anaconda\\envs\\py39\\lib\\site-packages\\datasets\\packaged_modules\\csv\\csv.py:92: FutureWarning: The error_bad_lines argument has been deprecated and will be removed in a future version. Use on_bad_lines in the future.\n",
      "\n",
      "\n",
      "  csv_file_reader = pd.read_csv(\n",
      "D:\\programas\\Anaconda\\envs\\py39\\lib\\site-packages\\datasets\\packaged_modules\\csv\\csv.py:92: FutureWarning: The warn_bad_lines argument has been deprecated and will be removed in a future version. Use on_bad_lines in the future.\n",
      "\n",
      "\n",
      "  csv_file_reader = pd.read_csv(\n"
     ]
    }
   ],
   "source": [
    "dataset = load_dataset(path='csv',\n",
    "    data_files=new_fnames,\n",
    "    quotechar='\\\\',\n",
    "    split=Split.TRAIN)"
   ]
  },
  {
   "cell_type": "markdown",
   "id": "ddfac8ed",
   "metadata": {},
   "source": [
    "El nombre del primer argumento (path) puede ser un poco engañoso... es en realidad la ruta de acceso al script de procesamiento del conjunto de datos, no los archivos reales.\n",
    "\n",
    "Para cargar archivos CSV, podemos utilizar simplemente csv de HF como en el ejemplo anterior. La lista de archivos reales que contienen el texto (frases, en nuestro caso) en el argumento *data_files*. El argumento split se utiliza para designar la división que representa el conjunto de datos (Split.TRAIN, Split.VALIDATION o Split.TEST).\n",
    "\n",
    "Además, el script CSV ofrece más opciones para controlar el análisis sintáctico y la lectura de los archivos CSV, como *quotechar, delimiter, column_names, skip_rows y quoting*. Para más detalles, <a href=\"https://huggingface.co/docs/datasets/loading#csv-files\" target=\"_blank\"> consulte la documentación sobre la carga de archivos CSV </a>.\n",
    "\n",
    "También es posible cargar datos desde archivos <a herf=\"https://huggingface.co/docs/datasets/loading#from-a-python-dictionary\" target=\"blanK\"> JSON, archivos de texto, diccionarios Python y dataframes Pandas </a>."
   ]
  },
  {
   "cell_type": "code",
   "execution_count": 22,
   "id": "f2626324",
   "metadata": {},
   "outputs": [
    {
     "data": {
      "text/plain": [
       "Dataset({\n",
       "    features: ['sentence', 'source'],\n",
       "    num_rows: 3852\n",
       "})"
      ]
     },
     "execution_count": 22,
     "metadata": {},
     "output_type": "execute_result"
    }
   ],
   "source": [
    "dataset"
   ]
  },
  {
   "cell_type": "markdown",
   "id": "d00fec44",
   "metadata": {},
   "source": [
    "El conjunto de datos tiene muchos atributos, como features, num_columns y shape:"
   ]
  },
  {
   "cell_type": "code",
   "execution_count": 23,
   "id": "1e8b461d",
   "metadata": {},
   "outputs": [
    {
     "data": {
      "text/plain": [
       "({'sentence': Value(dtype='string', id=None),\n",
       "  'source': Value(dtype='string', id=None)},\n",
       " 2,\n",
       " (3852, 2))"
      ]
     },
     "execution_count": 23,
     "metadata": {},
     "output_type": "execute_result"
    }
   ],
   "source": [
    "dataset.features, dataset.num_columns, dataset.shape"
   ]
  },
  {
   "cell_type": "markdown",
   "id": "a896bf4d",
   "metadata": {},
   "source": [
    "Nuestro conjunto de datos tiene dos columnas: sentence y source, y contiene 3.852 frases. \n",
    "Puede indexarse como una lista:"
   ]
  },
  {
   "cell_type": "code",
   "execution_count": 24,
   "id": "78b615c6",
   "metadata": {},
   "outputs": [
    {
     "data": {
      "text/plain": [
       "{'sentence': 'There was nothing so VERY remarkable in that; nor did Alice think it so VERY much out of the way to hear the Rabbit say to itself, `Oh dear!',\n",
       " 'source': 'alice28-1476.txt'}"
      ]
     },
     "execution_count": 24,
     "metadata": {},
     "output_type": "execute_result"
    }
   ],
   "source": [
    "dataset[2]"
   ]
  },
  {
   "cell_type": "markdown",
   "id": "9f549e9e",
   "metadata": {},
   "source": [
    "Esa es la tercera frase en nuestro conjunto de datos, y es de \"Alice's  en el País de las Maravillas\"."
   ]
  },
  {
   "cell_type": "markdown",
   "id": "3c7cf2bb",
   "metadata": {},
   "source": [
    "y sus columnas se pueden obtener como en un diccionario normal\n",
    "\n"
   ]
  },
  {
   "cell_type": "code",
   "execution_count": 25,
   "id": "691f6af3",
   "metadata": {},
   "outputs": [
    {
     "data": {
      "text/plain": [
       "['alice28-1476.txt', 'alice28-1476.txt', 'alice28-1476.txt']"
      ]
     },
     "execution_count": 25,
     "metadata": {},
     "output_type": "execute_result"
    }
   ],
   "source": [
    "dataset['source'][:3]"
   ]
  },
  {
   "cell_type": "markdown",
   "id": "b6ccc76d",
   "metadata": {},
   "source": [
    "El *Dataset* tiene también muchos métodos, como por ejemplo *unique, map, filter, shuffle y train_test_split* y <a href=\"https://huggingface.co/docs/datasets/process\" target=\"_blank\"> muchos más que los puedes ver en este enlace</a>.\n",
    "\n",
    "Pongamos en marcha algunos de estos métodos"
   ]
  },
  {
   "cell_type": "code",
   "execution_count": 26,
   "id": "487aa974",
   "metadata": {},
   "outputs": [
    {
     "data": {
      "text/plain": [
       "['alice28-1476.txt', 'wizoz10-1740.txt']"
      ]
     },
     "execution_count": 26,
     "metadata": {},
     "output_type": "execute_result"
    }
   ],
   "source": [
    "dataset.unique('source')"
   ]
  },
  {
   "cell_type": "markdown",
   "id": "e47d3939",
   "metadata": {},
   "source": [
    "Podemos utilizar el método *map* para crear nuevas columnas utilizando una función que  devuelve un diccionario con la nueva columna como clave:"
   ]
  },
  {
   "cell_type": "code",
   "execution_count": 27,
   "id": "b1ce2f74",
   "metadata": {},
   "outputs": [
    {
     "name": "stderr",
     "output_type": "stream",
     "text": [
      "Parameter 'function'=<function is_alice_label at 0x00000210A18F1940> of the transform datasets.arrow_dataset.Dataset._map_single couldn't be hashed properly, a random hash was used instead. Make sure your transforms and parameters are serializable with pickle or dill for the dataset fingerprinting and caching to work. If you reuse this transform, the caching mechanism will consider it to be different from the previous calls and recompute everything. This warning is only showed once. Subsequent hashing failures won't be showed.\n"
     ]
    },
    {
     "data": {
      "application/vnd.jupyter.widget-view+json": {
       "model_id": "c1e4142ca6c74d9c95646eecbcc89828",
       "version_major": 2,
       "version_minor": 0
      },
      "text/plain": [
       "HBox(children=(FloatProgress(value=0.0, max=3852.0), HTML(value='')))"
      ]
     },
     "metadata": {},
     "output_type": "display_data"
    },
    {
     "name": "stdout",
     "output_type": "stream",
     "text": [
      "\n"
     ]
    }
   ],
   "source": [
    "def is_alice_label(row):\n",
    "    is_alice = int(row['source'] == 'alice28-1476.txt')\n",
    "    return {'labels': is_alice}\n",
    "\n",
    "dataset = dataset.map(is_alice_label)"
   ]
  },
  {
   "cell_type": "markdown",
   "id": "f45f12c6",
   "metadata": {},
   "source": [
    "Cada elemento del conjunto de datos es una fila correspondiente a un diccionario ({'frase': ..., 'fuente': ...}, en nuestro caso), por lo que la función tiene acceso a todas las columnas de una fila determinada. Nuestra función *is_alice_label*\n",
    "comprueba la columna de origen y crea una columna de etiquetas. \n",
    "\n",
    "Si recuperamos la tercera frase de nuestro conjunto de datos una vez más, veremos ya la nueva columna:"
   ]
  },
  {
   "cell_type": "code",
   "execution_count": 28,
   "id": "26dd9eda",
   "metadata": {},
   "outputs": [
    {
     "data": {
      "text/plain": [
       "{'labels': 1,\n",
       " 'sentence': 'There was nothing so VERY remarkable in that; nor did Alice think it so VERY much out of the way to hear the Rabbit say to itself, `Oh dear!',\n",
       " 'source': 'alice28-1476.txt'}"
      ]
     },
     "execution_count": 28,
     "metadata": {},
     "output_type": "execute_result"
    }
   ],
   "source": [
    "dataset[2]"
   ]
  },
  {
   "cell_type": "markdown",
   "id": "06e7f068",
   "metadata": {},
   "source": [
    "Ahora que ya tenemos las etiquetas, podemos barajar el conjunto de datos y dividirlo en conjuntos de entrenamiento y prueba:"
   ]
  },
  {
   "cell_type": "code",
   "execution_count": 29,
   "id": "23104bba",
   "metadata": {},
   "outputs": [
    {
     "data": {
      "text/plain": [
       "DatasetDict({\n",
       "    train: Dataset({\n",
       "        features: ['labels', 'sentence', 'source'],\n",
       "        num_rows: 3081\n",
       "    })\n",
       "    test: Dataset({\n",
       "        features: ['labels', 'sentence', 'source'],\n",
       "        num_rows: 771\n",
       "    })\n",
       "})"
      ]
     },
     "execution_count": 29,
     "metadata": {},
     "output_type": "execute_result"
    }
   ],
   "source": [
    "shuffled_dataset = dataset.shuffle(seed=42)\n",
    "split_dataset = shuffled_dataset.train_test_split(test_size=0.2)\n",
    "split_dataset"
   ]
  },
  {
   "cell_type": "markdown",
   "id": "7881a0a7",
   "metadata": {},
   "source": [
    "Las divisiones son en realidad un diccionario de conjuntos de datos, por lo que es posible que desee recuperar los conjuntos de datos reales:"
   ]
  },
  {
   "cell_type": "code",
   "execution_count": 30,
   "id": "68d5daa9",
   "metadata": {},
   "outputs": [],
   "source": [
    "train_dataset = split_dataset['train']\n",
    "test_dataset = split_dataset['test']"
   ]
  },
  {
   "cell_type": "markdown",
   "id": "49867677",
   "metadata": {},
   "source": [
    "De esta manera ya tenemos elaborados nuestros conjuntos de entrenamientos y test.\n",
    "\n",
    "## Tokenización por palabras.\n",
    "\n",
    "La tokenización ingenua de palabras, como ya hemos visto, simplemente divide una en palabras utilizando el espacio en blanco como separador:\n",
    "\n"
   ]
  },
  {
   "cell_type": "code",
   "execution_count": 31,
   "id": "d1840629",
   "metadata": {},
   "outputs": [
    {
     "data": {
      "text/plain": [
       "[\"I'm\", 'following', 'the', 'white', 'rabbit']"
      ]
     },
     "execution_count": 31,
     "metadata": {},
     "output_type": "execute_result"
    }
   ],
   "source": [
    "sentence = \"I'm following the white rabbit\"\n",
    "tokens = sentence.split(' ')\n",
    "tokens"
   ]
  },
  {
   "cell_type": "markdown",
   "id": "91140468",
   "metadata": {},
   "source": [
    "Pero, como también hemos visto, hay problemas con el enfoque ingenuo (cómo tratar las contracciones, por ejemplo). Intentemos utilizar Gensim, una  biblioteca popular para el modelado de temas, que ofrece algunas herramientas para la tokenización de palabras:"
   ]
  },
  {
   "cell_type": "code",
   "execution_count": 32,
   "id": "36668c9c",
   "metadata": {},
   "outputs": [
    {
     "data": {
      "text/plain": [
       "['follow', 'white', 'rabbit']"
      ]
     },
     "execution_count": 32,
     "metadata": {},
     "output_type": "execute_result"
    }
   ],
   "source": [
    "from gensim.parsing.preprocessing import *\n",
    "preprocess_string(sentence)"
   ]
  },
  {
   "cell_type": "markdown",
   "id": "1348899f",
   "metadata": {},
   "source": [
    "```{index} preprocess_string-gensim\n",
    "```\n",
    "\n",
    "En este caso Gensim aplica muchos filtros para tokenizar por palabra con el <a href=\"https://radimrehurek.com/gensim/parsing/preprocessing.html#gensim.parsing.preprocessing.preprocess_string\" target=\"_blank\"> método preprocess_string </a>.Alguno de estos métodos son los siguientes:\n",
    "\n",
    "* <a href=\"https://radimrehurek.com/gensim/parsing/preprocessing.html#gensim.parsing.preprocessing.strip_tags\" target=\"_blank\"> strip_tags </a>. para eliminar etiquetas HTML.\n",
    "\n",
    "* <a href=\"https://radimrehurek.com/gensim/parsing/preprocessing.html#gensim.parsing.preprocessing.strip_punctuation\" target=\"_blank\">strip_punctuation </a>\n",
    "\n",
    "* <a href=\"https://radimrehurek.com/gensim/parsing/preprocessing.html#gensim.parsing.preprocessing.strip_multiple_whitespaces\" target=\"_blank\"> strip_multiple_whitespaces </a>\n",
    "\n",
    "* <a href=\"https://radimrehurek.com/gensim/parsing/preprocessing.html#gensim.parsing.preprocessing.strip_numeric\" target=\"_blank\">strip_numeric</a>"
   ]
  },
  {
   "cell_type": "markdown",
   "id": "8a9770e8",
   "metadata": {},
   "source": [
    "Los filtros anteriores son bastante sencillos, y se utilizan para eliminar elementos típicos del texto. Pero *preprocess_string* también incluye los siguientes filtros:\n",
    "\n",
    "* strip_short: descarta cualquier palabra de menos de tres caracteres.\n",
    "\n",
    "* remove_stopwords: descarta cualquier palabra que se considere una stopword  (como \"the\", \"but\", \"then\", etc.) \n",
    "\n",
    "* stem_text: modifica las palabras por stemming, es decir, reduciéndolas a una forma base común (de \"following\" a su base\n",
    "\"follow\", por ejemplo)\n",
    "\n",
    "En este caso no eliminaremos las palabras vacías ni realizaremos una depuración. Dado que nuestro objetivo es utilizar el modelo BERT preentrenado de HF, también utilizaremos su correspondiente tokenizador.\n",
    "\n",
    "Por lo tanto, vamos a utilizar sólo los cuatro primeros filtros (y hacer todo en minúsculas):"
   ]
  },
  {
   "cell_type": "code",
   "execution_count": 33,
   "id": "0d8a6db0",
   "metadata": {},
   "outputs": [
    {
     "data": {
      "text/plain": [
       "['i', 'm', 'following', 'the', 'white', 'rabbit']"
      ]
     },
     "execution_count": 33,
     "metadata": {},
     "output_type": "execute_result"
    }
   ],
   "source": [
    "filters = [lambda x: x.lower(),\n",
    "    strip_tags,\n",
    "    strip_punctuation,\n",
    "    strip_multiple_whitespaces, strip_numeric]\n",
    "preprocess_string(sentence, filters=filters)"
   ]
  },
  {
   "cell_type": "markdown",
   "id": "6b968198",
   "metadata": {},
   "source": [
    "Otra opción es utilizar *simple_preprocess* de Gensim, que convierte el texto en una lista de tokens en minúsculas, descartando los tokens que son demasiado cortos (menos de tres caracteres) o demasiado largos (más de quince caracteres):"
   ]
  },
  {
   "cell_type": "code",
   "execution_count": 34,
   "id": "e5d00b69",
   "metadata": {},
   "outputs": [
    {
     "data": {
      "text/plain": [
       "['following', 'the', 'white', 'rabbit']"
      ]
     },
     "execution_count": 34,
     "metadata": {},
     "output_type": "execute_result"
    }
   ],
   "source": [
    "from gensim.utils import simple_preprocess\n",
    "tokens = simple_preprocess(sentence)\n",
    "tokens"
   ]
  },
  {
   "cell_type": "markdown",
   "id": "3e8d2873",
   "metadata": {},
   "source": [
    "NLTK también puede usarse para tokenizar palabras, pero Gensim no se puede utilizar para tokenizar frases. Además, como Gensim tiene muchas otras herramientas interesantes para construir vocabularios modelos bag-of-words (BoW), y modelos Word2Vec (llegaremos a eso pronto), tiene sentido introducirlo lo antes posible.\n",
    "\n",
    "\n",
    "## Incremento de datos de texto\n",
    "\n",
    "Abordemos brevemente el tema del aumento de los datos de texto puesto que en nuestra línea de trabajo, merece la pena conocer algunas posibilidades y técnicas de aumento de datos.\n",
    "\n",
    "La técnica más básica se denomina abandono de palabras (word dropout) y, como probablemente ya habrá adivinado es cambiar de forma aleatoria palabras por otra palabra  o por un token especial.\n",
    "\n",
    "También es posible sustituir palabras por sus sinónimos, de modo que el sentido del texto se preserva. Se puede utilizar <a haref=\"https://wordnet.princeton.edu/\" target=\"_blank\"> WordNet </a>, una base de datos léxica de la lengua inglesa, para buscar sinónimos. Encontrar sinónimos no es tan fácil, y este método se limita a la lengua inglesa.\n",
    "\n",
    "Para sortear las limitaciones del enfoque de los sinónimos, también es posible sustituir palabras por palabras similares, numéricamente hablando. Aún no hemos hablado de *word embedinf*- las representaciones numéricas de las palabras - pero puede ser usado para identificar palabras que tengan un significado similar. Por ahora, basta con decir\n",
    "que hay paquetes que aumentan los datos de texto usando incrustaciones o embedding, como <a href=\"https://github.com/QData/TextAttack\" target=\"_blank\"> TextAttack </a>. Veamos un ejemplo de esto último\n"
   ]
  },
  {
   "cell_type": "code",
   "execution_count": 35,
   "id": "3c8ab4c2",
   "metadata": {},
   "outputs": [],
   "source": [
    "#!pip install textattack"
   ]
  },
  {
   "cell_type": "code",
   "execution_count": 36,
   "id": "eede7f75",
   "metadata": {},
   "outputs": [],
   "source": [
    "#from textattack.augmentation import EmbeddingAugmenter\n",
    "#augmenter = EmbeddingAugmenter()\n",
    "#feynman = 'What I cannot create, I do not understand.'\n",
    "#for i in range(5):\n",
    "#    print(augmenter.augment(feynman))"
   ]
  },
  {
   "cell_type": "markdown",
   "id": "08d6c8ad",
   "metadata": {},
   "source": [
    "## Vocabulario.\n",
    "\n",
    "El vocabulario es una lista de palabras que aparecen en el texto junto a su identificador único.Para obtener nuestro vocabulario lo primero que debemos hacer es tokenizar nuestro conjunto de entrenamiento."
   ]
  },
  {
   "cell_type": "code",
   "execution_count": 37,
   "id": "e06cdf55",
   "metadata": {},
   "outputs": [
    {
     "data": {
      "text/plain": [
       "['and', 'so', 'far', 'as', 'they', 'knew', 'they', 'were', 'quite', 'right']"
      ]
     },
     "execution_count": 37,
     "metadata": {},
     "output_type": "execute_result"
    }
   ],
   "source": [
    "sentences = train_dataset['sentence']\n",
    "tokens = [simple_preprocess(sent) for sent in sentences]\n",
    "tokens[0]"
   ]
  },
  {
   "cell_type": "markdown",
   "id": "c170a4e6",
   "metadata": {},
   "source": [
    "La variable tokens obtenida anteriormente es una lista de listas de palabras, cada lista (interna) contiene todas las palabras (tokens) de una frase. Con estos tokens se puede construir un vocabulario usando Gensim de la siguiente manera: "
   ]
  },
  {
   "cell_type": "code",
   "execution_count": 38,
   "id": "c45b8b66",
   "metadata": {},
   "outputs": [
    {
     "name": "stdout",
     "output_type": "stream",
     "text": [
      "Dictionary<3704 unique tokens: ['and', 'as', 'far', 'knew', 'quite']...>\n"
     ]
    }
   ],
   "source": [
    "from gensim import corpora\n",
    "dictionary = corpora.Dictionary(tokens)\n",
    "print(dictionary)"
   ]
  },
  {
   "cell_type": "markdown",
   "id": "c413ba8a",
   "metadata": {},
   "source": [
    "El diccionario del corpus no es el típico diccionario de Python. Tiene algunos atributos específicos (y útiles):"
   ]
  },
  {
   "cell_type": "code",
   "execution_count": 39,
   "id": "7ea1e97b",
   "metadata": {},
   "outputs": [
    {
     "data": {
      "text/plain": [
       "3081"
      ]
     },
     "execution_count": 39,
     "metadata": {},
     "output_type": "execute_result"
    }
   ],
   "source": [
    "dictionary.num_docs"
   ]
  },
  {
   "cell_type": "markdown",
   "id": "c8c287d5",
   "metadata": {},
   "source": [
    "El atributo *num_docs* nos indica cuántos documentos se han procesado (frases, en nuestro caso), y corresponde a la longitud de la lista (externa) de tokens."
   ]
  },
  {
   "cell_type": "code",
   "execution_count": 40,
   "id": "73a4fa8c",
   "metadata": {},
   "outputs": [
    {
     "data": {
      "text/plain": [
       "50802"
      ]
     },
     "execution_count": 40,
     "metadata": {},
     "output_type": "execute_result"
    }
   ],
   "source": [
    "dictionary.num_pos"
   ]
  },
  {
   "cell_type": "markdown",
   "id": "eb6dd2b8",
   "metadata": {},
   "source": [
    "El atributo *num_pos* nos indica cuántos tokens (palabras) se procesaron en todos los documentos (frases)."
   ]
  },
  {
   "cell_type": "code",
   "execution_count": 41,
   "id": "97ede020",
   "metadata": {},
   "outputs": [
    {
     "data": {
      "text/plain": [
       "[('and', 0), ('as', 1), ('far', 2), ('knew', 3), ('quite', 4)]"
      ]
     },
     "execution_count": 41,
     "metadata": {},
     "output_type": "execute_result"
    }
   ],
   "source": [
    "valores = dictionary.token2id\n",
    "list(valores.items())[:5]"
   ]
  },
  {
   "cell_type": "markdown",
   "id": "6a34dd20",
   "metadata": {},
   "source": [
    "El atributo *token2id* genera un diccionario (Python) que contiene las palabras palabras únicas encontradas en los corpus de texto, y un id único asignado a las palabras encontradas en el texto.\n",
    "\n",
    "La palabras únicas encontradas en el texto se pueden obtener utilizando la propiedad *keys* que es propia de un diccionario de Python."
   ]
  },
  {
   "cell_type": "code",
   "execution_count": 42,
   "id": "4ec324a7",
   "metadata": {},
   "outputs": [
    {
     "data": {
      "text/plain": [
       "['and', 'as', 'far', 'knew', 'quite']"
      ]
     },
     "execution_count": 42,
     "metadata": {},
     "output_type": "execute_result"
    }
   ],
   "source": [
    "vocab = list(dictionary.token2id.keys())\n",
    "vocab[:5]"
   ]
  },
  {
   "cell_type": "markdown",
   "id": "7b48ff27",
   "metadata": {},
   "source": [
    "El atributo *cfs* obtiene la frecuencia de las palabras y nos indica cuántas veces aparece un token determinado en los corpus de texto:\n"
   ]
  },
  {
   "cell_type": "code",
   "execution_count": 43,
   "id": "6501a659",
   "metadata": {},
   "outputs": [
    {
     "data": {
      "text/plain": [
       "[(0, 2024), (6, 362), (2, 29), (1, 473), (7, 443)]"
      ]
     },
     "execution_count": 43,
     "metadata": {},
     "output_type": "execute_result"
    }
   ],
   "source": [
    "list(dictionary.cfs.items())[:5]"
   ]
  },
  {
   "cell_type": "markdown",
   "id": "9352cdf3",
   "metadata": {},
   "source": [
    "El token correspondiente al id cero (\"and\") apareció 2.024 veces en **todas las frases**. Pero, ¿en **cuántos documentos distintos (frases)** apareció? Eso es lo que nos dice el atributo **dfs**, que que significa frecuencia de documentos:"
   ]
  },
  {
   "cell_type": "code",
   "execution_count": 44,
   "id": "59b718b7",
   "metadata": {},
   "outputs": [
    {
     "data": {
      "text/plain": [
       "[(0, 1306), (6, 351), (2, 27), (1, 338), (7, 342)]"
      ]
     },
     "execution_count": 44,
     "metadata": {},
     "output_type": "execute_result"
    }
   ],
   "source": [
    "list(dictionary.dfs.items())[:5]"
   ]
  },
  {
   "cell_type": "markdown",
   "id": "2853f203",
   "metadata": {},
   "source": [
    "De acuerdo con esta salida el token correspondiente al id cero (\"and\") ha aparecido en 1306 frases. Por último, si queremos convertir una lista de tokens en una lista de sus índices correspondientes en el vocabulario creado anteriormente, podemos utilizar el método *doc2idx*:"
   ]
  },
  {
   "cell_type": "code",
   "execution_count": 45,
   "id": "a37f3e48",
   "metadata": {},
   "outputs": [
    {
     "name": "stdout",
     "output_type": "stream",
     "text": [
      "['follow', 'the', 'white', 'rabbit']\n",
      "[1482, 20, 497, 333]\n"
     ]
    }
   ],
   "source": [
    "sentence = 'follow the white rabbit'\n",
    "new_tokens = simple_preprocess(sentence)\n",
    "ids = dictionary.doc2idx(new_tokens)\n",
    "print(new_tokens)\n",
    "print(ids)"
   ]
  },
  {
   "cell_type": "markdown",
   "id": "83088570",
   "metadata": {},
   "source": [
    "El problema que casi siempre va a existir es que, por muy amplio que sea el vocabulario, siempre habrá una palabra nueva que no esté ahí.\n",
    "\n",
    "Si la palabra no está en el vocabulario, se trata de una palabra desconocida, y va a ser sustituida por el correspondiente token especial: [UNK]. Esto significa que tenemos que añadir [UNK] al vocabulario. Afortunadamente, el\n",
    "Diccionario de Gensim tiene un método <a href=\"https://radimrehurek.com/gensim/corpora/dictionary.html#gensim.corpora.dictionary.Dictionary.patch_with_special_tokens\" target=\"_blank\"> patch_with_special_tokens </a> que hace muy fácil parchear nuestro vocabulario:"
   ]
  },
  {
   "cell_type": "code",
   "execution_count": 46,
   "id": "3f731a20",
   "metadata": {},
   "outputs": [],
   "source": [
    "special_tokens = {'[PAD]': 0, '[UNK]': 1}\n",
    "dictionary.patch_with_special_tokens(special_tokens)"
   ]
  },
  {
   "cell_type": "markdown",
   "id": "053c7b43",
   "metadata": {},
   "source": [
    "¿Y si, en lugar de añadir más tokens al vocabulario, intentamos eliminar palabras? Quizá queramos eliminar palabras raras\n",
    " para reducir el vocabulario, o tal vez queramos eliminar palabras malsonantes....\n",
    " \n",
    " En este caso Gensim nos ofrece una pareja de métodos que nos permite hacer esto de forma fácil:\n",
    " \n",
    " * *filter_extremes*: conserva sólo las primeras *keep_n* palabras más frecuentes (también es posible mantener palabras que aparezcan en al menos *no_below* o eliminar las palabras que aparecen en más de *no_above* fracción de documentos)\n",
    " \n",
    " * *filter_tokens*: elimina los tokens de una lista de bad_ids (doc2idx puede ser usado obtener una lista de los ids correspondientes a las palabras malas) o mantiene sólo los tokens de una lista de *good_ids*.\n",
    " \n",
    " ¿Y si quiero eliminar palabras que aparecen menos de X veces en todos los documentos?. Esto no es soportado directamente por el Diccionario de Gensim, pero podemos usar su atributo cfs para encontrar esos tokens con baja frecuencia, y luego\n",
    "filtrarlos usando *filter_tokens*:"
   ]
  },
  {
   "cell_type": "code",
   "execution_count": 47,
   "id": "94a90195",
   "metadata": {},
   "outputs": [],
   "source": [
    "def get_rare_ids(dictionary, min_freq):\n",
    "    rare_ids = [t[0] for t in dictionary.cfs.items()\n",
    "        if t[1] < min_freq]\n",
    "    return rare_ids"
   ]
  },
  {
   "cell_type": "markdown",
   "id": "91435877",
   "metadata": {},
   "source": [
    "Una vez que estemos satisfechos con el tamaño y el alcance de un vocabulario, podemos guardarlo en el disco como archivo de texto sin formato, un token (palabra) por línea. La función helper que sigue toma una lista de frases, genera el vocabulario correspondiente y lo guarda en un archivo llamado vocab.txt:"
   ]
  },
  {
   "cell_type": "code",
   "execution_count": 48,
   "id": "057b47ae",
   "metadata": {},
   "outputs": [],
   "source": [
    "def make_vocab(sentences, folder=None, special_tokens=None, vocab_size=None, min_freq=None):\n",
    "    if folder is not None:\n",
    "        if not os.path.exists(folder):\n",
    "            os.mkdir(folder)\n",
    "            \n",
    "    # tokenizes the sentences and create a Dictionary\n",
    "    tokens = [simple_preprocess(sent) for sent in sentences]\n",
    "    dictionary = corpora.Dictionary(tokens)\n",
    "    # keeps only the most frequent words (vocab size)\n",
    "    if vocab_size is not None:\n",
    "        dictionary.filter_extremes(keep_n=vocab_size)\n",
    "    # removes rare words (in case the vocab size still\n",
    "    # includes words with low frequency)\n",
    "    if min_freq is not None:\n",
    "        rare_tokens = get_rare_ids(dictionary, min_freq)\n",
    "        dictionary.filter_tokens(bad_ids=rare_tokens)\n",
    "    # gets the whole list of tokens and frequencies\n",
    "    items = dictionary.cfs.items()\n",
    "    # sorts the tokens in descending order\n",
    "    words = [dictionary[t[0]] for t in sorted(dictionary.cfs.items(), key=lambda t: -t[1])]\n",
    "    # prepends special tokens, if any\n",
    "    if special_tokens is not None:\n",
    "        to_add = []\n",
    "        for special_token in special_tokens:\n",
    "            if special_token not in words:\n",
    "                to_add.append(special_token)\n",
    "        words = to_add + words\n",
    "                \n",
    "    with open(os.path.join(folder, 'vocab.txt'), 'w') as f:\n",
    "        for word in words:\n",
    "            f.write(f'{word}\\n')"
   ]
  },
  {
   "cell_type": "markdown",
   "id": "36c323f9",
   "metadata": {},
   "source": [
    "Podemos tomar las frases de nuestro conjunto de entrenamiento, añadir tokens especiales al vocabulario, filtrar las palabras que sólo aparecen una vez y guardar el archivo de vocabulario en la carpeta our_vocab:"
   ]
  },
  {
   "cell_type": "code",
   "execution_count": 49,
   "id": "1811ed5f",
   "metadata": {},
   "outputs": [],
   "source": [
    "make_vocab(train_dataset['sentence'], 'our_vocab/', special_tokens=['[PAD]', '[UNK]', '[SEP]', '[CLS]', '[MASK]'],\n",
    "           min_freq=2)"
   ]
  },
  {
   "cell_type": "markdown",
   "id": "a4bf52bf",
   "metadata": {},
   "source": [
    "Y ahora podemos utilizar este archivo de vocabulario con un tokenizador.\n",
    "\n",
    "Pero  si ya hemos usado un tekenizador anteriormente para qué queremos más?. Pues sí. Primero utilizamos un tokenizador de frases para dividir los textos en frases. Después, utilizamos un tokenizador de palabras para dividir cada frase en palabras. Pero hay otro tokenizador...\n",
    "\n",
    "## Tokenizador HuggingFace’s\n",
    "\n",
    "Dado que utilizamos los conjuntos de datos de HF, es lógico que utilicemos también los tokenizadores \n",
    "de HF, ¿no? Además, para utilizar un modelo modelo BERT preentrenado, tenemos que utilizar el correspondiente\n",
    "del modelo preentenado de estos tokenizadores.\n",
    "\n",
    "Al igual que los modelos de visión por ordenador preentrenados (modelo computer vision) requieren que las imágenes de entrada son estandaricen con las estadísticas de ImageNet, los modelos lingüísticos como BERT requieren que las entradas tengan una configuración apropiada. La tokenización utilizada en BERT es diferente de la  simple tokenización de palabras que acabamos de discutir. Volveremos sobre ello a su debido tiempo, pero sigamos con la tokenización simple por ahora.\n",
    "\n",
    "Así que, antes de cargar un tokenizador preentrenado, vamos a crear nuestro propio tokenizador utilizando nuestro propio vocabulario. Los tokenizadores de HuggingFace también esperan una frase como entrada, y también proceden a realizar\n",
    "algún tipo de tokenización de palabras. Pero, en lugar de devolver simplemente los tokens, estos tokenizadores devuelven los índices del vocabulario  correspondiente a los tokens, y mucha información adicional.Es como similar al  doc2idx de Gensim, veámoslo en acción.\n",
    "\n",
    "```{index} BertTokenizer\n",
    "```\n",
    "\n",
    "Vamos a utilizar la clase BertTokenizer para crear un tokenizador basado en nuestro propio vocabulario:\n"
   ]
  },
  {
   "cell_type": "code",
   "execution_count": 50,
   "id": "228c120a",
   "metadata": {},
   "outputs": [],
   "source": [
    "from transformers import BertTokenizer\n",
    "tokenizer = BertTokenizer('our_vocab/vocab.txt')"
   ]
  },
  {
   "cell_type": "markdown",
   "id": "1bc875b9",
   "metadata": {},
   "source": [
    "```{note}\n",
    "El propósito de esto es ilustrar cómo funciona el tokenizador usando una simple tokenización de palabras. El tokenizador (preentrenado) que utilizará con un modelo BERT  (preentrenado) no necesita vocabulario.\n",
    "```\n",
    "La clase *tokenizer* es muy rica y ofrece una buena cantidad de métodos y argumentos. Sólo estamos utilizando algunos métodos básicos que apenas arañan la superficie. Para más detalles, consulte la documentación de HuggingFace sobre las clases <a href=\"https://huggingface.co/docs/transformers/main_classes/tokenizer\" target=\"_blank\"> tokenizer</a> y <a href=\"https://huggingface.co/docs/transformers/model_doc/bert#berttokenizer\" target=\"_blank\"> BertTokenizer </a>.\n",
    "\n",
    "\n",
    "A continuación, vamos a tokenizar una nueva frase utilizando su método tokenize:"
   ]
  },
  {
   "cell_type": "code",
   "execution_count": 51,
   "id": "7072a5ef",
   "metadata": {},
   "outputs": [
    {
     "data": {
      "text/plain": [
       "['follow', 'the', 'white', 'rabbit', '[UNK]']"
      ]
     },
     "execution_count": 51,
     "metadata": {},
     "output_type": "execute_result"
    }
   ],
   "source": [
    "new_sentence = 'follow the white rabbit neo'\n",
    "new_tokens = tokenizer.tokenize(new_sentence)\n",
    "new_tokens"
   ]
  },
  {
   "cell_type": "markdown",
   "id": "ecaf4fa7",
   "metadata": {},
   "source": [
    "Fijémonos en la última palabra. Dado que Neo (de \"Matrix\") no forma parte del original \"Alice's Alicia en el País de las Maravillas\", es imposible que esté en nuestro vocabulario y, por tanto, se trata como una palabra desconocida con su\n",
    "token especial correspondiente.\n",
    "\n",
    "Con los pasos que hemos dado hasta ahora sólo hemos conseguido los tokens, pero nos faltarían los ids de esos tokens, para conseguir esos ids o índices usamos *convert_tokens_to_ids*, lo hacemos de la siguiente forma:\n"
   ]
  },
  {
   "cell_type": "code",
   "execution_count": 52,
   "id": "8ea5ced3",
   "metadata": {},
   "outputs": [
    {
     "data": {
      "text/plain": [
       "[1219, 5, 229, 200, 1]"
      ]
     },
     "execution_count": 52,
     "metadata": {},
     "output_type": "execute_result"
    }
   ],
   "source": [
    "new_ids = tokenizer.convert_tokens_to_ids(new_tokens)\n",
    "new_ids"
   ]
  },
  {
   "cell_type": "markdown",
   "id": "5665bdc4",
   "metadata": {},
   "source": [
    "Podemos observar que tenemos menos ids que tokens, esto es asi porque tenemos algunos tokens que son especiales. Para buscar todos los tokens podemos utilizar  *convert_ids_to_tokens* del tokenizador:\n"
   ]
  },
  {
   "cell_type": "code",
   "execution_count": 53,
   "id": "7e28aee7",
   "metadata": {},
   "outputs": [
    {
     "data": {
      "text/plain": [
       "['follow', 'the', 'white', 'rabbit', '[UNK]']"
      ]
     },
     "execution_count": 53,
     "metadata": {},
     "output_type": "execute_result"
    }
   ],
   "source": [
    "tokenizer.convert_ids_to_tokens(new_ids)"
   ]
  },
  {
   "cell_type": "markdown",
   "id": "993818b2",
   "metadata": {},
   "source": [
    "Este token especial se utiliza para separar las entradas en dos frases distintas.Sí, es posible alimentar BERT con dos frases a la vez y este tipo de entrada se utiliza para la siguiente tarea de predicción de frases. No lo utilizaremos en nuestro ejemplo. volveremos a ello cuando hablemos de cómo se entrena BERT.\n",
    "\n",
    "Podemos deshacernos de los tokens especiales si no los utilizamos, de la siguiente manera:"
   ]
  },
  {
   "cell_type": "code",
   "execution_count": 54,
   "id": "93cc9c32",
   "metadata": {},
   "outputs": [
    {
     "data": {
      "text/plain": [
       "[1219, 5, 229, 200, 1]"
      ]
     },
     "execution_count": 54,
     "metadata": {},
     "output_type": "execute_result"
    }
   ],
   "source": [
    "tokenizer.encode(new_sentence, add_special_tokens=False)"
   ]
  },
  {
   "cell_type": "markdown",
   "id": "c8918ea3",
   "metadata": {},
   "source": [
    "Anteriormente hemos dicho que con estos tokenizadores podremos obtener mucha información, para ver eso lo que tenemos que hacer es simplemente llamar al tokenizer en sí mismo en lugar de de un método en particular y producirá una salida enriquecida:"
   ]
  },
  {
   "cell_type": "code",
   "execution_count": 55,
   "id": "d812aa49",
   "metadata": {},
   "outputs": [
    {
     "data": {
      "text/plain": [
       "{'input_ids': tensor([[1219,    5,  229,  200,    1]]), 'token_type_ids': tensor([[0, 0, 0, 0, 0]]), 'attention_mask': tensor([[1, 1, 1, 1, 1]])}"
      ]
     },
     "execution_count": 55,
     "metadata": {},
     "output_type": "execute_result"
    }
   ],
   "source": [
    "tokenizer(new_sentence,\n",
    "    add_special_tokens=False,\n",
    "    return_tensors='pt') # con esto devuelve un tensor para uso en pytorch"
   ]
  },
  {
   "cell_type": "markdown",
   "id": "c66ba0a5",
   "metadata": {},
   "source": [
    "Por defecto, las salidas son listas, pero aquí usamos el argumento *return_tensors* para obtener los tensores de PyTorch (pt significa PyTorch). Hay tres salidas en el diccionario, <a href=\"https://huggingface.co/docs/transformers/glossary#input-ids\" target=\"_blank\"> *input_ids*</a>, <a href=\"https://huggingface.co/docs/transformers/glossary#token-type-ids\" target=\"_blank\">*token_type_ids* </a>, y <a href=\"https://huggingface.co/docs/transformers/glossary#attention-mask\" target=\"_blank\">   *attention_mask*</a>.\n",
    "\n",
    "La primera salida, *input_ids*, es la conocida lista de identificadores de token. Son la entrada más fundamental, y a veces la única, requerida por el modelo.\n",
    "\n",
    "La segunda salida, el *token_type_ids*, funciona como un índice de sentencia, y sólo tiene sentido si la entrada tiene más de una frase (y los tokens especiales de separación entre ellas). Por ejemplo:"
   ]
  },
  {
   "cell_type": "code",
   "execution_count": 56,
   "id": "6a2e9d99",
   "metadata": {},
   "outputs": [
    {
     "data": {
      "text/plain": [
       "{'input_ids': [3, 1219, 5, 229, 200, 1, 2, 51, 42, 78, 32, 307, 41, 5, 1, 30, 2], 'token_type_ids': [0, 0, 0, 0, 0, 0, 0, 1, 1, 1, 1, 1, 1, 1, 1, 1, 1], 'attention_mask': [1, 1, 1, 1, 1, 1, 1, 1, 1, 1, 1, 1, 1, 1, 1, 1, 1]}"
      ]
     },
     "execution_count": 56,
     "metadata": {},
     "output_type": "execute_result"
    }
   ],
   "source": [
    "sentence1 = 'follow the white rabbit neo'\n",
    "sentence2 = 'no one can be told what the matrix is'\n",
    "tokenizer(sentence1, sentence2)"
   ]
  },
  {
   "cell_type": "markdown",
   "id": "75eea71e",
   "metadata": {},
   "source": [
    "Aunque el tokenizador recibía dos frases como argumentos, las considera como una única entrada, produciendo así una única secuencia de ids. Volvamos a convertir los ids en tokens e inspeccionemos el resultado:"
   ]
  },
  {
   "cell_type": "code",
   "execution_count": 57,
   "id": "cae375a4",
   "metadata": {},
   "outputs": [
    {
     "name": "stdout",
     "output_type": "stream",
     "text": [
      "['[CLS]', 'follow', 'the', 'white', 'rabbit', '[UNK]', '[SEP]', 'no', 'one', 'can', 'be', 'told', 'what', 'the', '[UNK]', 'is', '[SEP]']\n"
     ]
    }
   ],
   "source": [
    "joined_sentences = tokenizer(sentence1, sentence2)\n",
    "print(\n",
    "tokenizer.convert_ids_to_tokens(joined_sentences['input_ids'])\n",
    ")"
   ]
  },
  {
   "cell_type": "markdown",
   "id": "3b935601",
   "metadata": {},
   "source": [
    "Las dos frases se concatenaron con un símbolo especial de separación ([SEP]) al final de cada una.\n",
    "\n",
    "La última salida, la *attention_mask*, funciona como la máscara de origen que en el codificador Transformer se utiliza e indica las posiciones rellenadas (con un valor de cero). En un lote de frases, por ejemplo, podemos rellenar las secuencias para que todas tengan la misma longitud, como se hace en el siguiente ejemplo:"
   ]
  },
  {
   "cell_type": "code",
   "execution_count": 58,
   "id": "cde3ac70",
   "metadata": {},
   "outputs": [
    {
     "data": {
      "text/plain": [
       "{'input_ids': [[3, 1219, 5, 229, 200, 1, 2, 0, 0, 0, 0], [3, 51, 42, 78, 32, 307, 41, 5, 1, 30, 2]], 'token_type_ids': [[0, 0, 0, 0, 0, 0, 0, 0, 0, 0, 0], [0, 0, 0, 0, 0, 0, 0, 0, 0, 0, 0]], 'attention_mask': [[1, 1, 1, 1, 1, 1, 1, 0, 0, 0, 0], [1, 1, 1, 1, 1, 1, 1, 1, 1, 1, 1]]}"
      ]
     },
     "execution_count": 58,
     "metadata": {},
     "output_type": "execute_result"
    }
   ],
   "source": [
    "separate_sentences = tokenizer([sentence1, sentence2], padding=True)\n",
    "separate_sentences"
   ]
  },
  {
   "cell_type": "markdown",
   "id": "de2f9785",
   "metadata": {},
   "source": [
    "El tokenizador recibió una lista de dos frases, y las tomó como dos entradas independientes, produciendo así dos  secuencias de ids. Además, como el argumento de relleno era True, rellenó la secuencia más corta (cinco tokens) para que coincidiera con la más larga (nueve tokens). Volvamos a convertir los ids en tokens:"
   ]
  },
  {
   "cell_type": "code",
   "execution_count": 59,
   "id": "99a85cb0",
   "metadata": {},
   "outputs": [
    {
     "name": "stdout",
     "output_type": "stream",
     "text": [
      "['[CLS]', 'follow', 'the', 'white', 'rabbit', '[UNK]', '[SEP]', '[PAD]', '[PAD]', '[PAD]', '[PAD]']\n",
      "[1, 1, 1, 1, 1, 1, 1, 0, 0, 0, 0]\n"
     ]
    }
   ],
   "source": [
    "print(\n",
    "    tokenizer.convert_ids_to_tokens(\n",
    "        separate_sentences['input_ids'][0]\n",
    "    )\n",
    ")\n",
    "print(separate_sentences['attention_mask'][0])"
   ]
  },
  {
   "cell_type": "markdown",
   "id": "aa00934f",
   "metadata": {},
   "source": [
    "Cada elemento Padded en la secuencia tiene un cero correspondiente en *attention mask*.\n",
    "\n",
    "En las salidas anteriores, las dos sentencias se han agrupado en una sola y se ha obtenido el resultado anterior. Si queremos que trate sentencia independientes, se podría hace de la siguiente forma: "
   ]
  },
  {
   "cell_type": "code",
   "execution_count": 60,
   "id": "f6809dfd",
   "metadata": {},
   "outputs": [
    {
     "name": "stdout",
     "output_type": "stream",
     "text": [
      "['[CLS]', 'follow', 'the', 'white', 'rabbit', '[UNK]', '[SEP]', 'no', 'one', 'can', 'be', 'told', 'what', 'the', '[UNK]', 'is', '[SEP]']\n",
      "['[CLS]', 'another', 'first', 'sentence', '[SEP]', '[UNK]', 'second', 'sentence', 'here', '[SEP]']\n"
     ]
    }
   ],
   "source": [
    "# Recordemos los valores de sentence1 y sentence2\n",
    "sentence1 = 'follow the white rabbit neo'\n",
    "sentence2 = 'no one can be told what the matrix is'\n",
    "\n",
    "# Creamos ahora dos sentencias en cada lista de sentencias\n",
    "first_sentences = [sentence1, 'another first sentence']\n",
    "second_sentences = [sentence2, 'a second sentence here']\n",
    "batch_of_pairs = tokenizer(first_sentences, second_sentences)\n",
    "first_input = tokenizer.convert_ids_to_tokens(batch_of_pairs['input_ids'][0])\n",
    "second_input = tokenizer.convert_ids_to_tokens(batch_of_pairs['input_ids'][1])\n",
    "print(first_input)\n",
    "print(second_input)"
   ]
  },
  {
   "cell_type": "markdown",
   "id": "fa2d1798",
   "metadata": {},
   "source": [
    "Como podemos ver obtenemos como salda una lista de listas, en la primera lista se colocan los tokens conjuntos de *sentence1* y *sentence2* y en la segunda lista, formada por los tokens de \"another first sentence\" y de \"a second sentence here\".\n",
    "\n",
    "Por último, apliquemos nuestro tokenizador a nuestro conjunto de datos de frases, rellenándolas, y devolviendo tensores PyTorch:"
   ]
  },
  {
   "cell_type": "code",
   "execution_count": 61,
   "id": "4fd2e91d",
   "metadata": {},
   "outputs": [
    {
     "data": {
      "text/plain": [
       "tensor([[   3,   27,    1,  ...,   86,  870,    2],\n",
       "        [   3,   24,   10,  ..., 1573,    5,    2],\n",
       "        [   3,   49,   12,  ...,    0,    0,    0],\n",
       "        ...,\n",
       "        [   3,    1,    6,  ...,    0,    0,    0],\n",
       "        [   3,    6,  132,  ...,    0,    0,    0],\n",
       "        [   3,    1,    1,  ...,    0,    0,    0]])"
      ]
     },
     "execution_count": 61,
     "metadata": {},
     "output_type": "execute_result"
    }
   ],
   "source": [
    "tokenized_dataset = tokenizer(dataset['sentence'], \n",
    "                              padding=True, \n",
    "                              return_tensors='pt', \n",
    "                              max_length=50, \n",
    "                              truncation=True)\n",
    "tokenized_dataset['input_ids']"
   ]
  },
  {
   "cell_type": "markdown",
   "id": "52a338fe",
   "metadata": {},
   "source": [
    "Dado que nuestros libros pueden tener frases realmente largas, podemos utilizar los argumentos *max_length* y *truncation para garantizar que las frases más largas de 50 tokens se trunquen, y las más cortas se se rellenen. \n",
    "\n",
    "Detrás de todos sus procesos, BERT en realidad **está utilizando vectores** para representar las palabras. Los ids de los tokens que le enviaremos son simplemente los índices de una enorme tabla de búsqueda. Esa tabla de búsqueda tiene un nombre\n",
    ": incrustaciones de palabras (*word embeddings*).\n",
    "\n",
    "Cada fila de la tabla de consulta corresponde a un token diferente, y cada fila está representada por un vector. El tamaño de los vectores es la dimensionalidad de la incrustación.\n",
    "\n",
    "\n",
    "## One-Hot Encoding (OHE)\n",
    "\n",
    "```{index} One-Hot Encoding, OHE\n",
    "```\n",
    "\n",
    "La idea en la que se basa OHE es muy sencilla: cada token único (palabra) está representada por un vector lleno de ceros excepto en una posición, la posición correspondiente al índice del token. En cuanto a los vectores no puede ser más sencillo.\n",
    "\n",
    "Veámoslo en acción utilizando sólo cinco tokens - \"and\", \"as\", \"far\", \"knew\" y \"quite\" - y generemos representaciones de codificación de una sola vez para  ellas:\n",
    "\n",
    "![OHE](figuras/OHE.PNG)\n",
    "\n",
    "La figura anterior serían las representaciones OHE de estos cinco tokens si sólo hubiera cinco tokens en total. Pero hay 3.704 tokens únicos en nuestros corpus textuales (sin contar los tokens especiales añadidos), por lo que la OHE tiene este aspecto:\n",
    "\n",
    "![OHE completo](figuras/OHE2.PNG)\n",
    "\n",
    "Es una matriz bastante grande y dispersa (lo que significa que tiene más ceros que no ceros), ¿verdad? Y nuestro vocabulario ni siquiera es tan amplio.\n",
    "\n",
    "Si utilizáramos un vocabulario inglés típico, necesitaríamos vectores de 100.000 dimensiones. Evidentemente, esto no es muy práctico. No obstante, los vectores dispersos producidos por la codificación one-hot son la base de un modelo de PNL bastante básico: la bolsa de palabras (o bag-of-words también expresado como BoW).\n",
    "\n",
    "## Bag-of-Words (BoW)\n",
    "\n",
    "```{index} Bag-of-Words, BoW\n",
    "```\n",
    "El modelo de bolsa de palabras es literalmente una bolsa de palabras: simplemente suma los vectores OHE correspondientes, sin tener en cuenta ninguna estructura subyacente o las relaciones entre las palabras. El vector resultante sólo contiene los recuentos de las palabras que aparecen en el texto.\n",
    "\n",
    "Sin embargo, no tenemos que hacerlo manualmente, ya que el Diccionario de Gensim tiene el método *doc2bow* que hace el trabajo por nosotros:"
   ]
  },
  {
   "cell_type": "code",
   "execution_count": 62,
   "id": "f8216e61",
   "metadata": {},
   "outputs": [
    {
     "data": {
      "text/plain": [
       "['the', 'white', 'rabbit', 'is', 'rabbit']"
      ]
     },
     "execution_count": 62,
     "metadata": {},
     "output_type": "execute_result"
    }
   ],
   "source": [
    "sentence = 'the white rabbit is a rabbit'\n",
    "bow_tokens = simple_preprocess(sentence)\n",
    "bow_tokens"
   ]
  },
  {
   "cell_type": "code",
   "execution_count": 63,
   "id": "024a57d2",
   "metadata": {},
   "outputs": [
    {
     "data": {
      "text/plain": [
       "[(20, 1), (69, 1), (333, 2), (497, 1)]"
      ]
     },
     "execution_count": 63,
     "metadata": {},
     "output_type": "execute_result"
    }
   ],
   "source": [
    "bow = dictionary.doc2bow(bow_tokens)\n",
    "bow"
   ]
  },
  {
   "cell_type": "markdown",
   "id": "ee110a59",
   "metadata": {},
   "source": [
    "La palabra \"rabbit\" aparece dos veces en la frase, por lo que su índice (333) muestra el recuento correspondiente (2). Observe también que la quinta palabra de la frase original (\"a\") no se consideró un token válido porque la función *simple_preprocess* la filtró por ser demasiado corta.\n",
    "\n",
    "El modelo BoW es obviamente muy limitado, ya que representa las frecuencias de cada palabra en un texto y nada más.\n",
    "\n",
    "Además, la representación de palabras mediante vectores codificados de un solo golpe también presenta graves limitaciones: no sólo los vectores son cada vez más más escasos (es decir, con más ceros) a medida que crece el vocabulario, sino que, además, cada palabra es ortogonal a todas las demás.\n",
    "\n",
    "Se dice que dos vectores son ortogonales entre sí si existe un ángulo recto entre ellos, correspondiente a una semejanza de cero. Por tanto, si utilizamos vectores codificados en un punto para representar palabras, básicamente estamos diciendo\n",
    "que no hay dos palabras similares entre sí. Evidentemente, esto es poco práctico.\n",
    "\n",
    "Bien, podemos intentar explorar la estructura y la relación entre las palabras en una frase dada. Ese es el papel de...\n",
    "\n",
    "## Language Models (Modelos lingüísticos).\n",
    "\n",
    "\n",
    "Un modelo lingüístico (LM) es un modelo que estima la probabilidad de un token o de una secuencia de tokens. Hemos utilizado token y palabra indistintamente, pero un token puede ser un carácter o una subpalabra. En otras palabras, un modelo lingüístico predecirá los tokens más propensos a rellenar un espacio en blanco.\n",
    "\n",
    "Ahora, imagínate que eres un modelo lingüístico y rellena el espacio en blanco de la siguiente frase:\n",
    "\n",
    "![Frases](figuras/ML1.PNG)\n",
    "\n",
    "Lo más probable es que se prediga \"you\". Y en la siguiente sentencia\n",
    "\n",
    "![Frases 2](figuras/ML2.PNG)\n",
    "\n",
    "Tal vez rellenó este espacio en blanco con \"too\", o tal vez eligió una palabra diferente, como \"there\" o \"now\", dependiendo de lo que supusieras que precedía a la primera palabra:\n",
    "\n",
    "![Frase 3](figuras/ML3.PNG)\n",
    "\n",
    "Es fácil, ¿verdad? Pero, ¿cómo lo has hecho? ¿Cómo sabes que \"you\" debe seguir a \"nice to meet\"?. Probablemente has leído y\n",
    "dicho \"nice to meet you\" miles de veces. Pero, ¿alguna vez has leído o dicho: \"encantado de conocer a un oso hormiguero\"? Yo tampoco.\n",
    "\n",
    "¿Y la segunda frase? Ya no es tan obvio, pero apuesto a que aún puedes descartar \"to meet you aardvark\" (o al menos admitir\n",
    "que es muy poco probable que ese sea el caso).\n",
    "\n",
    "Resulta que también tenemos un modelo lingüístico en la cabeza, y es sencillo adivinar qué palabras son buenas opciones para rellenar los los espacios en blanco utilizando secuencias que nos son familiares.\n",
    "\n",
    "## N-grams.\n",
    "\n",
    "```{index} N-grams\n",
    "```\n",
    "\n",
    "En los ejemplos anteriores, la estructura se compone de tres palabrascy un espacio en blanco: *un cuatrograma*. Si utilizáramos dos palabras y un espacio en blanco eso sería un *trigrama*, y, para un número dado de palabras (n-1)\n",
    "seguidas de un espacio en blanco, un *n-gram*.\n",
    "\n",
    "![n-grams](figuras/Ngrams.PNG)\n",
    "\n",
    "Los modelos de N-gramas se basan en la estadística pura: rellenan los espacios en blanco utilizando la secuencia más común que coincide con las palabras que preceden al espacio en blanco (lo que se denomina contexto). Por un lado n (secuencias de palabras más largas) pueden dar mejores predicciones; por otro lado, pueden no dar ninguna predicción, ya que\n",
    "una determinada secuencia de palabras puede no haberse observado nunca. En este último caso, siempre se puede volver a un n-grama más corto e intentar de nuevo (lo que, por cierto, se denomina *\"retroceso estúpido\"*).\n",
    "\n",
    "Para una explicación más detallada de los n-grams puede acudir a <a href=\"https://lena-voita.github.io/nlp_course/language_modeling.html#n_gram\" target=\"_blank\">N-grams Language Models  </a>\n",
    "\n",
    "Estos modelos son sencillos, pero están algo limitados porque sólo pueden mirar hacia atrás.\n",
    "\n",
    "## Continous Bag-of-Words(CBoW)\n",
    "\n",
    "En estos modelos, el contexto viene dado por las palabras que lo rodean, antes y después del espacio en blanco. De este modo, es mucho mejor predecir la palabra que mejor rellena el espacio en blanco. Supongamos que intentamos rellenar el siguiente espacio en blanco:\n",
    "\n",
    "![CBoW](figuras/ML4.PNG)\n",
    "\n",
    "Con eso tendría que trabajar un modelo de trigramas. No se ve bien... las posibilidades son casi infinitas. Ahora, considere la misma frase una vez más, esta vez conteniendo las palabras que siguen al en blanco:\n",
    "\n",
    "![CboW2](figuras/ML5.PNG)\n",
    "\n",
    "Pues es fácil: el espacio en blanco es \"dog\".\n",
    "\n",
    "Es una bolsa de palabras porque suma (o promedia) los vectores de las palabras del contexto (\"the\", \"small\", \"is\" y \"barking\") y lo utiliza para predecir la palabra central.\n",
    "\n",
    "El vector de valores continuos que representa una palabra dada se denomina *incrustación de palabras ó word embedding*.\n",
    "\n",
    "## Word2Vec\n",
    "\n",
    "```{index} Word2Vec\n",
    "```\n",
    "\n",
    "Word2Vec fue propuesto por Mikolov, T. et al. en su artículo de 2013 <a href=\"https://arxiv.org/abs/1301.3781\" target=\"_blank\"> \"Efficient Estimation of Word Representations in Vector Space\" </a>, e incluía dos arquitecturas de modelos: bolsa continua de palabras (CBoW) y skip-gram (SG). Nosotros nos centramos en la primera.\n",
    "\n",
    "En la arquitectura CBoW, el objetivo es la palabra central. En otras palabras, nos enfrentamos a un problema de clasificación multiclase en el que el número de clases viene dado por el tamaño del vocabulario (cualquier palabra del vocabulario puede ser la palabra central). Y utilizaremos las palabras contextuales, o mejor aún, sus\n",
    "(vectores), como entradas.\n",
    "\n",
    "![CBOW.PNG](figuras/CBOW.PNG)\n",
    "\n",
    "Pero nos podemos preguntar lo siguiente: ¿cómo es que estamos utilizando las incrustaciones como entradas? Eso es lo que estamos tratando aprender en primer lugar, ¿no?.\n",
    "\n",
    "Exacto. Las incrustaciones son también parámetros del modelo y, como tales, también se inicializan aleatoriamente. A medida que sus pesos se actualizan por descenso gradiente como cualquier otro parámetro tendremos incrustaciones para\n",
    "cada palabra del vocabulario.\n",
    "\n",
    "Para cada par de palabras contextuales y el objetivo correspondiente, el modelo promediará las incrustaciones de las palabras contextuales y enviará el resultado a una capa lineal que calculará un logit para cada palabra del vocabulario. Ya está. Comprobemos el código correspondiente:"
   ]
  },
  {
   "cell_type": "code",
   "execution_count": 64,
   "id": "5facfaad",
   "metadata": {},
   "outputs": [],
   "source": [
    "class CBOW(nn.Module):\n",
    "    def __init__(self, vocab_size, embedding_size):\n",
    "        super().__init__()\n",
    "        self.embedding = nn.Embedding(vocab_size, embedding_size)\n",
    "        self.linear = nn.Linear(embedding_size, vocab_size)\n",
    "        \n",
    "    def forward(self, X):\n",
    "        embeddings = self.embedding(X)\n",
    "        bow = embeddings.mean(dim=1)\n",
    "        logits = self.linear(bow)\n",
    "        return logits"
   ]
  },
  {
   "cell_type": "markdown",
   "id": "37706f7f",
   "metadata": {},
   "source": [
    "Es un modelo bastante sencillo, ¿verdad? Si nuestro vocabulario tuviera sólo cinco palabras (\"the\", \"small\", \"is\", \"barking\", y \"dog\"), podríamos intentar representar cada palabra con una incrustación de dimensión tres.\n",
    "\n",
    "Creemos un modelo ficticio para inspeccionar sus incrustaciones (inicializadas aleatoriamente):"
   ]
  },
  {
   "cell_type": "code",
   "execution_count": 67,
   "id": "ee51a136",
   "metadata": {},
   "outputs": [
    {
     "data": {
      "text/plain": [
       "OrderedDict([('weight',\n",
       "              tensor([[ 0.3367,  0.1288,  0.2345],\n",
       "                      [ 0.2303, -1.1229, -0.1863],\n",
       "                      [ 2.2082, -0.6380,  0.4617],\n",
       "                      [ 0.2674,  0.5349,  0.8094],\n",
       "                      [ 1.1103, -1.6898, -0.9890]]))])"
      ]
     },
     "execution_count": 67,
     "metadata": {},
     "output_type": "execute_result"
    }
   ],
   "source": [
    "torch.manual_seed(42)\n",
    "dummy_cbow = CBOW(vocab_size=5, embedding_size=3)\n",
    "dummy_cbow.embedding.state_dict()"
   ]
  },
  {
   "cell_type": "markdown",
   "id": "784decac",
   "metadata": {},
   "source": [
    "![cbow1](figuras/cbow1.PNG)"
   ]
  },
  {
   "cell_type": "markdown",
   "id": "4570d3ed",
   "metadata": {},
   "source": [
    "Como se representa en la figura anterior, la capa nn.Embedding de PyTorch es una gran tabla de búsqueda. Puede ser inicializada aleatoriamente dado el tamaño del vocabulario (num_embeddings) y el número de dimensiones (embedding_dim).\n",
    "\n",
    "Para recuperar los valores necesitamos llamar a la capa de incrustación con una lista de índices de los tokens y devuelve las filas correspondientes de la tabla.\n",
    "\n",
    "Por ejemplo, podemos recuperar las incrustaciones de los tokens \"is\" y \"barking\" utilizando sus índices correspondientes (dos y tres):"
   ]
  },
  {
   "cell_type": "code",
   "execution_count": 69,
   "id": "9774be14",
   "metadata": {},
   "outputs": [
    {
     "data": {
      "text/plain": [
       "tensor([[ 2.2082, -0.6380,  0.4617],\n",
       "        [ 0.2674,  0.5349,  0.8094]], grad_fn=<EmbeddingBackward>)"
      ]
     },
     "execution_count": 69,
     "metadata": {},
     "output_type": "execute_result"
    }
   ],
   "source": [
    "# tokens: ['is', 'barking']\n",
    "dummy_cbow.embedding(torch.as_tensor([2, 3]))"
   ]
  },
  {
   "cell_type": "markdown",
   "id": "0f3df9b6",
   "metadata": {},
   "source": [
    "Por eso, el principal trabajo del tokenizador es transformar una frase en una lista de identificadores de símbolos. Esa lista se utiliza como entrada para la capa de incrustación y, a partir de ese momento, los tokens se representan mediante un vector denso.\n",
    "\n",
    "Otra pregunta muy interesante podría ser cual es el número de dimensiones de la palabra que debemos elegir. Es habitual utilizar entre 50 y 300 dimensiones para las incrustaciones de palabras, pero algunas pueden tener hasta 3.000 dimensiones.\n",
    "\n",
    "Puede parecer mucho, pero comparado con los vectores es una ganga. El vocabulario de nuestro conjunto de datos ya requeriría más de 3.000 dimensiones si se si se codificara como *one-hot encoding*.\n",
    "\n",
    "En nuestro ejemplo anterior, \"dog\" era la palabra central y las otras cuatro palabras eran las palabras contextuales:"
   ]
  },
  {
   "cell_type": "code",
   "execution_count": 70,
   "id": "da897045",
   "metadata": {},
   "outputs": [],
   "source": [
    "tiny_vocab = ['the', 'small', 'is', 'barking', 'dog']\n",
    "context_words = ['the', 'small', 'is', 'barking']\n",
    "target_words = ['dog']"
   ]
  },
  {
   "cell_type": "markdown",
   "id": "d6d5b79e",
   "metadata": {},
   "source": [
    "Ahora, supongamos que hemos tokenizado las palabras y obtenido sus índices correspondientes:"
   ]
  },
  {
   "cell_type": "code",
   "execution_count": 71,
   "id": "57615de9",
   "metadata": {},
   "outputs": [],
   "source": [
    "batch_context = torch.as_tensor([[0, 1, 2, 3]]).long()\n",
    "batch_target = torch.as_tensor([4]).long()"
   ]
  },
  {
   "cell_type": "markdown",
   "id": "7bbaf0ea",
   "metadata": {},
   "source": [
    "En su primer paso de entrenamiento, el modelo calcularía la bolsa continua de palabras (bag-of-words) para las entradas promediando las incrustaciones correspondientes:\n",
    "\n",
    "![](figuras/cbow2.PNG)"
   ]
  },
  {
   "cell_type": "code",
   "execution_count": 72,
   "id": "b5fff68b",
   "metadata": {},
   "outputs": [
    {
     "data": {
      "text/plain": [
       "tensor([[ 0.7606, -0.2743,  0.3298]], grad_fn=<MeanBackward1>)"
      ]
     },
     "execution_count": 72,
     "metadata": {},
     "output_type": "execute_result"
    }
   ],
   "source": [
    "cbow_features = dummy_cbow.embedding(batch_context).mean(dim=1)\n",
    "cbow_features"
   ]
  },
  {
   "cell_type": "markdown",
   "id": "9eedd926",
   "metadata": {},
   "source": [
    "La bolsa de palabras tiene tres dimensiones y estas dimensiones son las features para calcular los logits de nuestro problema de clasificación multiclase:\n",
    "\n",
    "![](figuras/cbow3.PNG)"
   ]
  },
  {
   "cell_type": "code",
   "execution_count": 73,
   "id": "32951f37",
   "metadata": {},
   "outputs": [
    {
     "data": {
      "text/plain": [
       "tensor([[ 0.3542,  0.6937, -0.2028, -0.5873,  0.2099]],\n",
       "       grad_fn=<AddmmBackward>)"
      ]
     },
     "execution_count": 73,
     "metadata": {},
     "output_type": "execute_result"
    }
   ],
   "source": [
    "logits = dummy_cbow.linear(cbow_features)\n",
    "logits"
   ]
  },
  {
   "cell_type": "markdown",
   "id": "831166dd",
   "metadata": {},
   "source": [
    "El logit mayor corresponde a la palabra \"small\" (índice de clase uno), por lo que esa sería la palabra central predicha: \"the small small is barking\". \n",
    "\n",
    "La predicción es obviamente errónea pero, de nuevo, eso es un modelo inicializado aleatoriamente. Con un conjunto de datos suficientemente grande de contexto y palabras objetivo, podríamos entrenar el modelo CBOW anterior utilizando un CrossEntropyLoss para aprender incrustaciones de palabras reales.\n",
    "\n",
    "Podemos decir que Una incrustación es una representación de una entidad (una palabra, en nuestro caso), y cada una de sus dimensiones puede verse como un atributo o característica.\n",
    "\n",
    "Olvidémonos por un momento de las palabras y hablemos de restaurantes. Podemos valorar los restaurantes en muchas dimensiones diferentes, como la comida, el precio y el servicio, por ejemplo:\n",
    "\n",
    "![](figuras/Restaurantes.PNG)\n",
    "\n",
    "Está claro que los restaurantes nº 1 y nº 3 tienen buena comida y servicio pero son  caros, y los restaurantes #2 y #4 son baratos, pero o bien la comida o el servicio son malos. Es justo decir que los restaurantes nº 1 y nº 3 son\n",
    "son similares entre sí, y ambos son muy diferentes de los restaurantes #2 y #4 que, a su vez, son algo similares también entre sí. Pero nos falta más información como por ejemplo la cocina que es muy importante para el objetivo que tenemos.\n",
    "\n",
    "Entonces vamos a suponer que todos son pizzerias.\n",
    "\n",
    "Aunque es bastante obvio detectar las similitudes y diferencias entre los restaurantes de la tabla anterior, no sería tan fácil detectarlas si hubiera docenas de dimensiones que comparar. Además sería muy difícil medir objetivamente la similitud\n",
    "entre dos restaurantes utilizando escalas categóricas como ésta. Entonces para evitar esto último vamos a utilizar escalas continuas.\n",
    "\n",
    "Entonces cambiemos la escala y asignemos valores en el rango [-1, 1], de muy malo (-1) a muy bueno (1), o de muy caro (-1) a muy barato (1):\n",
    "\n",
    "![](figuras/Restaurantes2.PNG)\n",
    "\n",
    "\n",
    "Haciéndolo de esta manera, tenemos una tabla similar a la que antes teniamos para la palabras incrustadas.Bueno, no son del todo incrustaciones, pero al menos podemos usar la similitud coseno para averiguar cómo de similares son dos restaurantes:"
   ]
  },
  {
   "cell_type": "code",
   "execution_count": 74,
   "id": "52545540",
   "metadata": {},
   "outputs": [
    {
     "data": {
      "text/plain": [
       "tensor([[ 1.0000, -0.4318,  0.9976, -0.2974],\n",
       "        [-0.4318,  1.0000, -0.4270,  0.3581],\n",
       "        [ 0.9976, -0.4270,  1.0000, -0.3598],\n",
       "        [-0.2974,  0.3581, -0.3598,  1.0000]])"
      ]
     },
     "execution_count": 74,
     "metadata": {},
     "output_type": "execute_result"
    }
   ],
   "source": [
    "ratings = torch.as_tensor([[.7, -.4, .7],\n",
    "                           [.3, .7, -.5],\n",
    "                           [.9, -.55, .8],\n",
    "                           [-.3, .8, .34]]).float()\n",
    "sims = torch.zeros(4, 4)\n",
    "for i in range(4):\n",
    "    for j in range(4):\n",
    "        sims[i, j] = F.cosine_similarity(ratings[i], ratings[j], dim=0)\n",
    "sims"
   ]
  },
  {
   "cell_type": "markdown",
   "id": "b8c8c1ea",
   "metadata": {},
   "source": [
    "Como era de esperar, los restaurantes #1 y #3 son notablemente similares (0,9976) y los restaurantes #2 y #4 son algo similares (0,3581).\n",
    "\n",
    "El restaurante n.º 1 es bastante diferente de los restaurantes n.º 2 y n.º 4 (-0,4318 y -0,2974, respectivamente), al igual que el restaurante nº 3 (-0,4270 y -0,3598, respectivamente).\n",
    "\n",
    "Aunque ahora podemos calcular la similitud coseno entre dos restaurantes, los valores de la tabla anterior no son incrustaciones reales. Es sólo un ejemplo que ilustra bien el concepto de incrustación de dimensiones como atributos.\n",
    "\n",
    "Por desgracia, las dimensiones de las incrustaciones de palabras aprendidas por el modelo Word2Vec no tienen un significado tan claro. Por otro lado, **es posible hacer cálculos aritméticos con incrustaciones de palabras**.\n",
    "\n",
    "## Modelos Word2Vec preentrenados\n",
    "\n",
    "Word2Vec es un modelo sencillo, pero requiere una cantidad considerable de datos de texto para aprender incrustaciones significativas. Por suerte para nosotros, alguien ha hecho el duro trabajo de entrenar estos modelos, y podemos usar el descargador de Gensim para elegir entre una variedad de incrustaciones de palabras preentrenadas.\n",
    "\n",
    "Para una detallada lista de modelos mirar en <a href=\"https://github.com/RaRe-Technologies/gensim-data\" taget=\"_blak\"> Gensim-dats's repository </a> en Github.\n",
    "\n",
    "¿Por qué tantos modelos de incrustaciones? ¿En qué se diferencian unas de otras?\". Resulta que el uso de diferentes corpus de texto para entrenar un modelo Word2Vec produce incrustaciones diferentes.\n",
    "\n",
    "Por un lado esto no debería ser una sorpresa, después de todo, estos son diferentes y es de esperar que produzcan esultados diferentes.\n",
    "\n",
    "Por otro lado, si todos estos conjuntos de datos contienen frases del tipo mismo idioma (inglés, por ejemplo), ¿cómo es posible que las incrustaciones son diferentes?\n",
    "\n",
    "Las incrustaciones se verán influidas por el tipo de lenguaje utilizado en el texto:  la redacción de las novelas es distinta de la de los las de los artículos periodísticos y radicalmente distintas de las de en Twitter, por ejemplo.\n",
    "\n",
    "## Gobal Vectors (GloVe)\n",
    "\n",
    "```{index} GloVe\n",
    "```\n",
    "\n",
    "El modelo Global Vectors fue propuesto por Pennington, J. et al. en su artículo de 2014 <a href=\"https://aclanthology.org/D14-1162/\" target=\"_blank\"> \"GloVe: Vectores for Word Representatioc\"</a>. Combina el modelo de salto de skip-gram  con  co-occurrence statistics   a nivel global (de ahí su nombre). \n",
    "\n",
    "No vamos a entrar en su funcionamiento interno pero, si está interesado en saber más sobre él, no deje de consultar su sitio web. https://nlp.stanford.edu/projects/glove/.\n",
    "\n",
    "Las incrustaciones GloVe preentrenadas tienen muchos tamaños y formas: las dimensiones varían entre 25 y 300, los vocabularios entre 400.000 y 2.200.000 palabras. Utilicemos el descargador de Gensim para  recuperar la más pequeña: glove-wiki-gigaword-50. Se entrenó con Wikipedia 2014 y Gigawords 5, contiene 400.000 palabras en su vocabulario, y sus incrustaciones tienen 50 dimensiones."
   ]
  },
  {
   "cell_type": "code",
   "execution_count": 76,
   "id": "7450b645",
   "metadata": {},
   "outputs": [
    {
     "data": {
      "text/plain": [
       "400000"
      ]
     },
     "execution_count": 76,
     "metadata": {},
     "output_type": "execute_result"
    }
   ],
   "source": [
    "from gensim import downloader\n",
    "glove = downloader.load('glove-wiki-gigaword-50')\n",
    "\n",
    "# len(glove.vocab)\n",
    "\n",
    "len(list(glove.index_to_key))"
   ]
  },
  {
   "cell_type": "markdown",
   "id": "bf66d985",
   "metadata": {},
   "source": [
    "Comprobemos las incrustaciones de \"alice\" (el vocabulario no está codificado):"
   ]
  },
  {
   "cell_type": "code",
   "execution_count": 77,
   "id": "768c6e43",
   "metadata": {},
   "outputs": [
    {
     "data": {
      "text/plain": [
       "array([ 0.16386 ,  0.57795 , -0.59197 , -0.32446 ,  0.29762 ,  0.85151 ,\n",
       "       -0.76695 , -0.20733 ,  0.21491 , -0.51587 , -0.17517 ,  0.94459 ,\n",
       "        0.12705 , -0.33031 ,  0.75951 ,  0.44449 ,  0.16553 , -0.19235 ,\n",
       "        0.065533, -0.12394 ,  0.61446 ,  0.89784 ,  0.17413 ,  0.41149 ,\n",
       "        1.191   , -0.39461 , -0.459   ,  0.022161, -0.50843 , -0.44464 ,\n",
       "        0.68721 , -0.7167  ,  0.20835 , -0.23437 ,  0.02604 , -0.47993 ,\n",
       "        0.31873 , -0.29135 ,  0.50273 , -0.55144 , -0.066692,  0.43873 ,\n",
       "       -0.24293 , -1.0247  ,  0.029375,  0.068499,  0.25451 , -1.9663  ,\n",
       "        0.26673 ,  0.88486 ], dtype=float32)"
      ]
     },
     "execution_count": 77,
     "metadata": {},
     "output_type": "execute_result"
    }
   ],
   "source": [
    "glove['alice']"
   ]
  },
  {
   "cell_type": "markdown",
   "id": "19041bff",
   "metadata": {},
   "source": [
    "Ahora podemo probar si con este modelo se cumple la famosa \"ecuación\":\n",
    "    \n",
    "KING - MAN + WOMAN = QUEEN. Al resultado lo llamamos \"synthetic queen\""
   ]
  },
  {
   "cell_type": "code",
   "execution_count": 79,
   "id": "f6215af1",
   "metadata": {},
   "outputs": [],
   "source": [
    "synthetic_queen = glove['king'] - glove['man'] + glove['woman']"
   ]
  },
  {
   "cell_type": "markdown",
   "id": "29f414f5",
   "metadata": {},
   "source": [
    "Estos son los correspondiente embeddings:"
   ]
  },
  {
   "cell_type": "code",
   "execution_count": 81,
   "id": "21541f44",
   "metadata": {},
   "outputs": [],
   "source": [
    "def plot_word_vectors(wv, words, other=None):\n",
    "    vectors = []\n",
    "    for word in words:\n",
    "        try:\n",
    "            vectors.append(wv[word])\n",
    "        except KeyError:\n",
    "            if other is not None:\n",
    "                vectors.append(other[word])\n",
    "    \n",
    "    vectors = np.array(vectors)\n",
    "\n",
    "    fig, axs = plt.subplots(len(words), 1, figsize=(18, len(words)*.7))\n",
    "    if len(words) == 1:\n",
    "        axs = [axs]\n",
    "    \n",
    "    for i, word in enumerate(words):\n",
    "        axs[i].imshow(vectors[i].reshape(1, -1), cmap=plt.cm.RdBu, vmin=vectors.min(), vmax=vectors.max())\n",
    "        axs[i].set_xticklabels([])\n",
    "        axs[i].set_yticklabels(['', word, ''])\n",
    "        axs[i].grid(False)\n",
    "        \n",
    "    fig.tight_layout()\n",
    "    return fig"
   ]
  },
  {
   "cell_type": "code",
   "execution_count": 83,
   "id": "84eb278a",
   "metadata": {},
   "outputs": [],
   "source": [
    "import matplotlib.pyplot as plt"
   ]
  },
  {
   "cell_type": "code",
   "execution_count": 84,
   "id": "7d8f5257",
   "metadata": {},
   "outputs": [
    {
     "name": "stderr",
     "output_type": "stream",
     "text": [
      "C:\\Users\\Francisco\\AppData\\Local\\Temp\\ipykernel_20424\\682304074.py:19: UserWarning: FixedFormatter should only be used together with FixedLocator\n",
      "  axs[i].set_yticklabels(['', word, ''])\n"
     ]
    },
    {
     "data": {
      "image/png": "[encoded data removed]",
      "text/plain": [
       "<Figure size 1800x350 with 5 Axes>"
      ]
     },
     "metadata": {},
     "output_type": "display_data"
    }
   ],
   "source": [
    "fig = plot_word_vectors(\n",
    "    glove, ['king', 'man', 'woman', 'synthetic', 'queen'],\n",
    "    other={'synthetic': synthetic_queen}\n",
    ")"
   ]
  },
  {
   "cell_type": "markdown",
   "id": "bcd20a65",
   "metadata": {},
   "source": [
    "¿Cómo se parece la \"synthetic queen\" a la \"queen\" real? nos podiamos preguntar. Es difícil saberlo sólo mirando los vectores anteriores, pero los vectores de palabras de Gensim tienen un método denominado *similar_by_vector* que\n",
    "calcula la similitud del coseno entre un vector dado y todo el vocabulario y devuelve las N palabras más similares:"
   ]
  },
  {
   "cell_type": "code",
   "execution_count": 85,
   "id": "8a652267",
   "metadata": {},
   "outputs": [
    {
     "data": {
      "text/plain": [
       "[('king', 0.8859834671020508),\n",
       " ('queen', 0.8609582185745239),\n",
       " ('daughter', 0.7684512734413147),\n",
       " ('prince', 0.7640699744224548),\n",
       " ('throne', 0.7634970545768738)]"
      ]
     },
     "execution_count": 85,
     "metadata": {},
     "output_type": "execute_result"
    }
   ],
   "source": [
    "glove.similar_by_vector(synthetic_queen, topn=5)"
   ]
  },
  {
   "cell_type": "markdown",
   "id": "1b032f65",
   "metadata": {},
   "source": [
    "Podemos ver que según este resultado, la palabra más similar a \"\"synthetic queen\" es \"queen\".\n",
    "\n",
    "No siempre es así, pero es bastante habitual descubrir que, después de realizar la aritmética de incrustación de palabras, la palabra más similar al resultado es la propia palabra original. \n",
    "\n",
    "Por eso, es habitual excluir la palabra original de los resultados de similitud. En este caso, la palabra más parecida a la \"synthetic queen\" es, en efecto la propia \"queen\".\n",
    "\n",
    "Veamos un poco cómo funciona esta aritmética de suma de palabras. La idea general es que las incrustaciones aprendieron a codificar dimensiones abstractas, como \"género\", \"realeza\" o \"profesión\".\n",
    "abstractas, como \"gender\", \"royalty\", \"genealogy\", or \"profession\".\n",
    "Sin embargo, ninguna de estas dimensiones abstractas corresponden a una dimensión numérica simple.\n",
    "\n",
    "En su gran espacio de características de 50 dimensiones, el modelo aprendió a colocar \"man\" tan lejos de \"woman\" como \"king\" lo está de \"queen\" (aproximadamente la diferencia de género entre ambos). Del mismo modo, el modelo aprendió a situar \"king\" tan lejos de \"man\" como \"queen\" de \"woman\" (aproximadamente la diferencia de género entre ambos).\n",
    "\n",
    "La figura siguiente representa una proyección hipotética en dos dimensiones para facilitar la visualización:\n",
    "\n",
    "![](figuras/queen.PNG)\n",
    "\n",
    "De la figura anterior, debería quedar relativamente claro que ambas flechas apuntando hacia arriba (azul) son aproximadamente del mismo tamaño, lo que resulta en la ecuación siguiente:\n",
    "\n",
    "$$\n",
    "\\Large\n",
    "w_{\\text{king}} - w_{\\text{man}}\\approx w_{\\text{queen}}-w_{\\text{woman}} \\implies w_{\\text{king}} - w_{\\text{man}} + w_{\\text{woman}} \\approx w_{\\text{queen}}\n",
    "$$\n",
    "\n",
    "Esta aritmética es genial y todo eso, pero no la usarás mucho. ...el punto era mostrarte que las incrustaciones de palabras... de hecho capturan la relación entre diferentes palabras. Podemos usarlas para entrenar otros modelos...\n",
    "\n",
    "## Usando Word Embeddings\n",
    "\n",
    "Parece bastante fácil: obtener los corpus de texto tokenizados, buscar los en la tabla de incrustaciones de palabras preentrenadas y, a continuación como entradas de otro modelo. Pero, ¿y si el vocabulario de los corpus no está representado correctamente en las las incrustaciones? Peor aún, ¿y si los pasos de preprocesamiento utilizados han dado lugar a una gran cantidad de tokens que no existen en las incrustaciones?.\n",
    "\n",
    "Una vez más, el Caballero del Grial tiene razón... la palabra elegida deben proporcionar una buena cobertura de vocabulario. Ante todo la mayoría de los pasos habituales de preprocesamiento no se aplican cuando se usan incrustaciones de palabras preentrenadas como GloVe: ni lematización, ni stemming, ni eliminación de palabras vacías. Estos pasos\n",
    "acabarían produciendo muchos tokens [UNK].\n",
    "\n",
    "En segundo lugar, incluso sin esos pasos de preprocesamiento, puede que las palabras utilizadas en los corpus de texto no se ajustan bien a un conjunto determinado de incrustaciones de palabras.\n",
    "\n",
    "Veamos hasta qué punto las incrustaciones de glove-wiki-gigaword-50 enlazan con nuestro vocabulario. Nuestro vocabulario tiene 3.706 palabras (3.704 de nuestros corpus de texto más el relleno y los tokens especiales desconocidos\n",
    "desconocidos):"
   ]
  },
  {
   "cell_type": "code",
   "execution_count": 86,
   "id": "00fe999b",
   "metadata": {},
   "outputs": [
    {
     "data": {
      "text/plain": [
       "3706"
      ]
     },
     "execution_count": 86,
     "metadata": {},
     "output_type": "execute_result"
    }
   ],
   "source": [
    "vocab = list(dictionary.token2id.keys())\n",
    "len(vocab)"
   ]
  },
  {
   "cell_type": "markdown",
   "id": "9013eed7",
   "metadata": {},
   "source": [
    "Veamos cuántas palabras de nuestro propio vocabulario son desconocidas para las incrustaciones:"
   ]
  },
  {
   "cell_type": "code",
   "execution_count": 98,
   "id": "9c6be769",
   "metadata": {},
   "outputs": [
    {
     "name": "stdout",
     "output_type": "stream",
     "text": [
      "44\n",
      "['[PAD]', '[UNK]', 'arrum', 'barrowful', 'beauti']\n"
     ]
    }
   ],
   "source": [
    "#unknown_words = sorted(list(set(vocab).difference(set(glove.vocab))))\n",
    "# Lo anterior me daba error con la nueva versión 4.0 de Gensim\n",
    "unknown_words = sorted(list(set(vocab).difference(set(glove.index_to_key))))\n",
    "print(len(unknown_words))\n",
    "print(unknown_words[:5])"
   ]
  },
  {
   "cell_type": "markdown",
   "id": "01a3b4d1",
   "metadata": {},
   "source": [
    "#glove.vocab\n",
    "list(glove.index_to_key)"
   ]
  },
  {
   "cell_type": "markdown",
   "id": "f379c8a5",
   "metadata": {},
   "source": [
    "Sólo hay 44 palabras desconocidas: las dos fichas especiales y algunas otras palabras raras como \"arrum\" y \"barrowful\". Tiene buena pinta ¿verdad? Significa que hay 3.662 coincidencias de 3.706 palabras, lo que indica una cobertura del 98,81%. Pero en realidad es mejor que eso.\n",
    "\n",
    "Si nos fijamos en la frecuencia con la que las palabras desconocidas aparecen en nuestros corpus de texto, tendremos una medida precisa de cuántos tokens  serán desconocidas para las incrustaciones. Para obtener el recuento total necesitamos\n",
    "obtener primero los id de las palabras desconocidas, y luego mirar sus frecuenciasen los corpus:"
   ]
  },
  {
   "cell_type": "code",
   "execution_count": 93,
   "id": "4a14367d",
   "metadata": {},
   "outputs": [
    {
     "data": {
      "text/plain": [
       "(82, 50802)"
      ]
     },
     "execution_count": 93,
     "metadata": {},
     "output_type": "execute_result"
    }
   ],
   "source": [
    "unknown_ids = [dictionary.token2id[w] for w in unknown_words if w not in ['[PAD]', '[UNK]']]\n",
    "unknown_count = np.sum([dictionary.cfs[idx] for idx in unknown_ids])\n",
    "unknown_count, dictionary.num_pos"
   ]
  },
  {
   "cell_type": "markdown",
   "id": "c34c1425",
   "metadata": {},
   "source": [
    "Sólo 82 de las 50.802 palabras de los corpus de texto no pueden emparejarse con el vocabulario de las palabras incrustadas. Un impresionante 99,84% de cobertura.\n",
    "\n",
    "La siguiente función de ayuda puede utilizarse para calcular la cobertura del vocabulario dado un diccionario de Gensim y unas incrustaciones preentrenados:"
   ]
  },
  {
   "cell_type": "code",
   "execution_count": 96,
   "id": "948a5751",
   "metadata": {},
   "outputs": [],
   "source": [
    "def vocab_coverage(gensim_dict, pretrained_wv, special_tokens=('[PAD]', '[UNK]')):\n",
    "    vocab = list(gensim_dict.token2id.keys())\n",
    "    unknown_words = sorted(list(set(vocab).difference(set(pretrained_wv.index_to_key))))\n",
    "    unknown_ids = [gensim_dict.token2id[w] for w in unknown_words if w not in special_tokens]\n",
    "    unknown_count = np.sum([gensim_dict.cfs[idx] for idx in unknown_ids])\n",
    "    cov = 1 - unknown_count / gensim_dict.num_pos\n",
    "    return cov"
   ]
  },
  {
   "cell_type": "code",
   "execution_count": 97,
   "id": "a3b7f638",
   "metadata": {},
   "outputs": [
    {
     "data": {
      "text/plain": [
       "0.9983858903192788"
      ]
     },
     "execution_count": 97,
     "metadata": {},
     "output_type": "execute_result"
    }
   ],
   "source": [
    "# Utilizo la función anterior\n",
    "vocab_coverage(dictionary, glove)"
   ]
  },
  {
   "cell_type": "markdown",
   "id": "3e96b229",
   "metadata": {},
   "source": [
    "Cuando estemos satisfechos con la cobertura de vocabulario de nuestras incrustaciones preentrenadas podemos guardar el vocabulario de las incrustaciones en el disco disco como archivo de texto sin formato, para poder utilizarlo con el  HF tokenizer:"
   ]
  },
  {
   "cell_type": "code",
   "execution_count": 105,
   "id": "5a38ae07",
   "metadata": {},
   "outputs": [],
   "source": [
    "def make_vocab_from_wv(wv, folder=None, special_tokens=None):\n",
    "    if folder is not None:\n",
    "        if not os.path.exists(folder):\n",
    "            os.mkdir(folder)\n",
    "\n",
    "    words = wv.index_to_key\n",
    "    if special_tokens is not None:\n",
    "        to_add = []\n",
    "        for special_token in special_tokens:\n",
    "            if special_token not in words:\n",
    "                to_add.append(special_token)\n",
    "        words = to_add + words\n",
    "                \n",
    "    with open(os.path.join(folder, 'vocab.txt'), 'w', encoding=\"utf-8\") as f:\n",
    "        for word in words:\n",
    "            f.write(f'{word}\\n')   "
   ]
  },
  {
   "cell_type": "code",
   "execution_count": 106,
   "id": "aba84e60",
   "metadata": {},
   "outputs": [],
   "source": [
    "make_vocab_from_wv(glove, 'glove_vocab/', special_tokens=['[PAD]', '[UNK]'])"
   ]
  },
  {
   "cell_type": "markdown",
   "id": "c9223c16",
   "metadata": {},
   "source": [
    "Usaremos la clase BertTokenizer una vez más para crear un tokenizador basado en el vocabulario de GloVe:"
   ]
  },
  {
   "cell_type": "code",
   "execution_count": 107,
   "id": "f0b6c6cc",
   "metadata": {},
   "outputs": [],
   "source": [
    "glove_tokenizer = BertTokenizer('glove_vocab/vocab.txt')"
   ]
  },
  {
   "cell_type": "markdown",
   "id": "9b9d7a95",
   "metadata": {},
   "source": [
    "Una vez más: el tokenizador (preentrenado) que utilizará realmente con un modelo BERT (preentrenado) BERT no necesita vocabulario.\n",
    "\n",
    "Ahora podemos utilizar su método encode para obtener los índices de los tokens de una frase:"
   ]
  },
  {
   "cell_type": "code",
   "execution_count": 108,
   "id": "217e0b0f",
   "metadata": {},
   "outputs": [
    {
     "data": {
      "text/plain": [
       "[7101, 930, 2, 300, 12427]"
      ]
     },
     "execution_count": 108,
     "metadata": {},
     "output_type": "execute_result"
    }
   ],
   "source": [
    "glove_tokenizer.encode('alice followed the white rabbit',\n",
    "add_special_tokens=False)"
   ]
  },
  {
   "cell_type": "markdown",
   "id": "99bacab5",
   "metadata": {},
   "source": [
    "Estos son los índices que utilizaremos para recuperar las correspondientes incrustaciones de palabras. Hay un pequeño detalle que tenemos que cuidar primero, sin embargo...\n",
    "\n",
    "<!-- lo dejo en pagina 1203 -->"
   ]
  }
 ],
 "metadata": {
  "kernelspec": {
   "display_name": "Python 3 (ipykernel)",
   "language": "python",
   "name": "python3"
  },
  "language_info": {
   "codemirror_mode": {
    "name": "ipython",
    "version": 3
   },
   "file_extension": ".py",
   "mimetype": "text/x-python",
   "name": "python",
   "nbconvert_exporter": "python",
   "pygments_lexer": "ipython3",
   "version": "3.11.4"
  },
  "toc": {
   "base_numbering": 1,
   "nav_menu": {},
   "number_sections": true,
   "sideBar": true,
   "skip_h1_title": false,
   "title_cell": "Table of Contents",
   "title_sidebar": "Contents",
   "toc_cell": false,
   "toc_position": {},
   "toc_section_display": true,
   "toc_window_display": false
  },
  "varInspector": {
   "cols": {
    "lenName": 16,
    "lenType": 16,
    "lenVar": 40
   },
   "kernels_config": {
    "python": {
     "delete_cmd_postfix": "",
     "delete_cmd_prefix": "del ",
     "library": "var_list.py",
     "varRefreshCmd": "print(var_dic_list())"
    },
    "r": {
     "delete_cmd_postfix": ") ",
     "delete_cmd_prefix": "rm(",
     "library": "var_list.r",
     "varRefreshCmd": "cat(var_dic_list()) "
    }
   },
   "types_to_exclude": [
    "module",
    "function",
    "builtin_function_or_method",
    "instance",
    "_Feature"
   ],
   "window_display": false
  }
 },
 "nbformat": 4,
 "nbformat_minor": 5
}
