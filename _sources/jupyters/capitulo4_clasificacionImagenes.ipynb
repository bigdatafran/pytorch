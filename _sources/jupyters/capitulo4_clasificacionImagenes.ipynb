{
 "cells": [
  {
   "cell_type": "markdown",
   "id": "8efff536",
   "metadata": {},
   "source": [
    "# Introducción clasificación de imágenes.\n",
    "\n",
    "Si en el tema anterior hemos procedido a crear código para poder clasificar elementos numéricos, en el tema actual vamos a proceder a hacer una clasificación similar, pero en este caso con imágenes.\n",
    "\n",
    "Lo primero que hacemos, es importar los paquetes que necesitamos"
   ]
  },
  {
   "cell_type": "code",
   "execution_count": 2,
   "id": "fddd0b10",
   "metadata": {},
   "outputs": [],
   "source": [
    "#!pip install torchvision"
   ]
  },
  {
   "cell_type": "code",
   "execution_count": 3,
   "id": "0dcddc3b",
   "metadata": {},
   "outputs": [
    {
     "ename": "ModuleNotFoundError",
     "evalue": "No module named 'tensorboard'",
     "output_type": "error",
     "traceback": [
      "\u001b[1;31m---------------------------------------------------------------------------\u001b[0m",
      "\u001b[1;31mModuleNotFoundError\u001b[0m                       Traceback (most recent call last)",
      "Cell \u001b[1;32mIn[3], line 16\u001b[0m\n\u001b[0;32m     13\u001b[0m plt\u001b[38;5;241m.\u001b[39mstyle\u001b[38;5;241m.\u001b[39muse(\u001b[38;5;124m'\u001b[39m\u001b[38;5;124mfivethirtyeight\u001b[39m\u001b[38;5;124m'\u001b[39m)\n\u001b[0;32m     14\u001b[0m get_ipython()\u001b[38;5;241m.\u001b[39mrun_line_magic(\u001b[38;5;124m'\u001b[39m\u001b[38;5;124mmatplotlib\u001b[39m\u001b[38;5;124m'\u001b[39m, \u001b[38;5;124m'\u001b[39m\u001b[38;5;124minline\u001b[39m\u001b[38;5;124m'\u001b[39m)\n\u001b[1;32m---> 16\u001b[0m \u001b[38;5;28;01mfrom\u001b[39;00m \u001b[38;5;21;01mstepbystep\u001b[39;00m\u001b[38;5;21;01m.\u001b[39;00m\u001b[38;5;21;01mv0\u001b[39;00m \u001b[38;5;28;01mimport\u001b[39;00m StepByStep\n",
      "File \u001b[1;32mD:\\MisTrabajos\\Pytorch\\libro_pytorch\\jupyters\\stepbystep\\v0.py:5\u001b[0m\n\u001b[0;32m      3\u001b[0m \u001b[38;5;28;01mimport\u001b[39;00m \u001b[38;5;21;01mtorch\u001b[39;00m\n\u001b[0;32m      4\u001b[0m \u001b[38;5;28;01mimport\u001b[39;00m \u001b[38;5;21;01mmatplotlib\u001b[39;00m\u001b[38;5;21;01m.\u001b[39;00m\u001b[38;5;21;01mpyplot\u001b[39;00m \u001b[38;5;28;01mas\u001b[39;00m \u001b[38;5;21;01mplt\u001b[39;00m\n\u001b[1;32m----> 5\u001b[0m \u001b[38;5;28;01mfrom\u001b[39;00m \u001b[38;5;21;01mtorch\u001b[39;00m\u001b[38;5;21;01m.\u001b[39;00m\u001b[38;5;21;01mutils\u001b[39;00m\u001b[38;5;21;01m.\u001b[39;00m\u001b[38;5;21;01mtensorboard\u001b[39;00m \u001b[38;5;28;01mimport\u001b[39;00m SummaryWriter\n\u001b[0;32m      7\u001b[0m plt\u001b[38;5;241m.\u001b[39mstyle\u001b[38;5;241m.\u001b[39muse(\u001b[38;5;124m'\u001b[39m\u001b[38;5;124mfivethirtyeight\u001b[39m\u001b[38;5;124m'\u001b[39m)\n\u001b[0;32m      9\u001b[0m \u001b[38;5;28;01mclass\u001b[39;00m \u001b[38;5;21;01mStepByStep\u001b[39;00m(\u001b[38;5;28mobject\u001b[39m):\n",
      "File \u001b[1;32mD:\\MisTrabajos\\Pytorch\\pytorch\\lib\\site-packages\\torch\\utils\\tensorboard\\__init__.py:1\u001b[0m\n\u001b[1;32m----> 1\u001b[0m \u001b[38;5;28;01mimport\u001b[39;00m \u001b[38;5;21;01mtensorboard\u001b[39;00m\n\u001b[0;32m      2\u001b[0m \u001b[38;5;28;01mfrom\u001b[39;00m \u001b[38;5;21;01mdistutils\u001b[39;00m\u001b[38;5;21;01m.\u001b[39;00m\u001b[38;5;21;01mversion\u001b[39;00m \u001b[38;5;28;01mimport\u001b[39;00m LooseVersion\n\u001b[0;32m      4\u001b[0m \u001b[38;5;28;01mif\u001b[39;00m \u001b[38;5;129;01mnot\u001b[39;00m \u001b[38;5;28mhasattr\u001b[39m(tensorboard, \u001b[38;5;124m\"\u001b[39m\u001b[38;5;124m__version__\u001b[39m\u001b[38;5;124m\"\u001b[39m) \u001b[38;5;129;01mor\u001b[39;00m LooseVersion(\n\u001b[0;32m      5\u001b[0m     tensorboard\u001b[38;5;241m.\u001b[39m__version__\n\u001b[0;32m      6\u001b[0m ) \u001b[38;5;241m<\u001b[39m LooseVersion(\u001b[38;5;124m\"\u001b[39m\u001b[38;5;124m1.15\u001b[39m\u001b[38;5;124m\"\u001b[39m):\n",
      "\u001b[1;31mModuleNotFoundError\u001b[0m: No module named 'tensorboard'"
     ]
    }
   ],
   "source": [
    "import random\n",
    "import numpy as np\n",
    "from PIL import Image\n",
    "import torch\n",
    "import torch.optim as optim\n",
    "import torch.nn as nn\n",
    "import torch.nn.functional as F\n",
    "from torch.utils.data import DataLoader, Dataset, random_split, \\\n",
    "        WeightedRandomSampler, SubsetRandomSampler\n",
    "from torchvision.transforms import Compose, ToTensor, Normalize,\\\n",
    "ToPILImage, RandomHorizontalFlip, Resize\n",
    "import matplotlib.pyplot as plt\n",
    "plt.style.use('fivethirtyeight')\n",
    "%matplotlib inline\n",
    "\n",
    "from stepbystep.v0 import StepByStep"
   ]
  },
  {
   "cell_type": "markdown",
   "id": "14f191cf",
   "metadata": {},
   "source": [
    "Vamos a definir en el bloque siguiente una función que nos servirá para generar las imágenes con las que se va a trabajar"
   ]
  },
  {
   "cell_type": "code",
   "execution_count": 71,
   "id": "29f825b5",
   "metadata": {},
   "outputs": [],
   "source": [
    "def gen_img(start, target, fill=1, img_size=10):\n",
    "    # Generates empty image\n",
    "    img = np.zeros((img_size, img_size), dtype=float)\n",
    "\n",
    "    start_row, start_col = None, None\n",
    "\n",
    "    if start > 0:\n",
    "        start_row = start\n",
    "    else:\n",
    "        start_col = np.abs(start)\n",
    "\n",
    "    if target == 0:\n",
    "        if start_row is None:\n",
    "            img[:, start_col] = fill\n",
    "        else:\n",
    "            img[start_row, :] = fill\n",
    "    else:\n",
    "        if start_col == 0:\n",
    "            start_col = 1\n",
    "        \n",
    "        if target == 1:\n",
    "            if start_row is not None:\n",
    "                up = (range(start_row, -1, -1), \n",
    "                      range(0, start_row + 1))\n",
    "            else:\n",
    "                up = (range(img_size - 1, start_col - 1, -1), \n",
    "                      range(start_col, img_size))\n",
    "            img[up] = fill\n",
    "        else:\n",
    "            if start_row is not None:\n",
    "                down = (range(start_row, img_size, 1), \n",
    "                        range(0, img_size - start_row))\n",
    "            else:\n",
    "                down = (range(0, img_size - 1 - start_col + 1), \n",
    "                        range(start_col, img_size))\n",
    "            img[down] = fill\n",
    "    \n",
    "    return 255 * img.reshape(1, img_size, img_size)\n",
    "\n",
    "\n",
    "def generate_dataset(img_size=10, n_images=100, binary=True, seed=17):\n",
    "    np.random.seed(seed)\n",
    "\n",
    "    starts = np.random.randint(-(img_size - 1), img_size, size=(n_images,))\n",
    "    targets = np.random.randint(0, 3, size=(n_images,))\n",
    "    \n",
    "    images = np.array([gen_img(s, t, img_size=img_size) \n",
    "                       for s, t in zip(starts, targets)], dtype=np.uint8)\n",
    "    \n",
    "    if binary:\n",
    "        targets = (targets > 0).astype(int)\n",
    "    \n",
    "    return images, targets"
   ]
  },
  {
   "cell_type": "markdown",
   "id": "0aff4b37",
   "metadata": {},
   "source": [
    "Las imágenes que se generan con el código anterior, son muy simples, pero nos sirven para mostrar el procedimiento de clasificación de este tipo de elementos. Consisten en imágenes que tienen el fondo negro y después unas líneas blancas que están dibujadas sobre ese fondo negro. La clasificación que se va a hacer es la siguiente:\n",
    "\n",
    "* Si la línea es diagonal, entonces toma valor 1 (clase positiva)\n",
    "\n",
    "* Si la línea no es diagonal, entonces toma el valor 0 (clase negativa)\n",
    "\n",
    "Vamos a generar de forma aleatoria un total de 300 imágenes cada una con un total de 5x5 pixeles"
   ]
  },
  {
   "cell_type": "code",
   "execution_count": 72,
   "id": "abfb79d6",
   "metadata": {},
   "outputs": [],
   "source": [
    "images, labels = generate_dataset(img_size=5, n_images=300, binary=True, seed=13)"
   ]
  },
  {
   "cell_type": "code",
   "execution_count": 73,
   "id": "a1e9e830",
   "metadata": {},
   "outputs": [],
   "source": [
    "def plot_images(images, targets, n_plot=30):\n",
    "    n_rows = n_plot // 6 + ((n_plot % 6) > 0)\n",
    "    fig, axes = plt.subplots(n_rows, 6, figsize=(9, 1.5 * n_rows))\n",
    "    axes = np.atleast_2d(axes)\n",
    "    \n",
    "    for i, (image, target) in enumerate(zip(images[:n_plot], targets[:n_plot])):\n",
    "        row, col = i // 6, i % 6    \n",
    "        ax = axes[row, col]\n",
    "        ax.set_title('#{} - Label:{}'.format(i, target), {'size': 12})\n",
    "        # plot filter channel in grayscale\n",
    "        ax.imshow(image.squeeze(), cmap='gray', vmin=0, vmax=1)\n",
    "\n",
    "    for ax in axes.flat:\n",
    "        ax.set_xticks([])\n",
    "        ax.set_yticks([])\n",
    "        ax.label_outer()\n",
    "\n",
    "    plt.tight_layout()\n",
    "    return fig"
   ]
  },
  {
   "cell_type": "code",
   "execution_count": 74,
   "id": "8b892d39",
   "metadata": {},
   "outputs": [
    {
     "data": {
      "image/png": "[encoded data removed]",
      "text/plain": [
       "<Figure size 900x750 with 30 Axes>"
      ]
     },
     "metadata": {},
     "output_type": "display_data"
    }
   ],
   "source": [
    "fig = plot_images(images, labels, n_plot=30)"
   ]
  },
  {
   "cell_type": "markdown",
   "id": "8a012316",
   "metadata": {},
   "source": [
    "Dado el escaso número de pixeles con los que trabajamos, existirán imágenes repetidas en el total de 300 que hemos generado,pero esto en principio no importa.\n",
    "\n",
    "## Formación de imágenes para tensores.\n",
    "\n",
    "En este apartado vamos a hacer un pequeño inciso sobre el formato que tienen las imágenes para poder trabajar sobre ellas con los tensores.\n",
    "\n",
    "Para entrar en escena, vamos a crear a continuación tres imágenes de 5x5 pixeles, que está representado por una matriz de tamaño 5x5."
   ]
  },
  {
   "cell_type": "code",
   "execution_count": 75,
   "id": "26eb9377",
   "metadata": {},
   "outputs": [],
   "source": [
    "image_r = np.zeros((5, 5), dtype=np.uint8)\n",
    "image_r[:, 0] = 255\n",
    "image_r[:, 1] = 128\n",
    "\n",
    "image_g = np.zeros((5, 5), dtype=np.uint8)\n",
    "image_g[:, 1] = 128\n",
    "image_g[:, 2] = 255\n",
    "image_g[:, 3] = 128\n",
    "\n",
    "image_b = np.zeros((5, 5), dtype=np.uint8)\n",
    "image_b[:, 3] = 128\n",
    "image_b[:, 4] = 255"
   ]
  },
  {
   "cell_type": "code",
   "execution_count": 76,
   "id": "a799b856",
   "metadata": {},
   "outputs": [
    {
     "data": {
      "text/plain": [
       "array([[255, 128,   0,   0,   0],\n",
       "       [255, 128,   0,   0,   0],\n",
       "       [255, 128,   0,   0,   0],\n",
       "       [255, 128,   0,   0,   0],\n",
       "       [255, 128,   0,   0,   0]], dtype=uint8)"
      ]
     },
     "execution_count": 76,
     "metadata": {},
     "output_type": "execute_result"
    }
   ],
   "source": [
    "image_r"
   ]
  },
  {
   "cell_type": "markdown",
   "id": "592930f5",
   "metadata": {},
   "source": [
    "Tenemos en este caso tres representaciones de una figura en dos dimensiones lo que significa que se tiene una representación de la imagen en un canal simple. Los valores de la matriz varían desde 0 ( color negro) hasta el 255 (color blanco) y entre medias tendríamos las diferentes tonalidades de grises.\n",
    "\n",
    "Veamos algunas representaciones de estas imágenes"
   ]
  },
  {
   "cell_type": "code",
   "execution_count": 77,
   "id": "9cf5d73d",
   "metadata": {},
   "outputs": [
    {
     "data": {
      "text/plain": [
       "<matplotlib.image.AxesImage at 0x1e3a55a7250>"
      ]
     },
     "execution_count": 77,
     "metadata": {},
     "output_type": "execute_result"
    },
    {
     "data": {
      "image/png": "[encoded data removed]",
      "text/plain": [
       "<Figure size 900x1000 with 3 Axes>"
      ]
     },
     "metadata": {},
     "output_type": "display_data"
    }
   ],
   "source": [
    "fig, axes = plt.subplots(1, 3, figsize=(9, 10))\n",
    "ax = axes[0]\n",
    "ax.imshow(image_r.squeeze(), cmap='gray')\n",
    "\n",
    "ax = axes[1]\n",
    "ax.imshow(image_g.squeeze(), cmap='gray')\n",
    "\n",
    "ax = axes[2]\n",
    "ax.imshow(image_b.squeeze(), cmap='gray')"
   ]
  },
  {
   "cell_type": "markdown",
   "id": "04cc7f4c",
   "metadata": {},
   "source": [
    "Cada una de las matrices anteriores podrían representar un color: rojo, verde y amarillo que al mezclarse darían lugar a los diferentes colores que podemos apreciar los humanos. La mezcla de estos colores, lo hariamos de la siguiente manera: "
   ]
  },
  {
   "cell_type": "code",
   "execution_count": 78,
   "id": "b3313794",
   "metadata": {},
   "outputs": [
    {
     "data": {
      "text/plain": [
       "array([[[255,   0,   0],\n",
       "        [128, 128,   0],\n",
       "        [  0, 255,   0],\n",
       "        [  0, 128, 128],\n",
       "        [  0,   0, 255]],\n",
       "\n",
       "       [[255,   0,   0],\n",
       "        [128, 128,   0],\n",
       "        [  0, 255,   0],\n",
       "        [  0, 128, 128],\n",
       "        [  0,   0, 255]],\n",
       "\n",
       "       [[255,   0,   0],\n",
       "        [128, 128,   0],\n",
       "        [  0, 255,   0],\n",
       "        [  0, 128, 128],\n",
       "        [  0,   0, 255]],\n",
       "\n",
       "       [[255,   0,   0],\n",
       "        [128, 128,   0],\n",
       "        [  0, 255,   0],\n",
       "        [  0, 128, 128],\n",
       "        [  0,   0, 255]],\n",
       "\n",
       "       [[255,   0,   0],\n",
       "        [128, 128,   0],\n",
       "        [  0, 255,   0],\n",
       "        [  0, 128, 128],\n",
       "        [  0,   0, 255]]], dtype=uint8)"
      ]
     },
     "execution_count": 78,
     "metadata": {},
     "output_type": "execute_result"
    }
   ],
   "source": [
    "image_rgb = np.stack([image_r, image_g, image_b], axis=2)\n",
    "image_rgb"
   ]
  },
  {
   "cell_type": "markdown",
   "id": "aafa543e",
   "metadata": {},
   "source": [
    "## Formato NCHW vs NHWC.\n",
    "\n",
    "```{index} NCHW, NHWC\n",
    "```\n",
    "\n",
    "El significado de esta numenclatura es el siguiente:\n",
    "\n",
    "* N: Representa el número de imágenes.\n",
    "\n",
    "* C Representa el número de canales.\n",
    "\n",
    "* H Representa la altura de la imagen (Height)\n",
    "\n",
    "* W Representa la anchura de la imagen (Widht)\n",
    "\n",
    "Esta notación es el acrónimo de lo que se espera en una entrada mini-batch.\n",
    "\n",
    "Entonces:\n",
    "\n",
    "* NCHW : (n.imagenes,canales,alto,ancho)\n",
    "* NHWC : (n.imagenes,alto,ancho,canales)\n",
    "\n",
    "Hay que tener en cuenta que el formato NCHW es el utilizado por PyTorch, NHWC lo utiliza NHWC  el <a href=\"https://pillow.readthedocs.io/en/stable/index.html\" target=\"_blank\"> paquete de imágenes PIL </a> usa el formato HWC.\n",
    "\n",
    "Teniendo en cuenta todos estos conceptos, lógicamente las imágenes que hemos generado están en formato NCHW listas por lo tanto para poder ser usadas en PyTorch. Veamos pues la dimensión del conjunto de imágenes que hemos creado."
   ]
  },
  {
   "cell_type": "code",
   "execution_count": 79,
   "id": "06520499",
   "metadata": {},
   "outputs": [
    {
     "data": {
      "text/plain": [
       "(300, 1, 5, 5)"
      ]
     },
     "execution_count": 79,
     "metadata": {},
     "output_type": "execute_result"
    }
   ],
   "source": [
    "images.shape"
   ]
  },
  {
   "cell_type": "markdown",
   "id": "8ef38f4c",
   "metadata": {},
   "source": [
    "Es decir, tendriamos 300 imágenes de un solo canal, de 5x5. Veamos el contenido de una imagen"
   ]
  },
  {
   "cell_type": "code",
   "execution_count": 80,
   "id": "498b359d",
   "metadata": {},
   "outputs": [
    {
     "data": {
      "text/plain": [
       "array([[[  0, 255,   0,   0,   0],\n",
       "        [  0,   0, 255,   0,   0],\n",
       "        [  0,   0,   0, 255,   0],\n",
       "        [  0,   0,   0,   0, 255],\n",
       "        [  0,   0,   0,   0,   0]]], dtype=uint8)"
      ]
     },
     "execution_count": 80,
     "metadata": {},
     "output_type": "execute_result"
    }
   ],
   "source": [
    "example = images[7]\n",
    "example"
   ]
  },
  {
   "cell_type": "markdown",
   "id": "f7f8bbbb",
   "metadata": {},
   "source": [
    "O varias imágenes"
   ]
  },
  {
   "cell_type": "code",
   "execution_count": 81,
   "id": "bba97ba6",
   "metadata": {},
   "outputs": [
    {
     "data": {
      "text/plain": [
       "array([[[[  0,   0,   0,   0,   0],\n",
       "         [  0,   0,   0,   0, 255],\n",
       "         [  0,   0,   0, 255,   0],\n",
       "         [  0,   0, 255,   0,   0],\n",
       "         [  0, 255,   0,   0,   0]]],\n",
       "\n",
       "\n",
       "       [[[  0, 255,   0,   0,   0],\n",
       "         [  0,   0, 255,   0,   0],\n",
       "         [  0,   0,   0, 255,   0],\n",
       "         [  0,   0,   0,   0, 255],\n",
       "         [  0,   0,   0,   0,   0]]]], dtype=uint8)"
      ]
     },
     "execution_count": 81,
     "metadata": {},
     "output_type": "execute_result"
    }
   ],
   "source": [
    "images[5:7]"
   ]
  },
  {
   "cell_type": "markdown",
   "id": "0a10b3fd",
   "metadata": {},
   "source": [
    "En todas estas imágenes, vemos que todas ellas tienen una línea diagonal, indicada por el valor 255 (color blanco). Supongamos que ahora queremos pasar una imagen al formato requerido por PIL (HWC), entonces para conseguir estos debemos usar el método *transpose* de numpy de las siguiente manera:"
   ]
  },
  {
   "cell_type": "code",
   "execution_count": 82,
   "id": "f7f241b7",
   "metadata": {},
   "outputs": [
    {
     "data": {
      "text/plain": [
       "(5, 5, 1)"
      ]
     },
     "execution_count": 82,
     "metadata": {},
     "output_type": "execute_result"
    }
   ],
   "source": [
    "example_hwc = np.transpose(example,(1,2,0))\n",
    "example_hwc.shape"
   ]
  },
  {
   "cell_type": "code",
   "execution_count": 83,
   "id": "dd4f5b98",
   "metadata": {},
   "outputs": [
    {
     "data": {
      "text/plain": [
       "array([[[  0],\n",
       "        [255],\n",
       "        [  0],\n",
       "        [  0],\n",
       "        [  0]],\n",
       "\n",
       "       [[  0],\n",
       "        [  0],\n",
       "        [255],\n",
       "        [  0],\n",
       "        [  0]],\n",
       "\n",
       "       [[  0],\n",
       "        [  0],\n",
       "        [  0],\n",
       "        [255],\n",
       "        [  0]],\n",
       "\n",
       "       [[  0],\n",
       "        [  0],\n",
       "        [  0],\n",
       "        [  0],\n",
       "        [255]],\n",
       "\n",
       "       [[  0],\n",
       "        [  0],\n",
       "        [  0],\n",
       "        [  0],\n",
       "        [  0]]], dtype=uint8)"
      ]
     },
     "execution_count": 83,
     "metadata": {},
     "output_type": "execute_result"
    }
   ],
   "source": [
    "example_hwc"
   ]
  },
  {
   "cell_type": "markdown",
   "id": "d429ae73",
   "metadata": {},
   "source": [
    "## Torchvision.\n",
    "\n",
    " <a href=\"https://pillow.readthedocs.io/en/stable/index.html\" target=\"_blank\"> Esta librería </a> es parte del proyecto PyTorch y contiene data set populares, arquitectura de modelos, y transformaciones comunes de imágenes para computer vision.\n",
    " \n",
    " ### Datasets.\n",
    " \n",
    "```{index} ImageFolder\n",
    "``` \n",
    " \n",
    " Muchos data set populares, como MNIST, ImageNet o CIFAR están incluidos en los dataset de PyTorch. Estos data set heredan de la clase *Dataset*, y en consecuencia se les puede aplicar *DataLoader* como ya se ha explicado en apartados anteriores.\n",
    " \n",
    " Hay un particular dataset sobre el que hay que pararse un poquito. Se trata de <a href=\"https://pytorch.org/vision/stable/generated/torchvision.datasets.ImageFolder.html#torchvision.datasets.ImageFolder\"  target=\"_blank\"> ImageFolder </a>, que es un dataset genérico que se puede utilizar con las propias imágenes del ususario. Este dataset se puede organizar en subcarpetas, cada una conteniendo imágenes de diversos temas.\n",
    " \n",
    " ### Modelos.\n",
    " \n",
    " PyTorch también incluye <a herf=\"https://pytorch.org/vision/stable/models.html\" target=\"_blank\"> diversos modelos ya entrenados </a>.\n",
    " \n",
    " Entre los muchos modelos que ya vienen en la instalación por defecto, se pueden encontrar algunos bien conocidos como Alexnet, VGG, ResNet.\n",
    " \n",
    " ### Transformadores.\n",
    " \n",
    " Se puede encontrar también un módulo que permite <a heref=\"https://pytorch.org/vision/stable/transforms.html\" target=\"_blank\"> hacer transformaciones de imágenes </a>. Este módulo es importante para hacer dos grupos de transformaciones:\n",
    " \n",
    " * Transformaciones sobre imágenes. (Hay un trasnformador para convertir entre imágenes PIL y tensores)\n",
    " \n",
    " * Trasnformaciones basadas en tensores.\n",
    " \n",
    " ```{index} ToPILmage, ToTensor\n",
    "```\n",
    " \n",
    " Se pueden hacer transformaciones de tensor a PIL (ToPILImage), y de PIL a tensor (ToTensor) \n",
    " \n",
    " Vamos a ver cómo poder convertir una imagen PIL, que es la que hemos obtenido antes y que se denomina *example_hwc* a un tensor de PyTorch. Lo hacemos de la siguiente manera"
   ]
  },
  {
   "cell_type": "code",
   "execution_count": 84,
   "id": "a7ab271e",
   "metadata": {},
   "outputs": [
    {
     "data": {
      "text/plain": [
       "torch.Size([1, 5, 5])"
      ]
     },
     "execution_count": 84,
     "metadata": {},
     "output_type": "execute_result"
    }
   ],
   "source": [
    "tensorizer = ToTensor() # Esta clase pasa a tensor la imagen con formato PIL\n",
    "example_tensor = tensorizer(example_hwc)\n",
    "example_tensor.shape"
   ]
  },
  {
   "cell_type": "code",
   "execution_count": 85,
   "id": "e2947314",
   "metadata": {},
   "outputs": [
    {
     "data": {
      "text/plain": [
       "tensor([[[0., 1., 0., 0., 0.],\n",
       "         [0., 0., 1., 0., 0.],\n",
       "         [0., 0., 0., 1., 0.],\n",
       "         [0., 0., 0., 0., 1.],\n",
       "         [0., 0., 0., 0., 0.]]])"
      ]
     },
     "execution_count": 85,
     "metadata": {},
     "output_type": "execute_result"
    }
   ],
   "source": [
    "# Veamos su contenido\n",
    "example_tensor"
   ]
  },
  {
   "cell_type": "markdown",
   "id": "c1120bac",
   "metadata": {},
   "source": [
    "Podemos observar que aquí también tenemos una imagen en diagonal, pero...no es lo mismo que teniamos en la imagen inicial, pues recordemos que aquella tenía de contenido lo siguiente"
   ]
  },
  {
   "cell_type": "code",
   "execution_count": 86,
   "id": "58099c23",
   "metadata": {},
   "outputs": [
    {
     "data": {
      "text/plain": [
       "array([[[  0, 255,   0,   0,   0],\n",
       "        [  0,   0, 255,   0,   0],\n",
       "        [  0,   0,   0, 255,   0],\n",
       "        [  0,   0,   0,   0, 255],\n",
       "        [  0,   0,   0,   0,   0]]], dtype=uint8)"
      ]
     },
     "execution_count": 86,
     "metadata": {},
     "output_type": "execute_result"
    }
   ],
   "source": [
    "example"
   ]
  },
  {
   "cell_type": "markdown",
   "id": "7408452b",
   "metadata": {},
   "source": [
    "Es decir el valor 255 se ha convertido en 1. Esto es así porque por defecto esta transformación lo que ha hecho es escalar los valores, para que pasen a valer entre cero y uno.\n",
    "\n",
    "Estas transformaciones modifican las imágenes de entrenamiento de muchas formas diferentes: girando, desplazando, volteando, recortando, desenfocando ampliarla, añadirle ruido, borrar partes de ella...\n",
    "\n",
    "**Es lo que se llama aumento de datos**. Es una técnica inteligente para ampliar un conjunto de datos (aumentarlo) sin recoger más datos. En general, los modelos de aprendizaje profundo son muy ávidos de datos y requieren una gran cantidad de ejemplos para funcionar bien. Pero la recopilación de grandes conjuntos de datos suele ser difícil, y a veces imposible.\n",
    "\n",
    "Para entender mejor lo anterior supongamos que tenemos una imagen de un perro. Si la giramos, sigue siendo un perro,\n",
    "pero desde un ángulo diferente. En lugar de tomar dos fotos del perro, una desde cada ángulo, tomamos la imagen que ya tenemos y utilizamos el aumento de datos para simular muchos ángulos diferentes. No es lo mismo que la foto real, pero se acerca lo suficiente como para mejorar el rendimiento de nuestro modelo. \n",
    "\n",
    "Ni que decir tiene que el aumento de datos no es adecuado para todas las tareas: si se trata de realizar una detección de objetos es decir, detectar la posición de un objeto en una imagen, no debería hacer nada que cambie su posición, como voltear o desplazar. Sin embargo, añadir un poco de ruido también estaría bien.\n",
    "\n",
    "### Transformaciones sobre imágenes\n",
    "\n",
    "Para ver este apartado es necesario inicialmente tener una imagen y para ello veamos ahora cómo poder convertir un tensor a una imagen PIL. El código sería el siguiente"
   ]
  },
  {
   "cell_type": "code",
   "execution_count": 87,
   "id": "d722e397",
   "metadata": {},
   "outputs": [
    {
     "name": "stdout",
     "output_type": "stream",
     "text": [
      "<class 'PIL.Image.Image'>\n"
     ]
    }
   ],
   "source": [
    "example_img = ToPILImage()(example_tensor)\n",
    "print(type(example_img))"
   ]
  },
  {
   "cell_type": "markdown",
   "id": "7d0e383e",
   "metadata": {},
   "source": [
    "Como el valor obtenido es una imagen PIL podremos usar Matpltliib para hacer su representación gráfica."
   ]
  },
  {
   "cell_type": "code",
   "execution_count": 88,
   "id": "6cd187d0",
   "metadata": {},
   "outputs": [
    {
     "data": {
      "image/png": "[encoded data removed]",
      "text/plain": [
       "<Figure size 640x480 with 1 Axes>"
      ]
     },
     "metadata": {},
     "output_type": "display_data"
    }
   ],
   "source": [
    "plt.imshow(example_img, cmap='gray')\n",
    "plt.grid(False)"
   ]
  },
  {
   "cell_type": "markdown",
   "id": "5ef02bc8",
   "metadata": {},
   "source": [
    "Son muchas las transformaciones que se pueden hacer sobre una imagen y que se pueden consultar en la documentación oficial de PyTorch, pero aquí vamos a ver un ejemplo sobre cómo poder utilizar estas herramientas.\n",
    "\n",
    "Entre las transformaciones que nos ofrece pytorch están: Resize(), CenterCrop, GrayScale, RandomHorizontalFlip y RandomRotation.\n",
    "\n",
    "Vamos a utilizar la transformación *RandomHorizontalFlip*. En este ejemplo no vamos a dejar nada aleatorio y lo que vamos a hacer es que la figura se gire por completo. Veamoslo"
   ]
  },
  {
   "cell_type": "code",
   "execution_count": 89,
   "id": "19bd443b",
   "metadata": {},
   "outputs": [
    {
     "data": {
      "image/png": "[encoded data removed]",
      "text/plain": [
       "<Figure size 640x480 with 1 Axes>"
      ]
     },
     "metadata": {},
     "output_type": "display_data"
    }
   ],
   "source": [
    "flipper = RandomHorizontalFlip(p=1.0)\n",
    "flipped_img = flipper(example_img)\n",
    "\n",
    "plt.imshow(flipped_img, cmap='gray')\n",
    "plt.grid(False)"
   ]
  },
  {
   "cell_type": "markdown",
   "id": "0d7638ff",
   "metadata": {},
   "source": [
    "Como podemos ver es como si tuviéramos un eje vertical en el centro de la imagen y se hiciera girar esa imagen 180 grados alrededor de ese eje."
   ]
  },
  {
   "cell_type": "markdown",
   "id": "e72d97cb",
   "metadata": {},
   "source": [
    "### Transformaciones sobre tensores.\n",
    "\n",
    "Para el caso de transformaciones para tensores (a diferencia de las imágenes), tan sólo tenemos cuatro posibilidades:\n",
    "\n",
    "1.- LinearTransformation\n",
    "\n",
    "2.- Normalize\n",
    "\n",
    "3.- RandomErasing\n",
    "\n",
    "4.- ConvertImageDtype\n",
    "\n",
    "Para ver el funcionamiento de estas transformaciones, vamos a pasar la imagen a un tensor"
   ]
  },
  {
   "cell_type": "code",
   "execution_count": 90,
   "id": "a6223e64",
   "metadata": {},
   "outputs": [
    {
     "data": {
      "text/plain": [
       "tensor([[[0., 0., 0., 1., 0.],\n",
       "         [0., 0., 1., 0., 0.],\n",
       "         [0., 1., 0., 0., 0.],\n",
       "         [1., 0., 0., 0., 0.],\n",
       "         [0., 0., 0., 0., 0.]]])"
      ]
     },
     "execution_count": 90,
     "metadata": {},
     "output_type": "execute_result"
    }
   ],
   "source": [
    "img_tensor = tensorizer(flipped_img)\n",
    "img_tensor"
   ]
  },
  {
   "cell_type": "markdown",
   "id": "fc5ac400",
   "metadata": {},
   "source": [
    "#### Transformación normalize.\n",
    "\n",
    "La funcionalidad de esta transformación se <a href=\"https://pytorch.org/vision/stable/generated/torchvision.transforms.Normalize.html#torchvision.transforms.Normalize\" target=\"_blank\"> puede encontrar en este enlace </a>. De acuerdo con la documentación oficial, lo que se hace es normalizar un tensor de imagen mediante una media y una desviación típica, dadas cada una para un determinado canal.\n",
    "\n",
    "Observemos que en nuestro caso los valores de los pixeles son positivos y menor que 255, o menor que 1 cuando hemos obtenido los valores de los tensores de la imagen. Supongamos que ahora a estos último valores (los comprendidos entre cero y uno) les hacemos esta transformación *normalize* para una media igual a 0.5 y desviación estándar de 0.5. En esta situación el valor cero que es el más pequeño se convierte en -1 y el 1 en 1. Es decir es como si hacemos la transformación *MinMaxScaler* de Scikit learn. \n",
    "\n",
    "En cambio, si tomáramos como desviación estándar 0.25, el rango de valores estaría entre [-2,2]. Obtendriamos una distribución asimétrica si tomáramos como valor medio un valor diferente al punto medio del rango de valores.\n",
    "\n",
    "Vamos ahora a hacer mediante código una normalización y veamos que obtenemos valores comprendidos entre -1 y 1."
   ]
  },
  {
   "cell_type": "code",
   "execution_count": 91,
   "id": "3a761c0c",
   "metadata": {},
   "outputs": [
    {
     "data": {
      "text/plain": [
       "tensor([[[-1., -1., -1.,  1., -1.],\n",
       "         [-1., -1.,  1., -1., -1.],\n",
       "         [-1.,  1., -1., -1., -1.],\n",
       "         [ 1., -1., -1., -1., -1.],\n",
       "         [-1., -1., -1., -1., -1.]]])"
      ]
     },
     "execution_count": 91,
     "metadata": {},
     "output_type": "execute_result"
    }
   ],
   "source": [
    "normalizer = Normalize(mean=(.5,), std=(.5,))\n",
    "normalized_tensor = normalizer(img_tensor)\n",
    "normalized_tensor"
   ]
  },
  {
   "cell_type": "markdown",
   "id": "1eba0def",
   "metadata": {},
   "source": [
    "Recordemos el valor de img_tensor"
   ]
  },
  {
   "cell_type": "code",
   "execution_count": 92,
   "id": "ee653b80",
   "metadata": {},
   "outputs": [
    {
     "data": {
      "text/plain": [
       "tensor([[[0., 0., 0., 1., 0.],\n",
       "         [0., 0., 1., 0., 0.],\n",
       "         [0., 1., 0., 0., 0.],\n",
       "         [1., 0., 0., 0., 0.],\n",
       "         [0., 0., 0., 0., 0.]]])"
      ]
     },
     "execution_count": 92,
     "metadata": {},
     "output_type": "execute_result"
    }
   ],
   "source": [
    "img_tensor"
   ]
  },
  {
   "cell_type": "markdown",
   "id": "1c36658b",
   "metadata": {},
   "source": [
    "Efectivamente, donde antes había un cero ahora vale -1 y un 1 se queda tal y como estaba.\n",
    "\n",
    "Observar que la transformación toma dos tuplas como argumentos, una para las medias y otra para las desviaciones estándar. Cada tupla tupla tiene tantos valores como canales en la imagen. Como en este ejemplo tenemos imágenes de un solo canal, nuestras tuplas tienen un solo elemento cada una.\n",
    "\n",
    "### Composición de transformaciones.\n",
    "\n",
    "Normalmente en los trabajos de deeplearning con imágenes lo que se hace son varias transformaciones, entonces para incluir todas ellas en una sola instrucción, lo que se hace es utilizar la clase <a href=\"https://pytorch.org/vision/stable/generated/torchvision.transforms.Compose.html#torchvision.transforms.Compose\" target=\"_blank\"> *Compose* </a>. \n",
    "\n",
    "Anteriormente hemos puesto en marcha dos transformaciones de forma aislada: *RandomHorizontalFlip* y *Normalize*. Hagamos las dos transformaciones de una vez creando una composición."
   ]
  },
  {
   "cell_type": "code",
   "execution_count": 93,
   "id": "507166ee",
   "metadata": {},
   "outputs": [],
   "source": [
    "composer = Compose([RandomHorizontalFlip(p=1.0),\n",
    "Normalize(mean=(.5,), std=(.5,))])"
   ]
  },
  {
   "cell_type": "code",
   "execution_count": 94,
   "id": "2c3c9639",
   "metadata": {},
   "outputs": [],
   "source": [
    "composed_tensor = composer(example_tensor)"
   ]
  },
  {
   "cell_type": "markdown",
   "id": "9d1ac2e7",
   "metadata": {},
   "source": [
    "## Preparación de los datos.\n",
    "\n",
    "Procedemos en este apartado a seguir trabajando con los datos sobre imágenes que hemos creado al comienzo del mismo. Como los valores que toman las matrices están comprendidos entre 0 y 255, lo que hacemos es transformarlos para que tomen valores entre cero y uno"
   ]
  },
  {
   "cell_type": "code",
   "execution_count": 95,
   "id": "1231479a",
   "metadata": {},
   "outputs": [],
   "source": [
    "x_tensor = torch.as_tensor(images / 255).float()\n",
    "#¡¡¡¡¡NOTA: Observar que tenemos que hacer ese reshape para tener el formato necesario de los datos\n",
    "y_tensor = torch.as_tensor(labels.reshape(-1, 1)).float()"
   ]
  },
  {
   "cell_type": "markdown",
   "id": "2c1c161f",
   "metadata": {},
   "source": [
    "Vamos a crear nuestro propio dataset en el cual se va a implementar transformaciones sobre los datos."
   ]
  },
  {
   "cell_type": "code",
   "execution_count": 96,
   "id": "3cbf2414",
   "metadata": {},
   "outputs": [],
   "source": [
    "class TransformedTensorDataset(Dataset):\n",
    "    def __init__(self, x, y, transform=None):\n",
    "        \"\"\"\n",
    "        El valor de x serían las features, y serían los labels .\n",
    "        \"\"\"\n",
    "        # Por defectos no hay transformación alguna\n",
    "        self.x = x\n",
    "        self.y = y\n",
    "        self.transform = transform\n",
    "        \n",
    "    def __getitem__(self, index):\n",
    "        x = self.x[index]\n",
    "        # si se indica alguna transformación la hacemos\n",
    "        if self.transform:\n",
    "            x = self.transform(x)\n",
    "        # devuelve el x trasnformado y el label y que le corresponde\n",
    "        return x, self.y[index]\n",
    "        \n",
    "    def __len__(self):\n",
    "        return len(self.x)"
   ]
  },
  {
   "cell_type": "markdown",
   "id": "3857e2bb",
   "metadata": {},
   "source": [
    "Vamos a definir una composición de transformaciones, del mismo modo que lo hemos hecho en un ejemplo anteriormente, y esa transformación se la pasamos como parámetro al dataset construido anteriormente."
   ]
  },
  {
   "cell_type": "code",
   "execution_count": 97,
   "id": "117996a5",
   "metadata": {},
   "outputs": [],
   "source": [
    "composer = Compose([RandomHorizontalFlip(p=0.5),\n",
    "Normalize(mean=(.5,), std=(.5,))])\n",
    "dataset = TransformedTensorDataset(x_tensor, y_tensor, composer)"
   ]
  },
  {
   "cell_type": "markdown",
   "id": "c512893e",
   "metadata": {},
   "source": [
    "## SubsetRandomSampler.\n",
    "\n",
    "```{index} SubsetRandomSampler\n",
    "```\n",
    "\n",
    "Anteriormente, al crear un cargador de datos para el conjunto de entrenamiento, utilizábamos el argumento \"shuffle\" a \"True\" (ya que barajar los puntos de datos, en la mayoría de los casos, mejora el rendimiento del descenso de gradiente).\n",
    "\n",
    "Esta era una forma muy conveniente de barajar los datos, que se implementa usando un RandomSampler bajo el capó. Cada vez que se necesitaba un  un nuevo minilote, se muestreaban algunos índices al azar, y se devolvían los puntos de datos correspondientes a esos índices.\n",
    "\n",
    "Incluso cuando no había barajado de los datos, como en el cargador de datos utilizado para el conjunto de validación, se utilizó un SequentialSampler. En este, cada vez que se requería un nuevo minilote, este muestreador simplemente devolvía una secuencia de índices, en orden, y los puntos de datos correspondientes a esos índices.\n",
    "\n",
    "En pocas palabras, un muestreador puede utilizarse para devolver secuencias de índices que se utilizarán para la carga de datos. En los dos ejemplos anteriores cada muestreador tomaría un conjunto de datos como argumento. Pero no todos los\n",
    "muestreadores son así.\n",
    "\n",
    "El <a href=\"https://pytorch.org/docs/stable/data.html#torch.utils.data.SubsetRandomSampler\" target=\"_blank\"> SubsetRandomSampler </a> muestrea índices de una lista, dada como como argumento, sin reemplazo. Como en los otros muestreadores, estos índices se utilizarán para cargar datos de un conjunto de datos. Si un índice no está\n",
    "en la lista, nunca se utilizará el punto de datos correspondiente.\n",
    "\n",
    "Así, si tenemos dos listas de índices disjuntos (es decir, que no hay intersección entre ellas, y cubren todos los elementos si se procede a su unión), podemos crear dos muestreadores para dividir efectivamente un conjunto de datos. Pongamos esto en código, para que quede más claro.\n",
    "\n",
    "En primer lugar, tenemos que generar dos listas de índices barajadas, una correspondiente a los puntos del conjunto de entrenamiento, y la otra, a los puntos del conjunto de validación. Esto ya lo hemos hecho utilizando\n",
    "Numpy. Hagámoslo un poco más interesante y útil esta vez montando la función auxiliar que sigue, que llamaremos *index_splitter*:"
   ]
  },
  {
   "cell_type": "code",
   "execution_count": 98,
   "id": "d7375b17",
   "metadata": {},
   "outputs": [],
   "source": [
    "def index_splitter(n, splits, seed=13):\n",
    "    \"\"\"\n",
    "    Función auxiliar que sirve para crear listas de elementos de train y de test\n",
    "    \n",
    "    Los parámetros de esta función son::\n",
    "    * n: el número total de datos\n",
    "    * splits: Una lista de valores indicando el peso de datos de entrenamiento y de validación\n",
    "    * seed: La semilla a tener en cuenta\n",
    "    \"\"\"\n",
    "    idx = torch.arange(n)\n",
    "    # Makes the split argument a tensor\n",
    "    splits_tensor = torch.as_tensor(splits)\n",
    "    # Finds the correct multiplier, so we don't have\n",
    "    # to worry about summing up to N (or one)\n",
    "    multiplier = n / splits_tensor.sum()    \n",
    "    splits_tensor = (multiplier * splits_tensor).long()\n",
    "    # If there is a difference, throws at the first split\n",
    "    # so random_split does not complain\n",
    "    diff = n - splits_tensor.sum()\n",
    "    splits_tensor[0] += diff\n",
    "    # Uses PyTorch random_split to split the indices\n",
    "    torch.manual_seed(seed)\n",
    "    return random_split(idx, splits_tensor)"
   ]
  },
  {
   "cell_type": "code",
   "execution_count": 99,
   "id": "4398246a",
   "metadata": {},
   "outputs": [
    {
     "data": {
      "text/plain": [
       "<torch.utils.data.dataset.Subset at 0x1e3a54a9070>"
      ]
     },
     "execution_count": 99,
     "metadata": {},
     "output_type": "execute_result"
    }
   ],
   "source": [
    "# Hacemos las dos listas, una con el 80% de puntos y la otra con el20%\n",
    "train_idx, val_idx = index_splitter(len(x_tensor), [80, 20])\n",
    "train_idx"
   ]
  },
  {
   "cell_type": "code",
   "execution_count": 100,
   "id": "c6a1661b",
   "metadata": {},
   "outputs": [
    {
     "data": {
      "text/plain": [
       "[118, 170, 148, 239, 226, 146, 168, 195, 6, 180]"
      ]
     },
     "execution_count": 100,
     "metadata": {},
     "output_type": "execute_result"
    }
   ],
   "source": [
    "# Sacamos unos pocos valores para ver su contenido\n",
    "train_idx.indices[:10]"
   ]
  },
  {
   "cell_type": "markdown",
   "id": "8aaeb1f3",
   "metadata": {},
   "source": [
    "Ahora ya sí estamos en disposición de utilizar la función de PyTorch *SubsetRandomSampler* y así poder extraer los índices que conformarán los datos de entrenamiento"
   ]
  },
  {
   "cell_type": "code",
   "execution_count": 101,
   "id": "b701cb43",
   "metadata": {},
   "outputs": [],
   "source": [
    "train_sampler = SubsetRandomSampler(train_idx)\n",
    "val_sampler = SubsetRandomSampler(val_idx)"
   ]
  },
  {
   "cell_type": "markdown",
   "id": "477da143",
   "metadata": {},
   "source": [
    "Ahora ya solo nos quedaría utilizar *DataLoader* para cargar los datos de prueba y validación"
   ]
  },
  {
   "cell_type": "code",
   "execution_count": 102,
   "id": "62c2553d",
   "metadata": {},
   "outputs": [],
   "source": [
    "# Builds a loader of each set\n",
    "train_loader = DataLoader(dataset=dataset, batch_size=16, sampler=train_sampler)\n",
    "val_loader = DataLoader(dataset=dataset, batch_size=16, sampler=val_sampler)"
   ]
  },
  {
   "cell_type": "markdown",
   "id": "2d61f99c",
   "metadata": {},
   "source": [
    "## Transformación para aumentar los datos\n",
    "\n",
    "Otra de las razones por la que podemos seguir necesitando dos conjuntos de datos divididos es exactamente esa: el aumento de datos. \n",
    "\n",
    "En general, queremos aplicar el aumento de datos sólo a los datos de entrenamiento (sí, también hay aumento de datos de prueba, pero eso es otro asunto).\n",
    "\n",
    "Este aumento de los datos se puede realizar mediante una transformación compuesta que la vamos a aplicar a todos los puntos del conjunto de datos. \n",
    "\n",
    "Si necesitamos que se aumenten algunos puntos de datos, pero no otros, la manera más fácil de conseguirlo es crear dos compositores y utilizarlos en dos conjuntos de datos diferentes. "
   ]
  },
  {
   "cell_type": "code",
   "execution_count": 103,
   "id": "10385ec4",
   "metadata": {},
   "outputs": [],
   "source": [
    "x_train_tensor = x_tensor[train_idx]\n",
    "y_train_tensor = y_tensor[train_idx]\n",
    "\n",
    "x_val_tensor = x_tensor[val_idx]\n",
    "y_val_tensor = y_tensor[val_idx]"
   ]
  },
  {
   "cell_type": "markdown",
   "id": "75dab9d3",
   "metadata": {},
   "source": [
    "Creamos entonces dos composer. Uno que se aplica al conjunto de prueba y que aumenta los datos y al mismo tiempo los escala (min-max), y otro que sólo escala los datos."
   ]
  },
  {
   "cell_type": "code",
   "execution_count": 104,
   "id": "351889b1",
   "metadata": {},
   "outputs": [],
   "source": [
    "train_composer = Compose([RandomHorizontalFlip(p=.5),\n",
    "                          Normalize(mean=(.5,), std=(.5,))])\n",
    "\n",
    "val_composer = Compose([Normalize(mean=(.5,), std=(.5,))])"
   ]
  },
  {
   "cell_type": "markdown",
   "id": "b52e1258",
   "metadata": {},
   "source": [
    "Ahora ya estamos en disposición de utilizar los *composer* anteriores para  generar los dos conjuntos de datos de la siguiente manera"
   ]
  },
  {
   "cell_type": "code",
   "execution_count": 105,
   "id": "1b416faa",
   "metadata": {},
   "outputs": [],
   "source": [
    "train_dataset = TransformedTensorDataset(x_train_tensor, y_train_tensor, transform=train_composer)\n",
    "val_dataset = TransformedTensorDataset(x_val_tensor, y_val_tensor, transform=val_composer)\n",
    "\n",
    "# Builds a loader of each set\n",
    "train_loader = DataLoader(dataset=train_dataset, batch_size=16, shuffle=True)\n",
    "val_loader = DataLoader(dataset=val_dataset, batch_size=16)"
   ]
  },
  {
   "cell_type": "markdown",
   "id": "476ee651",
   "metadata": {},
   "source": [
    "## WeightedRandomSampler.\n",
    "\n",
    "\n",
    "```{index} WeightedRandomSampler\n",
    "```\n",
    "\n",
    "Ya hemos tocado el tema de los conjuntos de datos desequilibrados al hablar de las clasificaciones binarias un capítulo anterior. Ajustamos el peso de la pérdida para los puntos de la clase positiva para compensar el desequilibrio existente. No era la media ponderada que cabría. Ahora, podemos abordar el problema del desequilibrio de los datos utilizando un enfoque diferente: un muestreador ponderado.\n",
    "\n",
    "El razonamiento es más o menos el mismo pero, en lugar de pérdidas ponderadas, utilizamos pesos para el muestreo, que significa lo siguiente.\n",
    "\n",
    "La clase con menos puntos de datos(clase minoritaria) debería tener una mayor ponderación, mientras que la clase\n",
    "con más puntos de datos (clase mayoritaria) debería tener pesos más pequeños.\n",
    "\n",
    "De este modo, en promedio, acabaremos con minilotes(mini-batch) que contienen aproximadamente el mismo número de puntos de datos en cada clase: un conjunto de datos equilibrado.\n",
    "\n",
    "Para hacer lo anterior y en primer lugar, tenemos que averiguar el grado de desequilibrio del conjunto de datos, es decir, cuántos puntos de datos pertenecen a cada etiqueta o clase. Para ello, podemos utilizar el método *unique* de PyTorch en las etiquetas de nuestro conjunto de entrenamiento (y_train_tensor), con el parámetro *return_counts* igual a True, para obtener una lista de las etiquetas existentes y el correspondiente número de puntos de datos:"
   ]
  },
  {
   "cell_type": "code",
   "execution_count": 106,
   "id": "12dfff3d",
   "metadata": {},
   "outputs": [
    {
     "name": "stdout",
     "output_type": "stream",
     "text": [
      "tensor([0., 1.]) tensor([ 80, 160])\n"
     ]
    }
   ],
   "source": [
    "classes, counts = y_train_tensor.unique(return_counts=True)\n",
    "print(classes, counts)"
   ]
  },
  {
   "cell_type": "markdown",
   "id": "ececf58c",
   "metadata": {},
   "source": [
    "Por lo tanto tendriamos 80 imágenes con líneas que no son diagonales y 160 con líneas diagonales. Por lo tanto quedaría claro que sí estamos ante un problema de clasificación con datos no balanceados.\n",
    "\n",
    "Vamos ahora a calcular los pesos que deberiamos asignar a cada clase de forma inversamente proporcional al número de elementos que hay en cada una de ellas"
   ]
  },
  {
   "cell_type": "code",
   "execution_count": 178,
   "id": "e49d90d8",
   "metadata": {},
   "outputs": [
    {
     "data": {
      "text/plain": [
       "tensor([0.0125, 0.0063])"
      ]
     },
     "execution_count": 178,
     "metadata": {},
     "output_type": "execute_result"
    }
   ],
   "source": [
    "weights = 1.0 / counts.float()\n",
    "weights"
   ]
  },
  {
   "cell_type": "markdown",
   "id": "4f31f5ca",
   "metadata": {},
   "source": [
    "Es habitual tener pesos que sumen uno, seguro, pero esto no es requerido por el muestreador ponderado de PyTorch. Podemos salirnos con la suya con pesos inversamente proporcionales a los recuentos. \n",
    "\n",
    "No basta con proporcionar una secuencia de pesos correspondientes a cada clase diferente del conjunto de entrenamiento. Se requiere una secuencia que contenga el peso correspondiente a todos y cada uno de los datos del conjunto de entrenamiento.\n",
    "\n",
    "Aunque esto es un poco molesto, no es difícil de lograr: podemos utilizar las etiquetas como índices de los pesos pesos que hemos calculado anteriormente. Probablemente sea más fácil verlo en el código:"
   ]
  },
  {
   "cell_type": "code",
   "execution_count": 179,
   "id": "d38b8c73",
   "metadata": {},
   "outputs": [
    {
     "name": "stdout",
     "output_type": "stream",
     "text": [
      "torch.Size([240])\n",
      "tensor([0.0063, 0.0063, 0.0063, 0.0063, 0.0063, 0.0125, 0.0063, 0.0063, 0.0063,\n",
      "        0.0063])\n",
      "tensor([1., 1., 1., 1., 1., 0., 1., 1., 1., 1.])\n"
     ]
    }
   ],
   "source": [
    "sample_weights = weights[y_train_tensor.squeeze().long()]\n",
    "\n",
    "print(sample_weights.shape)\n",
    "print(sample_weights[:10])\n",
    "print(y_train_tensor[:10].squeeze())"
   ]
  },
  {
   "cell_type": "markdown",
   "id": "b69e7847",
   "metadata": {},
   "source": [
    "Esta secuencia de pesos es el argumento principal de la *WeightedRandomSampler*, pero además tiene otros que a continuación pasamos a enunciar y aclarar su significado.\n",
    "\n",
    "* *weights*: Una secuencia de pesos, similar a lo que acabamos de generar\n",
    "\n",
    "* *num_samples*: cuántas muestras se van a extraer del conjunto de datos.Un valor típico puede ser la longitud de la secuencia de pesos, ya que es muy probable que estés muestreando de todo el conjunto de entrenamiento.\n",
    "\n",
    "* *replacement*: Si es igual a True (valor por defecto), genera listas con reemplazaminto\n",
    "\n",
    "    * Si *num_samples* es igual a la longitud, es decir si se utiliza el conjunto de datos total, tiene sentido extraer muestras con reemplazo para compensar eficazmente el desequilibrio\n",
    "\n",
    "    * sólo tiene sentido ponerlo en False si num_samples < longitud del conjunto de datos\n",
    "    \n",
    "* *generator*: Es opcional, toma un (pseudo) generador de números aleatorios que se utilizará para extraer las muestras.\n",
    "\n",
    "* *to* : Para garantizar la reproducibilidad, tenemos que crear y asignar un generador (que tiene su propia semilla) al muestreador, ya que la semilla manual que ya hemos establecido no es suficiente.\n",
    "\n",
    "De acuerdo con esto, vamos a muestrear de todo el conjunto de entrenamiento, y ya tenemos nuestra secuencia de pesos lista. Sin embargo, todavía nos falta un generador. Vamos a crear tanto el generador como el sampler ahora."
   ]
  },
  {
   "cell_type": "code",
   "execution_count": 180,
   "id": "a146fd3b",
   "metadata": {},
   "outputs": [],
   "source": [
    "generator = torch.Generator()\n",
    "\n",
    "sampler = WeightedRandomSampler(\n",
    "    weights=sample_weights,\n",
    "    num_samples=len(sample_weights),\n",
    "    generator=generator,\n",
    "    replacement=True\n",
    ")"
   ]
  },
  {
   "cell_type": "markdown",
   "id": "3680d881",
   "metadata": {},
   "source": [
    "Ahora ya podemos generar el conjunto de entrenamiento y de prueba"
   ]
  },
  {
   "cell_type": "code",
   "execution_count": 181,
   "id": "623b75af",
   "metadata": {},
   "outputs": [],
   "source": [
    "train_loader = DataLoader(dataset=train_dataset, batch_size=16, sampler=sampler)\n",
    "val_loader = DataLoader(dataset=val_dataset, batch_size=16)"
   ]
  },
  {
   "cell_type": "markdown",
   "id": "768883a9",
   "metadata": {},
   "source": [
    "Con el fin de agrupar todo lo dicho anteriormente, construimos una función que engloba el código que anteriormente se ha implementado."
   ]
  },
  {
   "cell_type": "code",
   "execution_count": 182,
   "id": "dbaf6457",
   "metadata": {},
   "outputs": [],
   "source": [
    "def make_balanced_sampler(y):\n",
    "    # Computes weights for compensating imbalanced classes\n",
    "    classes, counts = y.unique(return_counts=True)\n",
    "    weights = 1.0 / counts.float()\n",
    "    sample_weights = weights[y.squeeze().long()]\n",
    "    # Builds sampler with compute weights\n",
    "    generator = torch.Generator()\n",
    "    sampler = WeightedRandomSampler(\n",
    "        weights=sample_weights,\n",
    "        num_samples=len(sample_weights),\n",
    "        generator=generator,\n",
    "        replacement=True\n",
    "    )\n",
    "    return sampler"
   ]
  },
  {
   "cell_type": "code",
   "execution_count": 183,
   "id": "f2d8e305",
   "metadata": {},
   "outputs": [],
   "source": [
    "sampler = make_balanced_sampler(y_train_tensor)"
   ]
  },
  {
   "cell_type": "markdown",
   "id": "4c92262f",
   "metadata": {},
   "source": [
    "## Las semillas (seeds)\n",
    "\n",
    "ES el momento de establecer la semilla para el generador utilizado en el muestreador asignado al cargador de datos. Es una larga secuencia de objetos, pero podemos podemos recorrerla para recuperar el generador y llamar a su método\n",
    "método manual_seed:"
   ]
  },
  {
   "cell_type": "code",
   "execution_count": 184,
   "id": "470fc60c",
   "metadata": {},
   "outputs": [],
   "source": [
    "train_loader.sampler.generator.manual_seed(42)\n",
    "random.seed(42)"
   ]
  },
  {
   "cell_type": "markdown",
   "id": "01ed347c",
   "metadata": {},
   "source": [
    "Ahora podemos comprobar si nuestro muestreador está haciendo su trabajo correctamente. Vamos a muestrear una carrera completa (240 puntos de datos en 15 mini-lotes de 16 puntos cada uno), y sumemos las etiquetas para saber cuántos puntos\n",
    "están en la clase positiva:"
   ]
  },
  {
   "cell_type": "code",
   "execution_count": 185,
   "id": "e6c7b2d4",
   "metadata": {},
   "outputs": [
    {
     "data": {
      "text/plain": [
       "tensor(123.)"
      ]
     },
     "execution_count": 185,
     "metadata": {},
     "output_type": "execute_result"
    }
   ],
   "source": [
    "torch.tensor([t[1].sum() for t in iter(train_loader)]).sum()"
   ]
  },
  {
   "cell_type": "markdown",
   "id": "24d41635",
   "metadata": {},
   "source": [
    "Casi... Tenemos 160 imágenes de la clase positiva, y ahora, gracias al muestreador ponderado, estamos muestreando sólo 123 de ellas. Esto significa que estamos sobremuestreando la clase negativa (que tiene 80 imágenes) a un total de 117 imágenes, sumando 240 imágenes. Misión lograda, nuestro conjunto de datos está ahora equilibrado.\n",
    "\n",
    "Estoy de acuerdo, demasiadas semillas. Además de una semilla específica para el generador, también tenemos que establecer otra semilla para el módulo <a href=\"https://docs.python.org/3/library/random.html\" target=\"_blank\"> random de Python </a>.\n",
    "\n",
    "Más vale prevenir que curar, así que será mejor que pongamos otra semilla para asegurar la reproducibilidad de nuestro código.\n",
    "\n",
    "A continuación ampliamos la función *set_seed* de la clase *StepByStep* que hemos creado en un capítulo anterior.\n"
   ]
  },
  {
   "cell_type": "code",
   "execution_count": 186,
   "id": "7c9a43b8",
   "metadata": {},
   "outputs": [],
   "source": [
    "def set_seed(self, seed=42):\n",
    "    torch.backends.cudnn.deterministic = True\n",
    "    torch.backends.cudnn.benchmark = False    \n",
    "    torch.manual_seed(seed)\n",
    "    np.random.seed(seed)\n",
    "    random.seed(seed)\n",
    "    try:\n",
    "        self.train_loader.sampler.generator.manual_seed(seed)\n",
    "    except AttributeError:\n",
    "        pass\n",
    "   \n",
    "setattr(StepByStep, 'set_seed', set_seed)\n",
    "\n",
    "# setattr cambia algún metodo de una determinada clase"
   ]
  },
  {
   "cell_type": "markdown",
   "id": "4627f2ac",
   "metadata": {},
   "source": [
    "¡Cuatro semillas y contando! Nuestro método actualizado trata de actualizar la semilla del generador utilizado por el muestreador asignado al cargador de datos del conjunto de entrenamiento. Pero, si no hay generador (el argumento\n",
    "es opcional, después de todo), falla silenciosamente.\n",
    "\n",
    "Hemos comentado y dicho por muchas cosas en cuanto a la preparación de los datos. Pongámoslas todas juntas para tener una mejor visión del panorama general.\n",
    "\n",
    "En primer lugar, hemos construido un conjunto de datos personalizado para manejar las transformaciones en\n",
    "tensores, y dos funciones de ayuda  para dividir los índices y construir un muestreo aleatorio ponderado.\n",
    "\n",
    "A continuación, realizamos diferentes pasos de procesamiento para preparación:\n",
    "\n",
    "* Modificación de la escala de [0,255] a [0,1]\n",
    "\n",
    "* División de índices y tensores en dos conjuntos: validación y test\n",
    "\n",
    "* Construcción de una transformación compuesta incluyendo aumento de los datos en el conjunto de entrenamiento.\n",
    "\n",
    "* Uso de un conjunto de datos personalizado para aplicar transformaciones a los tensores.\n",
    "\n",
    "* creación de un muestreador aleatorio ponderado para tratar el desequilibrio de clases\n",
    "\n",
    "* Creación de data loaders, utilizando el muestreador junto con el conjunto de entrenamiento\n",
    "\n",
    "El código final que hemos obtenido es el siguiente: "
   ]
  },
  {
   "cell_type": "code",
   "execution_count": 187,
   "id": "46a3da59",
   "metadata": {},
   "outputs": [],
   "source": [
    "# Builds tensors from numpy arrays BEFORE split\n",
    "# Modifies the scale of pixel values from [0, 255] to [0, 1]\n",
    "x_tensor = torch.as_tensor(images / 255).float()\n",
    "y_tensor = torch.as_tensor(labels.reshape(-1, 1)).float()\n",
    "\n",
    "# Uses index_splitter to generate indices for training and\n",
    "# validation sets\n",
    "train_idx, val_idx = index_splitter(len(x_tensor), [80, 20])\n",
    "\n",
    "# Uses indices to perform the split\n",
    "x_train_tensor = x_tensor[train_idx]\n",
    "y_train_tensor = y_tensor[train_idx]\n",
    "x_val_tensor = x_tensor[val_idx]\n",
    "y_val_tensor = y_tensor[val_idx]\n",
    "\n",
    "# Builds different composers because of data augmentation on training set\n",
    "train_composer = Compose([RandomHorizontalFlip(p=.5),\n",
    "                          Normalize(mean=(.5,), std=(.5,))])\n",
    "val_composer = Compose([Normalize(mean=(.5,), std=(.5,))])\n",
    "# Uses custom dataset to apply composed transforms to each set\n",
    "train_dataset = TransformedTensorDataset(x_train_tensor, y_train_tensor, transform=train_composer)\n",
    "val_dataset = TransformedTensorDataset(x_val_tensor, y_val_tensor, transform=val_composer)\n",
    "\n",
    "# Builds a weighted random sampler to handle imbalanced classes\n",
    "sampler = make_balanced_sampler(y_train_tensor)\n",
    "\n",
    "# Uses sampler in the training set to get a balanced data loader\n",
    "train_loader = DataLoader(dataset=train_dataset, batch_size=16, sampler=sampler)\n",
    "val_loader = DataLoader(dataset=val_dataset, batch_size=16)"
   ]
  },
  {
   "cell_type": "markdown",
   "id": "a11e14a7",
   "metadata": {},
   "source": [
    "Con esto hemos terminado el apartado de preparación de los datos, aunque queda por comentar lo siguiente.\n",
    "\n",
    "## Pixeles y features.\n",
    "\n",
    "Hasta ahora, hemos manejado nuestros datos como imágenes PIL o tensores tridimensionales (CHW) con dimensiones (1, 5, 5). También es posible considerar cada píxel y canal como una feature individual aplanando los píxeles con una capa de aplanamiento (<a href=\"https://pytorch.org/docs/stable/generated/torch.nn.Flatten.html\" target=\"_blank\"> Flatten layer </a>).\n",
    "\n",
    "Vamos a tomar un mini-batch de imágenes de nuestro conjunto de entrenamiento para ilustrar cómo es este método."
   ]
  },
  {
   "cell_type": "code",
   "execution_count": 188,
   "id": "0531438e",
   "metadata": {},
   "outputs": [
    {
     "data": {
      "text/plain": [
       "torch.Size([16, 1, 5, 5])"
      ]
     },
     "execution_count": 188,
     "metadata": {},
     "output_type": "execute_result"
    }
   ],
   "source": [
    "dummy_xs, dummy_ys = next(iter(train_loader))\n",
    "dummy_xs.shape"
   ]
  },
  {
   "cell_type": "code",
   "execution_count": 189,
   "id": "505f2787",
   "metadata": {},
   "outputs": [
    {
     "name": "stdout",
     "output_type": "stream",
     "text": [
      "torch.Size([16, 25])\n",
      "tensor([-1., -1., -1.,  1., -1., -1., -1., -1.,  1., -1., -1., -1., -1.,  1.,\n",
      "        -1., -1., -1., -1.,  1., -1., -1., -1., -1.,  1., -1.])\n"
     ]
    }
   ],
   "source": [
    "flattener = nn.Flatten()\n",
    "dummy_xs_flat = flattener(dummy_xs)\n",
    "\n",
    "print(dummy_xs_flat.shape)\n",
    "print(dummy_xs_flat[0])"
   ]
  },
  {
   "cell_type": "markdown",
   "id": "9ea53c16",
   "metadata": {},
   "source": [
    "Por defecto, preserva la primera dimensión de forma que mantenemos el número de puntos de datos en el mini-batch, pero colapsa las dimensiones restantes. Si observamos el primer elemento del mini-batch aplanados, encontramos un tensor largo con 25 (1 x 5 x 5) elementos en él. Si nuestras imágenes tuvieran tres canales, el tensor sería sería de 75 (3 x 5 x 5) elementos.\n",
    "\n",
    "Ahora bien haciendo esto no perderemos información? Pues claro que sí, y por eso las redes neuronales convolucionales\n",
    "(CNN), que veremos en el próximo capítulo, tienen tanto éxito: no pierden esta información. Pero, por ahora, vamos a hacerlo a la antigua usanza y a aplanar los píxeles. Esto hará que sea mucho más sencillo ilustrar un par de conceptos más antes de llegar a las CNN más sofisticadas.\n",
    "\n",
    "Antes,en los capítulos anteriores, nuestros puntos de datos eran tensores con uno o dos elementos, es decir, una o dos características. Ahora,al aplanar el conjunto de datos que son la base de las imágenes ,nuestros puntos de datos son\n",
    "tensores con 25 elementos, cada uno de los cuales corresponde a un píxel/canal de la imagen original, como si fueran 25 \"features\".\n",
    "\n",
    "Entonces como los datos no son diferentes a los visto en capítulos anteriores, aparte del número de características o features, podemos  partir de lo que ya sabemos sobre la definición de un modelo para para manejar una tarea de clasificación binaria.\n",
    "\n",
    "## Modelo Shallow (modelo poco profundo).\n",
    "\n",
    "Este modelo no es otra cosa que un modelo de regresión logística:\n",
    "\n",
    "$$\n",
    "\\Large \\text{P}(y=1) = \\sigma(z) = \\sigma(w_0x_0+w_1x_1+\\cdots+w_{24}x_{24})\n",
    "$$\n",
    "\n",
    "\n",
    "Dadas 25 features, de x0 a x24, cada una de las cuales corresponde al valor de un píxel en un canal determinado, el modelo ajustará una regresión lineal de forma que sus resultados sean logits (z), que se convierten en probabilidades mediante una función sigmoidea.\n",
    "\n",
    "Esta sección la hemos llamado modelo superficial por una razón... en la siguiente, construiremos un modelo más profundo con una capa oculta en él. Esto qué significa?. Lo podemos ver en la siguiente imagen\n",
    "\n",
    "![Modelo dos capas](figuras/ModeloDosCapas.PNG)\n",
    "\n",
    "En este modelo se ha quitado el parámetro *bias*. Quiero ilustrar la diferencia entre un modelo superficial, y uno más profundo y es mucho más fácil de resolver si nos deshacemos del sesgo.\n",
    "\n",
    "Además, también me gustaría recordar la notación correspondiente a nuestro modelo, ya que estoy planeando utilizar esta notación para ilustrar este punto.\n",
    "\n",
    "## Notación utilizada.\n",
    "\n",
    "Veamos en forma matricial, cómo definimos este problema\n",
    "\n",
    "$$\n",
    "\\Large W =\n",
    "\\underset{(25 \\times 1)}{\n",
    "\\begin{bmatrix}\n",
    "w_0 \\\\\n",
    "w_1 \\\\\n",
    "\\vdots \\\\\n",
    "w_{24}\n",
    "\\end{bmatrix}};\n",
    "X = \n",
    "\\underset{(25 \\times 1)}{\n",
    "\\begin{bmatrix}\n",
    "x_0 \\\\\n",
    "x_1 \\\\\n",
    "\\vdots \\\\\n",
    "x_{24}\n",
    "\\end{bmatrix}}\n",
    "$$\n",
    "\n",
    "$$\n",
    "\\Large \n",
    "\\begin{aligned}\n",
    "z\n",
    "& = W^T \\cdot X \n",
    "=\\underset{(1 \\times 25)}{\n",
    "\\begin{bmatrix}\n",
    "- & w^{T} & -\\\\\n",
    "\\end{bmatrix}}\n",
    "\\underset{(25 \\times 1)}{\n",
    "\\begin{bmatrix}\n",
    "x_0 \\\\\n",
    "x_1 \\\\\n",
    "\\vdots \\\\\n",
    "x_{24}\n",
    "\\end{bmatrix}} \n",
    "=\n",
    "\\underset{(1 \\times 25)}{\n",
    "\\begin{bmatrix}\n",
    "w_0 & w_1 & \\cdots & w_{24}\n",
    "\\end{bmatrix}}\n",
    "\\underset{(25 \\times 1)}{\n",
    "\\begin{bmatrix}\n",
    "x_0 \\\\\n",
    "x_1 \\\\\n",
    "\\vdots \\\\\n",
    "x_{24}\n",
    "\\end{bmatrix}}\n",
    "\\\\\n",
    "& = w_0x_0 + w_1x_1 + \\cdots + w_{24}x_{24}\n",
    "\\end{aligned}\n",
    "$$\n",
    "\n"
   ]
  },
  {
   "cell_type": "markdown",
   "id": "59539f28",
   "metadata": {},
   "source": [
    "Como es habitual, sólo tenemos que definir un modelo, una función de pérdida adecuada y un optimizador. Como ahora tenemos imágenes de cinco por cinco pixeles y un sólo canal como entradas, tenemos que aplanarlas primero, para que puedan ser entradas adecuadas para nuestra capa lineal (sin sesgo). Como optimizador seguiremos utilizando el optimizador SGD con una tasa de aprendizaje de 0,1 por por ahora.\n",
    "\n",
    "Todo esto lo hacemos con el código siguiente"
   ]
  },
  {
   "cell_type": "code",
   "execution_count": 190,
   "id": "f341089d",
   "metadata": {},
   "outputs": [],
   "source": [
    "# Sets learning rate - this is \"eta\" ~ the \"n\" like Greek letter\n",
    "lr = 0.1\n",
    "\n",
    "torch.manual_seed(17)\n",
    "# Now we can create a model\n",
    "model_logistic = nn.Sequential()\n",
    "model_logistic.add_module('flatten', nn.Flatten())\n",
    "model_logistic.add_module('output', nn.Linear(25, 1, bias=False))\n",
    "model_logistic.add_module('sigmoid', nn.Sigmoid())\n",
    "\n",
    "# Defines a SGD optimizer to update the parameters \n",
    "optimizer_logistic = optim.SGD(model_logistic.parameters(), lr=lr)\n",
    "\n",
    "# Defines a binary cross entropy loss function\n",
    "binary_loss_fn = nn.BCELoss()"
   ]
  },
  {
   "cell_type": "markdown",
   "id": "2e601db9",
   "metadata": {},
   "source": [
    "Vamos a entrenar ahora nuestro modelo durante 100 epochs utilizando la clase StepByStep y visualizan la evolución de la función de pérdida."
   ]
  },
  {
   "cell_type": "code",
   "execution_count": 191,
   "id": "11d42d25",
   "metadata": {},
   "outputs": [],
   "source": [
    "n_epochs = 100\n",
    "\n",
    "sbs_logistic = StepByStep(model_logistic, binary_loss_fn, optimizer_logistic)\n",
    "sbs_logistic.set_loaders(train_loader, val_loader)\n",
    "sbs_logistic.train(n_epochs)"
   ]
  },
  {
   "cell_type": "code",
   "execution_count": 192,
   "id": "d75858a9",
   "metadata": {},
   "outputs": [
    {
     "data": {
      "image/png": "[encoded data removed]",
      "text/plain": [
       "<Figure size 1000x400 with 1 Axes>"
      ]
     },
     "metadata": {},
     "output_type": "display_data"
    }
   ],
   "source": [
    "fig = sbs_logistic.plot_losses()"
   ]
  },
  {
   "cell_type": "markdown",
   "id": "72e9c846",
   "metadata": {},
   "source": [
    "La conclusión que sacamos después de ver el gráfico anterior es que es horrible, porque parece que nuestro modelo apenas aprende nada.\n",
    "\n",
    "Tal vez un modelo más profundo pueda hacerlo mejor.\n",
    "\n",
    "### Modelo más profundo\n",
    "\n",
    "Para construir nuestro modelo más profundo, vamos a añadir no una, sino dos capas ocultas a nuestro modelo y hacerlo más profundo. Todavía empezamos con una capa de aplanamiento, y la última parte de nuestro modelo sigue siendo una Sigmoide, pero hay dos capas Lineales antes de la capa de salida ya existente.\n",
    "\n",
    "La forma esquemática se este modelo seria la siguiente\n",
    "\n",
    "![Modelo tres capas](figuras/ModeloTresCapas.PNG)\n",
    "\n",
    "Respecto de la nomenclatura de la figura anterior, los subíndices de w y z representan los índices (de base cero) para la capa y la unidad: en la capa de salida. Asi por ejemplo, w20 representa los pesos correspondientes a la\n",
    "primera unidad (#0) de la tercera capa (#2).\n",
    "\n",
    "En este gráfico qué estamos representando? Vamos a resolver el paso hacia adelante(forward pass) , es decir\n",
    "el camino de las entradas (x) a la salida (y):\n",
    "\n",
    "1.- Una imagen se aplana a un tensor con 25 características o features, de x0 a x24 (no representado en la figura anterior)\n",
    "\n",
    "2.- Las 25 características se envían a cada una de las cinco unidades de capa oculta #0\n",
    "\n",
    "3.- Cada unidad de la capa oculta #0 utiliza sus pesos, de w00 a w04, y las características de la capa de entrada para calcular sus salidas correspondientes, de z00 a z04.\n",
    "\n",
    "4.- Las salidas de la capa oculta #0 se envían a cada una de las tres unidades de la capa oculta nº 1 (en cierto modo, las salidas de Capa Oculta #0 funcionan como si fueran características de la Capa Oculta Layer #1).\n",
    "\n",
    "5.- cada unidad de la capa oculta nº 1 utiliza sus pesos, de w10 a w12 y los valores z0 de la capa oculta anterior para calcular sus salidas correspondientes, de z10 a z12.\n",
    "\n",
    "6.- Las salidas de la capa oculta nº 1 se envían a  la capa de salida (de nuevo, las salidas de la capa oculta nº 1 funcionan como si fueran características de la capa de salida).\n",
    "\n",
    "7.- La unidad de la capa de salida utiliza sus pesos (w20) y los valores z1 de la capa oculta anterior para calcular su\n",
    "salida correspondiente (z2).\n",
    "\n",
    "8.- z2 es un logit, que se convierte en una probabilidad utilizando una función sigmoidea.\n",
    "\n",
    "\n",
    "Hay un par de cosas a destacar:\n",
    "\n",
    "* Todas las unidades de las capas ocultas, y la de la capa de salida, toman un conjunto de entradas (x o z) y realizan la misma operación (wTx o wTz, cada una utilizando sus propios pesos, por supuesto), produciendo una salida (z).\n",
    "\n",
    "* En las capas ocultas, estas operaciones son exactamente como los modelos de regresión logística que hemos utilizado hasta ahora, modelos en que la regresión logística produjo un logit.\n",
    "\n",
    "* Es perfectamente correcto pensar en las salidas de una capa como características de la siguiente capa; de hecho, esto es el núcleo de la técnica de que veremos en un capítulo posterior.\n",
    "\n",
    "DE acuerdo con todo esto, el modelo que vamos a emplear se construye de la siguiente manera,"
   ]
  },
  {
   "cell_type": "code",
   "execution_count": 193,
   "id": "e27321e7",
   "metadata": {},
   "outputs": [],
   "source": [
    "# Sets learning rate - this is \"eta\" ~ the \"n\" like Greek letter\n",
    "lr = 0.1\n",
    "\n",
    "torch.manual_seed(17)\n",
    "# Now we can create a model\n",
    "model_nn = nn.Sequential()\n",
    "model_nn.add_module('flatten', nn.Flatten())\n",
    "model_nn.add_module('hidden0', nn.Linear(25, 5, bias=False))\n",
    "model_nn.add_module('hidden1', nn.Linear(5, 3, bias=False))\n",
    "model_nn.add_module('output', nn.Linear(3, 1, bias=False))\n",
    "model_nn.add_module('sigmoid', nn.Sigmoid())\n",
    "\n",
    "# Defines a SGD optimizer to update the parameters \n",
    "optimizer_nn = optim.SGD(model_nn.parameters(), lr=lr)\n",
    "\n",
    "# Defines a binary cross entropy loss function\n",
    "binary_loss_fn = nn.BCELoss()"
   ]
  },
  {
   "cell_type": "markdown",
   "id": "b9d0c497",
   "metadata": {},
   "source": [
    "Ahora entrenamos el modelo"
   ]
  },
  {
   "cell_type": "code",
   "execution_count": 194,
   "id": "dcba8ff0",
   "metadata": {},
   "outputs": [],
   "source": [
    "n_epochs = 100\n",
    "\n",
    "sbs_nn = StepByStep(model_nn, binary_loss_fn, optimizer_nn)\n",
    "sbs_nn.set_loaders(train_loader, val_loader)\n",
    "sbs_nn.train(n_epochs)"
   ]
  },
  {
   "cell_type": "code",
   "execution_count": 195,
   "id": "d6583fc6",
   "metadata": {},
   "outputs": [
    {
     "data": {
      "image/png": "[encoded data removed]",
      "text/plain": [
       "<Figure size 1000x400 with 1 Axes>"
      ]
     },
     "metadata": {},
     "output_type": "display_data"
    }
   ],
   "source": [
    "fig = sbs_nn.plot_losses()"
   ]
  },
  {
   "cell_type": "markdown",
   "id": "987a8365",
   "metadata": {},
   "source": [
    "Como podemos observar con este modelo tampoco podemos mejorar sustancialmente la función de pérdida. No hemos mejorado nada. Lo que está ocurriendo es que no hemos metido en el modelo ninguna función de activación.\n",
    "\n",
    "```{index} Función de activación.\n",
    "```\n",
    "\n",
    "Una **función de activación** es una función no lineal que transforma las salidas de las capas ocultas, de forma similar a la función sigmoidea que transforma los logits en la capa de salida. \n",
    "\n",
    "En realidad, la sigmoide es una de las muchas funciones de activación. Hay otras, como la hiperbólica-tangente (tanh) y la Rectified Linear Unit (ReLU).\n",
    "\n",
    "Un modelo más profundo sin funciones de activación en sus capas ocultas no es mejor que una regresión lineal o logística. Eso es lo que quería ilustrar con los dos modelos que hemos entrenado, el superficial y el profundo. Por eso he eliminado el sesgo en ambos modelos también: hace que la comparación sea más directa.\n",
    "\n",
    "\n",
    "### El modelo matemático subyacente.\n",
    "\n",
    "Desarrollamos este apartado por si tienes curiosidad por entender, usando multiplicación de matrices, por qué nuestro modelo profundo es equivalente a una regresión logística, para ello comprueba la secuencia de ecuaciones que aparece a continuación.\n",
    "\n",
    "En las expresiones matemáticas que siguen, cada fila corresponde a una capa. Los datos fluyen de derecha a izquierda (ya que así es como se multiplicar una secuencia de matrices), empezando por las 25 características a la\n",
    " derecha y terminando con un único resultado logit a la izquierda.\n",
    " \n",
    "Si se observa cada capa (fila) por separado, también debería quedar claro que las salidas de una capa determinada (el vector más a la izquierda de cada fila) son las de la siguiente capa, del mismo modo que las características son las entradas de la primera capa.\n",
    "\n",
    "\n",
    "$$\n",
    "\\large\n",
    "\\begin{array}{rcccccccccccc}\n",
    "\\text{Hidden}\\ \\#0 & & & & & & & &\n",
    "\\underset{(5 \\times 1)}{\n",
    "\\begin{bmatrix}\n",
    "z_{00} \\\\\n",
    "z_{01} \\\\\n",
    "z_{02} \\\\\n",
    "z_{03} \\\\\n",
    "z_{04} \\\\\n",
    "\\end{bmatrix}}\n",
    "&\n",
    "=\n",
    "&\n",
    "\\underset{(5 \\times 25)}{\n",
    "\\begin{bmatrix}\n",
    "- & w^{T}_{00} & -\\\\\n",
    "- & w^{T}_{01} & -\\\\\n",
    "- & w^{T}_{02} & -\\\\\n",
    "- & w^{T}_{03} & -\\\\\n",
    "- & w^{T}_{04} & -\n",
    "\\end{bmatrix}}\n",
    "&\n",
    "&\n",
    "\\underset{(25 \\times 1)}{\n",
    "\\begin{bmatrix}\n",
    "x_0 \\\\\n",
    "\\vdots \\\\\n",
    "x_{11} \\\\\n",
    "\\vdots \\\\\n",
    "x_{24}\n",
    "\\end{bmatrix}}\n",
    "\\\\\n",
    "\\text{Hidden}\\ \\#1 & & & &\n",
    "\\underset{(3 \\times 1)}{\n",
    "\\begin{bmatrix}\n",
    "z_{10} \\\\\n",
    "z_{11} \\\\\n",
    "z_{12} \\\\\n",
    "\\end{bmatrix}}\n",
    "&\n",
    "=\n",
    "&\n",
    "\\underset{(3 \\times 5)}{\n",
    "\\begin{bmatrix}\n",
    "- & w^{T}_{10} & -\\\\\n",
    "- & w^{T}_{11} & -\\\\\n",
    "- & w^{T}_{12} & -\\\\\n",
    "\\end{bmatrix}}\n",
    "&\n",
    "&\n",
    "\\underset{(5 \\times 1)}{\n",
    "\\begin{bmatrix}\n",
    "z_{00} \\\\\n",
    "z_{01} \\\\\n",
    "z_{02} \\\\\n",
    "z_{03} \\\\\n",
    "z_{04} \\\\\n",
    "\\end{bmatrix}}\n",
    "\\\\\n",
    "\\text{Output} &\n",
    "\\underset{(1 \\times 1)}{\n",
    "\\begin{bmatrix}\n",
    "z_{2}\n",
    "\\end{bmatrix}}\n",
    "&\n",
    "=\n",
    "&\n",
    "\\underset{(1 \\times 3)}{\n",
    "\\begin{bmatrix}\n",
    "- & w^{T}_{20} & -\\\\\n",
    "\\end{bmatrix}}\n",
    "&\n",
    "\\underset{(3 \\times 1)}{\n",
    "\\begin{bmatrix}\n",
    "z_{10} \\\\\n",
    "z_{11} \\\\\n",
    "z_{12} \\\\\n",
    "\\end{bmatrix}}\n",
    "\\\\\n",
    "\\hline\n",
    "\\text{substituyendo } z's... &\n",
    "\\underset{(1 \\times 1)}{\n",
    "\\begin{bmatrix}\n",
    "z_{2}\n",
    "\\end{bmatrix}}\n",
    "&\n",
    "=\n",
    "&\n",
    "\\underbrace{\n",
    "\\underset{(1 \\times 3)}{\n",
    "\\begin{bmatrix}\n",
    "- & w^{T}_{20} & -\\\\\n",
    "\\end{bmatrix}}}_{\\text{Output Layer}}\n",
    "&\n",
    "& &\n",
    "\\underbrace{\n",
    "\\underset{(3 \\times 5)}{\n",
    "\\begin{bmatrix}\n",
    "- & w^{T}_{10} & -\\\\\n",
    "- & w^{T}_{11} & -\\\\\n",
    "- & w^{T}_{12} & -\\\\\n",
    "\\end{bmatrix}}}_{\\text{Hidden Layer #1}}\n",
    "& &\n",
    "& &\n",
    "\\underbrace{\n",
    "\\underset{(5 \\times 25)}{\n",
    "\\begin{bmatrix}\n",
    "- & w^{T}_{00} & -\\\\\n",
    "- & w^{T}_{01} & -\\\\\n",
    "- & w^{T}_{02} & -\\\\\n",
    "- & w^{T}_{03} & -\\\\\n",
    "- & w^{T}_{04} & -\n",
    "\\end{bmatrix}}}_{\\text{Hidden Layer #0}}\n",
    "&\n",
    "&\n",
    "\\underset{(25 \\times 1)}{\n",
    "\\begin{bmatrix}\n",
    "x_0 \\\\\n",
    "\\vdots \\\\\n",
    "x_{11} \\\\\n",
    "\\vdots \\\\\n",
    "x_{24}\n",
    "\\end{bmatrix}}\n",
    "\\\\\n",
    "\\text{multiplicando...} & &\n",
    "=\n",
    "&\n",
    "\\underbrace{\n",
    "\\underset{(1 \\times 25)}{\n",
    "\\begin{bmatrix}\n",
    "- & w^{T} & -\\\\\n",
    "\\end{bmatrix}}}_{\\text{Matrices Multiplicadas}}\n",
    "&\n",
    "& & & & & & & &\n",
    "\\underset{(25 \\times 1)}{\n",
    "\\begin{bmatrix}\n",
    "x_0 \\\\\n",
    "\\vdots \\\\\n",
    "x_{11} \\\\\n",
    "\\vdots \\\\\n",
    "x_{24}\n",
    "\\end{bmatrix}}\n",
    "\\end{array}\n",
    "$$\n",
    "\n"
   ]
  },
  {
   "cell_type": "markdown",
   "id": "c3bd8a34",
   "metadata": {},
   "source": [
    "De acuerdo con estos resultados, **se puede concluir que un modelo con cualquier número de capas ocultas tiene un\n",
    "modelo equivalente al de sin capas ocultas**. Claro, no incluimos el sesgo aquí porque haría mucho más difícil ilustrar este\n",
    "punto. Por este motivo los gráficos que hemos obtenido en nuestro ejemplo mostrado más arriba, los resultados de la función de pérdida eran muy similares.\n",
    "\n",
    "Si las ecuaciones matriciales mostradas más arriba no fueran suficientes para ver esto, vamos a intentarlo usando algo de código. \n",
    "\n",
    "```{index} obtención de pesos\n",
    "```\n",
    "\n",
    "En primer lugar, tenemos que obtener los pesos para las capas en nuestro modelo profundo. Podemos usar el atributo de peso de cada capa, *sin olvidar separarlo() del gráfico de cálculo*, para que así lo podamos usarl libremente en otras operaciones."
   ]
  },
  {
   "cell_type": "code",
   "execution_count": 196,
   "id": "efb584ea",
   "metadata": {},
   "outputs": [
    {
     "data": {
      "text/plain": [
       "(torch.Size([5, 25]), torch.Size([3, 5]), torch.Size([1, 3]))"
      ]
     },
     "execution_count": 196,
     "metadata": {},
     "output_type": "execute_result"
    }
   ],
   "source": [
    "w_nn_hidden0 = model_nn.hidden0.weight.detach()\n",
    "w_nn_hidden1 = model_nn.hidden1.weight.detach()\n",
    "w_nn_output = model_nn.output.weight.detach()\n",
    "\n",
    "w_nn_hidden0.shape, w_nn_hidden1.shape, w_nn_output.shape"
   ]
  },
  {
   "cell_type": "markdown",
   "id": "05ea7555",
   "metadata": {},
   "source": [
    "Las dimensiones deben coincidir tanto con la definición de nuestro modelo como con las matrices de peso en las ecuaciones definidas anteriormente.\n",
    "\n",
    "Podemos calcular la fila inferior, es decir, el modelo equivalente utilizando la multiplicación de matrices (que se realiza de derecha a izquierda, como en las ecuaciones):\n",
    "\n",
    "NOTA: La multiplicación de matrices se hace mediante el símbolo @."
   ]
  },
  {
   "cell_type": "code",
   "execution_count": 197,
   "id": "c4528299",
   "metadata": {},
   "outputs": [
    {
     "data": {
      "text/plain": [
       "torch.Size([1, 25])"
      ]
     },
     "execution_count": 197,
     "metadata": {},
     "output_type": "execute_result"
    }
   ],
   "source": [
    "w_nn_equiv = w_nn_output @ w_nn_hidden1 @ w_nn_hidden0\n",
    "w_nn_equiv.shape"
   ]
  },
  {
   "cell_type": "markdown",
   "id": "e57f6d80",
   "metadata": {},
   "source": [
    "A continuación, tenemos que compararlos con las ponderaciones del modelo superficial, es decir, la regresión logística:"
   ]
  },
  {
   "cell_type": "code",
   "execution_count": 198,
   "id": "0624ef2a",
   "metadata": {},
   "outputs": [
    {
     "data": {
      "text/plain": [
       "torch.Size([1, 25])"
      ]
     },
     "execution_count": 198,
     "metadata": {},
     "output_type": "execute_result"
    }
   ],
   "source": [
    "w_logistic_output = model_logistic.output.weight.detach()\n",
    "w_logistic_output.shape"
   ]
  },
  {
   "cell_type": "markdown",
   "id": "da6d6b8f",
   "metadata": {},
   "source": [
    "La misma dimensión, como se esperaba. Si comparamos los valores, uno por uno, encontraremos que son similares, pero no exactamente iguales. Intentemos de comprender el cuadro completo observando la imagen siguiente:\n",
    "\n",
    "![Comparación de modelos](figuras/ComparacionModelo.PNG)\n",
    "\n",
    "A la izquierda, representamos los 25 pesos/parámetros de ambos modelos. Aunque no son exactamente iguales, la similitud es sorprendente.\n",
    "\n",
    "A la derecha, podemos apreciar que las ponderaciones están, efectivamente, muy correlacionadas.\n",
    "\n",
    "Es bastante sencillo saber que el modelo de regresión logística de una sola capa tenga 25 ponderaciones. Pero, ¿cuántas ponderaciones tiene el modelo de profundidad, el segundo modelo? Podemos calcularlo: 25 características por cinco unidades en la capa oculta #0:(125), más esas cinco unidades por tres unidades en la capa oculta nº 1 (15),más los tres últimos pesos de la capa oculta nº 1 a la capa de salida de salida, sumando un total de 143 ponderaciones.\n",
    "\n",
    "O simplemente podríamos usar la propiedad *numel* de PyTorch para devolver el número total de elementos de elementos, que en este caso será  un tensor.Para conseguir estos creamos la siguiente función y se lo añadimos a la clase *StepByStep*."
   ]
  },
  {
   "cell_type": "code",
   "execution_count": 199,
   "id": "8c8f99fe",
   "metadata": {},
   "outputs": [],
   "source": [
    "def count_parameters(self):\n",
    "    return sum(p.numel() for p in self.model.parameters() if p.requires_grad)\n",
    "\n",
    "# Lo añadimos como método a la clase StepByStep\n",
    "setattr(StepByStep, 'count_parameters', count_parameters)"
   ]
  },
  {
   "cell_type": "markdown",
   "id": "fda39cfd",
   "metadata": {},
   "source": [
    "Como hemos dicho, se ha agregado como un método de nuestra clase *StepByStep*, y tomemos sólo los tensores que requieren gradiente, de modo que sólo contemos con los pesos que necesitan ser actualizados. Ahora mismo, son todos, claro, pero no necesariamente siempre será así y entonces no hará falta hacer esta distinción porque se utilizará  el aprendizaje por transferencia que se verá en un capítulo posterior.\n",
    "\n",
    "Hacemos este cómputo con el nuevo método"
   ]
  },
  {
   "cell_type": "code",
   "execution_count": 200,
   "id": "81ae0d49",
   "metadata": {},
   "outputs": [
    {
     "data": {
      "text/plain": [
       "(25, 143)"
      ]
     },
     "execution_count": 200,
     "metadata": {},
     "output_type": "execute_result"
    }
   ],
   "source": [
    "sbs_logistic.count_parameters(), sbs_nn.count_parameters()\n"
   ]
  },
  {
   "cell_type": "markdown",
   "id": "501e718c",
   "metadata": {},
   "source": [
    "### Pesos como pixeles.\n",
    "\n",
    "Durante la preparación de los datos, aplanamos las entradas de imágenes de cinco por cinco a tensores de 25 elementos. He aquí una idea descabellada: ¿qué pasa si si tomamos algún otro tensor con 25 elementos e intentamos visualizarlo\n",
    "como una imagen?.\n",
    "\n",
    "Tenemos algunos candidatos perfectos para esto: los pesos utilizados por cada unidad en la capa oculta #0. Cada unidad utiliza 25 pesos ya que cada unidad recibe valores de 25 características. Incluso tenemos estos pesos en una variable:"
   ]
  },
  {
   "cell_type": "code",
   "execution_count": 201,
   "id": "7a9c428c",
   "metadata": {},
   "outputs": [
    {
     "data": {
      "text/plain": [
       "torch.Size([5, 25])"
      ]
     },
     "execution_count": 201,
     "metadata": {},
     "output_type": "execute_result"
    }
   ],
   "source": [
    "w_nn_hidden0.shape"
   ]
  },
  {
   "cell_type": "markdown",
   "id": "98e45ff8",
   "metadata": {},
   "source": [
    "Cinco unidades, 25 pesos cada una. Perfecto. Sólo tenemos que usar la vista para convertir los tensores largos de 25 elementos que representan los pesos en tensores bidimensionales (5x5), y visualizarlos como si fueran imágenes:"
   ]
  },
  {
   "cell_type": "code",
   "execution_count": 202,
   "id": "3ed1fcd2",
   "metadata": {},
   "outputs": [],
   "source": [
    "def figure7(weights):\n",
    "    fig, axs = plt.subplots(1, 5, figsize=(15, 4))\n",
    "\n",
    "    for i, m in enumerate(weights):\n",
    "        axs[i].imshow(m.reshape(-1, 5).tolist(), cmap='gray')\n",
    "        axs[i].grid(False)\n",
    "        axs[i].set_xticks([])\n",
    "        axs[i].set_yticks([])\n",
    "        axs[i].set_title(r'$w_{0' + str(i) + '}$')\n",
    "\n",
    "    fig.suptitle('Hidden Layer #0')\n",
    "    fig.subplots_adjust(top=0.6) \n",
    "    fig.tight_layout()\n",
    "    return fig"
   ]
  },
  {
   "cell_type": "code",
   "execution_count": 203,
   "id": "7c628bc6",
   "metadata": {},
   "outputs": [
    {
     "data": {
      "image/png": "[encoded data removed]",
      "text/plain": [
       "<Figure size 1500x400 with 5 Axes>"
      ]
     },
     "metadata": {},
     "output_type": "display_data"
    }
   ],
   "source": [
    "fig = figure7(w_nn_hidden0)"
   ]
  },
  {
   "cell_type": "markdown",
   "id": "178a8d28",
   "metadata": {},
   "source": [
    "La visualización de los pesos en forma de imágenes es habitual cuando se utilizan redes neuronales convolucionales (CNN). Estas imágenes serán llamadas filtros, y los modelos entrenados probablemente exhibirán características reconocibles en sus filtros. \n",
    "\n",
    "Como nuestro modelo estaba mal entrenado, no es de extrañar que las imágenes de arriba no sean muy informativas. Además, en nuestro caso, no son del todo \"filtros\", ya que tienen el mismo tamaño que la imagen de entrada. En los modelos basados en CNN los filtros reales sólo cubren una parte de la imagen. Volveremos a ello en un capítulo posterior.\n",
    "\n",
    "# Funciones de activación.\n",
    "\n",
    "```{index} Funciones de activación\n",
    "```\n",
    "\n",
    "Las **funciones de activación** son funciones no lineales. O bien aplastan o doblan las líneas rectas. Rompen la equivalencia entre el modelo profundo y el superficial.\n",
    "\n",
    "Pytorch cuenta con un buen conjunto de <a href=\"https://pytorch.org/docs/stable/nn.html#non-linear-activations-weighted-sum-nonlinearity\" target=\"_blank\"> funciones de activación </a>, pero aquí nos vamos a central en las que se utilizan de una forma más frecuente.\n",
    "\n",
    "## Función sigmoidea\n",
    "\n",
    "Comencemos con la más tradicional de las funciones de activación, la sigmoidea, que ya hemos utilizado para transformar logits en probabilidades. Hoy en día, ese es prácticamente su único uso, pero en los primeros tiempos de las redes neuronales, se encontraba en todas partes.\n",
    "\n",
    "$$\n",
    "\\Large \\sigma(z) = \\frac{1}{1 + e^{-z}}\n",
    "$$"
   ]
  },
  {
   "cell_type": "code",
   "execution_count": 204,
   "id": "d7137809",
   "metadata": {},
   "outputs": [],
   "source": [
    "def plot_activation(func, name=None):\n",
    "    z = torch.linspace(-5, 5, 1000)\n",
    "    z.requires_grad_(True)\n",
    "    func(z).sum().backward()\n",
    "    sig = func(z).detach()\n",
    "\n",
    "    fig, ax = plt.subplots(1, 1, figsize=(8, 5))\n",
    "\n",
    "    # Move left y-axis and bottim x-axis to centre, passing through (0,0)\n",
    "    if name is None:\n",
    "        try:\n",
    "            name = func.__name__\n",
    "        except AttributeError:\n",
    "            name = ''\n",
    "\n",
    "    if name == 'sigmoid':\n",
    "        ax.set_ylim([0, 1.1])\n",
    "    elif name == 'tanh':\n",
    "        ax.set_ylim([-1.1, 1.1])\n",
    "    elif name == 'relu':\n",
    "        ax.set_ylim([-.1, 5.01])\n",
    "    else:\n",
    "        ax.set_ylim([-1.1, 5.01])\n",
    "        \n",
    "    ax.set_xticks(np.arange(-5, 6, 1))\n",
    "    ax.set_xlabel('z')\n",
    "    ax.set_ylabel(r'$\\sigma(z)$')\n",
    "\n",
    "    # Eliminate upper and right axes\n",
    "    ax.spines['right'].set_color('none')\n",
    "    ax.spines['top'].set_color('none')\n",
    "\n",
    "    # Show ticks in the left and lower axes only\n",
    "    ax.xaxis.set_ticks_position('bottom')\n",
    "    ax.yaxis.set_ticks_position('left')\n",
    "\n",
    "    ax.set_title(name, fontsize=16)\n",
    "    ax.plot(z.detach().numpy(), sig.numpy(), c='k', label='Activation')\n",
    "    ax.plot(z.detach().numpy(), z.grad.numpy(), c='r', label='Gradient')\n",
    "    ax.legend(loc=2)\n",
    "\n",
    "    fig.tight_layout()\n",
    "    fig.show()\n",
    "    return fig"
   ]
  },
  {
   "cell_type": "code",
   "execution_count": 205,
   "id": "be497f60",
   "metadata": {},
   "outputs": [
    {
     "name": "stderr",
     "output_type": "stream",
     "text": [
      "C:\\Users\\Francisco\\AppData\\Local\\Temp\\ipykernel_21084\\1908806294.py:43: UserWarning: Matplotlib is currently using module://matplotlib_inline.backend_inline, which is a non-GUI backend, so cannot show the figure.\n",
      "  fig.show()\n"
     ]
    },
    {
     "data": {
      "image/png": "[encoded data removed]",
      "text/plain": [
       "<Figure size 800x500 with 1 Axes>"
      ]
     },
     "metadata": {},
     "output_type": "display_data"
    }
   ],
   "source": [
    "fig = plot_activation(torch.sigmoid)"
   ]
  },
  {
   "cell_type": "markdown",
   "id": "96e95ee0",
   "metadata": {},
   "source": [
    "Recapitulemos rápidamente la forma de una sigmoide: como puede ver en la figura anterior, una función de activación sigmoidea \"aplasta\" sus valores de entrada de entrada (z) en el rango (0, 1) (el mismo rango pueden tomar las probabilidades, la razón por la que se utiliza en la capa de salida para tareas de clasificación binaria\n",
    "binaria). También se puede comprobar que **el valor de su pico de gradiente es sólo 0,25** (para z = 0) y que se acerca ya a cero a medida que el valor absoluto de z alcanza un valor de cinco.\n",
    "\n",
    "Además, recuerde que los valores de activación de cualquier capa son las entradas de la capa siguiente y, dado el rango del sigmoide los valores de activación van a estar centrados alrededor de 0,5, en lugar de de cero. Esto significa que, aunque normalicemos nuestras entradas para alimentar la primera capa, ya no será así para las demás capas.\n",
    "\n",
    "En los capítulos anteriores, estandarizamos las características (media cero, desviación estándar) para mejorar el rendimiento del descenso gradiente. El mismo razonamiento se aplica aquí, ya que las salidas de cualquier de cualquier capa son las entradas de la capa siguiente. En realidad hay más, y tocaremos brevemente este tema de nuevo en la función de activación ReLU.\n",
    "\n",
    "PyTorch tiene la función sigmoide disponible de dos formas posibles: *torch.sigmoide y nn.Sigmoide*. La primera\n",
    "es una función simple, y la segunda es una clase completa heredada de nn.Module, siendo así, a todos los efectos, un\n",
    "modelo en sí mismo."
   ]
  },
  {
   "cell_type": "code",
   "execution_count": 206,
   "id": "e0f1df98",
   "metadata": {},
   "outputs": [
    {
     "data": {
      "text/plain": [
       "tensor([0.0474, 0.5000, 0.9526])"
      ]
     },
     "execution_count": 206,
     "metadata": {},
     "output_type": "execute_result"
    }
   ],
   "source": [
    "dummy_z = torch.tensor([-3., 0., 3.])\n",
    "torch.sigmoid(dummy_z)"
   ]
  },
  {
   "cell_type": "code",
   "execution_count": 207,
   "id": "a76df79c",
   "metadata": {},
   "outputs": [
    {
     "data": {
      "text/plain": [
       "tensor([0.0474, 0.5000, 0.9526])"
      ]
     },
     "execution_count": 207,
     "metadata": {},
     "output_type": "execute_result"
    }
   ],
   "source": [
    "nn.Sigmoid()(dummy_z)"
   ]
  },
  {
   "cell_type": "markdown",
   "id": "fcceafcf",
   "metadata": {},
   "source": [
    "## Tangente hiperbólica (TanH).\n",
    "\n",
    "```{index} Tangente hiperbólica\n",
    "```\n",
    "\n",
    "La función de activación **tangente hiperbólica** es la evolución de la sigmoidea, ya que sus salidas son valores con media cero, a diferencia de su predecesora.\n",
    "\n",
    "$$\n",
    "\\Large \\sigma(z) = \\frac{e^z - e^{-z}}{e^z + e^{-z}}\n",
    "$$"
   ]
  },
  {
   "cell_type": "code",
   "execution_count": 208,
   "id": "3ca89ffa",
   "metadata": {},
   "outputs": [
    {
     "name": "stderr",
     "output_type": "stream",
     "text": [
      "C:\\Users\\Francisco\\AppData\\Local\\Temp\\ipykernel_21084\\1908806294.py:43: UserWarning: Matplotlib is currently using module://matplotlib_inline.backend_inline, which is a non-GUI backend, so cannot show the figure.\n",
      "  fig.show()\n"
     ]
    },
    {
     "data": {
      "image/png": "[encoded data removed]",
      "text/plain": [
       "<Figure size 800x500 with 1 Axes>"
      ]
     },
     "metadata": {},
     "output_type": "display_data"
    }
   ],
   "source": [
    "fig = plot_activation(torch.tanh)"
   ]
  },
  {
   "cell_type": "markdown",
   "id": "75343ae2",
   "metadata": {},
   "source": [
    "Como puede ver en la figura anterior, la función de activación tanh \"aplasta\" los valores de entrada en el rango (-1, 1). Por lo tanto, al estar centrados en cero, los valores de activación ya están (en cierto modo)  normalizadas para la siguiente capa, lo que hace que la tangente hiperbólica una mejor función de activación que la sigmoidea.\n",
    "\n",
    "En cuanto al gradiente, tiene un valor máximo mucho mayor de 1,0 (de nuevo, para z = 0), pero su disminución es aún más rápida, acercándose a cero a valores absolutos de z tan bajos como tres. Esta es la causa subyacente de lo que se denomina el *problema de los gradientes de fuga*, que hace que el entrenamiento de la red sea progresivamente más lento.\n",
    "\n",
    "En PyTorch se puede obtener de la siguiente manera"
   ]
  },
  {
   "cell_type": "code",
   "execution_count": 209,
   "id": "1cc274da",
   "metadata": {},
   "outputs": [
    {
     "data": {
      "text/plain": [
       "tensor([-0.9951,  0.0000,  0.9951])"
      ]
     },
     "execution_count": 209,
     "metadata": {},
     "output_type": "execute_result"
    }
   ],
   "source": [
    "dummy_z = torch.tensor([-3., 0., 3.])\n",
    "torch.tanh(dummy_z)"
   ]
  },
  {
   "cell_type": "code",
   "execution_count": 210,
   "id": "3a46b0e3",
   "metadata": {},
   "outputs": [
    {
     "data": {
      "text/plain": [
       "tensor([-0.9951,  0.0000,  0.9951])"
      ]
     },
     "execution_count": 210,
     "metadata": {},
     "output_type": "execute_result"
    }
   ],
   "source": [
    "nn.Tanh()(dummy_z)"
   ]
  },
  {
   "cell_type": "markdown",
   "id": "1650dbc0",
   "metadata": {},
   "source": [
    "## Rectified Linear Unit (ReLU)\n",
    "\n",
    "```{index} Rectified Linear Unit, ReLU, neurona muerta\n",
    "```\n",
    "\n",
    "Tal vez \"aplastar\" no sea el camino a seguir... ¿y si doblamos un poco las reglas y utilizamos una función de activación que  doble la línea? La ReLU nació así y dio lugar a toda una familia de funciones similares.\n",
    "\n",
    "La ReLU, o una de sus parientes, es la función de activación más común hoy en día. Se trata de una función de activación que resuelve el problema de la desaparición de los gradientes de las variables y también es la más rápida para calcular los gradientes."
   ]
  },
  {
   "cell_type": "markdown",
   "id": "2e78b2ae",
   "metadata": {},
   "source": [
    "$$\n",
    "\\Large\n",
    "\\begin{aligned}\n",
    "\\sigma(z) &=\n",
    "\\begin{cases}\n",
    "z,\\ \\text{if } z \\ge 0\n",
    "\\\\\n",
    "0,\\ \\text{if } z < 0\n",
    "\\end{cases}\n",
    "\\\\\n",
    "& \\text{or}\n",
    "\\\\\n",
    "\\sigma(z) &= \\text{max}(0, z)\n",
    "\\end{aligned}\n",
    "$$"
   ]
  },
  {
   "cell_type": "code",
   "execution_count": 211,
   "id": "1c560bf8",
   "metadata": {},
   "outputs": [
    {
     "name": "stderr",
     "output_type": "stream",
     "text": [
      "C:\\Users\\Francisco\\AppData\\Local\\Temp\\ipykernel_21084\\1908806294.py:43: UserWarning: Matplotlib is currently using module://matplotlib_inline.backend_inline, which is a non-GUI backend, so cannot show the figure.\n",
      "  fig.show()\n"
     ]
    },
    {
     "data": {
      "image/png": "[encoded data removed]",
      "text/plain": [
       "<Figure size 800x500 with 1 Axes>"
      ]
     },
     "metadata": {},
     "output_type": "display_data"
    }
   ],
   "source": [
    "fig = plot_activation(torch.relu)"
   ]
  },
  {
   "cell_type": "markdown",
   "id": "d0f57f37",
   "metadata": {},
   "source": [
    "Como puede ver en la figura anterior, la función ReLU es totalmente diferente a las que hemos visto anteriormente: no \"aplasta\" los valores en un rango, simplemente preserva los valores positivos y convierte todos los valores negativos en cero.\n",
    "\n",
    "La ventaja de utilizar una ReLU es que su gradiente es uno (para valores positivos) o cero (para valores negativos) - ¡no más gradientes gradientes que se desvanecen. Este patrón conduce a una convergencia más rápida de la red. \n",
    "\n",
    "Por otro lado, este comportamiento también puede conducir a lo que se denomina una **\"neurona muerta\"**, es decir, una neurona cuyas entradas son son sistemáticamente negativas y, por tanto, siempre tiene un valor de activación  de cero. Peor aún, el gradiente también es cero para las entradas negativas, lo que significa que los pesos no se actualizan. Es como si la neurona se hubiera atascado.\n",
    "\n",
    "Los valores de activación de la ReLU no están centrados obviamente en cero. ¿Es peor que la tangente hiperbólica? Seguramente no, de lo contrario no se habría convertido en una función de activación tan popular entre los profesionales. \n",
    "\n",
    "La ReLU, al tener sus gradientes comparativamente mayores, es capaz de lograr resultados mejores y más rápidos que las otras dos funciones de activación a pesar de que sus salidas no estén centradas en cero.\n",
    "\n",
    "En PyTorch hay tres caminos para obtener esta función de activación"
   ]
  },
  {
   "cell_type": "code",
   "execution_count": 212,
   "id": "843f4b58",
   "metadata": {},
   "outputs": [
    {
     "data": {
      "text/plain": [
       "tensor([0., 0., 3.])"
      ]
     },
     "execution_count": 212,
     "metadata": {},
     "output_type": "execute_result"
    }
   ],
   "source": [
    "dummy_z = torch.tensor([-3., 0., 3.])\n",
    "F.relu(dummy_z)"
   ]
  },
  {
   "cell_type": "code",
   "execution_count": 213,
   "id": "5b3ada39",
   "metadata": {},
   "outputs": [
    {
     "data": {
      "text/plain": [
       "tensor([0., 0., 3.])"
      ]
     },
     "execution_count": 213,
     "metadata": {},
     "output_type": "execute_result"
    }
   ],
   "source": [
    "nn.ReLU()(dummy_z)"
   ]
  },
  {
   "cell_type": "code",
   "execution_count": 214,
   "id": "42100f83",
   "metadata": {},
   "outputs": [
    {
     "data": {
      "text/plain": [
       "tensor([0., 0., 3.])"
      ]
     },
     "execution_count": 214,
     "metadata": {},
     "output_type": "execute_result"
    }
   ],
   "source": [
    "dummy_z.clamp(min=0)"
   ]
  },
  {
   "cell_type": "markdown",
   "id": "6b8b76ec",
   "metadata": {},
   "source": [
    "## Leaky ReLU\n",
    "\n",
    "```{index} Leaky ReLU\n",
    "```\n",
    "\n",
    "¿Cómo se puede dar a una \"neurona muerta\" la oportunidad de volver a la vida? Si el problema subyacente es el hecho de que se ha atascado, tenemos que dar un pequeño empujón. Y eso es lo que hace una ReLU con fugas (ReLU Leaky): para entradas negativas, devuelve un pequeño valor de activación y gradiente, en lugar de un cero fijo para ambos. El multiplicador para\n",
    "valores negativos, 0,01, se llama *coeficiente de fuga*.\n",
    "\n",
    "Puede que no sea mucho, pero da a la neurona la oportunidad de despegarse, y mantiene las buenas propiedades de la ReLU: mayores gradientes y una convergencia más rápida.\n",
    "\n",
    "$$\n",
    "\\Large\n",
    "\\begin{aligned}\n",
    "\\sigma(z) =&\n",
    "\\begin{cases}\n",
    "z,\\ \\text{if } z \\ge 0\n",
    "\\\\\n",
    "0.01z,\\ \\text{if } z < 0\n",
    "\\end{cases}\n",
    "\\\\\n",
    "\\text{or}&\n",
    "\\\\\n",
    "\\sigma(z)=&\\text{max}(0,z)+0.01\\ \\text{min}(0,z)\n",
    "\\end{aligned}\n",
    "$$\n",
    "\n"
   ]
  },
  {
   "cell_type": "code",
   "execution_count": 215,
   "id": "9b7ff9ca",
   "metadata": {},
   "outputs": [
    {
     "name": "stderr",
     "output_type": "stream",
     "text": [
      "C:\\Users\\Francisco\\AppData\\Local\\Temp\\ipykernel_21084\\1908806294.py:43: UserWarning: Matplotlib is currently using module://matplotlib_inline.backend_inline, which is a non-GUI backend, so cannot show the figure.\n",
      "  fig.show()\n"
     ]
    },
    {
     "data": {
      "image/png": "[encoded data removed]",
      "text/plain": [
       "<Figure size 800x500 with 1 Axes>"
      ]
     },
     "metadata": {},
     "output_type": "display_data"
    }
   ],
   "source": [
    "fig = plot_activation(nn.LeakyReLU(), name='Leaky ReLU')"
   ]
  },
  {
   "cell_type": "markdown",
   "id": "54c0b3ad",
   "metadata": {},
   "source": [
    "Su valor se puede conseguir de las siguientes formas"
   ]
  },
  {
   "cell_type": "code",
   "execution_count": 216,
   "id": "82c3b572",
   "metadata": {},
   "outputs": [
    {
     "data": {
      "text/plain": [
       "tensor([-0.0300,  0.0000,  3.0000])"
      ]
     },
     "execution_count": 216,
     "metadata": {},
     "output_type": "execute_result"
    }
   ],
   "source": [
    "dummy_z = torch.tensor([-3., 0., 3.])\n",
    "F.leaky_relu(dummy_z, negative_slope=0.01)"
   ]
  },
  {
   "cell_type": "code",
   "execution_count": 217,
   "id": "f5bdff47",
   "metadata": {},
   "outputs": [
    {
     "data": {
      "text/plain": [
       "tensor([-0.0600,  0.0000,  3.0000])"
      ]
     },
     "execution_count": 217,
     "metadata": {},
     "output_type": "execute_result"
    }
   ],
   "source": [
    "nn.LeakyReLU(negative_slope=0.02)(dummy_z)"
   ]
  },
  {
   "cell_type": "markdown",
   "id": "20f0a9f9",
   "metadata": {},
   "source": [
    "## Parametric ReLU (PReLU)\n",
    "\n",
    "```{index} Parametric ReLU, PReLU\n",
    "```\n",
    "\n",
    "La función de activación denominada *ReLU paramétrica* es la evolución natural del ReLU con fugas: en lugar de elegir arbitrariamente un coeficiente de fuga (como 0,01), hagamos que sea un parámetro (a). Con suerte, el modelo aprenderá\n",
    "cómo evitar las neuronas muertas, o cómo devolverlas a la vida. Esta función se podría decir que, es una solución ingeniosa al problema.\n",
    "\n",
    "$$\n",
    "\\Large\n",
    "\\begin{aligned}\n",
    "\\sigma(z) =&\n",
    "\\begin{cases}\n",
    "z,\\ \\text{if } z \\ge 0\n",
    "\\\\\n",
    "az,\\ \\text{if } z < 0\n",
    "\\end{cases}\n",
    "\\\\\n",
    "\\text{or}&\n",
    "\\\\\n",
    "\\sigma(z)=&\\text{max}(0,z)+a\\ \\text{min}(0,z)\n",
    "\\end{aligned}\n",
    "$$"
   ]
  },
  {
   "cell_type": "code",
   "execution_count": 218,
   "id": "e4e52b18",
   "metadata": {},
   "outputs": [
    {
     "name": "stderr",
     "output_type": "stream",
     "text": [
      "C:\\Users\\Francisco\\AppData\\Local\\Temp\\ipykernel_21084\\1908806294.py:43: UserWarning: Matplotlib is currently using module://matplotlib_inline.backend_inline, which is a non-GUI backend, so cannot show the figure.\n",
      "  fig.show()\n"
     ]
    },
    {
     "data": {
      "image/png": "[encoded data removed]",
      "text/plain": [
       "<Figure size 800x500 with 1 Axes>"
      ]
     },
     "metadata": {},
     "output_type": "display_data"
    }
   ],
   "source": [
    "fig = plot_activation(nn.PReLU(), name='Parametric ReLU')"
   ]
  },
  {
   "cell_type": "markdown",
   "id": "be935db2",
   "metadata": {},
   "source": [
    "Como se puede ver en la figura anterior, la pendiente del lado izquierdo es mucho mayor ahora, 0,25 para ser precisos, el valor por defecto de PyTorch para el parámetro a. Su valor se puede conseguir de la siguiente forma en PyTorch"
   ]
  },
  {
   "cell_type": "code",
   "execution_count": 219,
   "id": "9390499c",
   "metadata": {},
   "outputs": [
    {
     "data": {
      "text/plain": [
       "tensor([-0.7500,  0.0000,  3.0000])"
      ]
     },
     "execution_count": 219,
     "metadata": {},
     "output_type": "execute_result"
    }
   ],
   "source": [
    "dummy_z = torch.tensor([-3., 0., 3.])\n",
    "F.prelu(dummy_z, weight=torch.tensor(0.25))"
   ]
  },
  {
   "cell_type": "code",
   "execution_count": 220,
   "id": "a33c5726",
   "metadata": {},
   "outputs": [
    {
     "data": {
      "text/plain": [
       "tensor([-0.7500,  0.0000,  3.0000], grad_fn=<PreluBackward0>)"
      ]
     },
     "execution_count": 220,
     "metadata": {},
     "output_type": "execute_result"
    }
   ],
   "source": [
    "nn.PReLU(init=0.25)(dummy_z)"
   ]
  },
  {
   "cell_type": "markdown",
   "id": "c59fc4ad",
   "metadata": {},
   "source": [
    "# Modelo de aprendizaje.\n",
    "\n",
    "Ahora que hemos aprendido que las funciones de activación rompen la equivalencia con un modelo superficial, vamos a utilizarlas para transformar nuestro modelo profundo en otro modelo profundo, pero que resuelve mejor el problema. Tiene la misma arquitectura que el modelo anterior, excepto por la incorporación de las funciones de activación aplicadas a las salidas de las capas ocultas. Este es el diagrama del modelo actualizado:\n",
    "\n",
    "![Modelo con Función Activación](figuras/ModeloConFuncionActivacion.PNG)\n",
    "\n",
    "A continuación mostramos el código necesario para implementar ese modelo"
   ]
  },
  {
   "cell_type": "code",
   "execution_count": 221,
   "id": "1dbbe7f1",
   "metadata": {},
   "outputs": [],
   "source": [
    "# Sets learning rate - this is \"eta\" ~ the \"n\" like Greek letter\n",
    "lr = 0.1\n",
    "\n",
    "torch.manual_seed(17)\n",
    "# Now we can create a model\n",
    "model_relu = nn.Sequential()\n",
    "model_relu.add_module('flatten', nn.Flatten())\n",
    "model_relu.add_module('hidden0', nn.Linear(25, 5, bias=False))\n",
    "model_relu.add_module('activation0', nn.ReLU())\n",
    "model_relu.add_module('hidden1', nn.Linear(5, 3, bias=False))\n",
    "model_relu.add_module('activation1', nn.ReLU())\n",
    "model_relu.add_module('output', nn.Linear(3, 1, bias=False))\n",
    "model_relu.add_module('sigmoid', nn.Sigmoid())\n",
    "\n",
    "# Defines a SGD optimizer to update the parameters\n",
    "optimizer_relu = optim.SGD(model_relu.parameters(), lr=lr)\n",
    "\n",
    "# Defines a binary cross entropy loss function\n",
    "binary_loss_fn = nn.BCELoss()"
   ]
  },
  {
   "cell_type": "markdown",
   "id": "2de10544",
   "metadata": {},
   "source": [
    "Entrenamos el modelo"
   ]
  },
  {
   "cell_type": "code",
   "execution_count": 222,
   "id": "a295b6e0",
   "metadata": {},
   "outputs": [],
   "source": [
    "n_epochs = 50\n",
    "\n",
    "sbs_relu = StepByStep(model_relu, binary_loss_fn, optimizer_relu)\n",
    "sbs_relu.set_loaders(train_loader, val_loader)\n",
    "sbs_relu.train(n_epochs)"
   ]
  },
  {
   "cell_type": "code",
   "execution_count": 223,
   "id": "97ff78d6",
   "metadata": {},
   "outputs": [
    {
     "data": {
      "image/png": "[encoded data removed]",
      "text/plain": [
       "<Figure size 1000x400 with 1 Axes>"
      ]
     },
     "metadata": {},
     "output_type": "display_data"
    }
   ],
   "source": [
    "fig = sbs_relu.plot_losses()"
   ]
  },
  {
   "cell_type": "markdown",
   "id": "bef84308",
   "metadata": {},
   "source": [
    "Esto está mucho mejor. Pero, para comprender realmente la diferencia que suponen las funciones de activación, vamos a trazar todos los modelos en el mismo gráfico:\n",
    "\n",
    "![Todos gráficos](figuras/DosGraficos.PNG)\n",
    "\n",
    "Nuestro último nuevo modelo sólo necesitó una pequeña cantidad de iteraciones  para superar al anterior.Claramente, este modelo no es equivalente a una regresión logística: es mucho mejor.\n",
    "\n",
    "No obstante aunque se mejora el resultado, ambos modelos son un poco cutres pues su rendimiento es bastante pobre si se observan sus precisiones (que oscilan entre el 43% y el 65% para el conjunto de validación). El único propósito de este\n",
    "ejercicio es demostrar que las funciones de activación, rompiendo la equivalencia con una regresión logística, son capaces de lograr mejores resultados en la minimización de la función de  pérdidas.\n",
    "\n",
    "Este último modelo en particular también presenta una pérdida de validación menor que la pérdida de entrenamiento, que no es lo que generalmente se espera. Ya hemos  un caso como éste en un capítulo anterior: el conjunto de validación era más fácil que que el conjunto de entrenamiento. El ejemplo actual es un poco más matizado que que eso... aquí está la explicación.\n",
    "\n",
    "En primer lugar, nuestro modelo no es tan bueno y tiene tendencia a predecir más puntos en la clase positiva (FPR y TPR altos);\n",
    "\n",
    "En segundo lugar, uno de los mini lotes del conjunto de validación tiene casi todos sus puntos en la clase positiva, por lo que la pérdida es muy baja; en tercer lugar sólo hay cuatro minilotes en el conjunto de validación, por lo que la\n",
    "pérdida media se ve fácilmente afectada por un solo minilote.\n",
    "\n",
    "Es hora de hacerse dos preguntas:\n",
    "\n",
    "* ¿por qué se rompe la equivalencia con una regresión logística?\n",
    "\n",
    "* ¿qué hacen exactamente las funciones de activación bajo el capó?\n",
    "\n",
    "La primera pregunta la respondemos en el siguiente apartado utilizando para ello las fórmulas matemáticas que hay debajo de este modelo. La segunda pregunta se responderá en un capítulo posterior.\n",
    "\n",
    "## Formulación matemática del problema.\n",
    "\n",
    "$$\n",
    "\\large\n",
    "\\begin{array}{rcccccccccccc}\n",
    "\\text{Hidden }\\#0 & & & & & & & &\n",
    "\\underset{(5 \\times 1)}{\n",
    "\\begin{bmatrix}\n",
    "z_{00} \\\\\n",
    "z_{01} \\\\\n",
    "z_{02} \\\\\n",
    "z_{03} \\\\\n",
    "z_{04} \\\\\n",
    "\\end{bmatrix}}\n",
    "&\n",
    "=\n",
    "&\n",
    "\\underset{(5 \\times 25)}{\n",
    "\\begin{bmatrix}\n",
    "- & w^{T}_{00} & -\\\\\n",
    "- & w^{T}_{01} & -\\\\\n",
    "- & w^{T}_{02} & -\\\\\n",
    "- & w^{T}_{03} & -\\\\\n",
    "- & w^{T}_{04} & -\n",
    "\\end{bmatrix}}\n",
    "&\n",
    "&\n",
    "\\underset{(25 \\times 1)}{\n",
    "\\begin{bmatrix}\n",
    "x_0 \\\\\n",
    "\\vdots \\\\\n",
    "x_{11} \\\\\n",
    "\\vdots \\\\\n",
    "x_{24}\n",
    "\\end{bmatrix}}\n",
    "\\\\\n",
    "\\text{Hidden }\\#1 & & & &\n",
    "\\underset{(3 \\times 1)}{\n",
    "\\begin{bmatrix}\n",
    "z_{10} \\\\\n",
    "z_{11} \\\\\n",
    "z_{12} \\\\\n",
    "\\end{bmatrix}}\n",
    "&\n",
    "=\n",
    "&\n",
    "\\underset{(3 \\times 5)}{\n",
    "\\begin{bmatrix}\n",
    "- & w^{T}_{10} & -\\\\\n",
    "- & w^{T}_{11} & -\\\\\n",
    "- & w^{T}_{12} & -\\\\\n",
    "\\end{bmatrix}}\n",
    "&\n",
    "&\n",
    "\\underbrace{\n",
    "f_0\n",
    "\\underset{(5 \\times 1)}{\n",
    "\\left(\n",
    "\\begin{bmatrix}\n",
    "z_{00} \\\\\n",
    "z_{01} \\\\\n",
    "z_{02} \\\\\n",
    "z_{03} \\\\\n",
    "z_{04} \\\\\n",
    "\\end{bmatrix}\n",
    "\\right)}}_{\\text{Activation #0}}\n",
    "\\\\\n",
    "\\text{Output} &\n",
    "\\underset{(1 \\times 1)}{\n",
    "\\begin{bmatrix}\n",
    "z_{2}\n",
    "\\end{bmatrix}}\n",
    "&\n",
    "=\n",
    "&\n",
    "\\underset{(1 \\times 3)}{\n",
    "\\begin{bmatrix}\n",
    "- & w^{T}_{20} & -\\\\\n",
    "\\end{bmatrix}}\n",
    "&\n",
    "\\underbrace{\n",
    "f_1\n",
    "\\underset{(3 \\times 1)}{\n",
    "\\left(\n",
    "\\begin{bmatrix}\n",
    "z_{10} \\\\\n",
    "z_{11} \\\\\n",
    "z_{12} \\\\\n",
    "\\end{bmatrix}\n",
    "\\right)}}_{\\text{Activation #1}}\n",
    "\\\\\n",
    "\\hline\n",
    "\\text{substituting z's...} &\n",
    "\\underset{(1 \\times 1)}{\n",
    "\\begin{bmatrix}\n",
    "z_{2}\n",
    "\\end{bmatrix}}\n",
    "&\n",
    "=\n",
    "&\n",
    "\\underbrace{\n",
    "\\underset{(1 \\times 3)}{\n",
    "\\begin{bmatrix}\n",
    "- & w^{T}_{20} & -\\\\\n",
    "\\end{bmatrix}}}_{\\text{Output Layer}}\n",
    "&\n",
    "f_1\n",
    "& &\n",
    "\\left(\n",
    "\\underbrace{\n",
    "\\underset{(3 \\times 5)}{\n",
    "\\begin{bmatrix}\n",
    "- & w^{T}_{10} & -\\\\\n",
    "- & w^{T}_{11} & -\\\\\n",
    "- & w^{T}_{12} & -\\\\\n",
    "\\end{bmatrix}}}_{\\text{Hidden Layer #1}}\n",
    "\\right.\n",
    "&\n",
    "&\n",
    "f_0\n",
    "& &\n",
    "\\left(\n",
    "\\underbrace{\n",
    "\\underset{(5 \\times 25)}{\n",
    "\\begin{bmatrix}\n",
    "- & w^{T}_{00} & -\\\\\n",
    "- & w^{T}_{01} & -\\\\\n",
    "- & w^{T}_{02} & -\\\\\n",
    "- & w^{T}_{03} & -\\\\\n",
    "- & w^{T}_{04} & -\n",
    "\\end{bmatrix}}}_{\\text{Hidden Layer #0}}\n",
    "\\right.\n",
    "&\n",
    "&\n",
    "\\left.\n",
    "\\left.\n",
    "\\underbrace{\n",
    "\\underset{(25 \\times 1)}{\n",
    "\\begin{bmatrix}\n",
    "x_0 \\\\\n",
    "\\vdots \\\\\n",
    "x_{11} \\\\\n",
    "\\vdots \\\\\n",
    "x_{24}\n",
    "\\end{bmatrix}}}_{\\text{Inputs}}\n",
    "\\right)\n",
    "\\right)\n",
    "\\end{array}\n",
    "$$"
   ]
  },
  {
   "cell_type": "markdown",
   "id": "61f84407",
   "metadata": {},
   "source": [
    "Como antes, los datos fluyen de derecha a izquierda (ya que así es como se multiplicar una secuencia de matrices), empezando por las 25 características a la la derecha y terminando con una única salida logit a la izquierda.\n",
    "\n",
    "Si se observa cada capa (fila) por separado, también debería quedar claro que las salidas de una capa determinada (el vector más a la izquierda de la fila) son transformadas por una función de activación antes de convertirse en entradas\n",
    "de la siguiente capa.\n",
    "\n",
    "La fila que está debajo de la línea muestra el resultado de componer todas las operaciones por encima de la línea. No hay forma de simplificar más la expresión debido a la existencia de las dos funciones de activación (f0 y f1). En efecto, rompen la equivalencia con una regresión logística.\n",
    "\n",
    "Si ponemos todo el código final obtenido en este capítulo nos quedará lo siguiente"
   ]
  },
  {
   "cell_type": "code",
   "execution_count": 224,
   "id": "a8eaff8a",
   "metadata": {},
   "outputs": [],
   "source": [
    "class TransformedTensorDataset(Dataset):\n",
    "    def __init__(self, x, y, transform=None):\n",
    "        self.x = x\n",
    "        self.y = y\n",
    "        self.transform = transform\n",
    "        \n",
    "    def __getitem__(self, index):\n",
    "        x = self.x[index]\n",
    "        \n",
    "        if self.transform:\n",
    "            x = self.transform(x)\n",
    "        \n",
    "        return x, self.y[index]\n",
    "        \n",
    "    def __len__(self):\n",
    "        return len(self.x)"
   ]
  },
  {
   "cell_type": "code",
   "execution_count": 225,
   "id": "f60b407f",
   "metadata": {},
   "outputs": [],
   "source": [
    "def index_splitter(n, splits, seed=13):\n",
    "    idx = torch.arange(n)\n",
    "    # Makes the split argument a tensor\n",
    "    splits_tensor = torch.as_tensor(splits)\n",
    "    # Finds the correct multiplier, so we don't have\n",
    "    # to worry about summing up to N (or one)\n",
    "    multiplier = n / splits_tensor.sum()    \n",
    "    splits_tensor = (multiplier * splits_tensor).long()\n",
    "    # If there is a difference, throws at the first split\n",
    "    # so random_split does not complain\n",
    "    diff = n - splits_tensor.sum()\n",
    "    splits_tensor[0] += diff\n",
    "    # Uses PyTorch random_split to split the indices\n",
    "    torch.manual_seed(seed)\n",
    "    return random_split(idx, splits_tensor)"
   ]
  },
  {
   "cell_type": "code",
   "execution_count": 226,
   "id": "b94ed518",
   "metadata": {},
   "outputs": [],
   "source": [
    "def make_balanced_sampler(y):\n",
    "    # Computes weights for compensating imbalanced classes\n",
    "    classes, counts = y.unique(return_counts=True)\n",
    "    weights = 1.0 / counts.float()\n",
    "    sample_weights = weights[y.squeeze().long()]\n",
    "    # Builds sampler with compute weights\n",
    "    generator = torch.Generator()\n",
    "    sampler = WeightedRandomSampler(\n",
    "        weights=sample_weights,\n",
    "        num_samples=len(sample_weights),\n",
    "        generator=generator,\n",
    "        replacement=True\n",
    "    )\n",
    "    return sampler"
   ]
  },
  {
   "cell_type": "code",
   "execution_count": 227,
   "id": "43dcae8a",
   "metadata": {},
   "outputs": [],
   "source": [
    "# Builds tensors from numpy arrays BEFORE split\n",
    "# Modifies the scale of pixel values from [0, 255] to [0, 1]\n",
    "x_tensor = torch.as_tensor(images / 255).float()\n",
    "y_tensor = torch.as_tensor(labels.reshape(-1, 1)).float()\n",
    "\n",
    "# Uses index_splitter to generate indices for training and\n",
    "# validation sets\n",
    "train_idx, val_idx = index_splitter(len(x_tensor), [80, 20])\n",
    "# Uses indices to perform the split\n",
    "x_train_tensor = x_tensor[train_idx]\n",
    "y_train_tensor = y_tensor[train_idx]\n",
    "x_val_tensor = x_tensor[val_idx]\n",
    "y_val_tensor = y_tensor[val_idx]\n",
    "\n",
    "# Builds different composers because of data augmentation on training set\n",
    "train_composer = Compose([RandomHorizontalFlip(p=.5),\n",
    "                          Normalize(mean=(.5,), std=(.5,))])\n",
    "val_composer = Compose([Normalize(mean=(.5,), std=(.5,))])\n",
    "# Uses custom dataset to apply composed transforms to each set\n",
    "train_dataset = TransformedTensorDataset(x_train_tensor, y_train_tensor, transform=train_composer)\n",
    "val_dataset = TransformedTensorDataset(x_val_tensor, y_val_tensor, transform=val_composer)\n",
    "\n",
    "# Builds a weighted random sampler to handle imbalanced classes\n",
    "sampler = make_balanced_sampler(y_train_tensor)\n",
    "\n",
    "# Uses sampler in the training set to get a balanced data loader\n",
    "train_loader = DataLoader(dataset=train_dataset, batch_size=16, sampler=sampler)\n",
    "val_loader = DataLoader(dataset=val_dataset, batch_size=16)"
   ]
  },
  {
   "cell_type": "code",
   "execution_count": 228,
   "id": "db4df328",
   "metadata": {},
   "outputs": [],
   "source": [
    "# Sets learning rate - this is \"eta\" ~ the \"n\" like Greek letter\n",
    "lr = 0.1\n",
    "\n",
    "torch.manual_seed(11)\n",
    "# Now we can create a model\n",
    "model_relu = nn.Sequential()\n",
    "model_relu.add_module('flatten', nn.Flatten())\n",
    "model_relu.add_module('hidden0', nn.Linear(25, 5, bias=False))\n",
    "model_relu.add_module('activation0', nn.ReLU())\n",
    "model_relu.add_module('hidden1', nn.Linear(5, 3, bias=False))\n",
    "model_relu.add_module('activation1', nn.ReLU())\n",
    "model_relu.add_module('output', nn.Linear(3, 1, bias=False))\n",
    "model_relu.add_module('sigmoid', nn.Sigmoid())\n",
    "\n",
    "# Defines a SGD optimizer to update the parameters\n",
    "# (now retrieved directly from the model)\n",
    "optimizer_relu = optim.SGD(model_relu.parameters(), lr=lr)\n",
    "\n",
    "# Defines a binary cross entropy loss function\n",
    "binary_loss_fn = nn.BCELoss()"
   ]
  },
  {
   "cell_type": "code",
   "execution_count": 229,
   "id": "6de21a3e",
   "metadata": {},
   "outputs": [],
   "source": [
    "n_epochs = 50\n",
    "\n",
    "sbs_relu = StepByStep(model_relu, binary_loss_fn, optimizer_relu)\n",
    "sbs_relu.set_loaders(train_loader, val_loader)\n",
    "sbs_relu.train(n_epochs)"
   ]
  },
  {
   "cell_type": "code",
   "execution_count": null,
   "id": "c77b0d59",
   "metadata": {},
   "outputs": [],
   "source": []
  }
 ],
 "metadata": {
  "kernelspec": {
   "display_name": "Python 3 (ipykernel)",
   "language": "python",
   "name": "python3"
  },
  "language_info": {
   "codemirror_mode": {
    "name": "ipython",
    "version": 3
   },
   "file_extension": ".py",
   "mimetype": "text/x-python",
   "name": "python",
   "nbconvert_exporter": "python",
   "pygments_lexer": "ipython3",
   "version": "3.10.12"
  },
  "toc": {
   "base_numbering": 1,
   "nav_menu": {},
   "number_sections": true,
   "sideBar": true,
   "skip_h1_title": false,
   "title_cell": "Table of Contents",
   "title_sidebar": "Contents",
   "toc_cell": false,
   "toc_position": {},
   "toc_section_display": true,
   "toc_window_display": false
  },
  "varInspector": {
   "cols": {
    "lenName": 16,
    "lenType": 16,
    "lenVar": 40
   },
   "kernels_config": {
    "python": {
     "delete_cmd_postfix": "",
     "delete_cmd_prefix": "del ",
     "library": "var_list.py",
     "varRefreshCmd": "print(var_dic_list())"
    },
    "r": {
     "delete_cmd_postfix": ") ",
     "delete_cmd_prefix": "rm(",
     "library": "var_list.r",
     "varRefreshCmd": "cat(var_dic_list()) "
    }
   },
   "types_to_exclude": [
    "module",
    "function",
    "builtin_function_or_method",
    "instance",
    "_Feature"
   ],
   "window_display": false
  }
 },
 "nbformat": 4,
 "nbformat_minor": 5
}
