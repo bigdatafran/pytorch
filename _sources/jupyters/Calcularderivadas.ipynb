{
 "cells": [
  {
   "cell_type": "markdown",
   "metadata": {},
   "source": [
    "# Introducción.\n",
    "\n",
    "PyTorch es una biblioteca de aprendizaje automático3 de código abierto basada en la biblioteca de Torch, utilizado para aplicaciones que implementan cosas como visión artificial y procesamiento de lenguajes naturales, principalmente desarrollado por el Laboratorio de Investigación de Inteligencia Artificial de Facebook (FAIR).\n",
    "\n",
    "Pytorch es un software libre y de código abierto liberado bajo la Licencia Modificada de BSD. A pesar de que la interfaz de Python está más pulida y es el foco principal del desarrollo, PyTorch también tiene una interfaz en C++.\n",
    "\n",
    "En este primer módulo se van a ver grandes pinceladas de esta librería exponiendo las ideas básicas de lo que se puede hacer con las herramientas que nos ofrece. Para ello, comenzamos a ver cómo poder generar tensores (son objetos similares a los narrays de numpy, pero con los cuales se puede trabajar en GPU, no ocurriendo lo mismo con los n-arrays de numpy) y posteriormente se verá cómo se pueden obtener valores de la derivada, cuestión esta última muy importante a la hora de hacer procesos de optimización.\n",
    "\n",
    "\n",
    "## Los tensores.\n",
    "\n",
    "Comenzamos viendo cómo poder construir tensores en Pytorch, lo primero que hacemos es importar la librería"
   ]
  },
  {
   "cell_type": "code",
   "execution_count": 1,
   "metadata": {},
   "outputs": [],
   "source": [
    "import torch"
   ]
  },
  {
   "cell_type": "code",
   "execution_count": 2,
   "metadata": {},
   "outputs": [
    {
     "data": {
      "text/plain": [
       "True"
      ]
     },
     "execution_count": 2,
     "metadata": {},
     "output_type": "execute_result"
    }
   ],
   "source": [
    "# Para ver si podemos utilizar GPU\n",
    "torch.cuda.is_available()"
   ]
  },
  {
   "cell_type": "markdown",
   "metadata": {},
   "source": [
    "Como vemos en la salida anterior disponemos de la tarjeta gráfica y de cuda para poder trabajar sobre esta plataforma.\n",
    "\n",
    "## Vectores unidimensionales en Pytorch\n",
    "\n",
    "Vamos a trabajar en esta sección con Pandas y numpy y lo primero que hacemos es importar estas librerías"
   ]
  },
  {
   "cell_type": "code",
   "execution_count": 3,
   "metadata": {},
   "outputs": [],
   "source": [
    "import torch\n",
    "import numpy as np \n",
    "import pandas as pd"
   ]
  },
  {
   "cell_type": "markdown",
   "metadata": {},
   "source": [
    "Creamos inicialmente un tensor de una sola dimensión de números enteros"
   ]
  },
  {
   "cell_type": "code",
   "execution_count": 4,
   "metadata": {},
   "outputs": [
    {
     "name": "stdout",
     "output_type": "stream",
     "text": [
      "Tipo de tensor después de la conversión:  torch.int64\n",
      "Tipo de tensor después de la conversión:  torch.LongTensor\n"
     ]
    }
   ],
   "source": [
    "int_to_tensor = torch.tensor([10,11,12,13])\n",
    "print(\"Tipo de tensor después de la conversión: \", int_to_tensor.dtype)\n",
    "print(\"Tipo de tensor después de la conversión: \", int_to_tensor.type())"
   ]
  },
  {
   "cell_type": "markdown",
   "metadata": {},
   "source": [
    "Si quisiéramos un tensor de tipo float, lo podemos hacer de las dos maneras siguientes:"
   ]
  },
  {
   "cell_type": "code",
   "execution_count": 5,
   "metadata": {},
   "outputs": [
    {
     "name": "stdout",
     "output_type": "stream",
     "text": [
      "Tipo de tensor después de la conversión:  torch.float32\n",
      "Tipo de tensor después de la conversión:  torch.FloatTensor\n"
     ]
    }
   ],
   "source": [
    "float_to_tensor = torch.tensor([10.0, 11.0, 12.0, 13.0])\n",
    "print(\"Tipo de tensor después de la conversión: \", float_to_tensor.dtype)\n",
    "print(\"Tipo de tensor después de la conversión: \", float_to_tensor.type())"
   ]
  },
  {
   "cell_type": "code",
   "execution_count": 6,
   "metadata": {},
   "outputs": [
    {
     "name": "stdout",
     "output_type": "stream",
     "text": [
      "Tipo de tensor después de la conversión:  torch.FloatTensor\n"
     ]
    }
   ],
   "source": [
    "# O también\n",
    "int_list_to_float_tensor = torch.FloatTensor([10, 11, 12, 13])\n",
    "int_list_to_float_tensor.type()\n",
    "print(\"Tipo de tensor después de la conversión: \", int_list_to_float_tensor.type())"
   ]
  },
  {
   "cell_type": "markdown",
   "metadata": {},
   "source": [
    "Para hacer una redimensión del array, lo haremos con la propiedad view()\n",
    "\n",
    "```{index} redimensión, view\n",
    "```"
   ]
  },
  {
   "cell_type": "code",
   "execution_count": 7,
   "metadata": {},
   "outputs": [
    {
     "name": "stdout",
     "output_type": "stream",
     "text": [
      "Tensor original:  tensor([10., 11., 12., 13.])\n",
      "Tensor redimensionado:  tensor([[10.],\n",
      "        [11.],\n",
      "        [12.],\n",
      "        [13.]])\n"
     ]
    }
   ],
   "source": [
    "reshaped_tensor = int_list_to_float_tensor.view(4, 1)\n",
    "print(\"Tensor original: \", int_list_to_float_tensor)\n",
    "print(\"Tensor redimensionado: \", reshaped_tensor)"
   ]
  },
  {
   "cell_type": "markdown",
   "metadata": {},
   "source": [
    "Al igual que ocurre con numpy, si no conocemos cómo que da una determinada dimensión podemos poner el valor de -1 para que se calcule de forma automática. Por ejemplo el problema anterior también se puede hacer así:"
   ]
  },
  {
   "cell_type": "code",
   "execution_count": 8,
   "metadata": {},
   "outputs": [
    {
     "name": "stdout",
     "output_type": "stream",
     "text": [
      "Tensor original:  tensor([10., 11., 12., 13.])\n",
      "Tensor redimensionado:  tensor([[10.],\n",
      "        [11.],\n",
      "        [12.],\n",
      "        [13.]])\n"
     ]
    }
   ],
   "source": [
    "reshaped_tensor = int_list_to_float_tensor.view(-1, 1)\n",
    "print(\"Tensor original: \", int_list_to_float_tensor)\n",
    "print(\"Tensor redimensionado: \", reshaped_tensor)"
   ]
  },
  {
   "cell_type": "markdown",
   "metadata": {},
   "source": [
    "## Convertir numpy array a tensores.\n",
    "\n",
    "En este apartado vamos a ver cómo podemos convertir un numpy array en un tensor, con el cual ya se podrás trabajar con él en GPU."
   ]
  },
  {
   "cell_type": "code",
   "execution_count": 9,
   "metadata": {},
   "outputs": [
    {
     "name": "stdout",
     "output_type": "stream",
     "text": [
      "dtype del tensor:  torch.float64\n",
      "dtype del tensor:  torch.DoubleTensor\n"
     ]
    }
   ],
   "source": [
    "# Un numpy array a tensor\n",
    "numpy_arr = np.array([10.0, 11.0, 12.0, 13.0])\n",
    "from_numpy_to_tensor = torch.from_numpy(numpy_arr)\n",
    "\n",
    "print(\"dtype del tensor: \", from_numpy_to_tensor.dtype)\n",
    "print(\"dtype del tensor: \", from_numpy_to_tensor.type())"
   ]
  },
  {
   "cell_type": "markdown",
   "metadata": {},
   "source": [
    "Para hacer el camino recíproco, es decir pasar de tensor a numpy array"
   ]
  },
  {
   "cell_type": "code",
   "execution_count": 10,
   "metadata": {},
   "outputs": [
    {
     "name": "stdout",
     "output_type": "stream",
     "text": [
      "back a numpy desde tensor:  [10. 11. 12. 13.]\n",
      "dtype del tensor convertido:  float64\n"
     ]
    }
   ],
   "source": [
    "# Un tensor a un numpy array\n",
    "tensor_to_numpy = from_numpy_to_tensor.numpy()\n",
    "print(\"back a numpy desde tensor: \", tensor_to_numpy)\n",
    "print(\"dtype del tensor convertido: \", tensor_to_numpy.dtype)"
   ]
  },
  {
   "cell_type": "markdown",
   "metadata": {},
   "source": [
    "## Convertir un pandas series a tensor.\n",
    "\n",
    "En este caso lo que se debe hacer es pasar la serie de pandas a un numpy array, mediante la propiedad values y actuar como en el apartado anterior. "
   ]
  },
  {
   "cell_type": "code",
   "execution_count": 11,
   "metadata": {},
   "outputs": [
    {
     "name": "stdout",
     "output_type": "stream",
     "text": [
      "Tensor almacenado como numpy array:  tensor([ 1.0000,  0.2000,  3.0000, 13.1000], dtype=torch.float64)\n",
      "dtype de tensor:  torch.float64\n",
      "type de tensor:  torch.DoubleTensor\n"
     ]
    }
   ],
   "source": [
    "pandas_series=pd.Series([1, 0.2, 3, 13.1])\n",
    "store_with_numpy=torch.from_numpy(pandas_series.values)\n",
    "print(\"Tensor almacenado como numpy array: \", store_with_numpy)\n",
    "print(\"dtype de tensor: \", store_with_numpy.dtype)\n",
    "print(\"type de tensor: \", store_with_numpy.type())"
   ]
  },
  {
   "cell_type": "markdown",
   "metadata": {},
   "source": [
    "Además, el marco Pytorch nos permite hacer muchas más cosas con los tensores, como que su método item() devuelve un número de Python como un tensor y el tolist(), método que devuelve una lista."
   ]
  },
  {
   "cell_type": "code",
   "execution_count": 12,
   "metadata": {},
   "outputs": [
    {
     "name": "stdout",
     "output_type": "stream",
     "text": [
      "El segundo item es 11\n",
      "Como tensor: tensor([10, 11, 12, 13]) \n",
      "Como lista: [10, 11, 12, 13]\n"
     ]
    }
   ],
   "source": [
    "new_tensor=torch.tensor([10, 11, 12, 13]) \n",
    "print(\"El segundo item es\",new_tensor[1].item())\n",
    "tensor_to_list=new_tensor.tolist()\n",
    "print('Como tensor:', new_tensor,\"\\nComo lista:\",tensor_to_list)"
   ]
  },
  {
   "cell_type": "markdown",
   "metadata": {},
   "source": [
    "## Indexación y slicing en tensores unidimensionales.\n",
    "\n",
    "```{index} indexación, slicing\n",
    "```\n",
    "\n",
    "Las operaciones de indexación y slicing son casi las mismas en Pytorch que en Python. Por lo tanto, el primer índice siempre comienza en 0 y el último índice es menor que la longitud total del tensor. Use corchetes para acceder a cualquier número en un tensor."
   ]
  },
  {
   "cell_type": "code",
   "execution_count": 13,
   "metadata": {},
   "outputs": [
    {
     "name": "stdout",
     "output_type": "stream",
     "text": [
      "Valor en el índice 0: tensor(0)\n",
      "Valor en el ídice 3: tensor(3)\n"
     ]
    }
   ],
   "source": [
    "tensor_index = torch.tensor([0, 1, 2, 3])\n",
    "print(\"Valor en el índice 0:\",tensor_index[0])\n",
    "print(\"Valor en el ídice 3:\",tensor_index[3])"
   ]
  },
  {
   "cell_type": "code",
   "execution_count": 14,
   "metadata": {},
   "outputs": [
    {
     "name": "stdout",
     "output_type": "stream",
     "text": [
      "ejemplo de tensor :  tensor([50, 11, 22, 33, 44])\n",
      "subset del ejemplo del tensor: tensor([11, 22, 33])\n"
     ]
    }
   ],
   "source": [
    "example_tensor = torch.tensor([50, 11, 22, 33, 44])\n",
    "sclicing_tensor = example_tensor[1:4]\n",
    "print(\"ejemplo de tensor : \", example_tensor)\n",
    "print(\"subset del ejemplo del tensor:\", sclicing_tensor)"
   ]
  },
  {
   "cell_type": "code",
   "execution_count": 15,
   "metadata": {},
   "outputs": [
    {
     "name": "stdout",
     "output_type": "stream",
     "text": [
      "valor del índice 3 del ejemplo del tensor: tensor(33)\n",
      "nueo tensor: tensor([50, 11, 22,  0, 44])\n"
     ]
    }
   ],
   "source": [
    "print(\"valor del índice 3 del ejemplo del tensor:\", example_tensor[3])\n",
    "example_tensor[3] = 0 # Cambiamos el valor\n",
    "print(\"nueo tensor:\", example_tensor)"
   ]
  },
  {
   "cell_type": "markdown",
   "metadata": {},
   "source": [
    "## Funciones para los tensores.\n",
    "\n",
    "Existen una <a href=\"https://pytorch.org/docs/stable/torch.html\" target=\"_blank\"> serie de reducción de tensores </a> que los podemos encontrar en este enlace en el apartado *Reduction Ops*, algunas las vemos a continuación."
   ]
  },
  {
   "cell_type": "code",
   "execution_count": 16,
   "metadata": {},
   "outputs": [
    {
     "name": "stdout",
     "output_type": "stream",
     "text": [
      "Obtenemos el valor mínimo de un tensor:  tensor(1)\n",
      "Obtenemos el valor máximo de un tensor:  tensor(5)\n"
     ]
    }
   ],
   "source": [
    "sample_tensor = torch.tensor([5, 4, 3, 2, 1])\n",
    "min_value = sample_tensor.min()\n",
    "max_value = sample_tensor.max()\n",
    "print(\"Obtenemos el valor mínimo de un tensor: \", min_value)\n",
    "print(\"Obtenemos el valor máximo de un tensor: \", max_value)"
   ]
  },
  {
   "cell_type": "markdown",
   "metadata": {},
   "source": [
    "También se puede calcular la media y la desviación estándar. Veamoslo:"
   ]
  },
  {
   "cell_type": "code",
   "execution_count": 17,
   "metadata": {},
   "outputs": [
    {
     "name": "stdout",
     "output_type": "stream",
     "text": [
      "La media del tensor es:  tensor(0.)\n",
      "La desviación estándar del tensor es:  tensor(1.8257)\n"
     ]
    }
   ],
   "source": [
    "mean_std_tensor = torch.tensor([-1.0, 2.0, 1, -2])\n",
    "Mean = mean_std_tensor.mean()\n",
    "print(\"La media del tensor es: \", Mean)\n",
    "std_dev = mean_std_tensor.std()\n",
    "print(\"La desviación estándar del tensor es: \", std_dev)"
   ]
  },
  {
   "cell_type": "code",
   "execution_count": 18,
   "metadata": {},
   "outputs": [
    {
     "name": "stdout",
     "output_type": "stream",
     "text": [
      "addition of two tensors:  tensor([3, 5])\n",
      "multiplication of two tensors:  tensor([2, 6])\n"
     ]
    }
   ],
   "source": [
    "a = torch.tensor([1, 3])\n",
    "b = torch.tensor([2, 2])\n",
    "\n",
    "add = a + b\n",
    "multiply = a * b\n",
    "\n",
    "print(\"addition of two tensors: \", add)\n",
    "print(\"multiplication of two tensors: \", multiply)"
   ]
  },
  {
   "cell_type": "markdown",
   "metadata": {},
   "source": [
    "También existe el método *torch.matmul*, cuyo comportamiento se puede ver <a href=\"https://pytorch.org/docs/stable/generated/torch.matmul.html\" target=\"_blank\"> en este enlace </a>.\n",
    "\n",
    "## Tensores bidimensionales.\n",
    "\n",
    "Veamos algunos ejemplo de generación de este tipo de elementos."
   ]
  },
  {
   "cell_type": "code",
   "execution_count": 19,
   "metadata": {},
   "outputs": [
    {
     "name": "stdout",
     "output_type": "stream",
     "text": [
      "El tensor 2D generado es el siguiente:  tensor([[ 5, 10, 15, 20],\n",
      "        [25, 30, 35, 40],\n",
      "        [45, 50, 55, 60]])\n"
     ]
    }
   ],
   "source": [
    "example_2D_list = [[5, 10, 15, 20],\n",
    "                   [25, 30, 35, 40],\n",
    "                   [45, 50, 55, 60]]\n",
    "list_to_tensor = torch.tensor(example_2D_list)\n",
    "print(\"El tensor 2D generado es el siguiente: \", list_to_tensor)"
   ]
  },
  {
   "cell_type": "code",
   "execution_count": 20,
   "metadata": {},
   "outputs": [
    {
     "name": "stdout",
     "output_type": "stream",
     "text": [
      "Obteniendo el shape del tensor:  torch.Size([3, 4])\n",
      "Obteniendo el tamaño del tensor:  torch.Size([3, 4])\n",
      "Obteniendo la dimensión del tensor:  2\n"
     ]
    }
   ],
   "source": [
    "print(\"Obteniendo el shape del tensor: \", list_to_tensor.shape)\n",
    "print(\"Obteniendo el tamaño del tensor: \", list_to_tensor.size())\n",
    "print(\"Obteniendo la dimensión del tensor: \", list_to_tensor.ndimension())"
   ]
  },
  {
   "cell_type": "markdown",
   "metadata": {},
   "source": [
    "## Conversión entre numpy arrays y tensores"
   ]
  },
  {
   "cell_type": "code",
   "execution_count": 21,
   "metadata": {},
   "outputs": [
    {
     "name": "stdout",
     "output_type": "stream",
     "text": [
      "Convirtiendo un 2_D tensor en numpy array:\n",
      "Numpy array después conversión:  [[ 5 10 15 20]\n",
      " [25 30 35 40]\n",
      " [45 50 55 60]]\n",
      "tipo datos después de la conversión:  int64\n",
      "***************************************************************\n",
      "Convirtiendo un numpy array a tensor 2_D:\n",
      "Tensor después conversión: tensor([[ 5, 10, 15, 20],\n",
      "        [25, 30, 35, 40],\n",
      "        [45, 50, 55, 60]])\n",
      "Tipo datos después conversión:  torch.int64\n"
     ]
    }
   ],
   "source": [
    "# Convirtiendo un tensor 2_D en numpy array\n",
    "\n",
    "twoD_tensor_to_numpy = list_to_tensor.numpy()\n",
    "print(\"Convirtiendo un 2_D tensor en numpy array:\")\n",
    "print(\"Numpy array después conversión: \", twoD_tensor_to_numpy)\n",
    "print(\"tipo datos después de la conversión: \", twoD_tensor_to_numpy.dtype)\n",
    "\n",
    "print(\"***************************************************************\")\n",
    "\n",
    "# Recíproco: un numpy array a tensor\n",
    "\n",
    "back_to_tensor = torch.from_numpy(twoD_tensor_to_numpy)\n",
    "print(\"Convirtiendo un numpy array a tensor 2_D:\")\n",
    "print(\"Tensor después conversión:\", back_to_tensor)\n",
    "print(\"Tipo datos después conversión: \", back_to_tensor.dtype)"
   ]
  },
  {
   "cell_type": "markdown",
   "metadata": {},
   "source": [
    "## Conversión entre dataframes y tensores"
   ]
  },
  {
   "cell_type": "code",
   "execution_count": 22,
   "metadata": {},
   "outputs": [
    {
     "name": "stdout",
     "output_type": "stream",
     "text": [
      "Conversión Pandas a numpy:  [[22 42]\n",
      " [24 52]\n",
      " [26 62]]\n",
      "tipo de datos antes de la conversión conversion:  int64\n",
      "***********************************************\n",
      "Nuevo ensor:  tensor([[22, 42],\n",
      "        [24, 52],\n",
      "        [26, 62]])\n",
      "Tipo de datos después de la conversión:  torch.int64\n"
     ]
    }
   ],
   "source": [
    "# Convirtiendo Pandas Dataframe  a Tensor\n",
    "\n",
    "dataframe = pd.DataFrame({'x':[22,24,26],'y':[42,52,62]})\n",
    "\n",
    "print(\"Conversión Pandas a numpy: \", dataframe.values)\n",
    "print(\"tipo de datos antes de la conversión conversion: \", dataframe.values.dtype)\n",
    "\n",
    "print(\"***********************************************\")\n",
    "\n",
    "pandas_to_tensor = torch.from_numpy(dataframe.values)\n",
    "print(\"Nuevo ensor: \", pandas_to_tensor)\n",
    "print(\"Tipo de datos después de la conversión: \", pandas_to_tensor.dtype)"
   ]
  },
  {
   "cell_type": "markdown",
   "metadata": {},
   "source": [
    "##  Indexación y slicin en 2_D"
   ]
  },
  {
   "cell_type": "code",
   "execution_count": 23,
   "metadata": {},
   "outputs": [
    {
     "name": "stdout",
     "output_type": "stream",
     "text": [
      "Accediendo el 2 elemento de fila y columna:  tensor(60)\n",
      "Otra forma de acceder:  tensor(60)\n",
      "********************************************************\n",
      "Accediendo al elemento de 3 fila y 4 columna:  tensor(120)\n",
      "Otra forma:  tensor(120)\n"
     ]
    }
   ],
   "source": [
    "example_tensor = torch.tensor([[10, 20, 30, 40],\n",
    "                               [50, 60, 70, 80],\n",
    "                               [90, 100, 110, 120]])\n",
    "print(\"Accediendo el 2 elemento de fila y columna: \", example_tensor[1, 1])\n",
    "print(\"Otra forma de acceder: \", example_tensor[1][1])\n",
    "\n",
    "print(\"********************************************************\")\n",
    "\n",
    "print(\"Accediendo al elemento de 3 fila y 4 columna: \", example_tensor[2, 3])\n",
    "print(\"Otra forma: \", example_tensor[2][3])"
   ]
  },
  {
   "cell_type": "code",
   "execution_count": 24,
   "metadata": {},
   "outputs": [
    {
     "name": "stdout",
     "output_type": "stream",
     "text": [
      "Accediendo a dos primeros elementos segunda fila:  tensor([50, 60])\n",
      "Otra forma:  tensor([50, 60])\n",
      "********************************************************\n",
      "Accediendo a tres primeros elementos tercera fila::  tensor([ 90, 100, 110])\n",
      "Otra forma:  tensor([ 90, 100, 110])\n"
     ]
    }
   ],
   "source": [
    "example_tensor = torch.tensor([[10, 20, 30, 40],\n",
    "                               [50, 60, 70, 80],\n",
    "                               [90, 100, 110, 120]])\n",
    "print(\"Accediendo a dos primeros elementos segunda fila: \", example_tensor[1, 0:2])\n",
    "print(\"Otra forma: \", example_tensor[1][0:2])\n",
    "\n",
    "print(\"********************************************************\")\n",
    "\n",
    "print(\"Accediendo a tres primeros elementos tercera fila:: \", example_tensor[2, 0:3])\n",
    "print(\"Otra forma: \", example_tensor[2][0:3])"
   ]
  },
  {
   "cell_type": "markdown",
   "metadata": {},
   "source": [
    "## Cálculo de derivadas con Pytorch\n",
    "\n",
    "En este apartado vamos a ver cómo calcular el valor de la derivada en un punto de una determinada función. En concreto lo vamos a hacer para la función $y=3 \\cdot x^2$, cuya función derivada es $6 \\cdot x$. \n",
    "\n",
    "```{index} requires_grad\n",
    "```\n",
    "\n",
    "Para calcular la derivada, debemos declarar una variable como tensor, pero utilizando el parámetro *requires_grad = True* para indicar a Pytorch que para esta variable se van a poder calcular los gradientes."
   ]
  },
  {
   "cell_type": "code",
   "execution_count": 25,
   "metadata": {},
   "outputs": [
    {
     "name": "stdout",
     "output_type": "stream",
     "text": [
      "creando el tensor  x:  tensor(3., requires_grad=True)\n"
     ]
    }
   ],
   "source": [
    "x = torch.tensor(3.0, requires_grad = True)\n",
    "print(\"creando el tensor  x: \", x)"
   ]
  },
  {
   "cell_type": "markdown",
   "metadata": {},
   "source": [
    "Usaremos una ecuación simple como ejemplo 3x*2 y tomar la derivada con respecto a la variable x. Entonces, creemos otro tensor de acuerdo con la ecuación dada. Además, aplicaremos un método limpio .backwarden la variable yque forma un gráfico acíclico que almacena el historial de cálculo y evaluaremos el resultado con .grad el valor dado."
   ]
  },
  {
   "cell_type": "code",
   "execution_count": 26,
   "metadata": {},
   "outputs": [
    {
     "name": "stdout",
     "output_type": "stream",
     "text": [
      "El resultado de la ecuación es :  tensor(27., grad_fn=<MulBackward0>)\n",
      "Derivada de la ecuación en x = 3 is:  tensor(18.)\n"
     ]
    }
   ],
   "source": [
    "y = 3*x**2\n",
    "print(\"El resultado de la ecuación es : \", y)\n",
    "y.backward()\n",
    "print(\"Derivada de la ecuación en x = 3 is: \", x.grad)"
   ]
  },
  {
   "cell_type": "code",
   "execution_count": 27,
   "metadata": {},
   "outputs": [
    {
     "name": "stdout",
     "output_type": "stream",
     "text": [
      "El dato del tensor: tensor(3.)\n",
      "El dato de la derivada:: tensor(18.)\n",
      "El dato de grad_fn:: None\n",
      "El tensor is_leaf?: True\n",
      "El tensor tiene etributo requires_grad?: True\n"
     ]
    }
   ],
   "source": [
    "print('El dato del tensor:',x.data)\n",
    "print('El dato de la derivada::',x.grad)\n",
    "print('El dato de grad_fn::',x.grad_fn)\n",
    "print(\"El tensor is_leaf?:\",x.is_leaf)\n",
    "print(\"El tensor tiene etributo requires_grad?:\",x.requires_grad)"
   ]
  },
  {
   "cell_type": "code",
   "execution_count": 28,
   "metadata": {},
   "outputs": [
    {
     "name": "stdout",
     "output_type": "stream",
     "text": [
      "El dato del tensor: tensor(27.)\n",
      "El dato de la derivada: None\n",
      "El dato de grad_fn: <MulBackward0 object at 0x000001FD8CE362C0>\n",
      "El tensor is_leaf?: False\n",
      "El tensor tiene etributo requires_grad?: True\n"
     ]
    },
    {
     "name": "stderr",
     "output_type": "stream",
     "text": [
      "C:\\Users\\Francisco\\AppData\\Local\\Temp\\ipykernel_13016\\816567079.py:2: UserWarning: The .grad attribute of a Tensor that is not a leaf Tensor is being accessed. Its .grad attribute won't be populated during autograd.backward(). If you indeed want the .grad field to be populated for a non-leaf Tensor, use .retain_grad() on the non-leaf Tensor. If you access the non-leaf Tensor by mistake, make sure you access the leaf Tensor instead. See github.com/pytorch/pytorch/pull/30531 for more informations. (Triggered internally at aten\\src\\ATen/core/TensorBody.h:491.)\n",
      "  print('El dato de la derivada:',y.grad)\n"
     ]
    }
   ],
   "source": [
    "print('El dato del tensor:',y.data)\n",
    "print('El dato de la derivada:',y.grad)\n",
    "print('El dato de grad_fn:',y.grad_fn)\n",
    "print(\"El tensor is_leaf?:\",y.is_leaf)\n",
    "print(\"El tensor tiene etributo requires_grad?:\",y.requires_grad)"
   ]
  },
  {
   "cell_type": "code",
   "execution_count": 29,
   "metadata": {},
   "outputs": [
    {
     "name": "stdout",
     "output_type": "stream",
     "text": [
      "El resultado de la ecuación es:  tensor(64., grad_fn=<AddBackward0>)\n",
      "La derivada en x = 3 es:  tensor(38.)\n"
     ]
    }
   ],
   "source": [
    "# Calculamos la derivada con otra función\n",
    "x = torch.tensor(3.0, requires_grad = True)\n",
    "y = 6 * x ** 2 + 2 * x + 4\n",
    "print(\"El resultado de la ecuación es: \", y)\n",
    "y.backward()\n",
    "print(\"La derivada en x = 3 es: \", x.grad)"
   ]
  },
  {
   "cell_type": "markdown",
   "metadata": {},
   "source": [
    "## Cálculo de derivadas parciales en Pytorch\n",
    "\n",
    "Similar al cálculo de derivadas para funciones de una sóla variable, lo podemos hacer para más de una variable, es decir para derivadas parciales. Veamos un ejemplo."
   ]
  },
  {
   "cell_type": "code",
   "execution_count": 30,
   "metadata": {},
   "outputs": [
    {
     "name": "stdout",
     "output_type": "stream",
     "text": [
      "tensor(3., requires_grad=True)\n",
      "tensor(4., requires_grad=True)\n",
      "tensor(91., grad_fn=<AddBackward0>)\n"
     ]
    }
   ],
   "source": [
    "u = torch.tensor(3., requires_grad=True)\n",
    "v = torch.tensor(4., requires_grad=True)\n",
    "\n",
    "f = u**3 + v**2 + 4*u*v\n",
    "\n",
    "print(u)\n",
    "print(v)\n",
    "print(f)"
   ]
  },
  {
   "cell_type": "code",
   "execution_count": 31,
   "metadata": {},
   "outputs": [
    {
     "name": "stdout",
     "output_type": "stream",
     "text": [
      "Derivada parcial con respecto a u:  tensor(43.)\n",
      "Derivada parcial con respecto a v:  tensor(20.)\n"
     ]
    }
   ],
   "source": [
    "# Paso atras para el cálculo de la derivaad\n",
    "f.backward()\n",
    "print(\"Derivada parcial con respecto a u: \", u.grad)\n",
    "print(\"Derivada parcial con respecto a v: \", v.grad)"
   ]
  },
  {
   "cell_type": "markdown",
   "metadata": {},
   "source": [
    "## Derivada para múltiples valores\n",
    "\n",
    "```{index} detach\n",
    "```\n",
    "\n",
    "Vamos a hacer una representación gráfica tanto de una función como de los valores de la derivada. Observar el uso de *detach* cuando un tensor está definido como *requires_grad = True*. Hay que dar este paso previo para pasarlo a un valor de tipo numpy y que así se pueda representar\n",
    "\n",
    "```{index} sum()\n",
    "```"
   ]
  },
  {
   "cell_type": "code",
   "execution_count": 32,
   "metadata": {},
   "outputs": [
    {
     "data": {
      "image/png": "[encoded data removed]",
      "text/plain": [
       "<Figure size 640x480 with 1 Axes>"
      ]
     },
     "metadata": {},
     "output_type": "display_data"
    }
   ],
   "source": [
    "import matplotlib.pyplot as plt\n",
    "\n",
    "# Calculamos la derivada para múltiples valores\n",
    "x = torch.linspace(-20, 20, 20, requires_grad = True)\n",
    "Y = x ** 2\n",
    "y = torch.sum(Y) # hacer esto para calcular derivada\n",
    "y.backward()\n",
    " \n",
    "# Dibujamos la derivada y los valores de la función\n",
    "function_line, = plt.plot(x.detach().numpy(), Y.detach().numpy(), label = 'Function')\n",
    "function_line.set_color(\"red\")\n",
    "derivative_line, = plt.plot(x.detach().numpy(), x.grad.detach().numpy(), label = 'Derivada')\n",
    "derivative_line.set_color(\"green\")\n",
    "plt.xlabel('x')\n",
    "plt.legend()\n",
    "plt.show()"
   ]
  },
  {
   "cell_type": "markdown",
   "metadata": {},
   "source": [
    "Para obtener el gráfico anterior, hay que tener en cuenta que cómo lo hacemos si tenemos una función con múltiples valores y necesitamos calcular la derivada con respecto a sus múltiples valores.\n",
    "\n",
    "Para hacer eso, haremos uso del atributo *sum*  para \n",
    "(1) producir una función de valor escalar, y luego \n",
    "(2) tomar la derivada. \n",
    "\n",
    "Así es como podemos ver el gráfico de 'función vs. derivada'.\n",
    "\n",
    "Para un mayor entendimiento del paso backward <a href=\"https://medium.com/@monadsblog/pytorch-backward-function-e5e2b7e60140\" target=\"_blank\"> se recomienda ver este enlace </a>"
   ]
  }
 ],
 "metadata": {
  "kernelspec": {
   "display_name": "Python 3 (ipykernel)",
   "language": "python",
   "name": "python3"
  },
  "language_info": {
   "codemirror_mode": {
    "name": "ipython",
    "version": 3
   },
   "file_extension": ".py",
   "mimetype": "text/x-python",
   "name": "python",
   "nbconvert_exporter": "python",
   "pygments_lexer": "ipython3",
   "version": "3.10.12"
  },
  "toc": {
   "base_numbering": 1,
   "nav_menu": {},
   "number_sections": true,
   "sideBar": true,
   "skip_h1_title": false,
   "title_cell": "Table of Contents",
   "title_sidebar": "Contents",
   "toc_cell": false,
   "toc_position": {},
   "toc_section_display": true,
   "toc_window_display": false
  },
  "varInspector": {
   "cols": {
    "lenName": 16,
    "lenType": 16,
    "lenVar": 40
   },
   "kernels_config": {
    "python": {
     "delete_cmd_postfix": "",
     "delete_cmd_prefix": "del ",
     "library": "var_list.py",
     "varRefreshCmd": "print(var_dic_list())"
    },
    "r": {
     "delete_cmd_postfix": ") ",
     "delete_cmd_prefix": "rm(",
     "library": "var_list.r",
     "varRefreshCmd": "cat(var_dic_list()) "
    }
   },
   "types_to_exclude": [
    "module",
    "function",
    "builtin_function_or_method",
    "instance",
    "_Feature"
   ],
   "window_display": false
  }
 },
 "nbformat": 4,
 "nbformat_minor": 4
}
